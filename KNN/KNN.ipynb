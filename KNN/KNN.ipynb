{
 "cells": [
  {
   "cell_type": "markdown",
   "metadata": {
    "vscode": {
     "languageId": "r"
    }
   },
   "source": [
    "# Load the packages"
   ]
  },
  {
   "cell_type": "code",
   "execution_count": 1,
   "metadata": {
    "vscode": {
     "languageId": "r"
    }
   },
   "outputs": [],
   "source": [
    "rm(list = ls())\n",
    "setwd('C:/Users/Tao/Desktop/KNN')"
   ]
  },
  {
   "cell_type": "code",
   "execution_count": 2,
   "metadata": {
    "vscode": {
     "languageId": "r"
    }
   },
   "outputs": [],
   "source": [
    "pkgs <- c('dplyr', 'ggplot2', 'class', 'caret', 'pROC', 'Hmisc')\n",
    "# install.packages(pkgs)\n",
    "suppressMessages(for (i in pkgs) library(i, character.only = TRUE))"
   ]
  },
  {
   "cell_type": "markdown",
   "metadata": {},
   "source": [
    "# Load the data"
   ]
  },
  {
   "cell_type": "code",
   "execution_count": 3,
   "metadata": {},
   "outputs": [
    {
     "name": "stdout",
     "output_type": "stream",
     "text": [
      "'data.frame':\t8000 obs. of  21 variables:\n",
      " $ ID      : num  1 2 3 4 5 6 7 8 9 10 ...\n",
      " $ X_1     : num  56 63 67 50 64 65 59 59 59 58 ...\n",
      " $ X_2     : num  0 0 1 1 0 0 0 0 0 0 ...\n",
      " $ X_3     : num  15.4 14.8 28.5 23.3 17.9 18.9 20.8 14.6 25.6 17.9 ...\n",
      " $ X_4     : num  127 122 130 85 109 82 139 97 66 88 ...\n",
      " $ X_5     : num  0 0 0 0 0 0 0 0 0 0 ...\n",
      " $ X_6     : num  1 0 1 0 0 0 1 0 1 1 ...\n",
      " $ X_7     : num  1 0 1 0 0 1 1 0 0 0 ...\n",
      " $ X_8     : num  0 0 1 0 0 0 1 0 0 0 ...\n",
      " $ X_9     : num  1 1 1 1 1 2 1 2 1 1 ...\n",
      " $ X_10    : num  3.85 3.96 2.31 3.59 4.38 5.5 4.27 4.77 2.66 3.1 ...\n",
      " $ X_11    : num  4.2 3.72 2.57 3.1 2.61 2.57 2.09 3.48 2.78 2.85 ...\n",
      " $ X_12    : num  1 0 0 0 0 1 0 0 1 0 ...\n",
      " $ X_13    : num  0 0 0 0 1 0 1 3 2 1 ...\n",
      " $ X_14    : num  0 0 0 0 0 0 0 0 0 1 ...\n",
      " $ X_15    : num  0 0 0 0 0 0 0 0 0 0 ...\n",
      " $ X_16    : num  3 3 4 2 1 3 2 2 3 1 ...\n",
      " $ Y       : num  1.51 2.85 1.61 5.21 4.71 ...\n",
      " $ delta   : num  1 0 0 0 0 1 1 1 0 0 ...\n",
      " $ Y_binary: num  0 0 1 0 0 0 0 0 0 0 ...\n",
      " $ type    : chr  \"raw\" \"raw\" \"raw\" \"raw\" ...\n"
     ]
    }
   ],
   "source": [
    "load(file = 'simulated_dataset.R')\n",
    "str(dataset_final)"
   ]
  },
  {
   "cell_type": "markdown",
   "metadata": {},
   "source": [
    "# Step 1: Clean and feature scaling"
   ]
  },
  {
   "cell_type": "markdown",
   "metadata": {},
   "source": [
    "## Clean the data"
   ]
  },
  {
   "cell_type": "code",
   "execution_count": 4,
   "metadata": {},
   "outputs": [],
   "source": [
    "names(dataset_final) <- \n",
    "    c('ID', 'age', 'male', 'BMI', 'SBP', 'MI', 'HF', 'COPD', \n",
    "    'cancer', 'albuminuria', 'TC', 'LDLC', 'No_outpatient', 'No_inpatient', \n",
    "    'liver_disease', 'hypoglycemia', 'CKD_stage', \n",
    "    'AKI_time', 'AKI_status', 'AKI_binary', 'type')"
   ]
  },
  {
   "cell_type": "code",
   "execution_count": 5,
   "metadata": {},
   "outputs": [
    {
     "data": {
      "text/html": [
       "<table class=\"dataframe\">\n",
       "<caption>A data.frame: 6 × 21</caption>\n",
       "<thead>\n",
       "\t<tr><th></th><th scope=col>ID</th><th scope=col>age</th><th scope=col>male</th><th scope=col>BMI</th><th scope=col>SBP</th><th scope=col>MI</th><th scope=col>HF</th><th scope=col>COPD</th><th scope=col>cancer</th><th scope=col>albuminuria</th><th scope=col>⋯</th><th scope=col>LDLC</th><th scope=col>No_outpatient</th><th scope=col>No_inpatient</th><th scope=col>liver_disease</th><th scope=col>hypoglycemia</th><th scope=col>CKD_stage</th><th scope=col>AKI_time</th><th scope=col>AKI_status</th><th scope=col>AKI_binary</th><th scope=col>type</th></tr>\n",
       "\t<tr><th></th><th scope=col>&lt;dbl&gt;</th><th scope=col>&lt;dbl&gt;</th><th scope=col>&lt;dbl&gt;</th><th scope=col>&lt;dbl&gt;</th><th scope=col>&lt;dbl&gt;</th><th scope=col>&lt;dbl&gt;</th><th scope=col>&lt;dbl&gt;</th><th scope=col>&lt;dbl&gt;</th><th scope=col>&lt;dbl&gt;</th><th scope=col>&lt;dbl&gt;</th><th scope=col>⋯</th><th scope=col>&lt;dbl&gt;</th><th scope=col>&lt;dbl&gt;</th><th scope=col>&lt;dbl&gt;</th><th scope=col>&lt;dbl&gt;</th><th scope=col>&lt;dbl&gt;</th><th scope=col>&lt;dbl&gt;</th><th scope=col>&lt;dbl&gt;</th><th scope=col>&lt;dbl&gt;</th><th scope=col>&lt;dbl&gt;</th><th scope=col>&lt;chr&gt;</th></tr>\n",
       "</thead>\n",
       "<tbody>\n",
       "\t<tr><th scope=row>1</th><td>1</td><td>56</td><td>0</td><td>15.4</td><td>127</td><td>0</td><td>1</td><td>1</td><td>0</td><td>1</td><td>⋯</td><td>4.20</td><td>1</td><td>0</td><td>0</td><td>0</td><td>3</td><td>1.511000</td><td>1</td><td>0</td><td>raw</td></tr>\n",
       "\t<tr><th scope=row>2</th><td>2</td><td>63</td><td>0</td><td>14.8</td><td>122</td><td>0</td><td>0</td><td>0</td><td>0</td><td>1</td><td>⋯</td><td>3.72</td><td>0</td><td>0</td><td>0</td><td>0</td><td>3</td><td>2.854611</td><td>0</td><td>0</td><td>raw</td></tr>\n",
       "\t<tr><th scope=row>3</th><td>3</td><td>67</td><td>1</td><td>28.5</td><td>130</td><td>0</td><td>1</td><td>1</td><td>1</td><td>1</td><td>⋯</td><td>2.57</td><td>0</td><td>0</td><td>0</td><td>0</td><td>4</td><td>1.614861</td><td>0</td><td>1</td><td>raw</td></tr>\n",
       "\t<tr><th scope=row>4</th><td>4</td><td>50</td><td>1</td><td>23.3</td><td> 85</td><td>0</td><td>0</td><td>0</td><td>0</td><td>1</td><td>⋯</td><td>3.10</td><td>0</td><td>0</td><td>0</td><td>0</td><td>2</td><td>5.208720</td><td>0</td><td>0</td><td>raw</td></tr>\n",
       "\t<tr><th scope=row>5</th><td>5</td><td>64</td><td>0</td><td>17.9</td><td>109</td><td>0</td><td>0</td><td>0</td><td>0</td><td>1</td><td>⋯</td><td>2.61</td><td>0</td><td>1</td><td>0</td><td>0</td><td>1</td><td>4.713570</td><td>0</td><td>0</td><td>raw</td></tr>\n",
       "\t<tr><th scope=row>6</th><td>6</td><td>65</td><td>0</td><td>18.9</td><td> 82</td><td>0</td><td>0</td><td>1</td><td>0</td><td>2</td><td>⋯</td><td>2.57</td><td>1</td><td>0</td><td>0</td><td>0</td><td>3</td><td>1.428300</td><td>1</td><td>0</td><td>raw</td></tr>\n",
       "</tbody>\n",
       "</table>\n"
      ],
      "text/latex": [
       "A data.frame: 6 × 21\n",
       "\\begin{tabular}{r|lllllllllllllllllllll}\n",
       "  & ID & age & male & BMI & SBP & MI & HF & COPD & cancer & albuminuria & ⋯ & LDLC & No\\_outpatient & No\\_inpatient & liver\\_disease & hypoglycemia & CKD\\_stage & AKI\\_time & AKI\\_status & AKI\\_binary & type\\\\\n",
       "  & <dbl> & <dbl> & <dbl> & <dbl> & <dbl> & <dbl> & <dbl> & <dbl> & <dbl> & <dbl> & ⋯ & <dbl> & <dbl> & <dbl> & <dbl> & <dbl> & <dbl> & <dbl> & <dbl> & <dbl> & <chr>\\\\\n",
       "\\hline\n",
       "\t1 & 1 & 56 & 0 & 15.4 & 127 & 0 & 1 & 1 & 0 & 1 & ⋯ & 4.20 & 1 & 0 & 0 & 0 & 3 & 1.511000 & 1 & 0 & raw\\\\\n",
       "\t2 & 2 & 63 & 0 & 14.8 & 122 & 0 & 0 & 0 & 0 & 1 & ⋯ & 3.72 & 0 & 0 & 0 & 0 & 3 & 2.854611 & 0 & 0 & raw\\\\\n",
       "\t3 & 3 & 67 & 1 & 28.5 & 130 & 0 & 1 & 1 & 1 & 1 & ⋯ & 2.57 & 0 & 0 & 0 & 0 & 4 & 1.614861 & 0 & 1 & raw\\\\\n",
       "\t4 & 4 & 50 & 1 & 23.3 &  85 & 0 & 0 & 0 & 0 & 1 & ⋯ & 3.10 & 0 & 0 & 0 & 0 & 2 & 5.208720 & 0 & 0 & raw\\\\\n",
       "\t5 & 5 & 64 & 0 & 17.9 & 109 & 0 & 0 & 0 & 0 & 1 & ⋯ & 2.61 & 0 & 1 & 0 & 0 & 1 & 4.713570 & 0 & 0 & raw\\\\\n",
       "\t6 & 6 & 65 & 0 & 18.9 &  82 & 0 & 0 & 1 & 0 & 2 & ⋯ & 2.57 & 1 & 0 & 0 & 0 & 3 & 1.428300 & 1 & 0 & raw\\\\\n",
       "\\end{tabular}\n"
      ],
      "text/markdown": [
       "\n",
       "A data.frame: 6 × 21\n",
       "\n",
       "| <!--/--> | ID &lt;dbl&gt; | age &lt;dbl&gt; | male &lt;dbl&gt; | BMI &lt;dbl&gt; | SBP &lt;dbl&gt; | MI &lt;dbl&gt; | HF &lt;dbl&gt; | COPD &lt;dbl&gt; | cancer &lt;dbl&gt; | albuminuria &lt;dbl&gt; | ⋯ ⋯ | LDLC &lt;dbl&gt; | No_outpatient &lt;dbl&gt; | No_inpatient &lt;dbl&gt; | liver_disease &lt;dbl&gt; | hypoglycemia &lt;dbl&gt; | CKD_stage &lt;dbl&gt; | AKI_time &lt;dbl&gt; | AKI_status &lt;dbl&gt; | AKI_binary &lt;dbl&gt; | type &lt;chr&gt; |\n",
       "|---|---|---|---|---|---|---|---|---|---|---|---|---|---|---|---|---|---|---|---|---|---|\n",
       "| 1 | 1 | 56 | 0 | 15.4 | 127 | 0 | 1 | 1 | 0 | 1 | ⋯ | 4.20 | 1 | 0 | 0 | 0 | 3 | 1.511000 | 1 | 0 | raw |\n",
       "| 2 | 2 | 63 | 0 | 14.8 | 122 | 0 | 0 | 0 | 0 | 1 | ⋯ | 3.72 | 0 | 0 | 0 | 0 | 3 | 2.854611 | 0 | 0 | raw |\n",
       "| 3 | 3 | 67 | 1 | 28.5 | 130 | 0 | 1 | 1 | 1 | 1 | ⋯ | 2.57 | 0 | 0 | 0 | 0 | 4 | 1.614861 | 0 | 1 | raw |\n",
       "| 4 | 4 | 50 | 1 | 23.3 |  85 | 0 | 0 | 0 | 0 | 1 | ⋯ | 3.10 | 0 | 0 | 0 | 0 | 2 | 5.208720 | 0 | 0 | raw |\n",
       "| 5 | 5 | 64 | 0 | 17.9 | 109 | 0 | 0 | 0 | 0 | 1 | ⋯ | 2.61 | 0 | 1 | 0 | 0 | 1 | 4.713570 | 0 | 0 | raw |\n",
       "| 6 | 6 | 65 | 0 | 18.9 |  82 | 0 | 0 | 1 | 0 | 2 | ⋯ | 2.57 | 1 | 0 | 0 | 0 | 3 | 1.428300 | 1 | 0 | raw |\n",
       "\n"
      ],
      "text/plain": [
       "  ID age male BMI  SBP MI HF COPD cancer albuminuria ⋯ LDLC No_outpatient\n",
       "1 1  56  0    15.4 127 0  1  1    0      1           ⋯ 4.20 1            \n",
       "2 2  63  0    14.8 122 0  0  0    0      1           ⋯ 3.72 0            \n",
       "3 3  67  1    28.5 130 0  1  1    1      1           ⋯ 2.57 0            \n",
       "4 4  50  1    23.3  85 0  0  0    0      1           ⋯ 3.10 0            \n",
       "5 5  64  0    17.9 109 0  0  0    0      1           ⋯ 2.61 0            \n",
       "6 6  65  0    18.9  82 0  0  1    0      2           ⋯ 2.57 1            \n",
       "  No_inpatient liver_disease hypoglycemia CKD_stage AKI_time AKI_status\n",
       "1 0            0             0            3         1.511000 1         \n",
       "2 0            0             0            3         2.854611 0         \n",
       "3 0            0             0            4         1.614861 0         \n",
       "4 0            0             0            2         5.208720 0         \n",
       "5 1            0             0            1         4.713570 0         \n",
       "6 0            0             0            3         1.428300 1         \n",
       "  AKI_binary type\n",
       "1 0          raw \n",
       "2 0          raw \n",
       "3 1          raw \n",
       "4 0          raw \n",
       "5 0          raw \n",
       "6 0          raw "
      ]
     },
     "metadata": {},
     "output_type": "display_data"
    }
   ],
   "source": [
    "head(dataset_final)"
   ]
  },
  {
   "cell_type": "code",
   "execution_count": 6,
   "metadata": {},
   "outputs": [],
   "source": [
    "dataset_final <- dataset_final %>%\n",
    "        mutate(\n",
    "        albuminuria = case_when( ## relabel of categorical variable\n",
    "            albuminuria == 1 ~ \"normal to mild\",\n",
    "            albuminuria == 2 ~ \"moderate\",\n",
    "            albuminuria == 3 ~ \"severe\"),\n",
    "        albuminuria = factor(albuminuria, levels = c(\"normal to mild\", \"moderate\", \"severe\")),\n",
    "        CKD_stage = case_when(\n",
    "            CKD_stage == 1 ~ \"G1-2\",\n",
    "            CKD_stage == 2 ~ \"G3a\",\n",
    "            CKD_stage == 3 ~ \"G3b\",\n",
    "            CKD_stage == 4 ~ \"G4\"),\n",
    "        CKD_stage = factor(CKD_stage, levels = c(\"G1-2\", \"G3a\", \"G3b\", \"G4\")))\n",
    "\n",
    "data <- dataset_final %>% filter(type == \"raw\")\n",
    "data <- data[, c('AKI_binary', 'age', 'male', 'BMI', 'SBP', 'MI', 'HF', 'COPD', \n",
    "                 'cancer', 'albuminuria', 'TC', 'LDLC', 'No_outpatient', 'No_inpatient', \n",
    "                 'liver_disease', 'hypoglycemia', 'CKD_stage')]\n",
    "data$AKI_binary <- as.factor(data$AKI_binary)\n",
    "\n",
    "data_external <- dataset_final %>% filter(type == \"external\")\n",
    "data_external <- data_external[, c('AKI_binary', 'age', 'male', 'BMI', 'SBP', 'MI', 'HF', 'COPD', \n",
    "                          'cancer', 'albuminuria', 'TC', 'LDLC', 'No_outpatient', 'No_inpatient', \n",
    "                          'liver_disease', 'hypoglycemia', 'CKD_stage')]\n",
    "data_external$AKI_binary <- as.factor(data_external$AKI_binary)"
   ]
  },
  {
   "cell_type": "markdown",
   "metadata": {},
   "source": [
    "## Feature scaling"
   ]
  },
  {
   "cell_type": "code",
   "execution_count": 7,
   "metadata": {},
   "outputs": [
    {
     "name": "stdout",
     "output_type": "stream",
     "text": [
      "'data.frame':\t5000 obs. of  17 variables:\n",
      " $ AKI_binary   : Factor w/ 2 levels \"0\",\"1\": 1 1 2 1 1 1 1 1 1 1 ...\n",
      " $ age          : num  -1.2 0.208 1.013 -2.408 0.41 ...\n",
      " $ male         : num  -0.983 -0.983 1.017 1.017 -0.983 ...\n",
      " $ BMI          : num  -1.472 -1.602 1.366 0.239 -0.931 ...\n",
      " $ SBP          : num  0.9398 0.6594 1.108 -1.4151 -0.0695 ...\n",
      " $ MI           : num  -0.4 -0.4 -0.4 -0.4 -0.4 ...\n",
      " $ HF           : num  1.711 -0.584 1.711 -0.584 -0.584 ...\n",
      " $ COPD         : num  1.556 -0.642 1.556 -0.642 -0.642 ...\n",
      " $ cancer       : num  -0.518 -0.518 1.931 -0.518 -0.518 ...\n",
      " $ albuminuria  : num  -0.639 -0.639 -0.639 -0.639 -0.639 ...\n",
      " $ TC           : num  -0.5067 -0.4083 -1.8839 -0.7392 -0.0327 ...\n",
      " $ LDLC         : num  2.31 1.484 -0.495 0.417 -0.427 ...\n",
      " $ No_outpatient: num  1.299 -0.534 -0.534 -0.534 -0.534 ...\n",
      " $ No_inpatient : num  -0.812 -0.812 -0.812 -0.812 0.379 ...\n",
      " $ liver_disease: num  -0.289 -0.289 -0.289 -0.289 -0.289 ...\n",
      " $ hypoglycemia : num  -0.136 -0.136 -0.136 -0.136 -0.136 ...\n",
      " $ CKD_stage    : num  1.009 1.009 2.267 -0.249 -1.507 ...\n"
     ]
    }
   ],
   "source": [
    "data <- \n",
    "    data %>% \n",
    "    mutate(\n",
    "        AKI_binary = as.factor(AKI_binary),\n",
    "        male = as.numeric(male),\n",
    "        MI = as.numeric(MI),\n",
    "        HF = as.numeric(HF),\n",
    "        COPD = as.numeric(COPD),\n",
    "        cancer = as.numeric(cancer),\n",
    "        albuminuria = as.numeric(albuminuria) - 1,\n",
    "        liver_disease = as.numeric(liver_disease),\n",
    "        hypoglycemia = as.numeric(hypoglycemia),\n",
    "        CKD_stage = as.numeric(CKD_stage) - 1\n",
    "    )\n",
    "\n",
    "# scaling\n",
    "data_scaled <- as.data.frame(scale(data[, -1]))\n",
    "data_scaled <- cbind(AKI_binary = data$AKI_binary, data_scaled)\n",
    "str(data_scaled)\n",
    "levels(data_scaled$AKI_binary) <- c('no', 'yes')"
   ]
  },
  {
   "cell_type": "code",
   "execution_count": 8,
   "metadata": {},
   "outputs": [
    {
     "name": "stdout",
     "output_type": "stream",
     "text": [
      "'data.frame':\t5000 obs. of  17 variables:\n",
      " $ AKI_binary   : Factor w/ 2 levels \"0\",\"1\": 1 1 2 1 1 1 1 1 1 1 ...\n",
      " $ age          : num  0.333 0.545 0.667 0.152 0.576 ...\n",
      " $ male         : num  0 0 1 1 0 0 0 0 0 0 ...\n",
      " $ BMI          : num  0.0839 0.0629 0.542 0.3601 0.1713 ...\n",
      " $ SBP          : num  0.614 0.575 0.638 0.283 0.472 ...\n",
      " $ MI           : num  0 0 0 0 0 0 0 0 0 0 ...\n",
      " $ HF           : num  1 0 1 0 0 0 1 0 1 1 ...\n",
      " $ COPD         : num  1 0 1 0 0 1 1 0 0 0 ...\n",
      " $ cancer       : num  0 0 1 0 0 0 1 0 0 0 ...\n",
      " $ albuminuria  : num  0 0 0 0 0 0.5 0 0.5 0 0 ...\n",
      " $ TC           : num  0.443 0.456 0.256 0.411 0.507 ...\n",
      " $ LDLC         : num  0.636 0.531 0.279 0.395 0.287 ...\n",
      " $ No_outpatient: num  0.25 0 0 0 0 0.25 0 0 0.25 0 ...\n",
      " $ No_inpatient : num  0 0 0 0 0.2 0 0.2 0.6 0.4 0.2 ...\n",
      " $ liver_disease: num  0 0 0 0 0 0 0 0 0 1 ...\n",
      " $ hypoglycemia : num  0 0 0 0 0 0 0 0 0 0 ...\n",
      " $ CKD_stage    : num  0.667 0.667 1 0.333 0 ...\n"
     ]
    }
   ],
   "source": [
    "# normalizing\n",
    "normalized <- function(x){\n",
    "    return((x - min(x)) / (max(x) - min(x)))\n",
    "}\n",
    "data_normalized <- as.data.frame(lapply(data[, -1], normalized))\n",
    "data_normalized <- cbind(AKI_binary = data$AKI_binary, data_normalized)\n",
    "str(data_normalized)\n",
    "levels(data_normalized$AKI_binary) <- c('no', 'yes')"
   ]
  },
  {
   "cell_type": "code",
   "execution_count": 9,
   "metadata": {},
   "outputs": [
    {
     "name": "stdout",
     "output_type": "stream",
     "text": [
      "'data.frame':\t3000 obs. of  17 variables:\n",
      " $ AKI_binary   : Factor w/ 2 levels \"0\",\"1\": 1 1 1 1 1 1 1 1 1 1 ...\n",
      " $ age          : num  -0.401 0.855 -2.076 1.413 0.436 ...\n",
      " $ male         : num  -0.995 1.005 1.005 1.005 1.005 ...\n",
      " $ BMI          : num  -0.668 -1.025 2.245 1.274 1.987 ...\n",
      " $ SBP          : num  -2.349 1.119 0.868 0.767 0.315 ...\n",
      " $ MI           : num  -0.418 -0.418 2.389 -0.418 -0.418 ...\n",
      " $ HF           : num  -0.603 1.658 -0.603 -0.603 1.658 ...\n",
      " $ COPD         : num  -0.638 1.567 1.567 -0.638 -0.638 ...\n",
      " $ cancer       : num  -0.519 -0.519 1.928 -0.519 -0.519 ...\n",
      " $ albuminuria  : num  -0.846 0.49 -0.846 1.825 -0.846 ...\n",
      " $ TC           : num  -1.68 -0.616 -0.698 0.852 -0.185 ...\n",
      " $ LDLC         : num  -0.9545 0.0344 0.5219 -0.2581 0.4244 ...\n",
      " $ No_outpatient: num  1.194 -0.579 -0.579 -0.579 -0.579 ...\n",
      " $ No_inpatient : num  1.897 -0.739 -0.739 0.579 -0.739 ...\n",
      " $ liver_disease: num  -0.295 -0.295 -0.295 -0.295 -0.295 ...\n",
      " $ hypoglycemia : num  -0.171 -0.171 -0.171 -0.171 -0.171 ...\n",
      " $ CKD_stage    : num  1.05 -1.43 1.05 -1.43 -0.19 ...\n"
     ]
    }
   ],
   "source": [
    "data_external <- \n",
    "    data_external %>% \n",
    "    mutate(\n",
    "        AKI_binary = as.factor(AKI_binary),\n",
    "        male = as.numeric(male),\n",
    "        MI = as.numeric(MI),\n",
    "        HF = as.numeric(HF),\n",
    "        COPD = as.numeric(COPD),\n",
    "        cancer = as.numeric(cancer),\n",
    "        albuminuria = as.numeric(albuminuria) - 1,\n",
    "        liver_disease = as.numeric(liver_disease),\n",
    "        hypoglycemia = as.numeric(hypoglycemia),\n",
    "        CKD_stage = as.numeric(CKD_stage) - 1\n",
    "    )\n",
    "\n",
    "# scaling\n",
    "data_external_scaled <- as.data.frame(scale(data_external[, -1]))\n",
    "data_external_scaled <- cbind(AKI_binary = data_external$AKI_binary, data_external_scaled)\n",
    "str(data_external_scaled)\n",
    "levels(data_external_scaled$AKI_binary) <- c('no', 'yes')"
   ]
  },
  {
   "cell_type": "code",
   "execution_count": 10,
   "metadata": {},
   "outputs": [
    {
     "name": "stdout",
     "output_type": "stream",
     "text": [
      "'data.frame':\t3000 obs. of  17 variables:\n",
      " $ AKI_binary   : Factor w/ 2 levels \"0\",\"1\": 1 1 1 1 1 1 1 1 1 1 ...\n",
      " $ age          : num  0.48 0.66 0.24 0.74 0.6 0.58 0.64 0.56 0.54 0.5 ...\n",
      " $ male         : num  0 1 1 1 1 1 0 0 0 0 ...\n",
      " $ BMI          : num  0.237 0.168 0.798 0.611 0.748 ...\n",
      " $ SBP          : num  0.146 0.625 0.59 0.576 0.514 ...\n",
      " $ MI           : num  0 0 1 0 0 0 0 0 0 0 ...\n",
      " $ HF           : num  0 1 0 0 1 0 0 0 0 1 ...\n",
      " $ COPD         : num  0 1 1 0 0 0 0 1 1 0 ...\n",
      " $ cancer       : num  0 0 1 0 0 1 0 0 1 0 ...\n",
      " $ albuminuria  : num  0 0.5 0 1 0 0 1 0.5 0 0 ...\n",
      " $ TC           : num  0.272 0.427 0.415 0.64 0.489 ...\n",
      " $ LDLC         : num  0.203 0.348 0.419 0.305 0.404 ...\n",
      " $ No_outpatient: num  0.333 0 0 0 0 ...\n",
      " $ No_inpatient : num  0.4 0 0 0.2 0 0.2 0 0 0 0.2 ...\n",
      " $ liver_disease: num  0 0 0 0 0 1 0 1 0 0 ...\n",
      " $ hypoglycemia : num  0 0 0 0 0 0 0 0 0 0 ...\n",
      " $ CKD_stage    : num  0.667 0 0.667 0 0.333 ...\n"
     ]
    }
   ],
   "source": [
    "# normalizing\n",
    "normalized <- function(x){\n",
    "    return((x - min(x)) / (max(x) - min(x)))\n",
    "}\n",
    "data_external_normalized <- as.data.frame(lapply(data_external[, -1], normalized))\n",
    "data_external_normalized <- cbind(AKI_binary = data_external$AKI_binary, data_external_normalized)\n",
    "str(data_external_normalized)\n",
    "levels(data_external_normalized$AKI_binary) <- c('no', 'yes')"
   ]
  },
  {
   "cell_type": "markdown",
   "metadata": {},
   "source": [
    "## Randome split the data into train and test"
   ]
  },
  {
   "cell_type": "code",
   "execution_count": 11,
   "metadata": {},
   "outputs": [],
   "source": [
    "# set.seed(123)\n",
    "# id <- sample(seq_len(nrow(data_normalized)), size = 0.7 * nrow(data_normalized))\n",
    "# train <- data_normalized[id, ]\n",
    "# test <- data_normalized[-id, ]"
   ]
  },
  {
   "cell_type": "code",
   "execution_count": 12,
   "metadata": {},
   "outputs": [],
   "source": [
    "set.seed(123)\n",
    "id <- sample(seq_len(nrow(data_normalized)), size = 0.7 * nrow(data_normalized))\n",
    "train <- data_normalized[id, ]\n",
    "test <- data_normalized[-id, ]"
   ]
  },
  {
   "cell_type": "markdown",
   "metadata": {},
   "source": [
    "# Step 2: Model fitting"
   ]
  },
  {
   "cell_type": "code",
   "execution_count": 13,
   "metadata": {},
   "outputs": [],
   "source": [
    "KNN_pred <- \n",
    "    knn(\n",
    "        train = train[, -1], \n",
    "        test = test[, -1], \n",
    "        cl = train$AKI_binary, \n",
    "        k = ceiling(sqrt(nrow(train))), \n",
    "        prob = TRUE \n",
    "    )\n",
    "pred_prob <- attr(KNN_pred, 'prob')\n",
    "pred_prob <- ifelse(KNN_pred == 'yes', pred_prob, 1-pred_prob)"
   ]
  },
  {
   "cell_type": "code",
   "execution_count": 14,
   "metadata": {},
   "outputs": [
    {
     "data": {
      "text/plain": [
       "      predicted\n",
       "actual   no  yes\n",
       "   no  1364    0\n",
       "   yes  136    0"
      ]
     },
     "metadata": {},
     "output_type": "display_data"
    }
   ],
   "source": [
    "# confusion matrix\n",
    "cm <- table(actual = test$AKI_binary, predicted = KNN_pred)\n",
    "cm"
   ]
  },
  {
   "cell_type": "code",
   "execution_count": 15,
   "metadata": {},
   "outputs": [
    {
     "name": "stderr",
     "output_type": "stream",
     "text": [
      "Setting levels: control = 0, case = 1\n",
      "\n",
      "Setting direction: controls < cases\n",
      "\n"
     ]
    },
    {
     "data": {
      "text/html": [
       "0.605"
      ],
      "text/latex": [
       "0.605"
      ],
      "text/markdown": [
       "0.605"
      ],
      "text/plain": [
       "[1] 0.605"
      ]
     },
     "metadata": {},
     "output_type": "display_data"
    }
   ],
   "source": [
    "# AUC \n",
    "roc <- roc(as.factor(as.numeric(test$AKI_binary) - 1), pred_prob)\n",
    "AUC <- auc(roc)\n",
    "round(AUC, 3)"
   ]
  },
  {
   "cell_type": "code",
   "execution_count": 16,
   "metadata": {},
   "outputs": [
    {
     "data": {
      "image/png": "[encoded data removed]",
      "text/plain": [
       "plot without title"
      ]
     },
     "metadata": {
      "image/png": {
       "height": 420,
       "width": 420
      }
     },
     "output_type": "display_data"
    }
   ],
   "source": [
    "plot(1 - roc$specificities, \n",
    "     roc$sensitivities,\n",
    "     pch = 20,\n",
    "     col = \"tomato\", \n",
    "     xlim = c(0, 1), ylim = c(0, 1),\n",
    "     xlab = '1-Sepcificity',\n",
    "     ylab = 'Sensitivity',\n",
    "     xaxs = 'i', \n",
    "     yaxs = 'i')\n",
    "lines(1- roc$specificities, \n",
    "      roc$sensitivities,\n",
    "      col = \"tomato\")\n",
    "abline(0, 1, lty = 2, col = 'blue')\n",
    "legend(\"right\", \n",
    "       legend = paste(\"AUC: \", round(AUC, 3)), \n",
    "       col = \"tomato\", \n",
    "       lwd = 2, \n",
    "       bty = \"n\")"
   ]
  },
  {
   "cell_type": "markdown",
   "metadata": {},
   "source": [
    "# Step 3: Model tuning"
   ]
  },
  {
   "cell_type": "markdown",
   "metadata": {},
   "source": [
    "## Random split"
   ]
  },
  {
   "cell_type": "code",
   "execution_count": 17,
   "metadata": {
    "scrolled": true
   },
   "outputs": [],
   "source": [
    "# using the for loop \n",
    "results <- data.frame()\n",
    "suppressMessages(for(k in 1:300) {\n",
    "    KNN_fit <-\n",
    "        knn(\n",
    "            train = train[, -1],\n",
    "            test = test[, -1],\n",
    "            cl = train$AKI_binary,\n",
    "            k = k,\n",
    "            prob = TRUE\n",
    "        )\n",
    "    pred_prob <- attr(KNN_fit, 'prob')\n",
    "    pred_prob <- ifelse(KNN_fit == 'yes', pred_prob, 1-pred_prob)\n",
    "\n",
    "    # AUC \n",
    "    roc <- roc(as.factor(as.numeric(test$AKI_binary) - 1), pred_prob)\n",
    "    AUC <- auc(roc)\n",
    "\n",
    "    result <- data.frame(k = k, AUC = AUC)\n",
    "    results <- rbind(results, result)\n",
    "})"
   ]
  },
  {
   "cell_type": "code",
   "execution_count": 18,
   "metadata": {},
   "outputs": [
    {
     "data": {
      "image/png": "[encoded data removed]",
      "text/plain": [
       "Plot with title \"Tuning for k: AUC vs Neighbors\""
      ]
     },
     "metadata": {
      "image/png": {
       "height": 420,
       "width": 420
      }
     },
     "output_type": "display_data"
    }
   ],
   "source": [
    "plot(results, \n",
    "    type = \"b\", \n",
    "    col = \"dodgerblue\", \n",
    "    cex = 1, \n",
    "    pch = 20, \n",
    "    xlab = \"k, number of neighbors\", \n",
    "    ylab = \"AUC\",\n",
    "    main = \"Tuning for k: AUC vs Neighbors\")\n",
    "# add line for max AUC seen\n",
    "abline(h = max(results$AUC), col = \"darkorange\", lty = 3)\n",
    "abline(v = results$k[results$AUC == max(results$AUC)], col = \"darkorange\", lty = 3)"
   ]
  },
  {
   "cell_type": "markdown",
   "metadata": {},
   "source": [
    "## Cross-validation"
   ]
  },
  {
   "cell_type": "code",
   "execution_count": 19,
   "metadata": {},
   "outputs": [
    {
     "data": {
      "image/png": "[encoded data removed]",
      "text/plain": [
       "Plot with title \"Tuning for k: AUC vs Neighbors\""
      ]
     },
     "metadata": {
      "image/png": {
       "height": 420,
       "width": 420
      }
     },
     "output_type": "display_data"
    }
   ],
   "source": [
    "# Using caret package\n",
    "ctrl <- trainControl(\n",
    "            method = \"cv\",\n",
    "            classProbs = TRUE,\n",
    "            summaryFunction = twoClassSummary\n",
    "        )\n",
    "KNN_tune <- train(\n",
    "                AKI_binary ~ ., \n",
    "                data = data_normalized, \n",
    "                method = \"knn\", \n",
    "                metric = \"ROC\",\n",
    "                trControl = ctrl, \n",
    "                tuneGrid = data.frame(k = c(1:300))\n",
    "\t\t    )\n",
    "\n",
    "plot(KNN_tune$results[, c('k', 'ROC')], \n",
    "    type = \"b\", \n",
    "    col = \"dodgerblue\", \n",
    "    cex = 1, \n",
    "    pch = 20, \n",
    "    xlab = \"k, number of neighbors\", \n",
    "    ylab = \"AUC\",\n",
    "    main = \"Tuning for k: AUC vs Neighbors\")\n",
    "# add line for max AUC seen\n",
    "abline(h = max(KNN_tune$results$ROC), col = \"darkorange\", lty = 3)\n",
    "abline(v = KNN_tune$results$k[KNN_tune$results$ROC == max(KNN_tune$results[['ROC']])], col = \"darkorange\", lty = 3)"
   ]
  },
  {
   "cell_type": "markdown",
   "metadata": {},
   "source": [
    "# Step 4: Model refit"
   ]
  },
  {
   "cell_type": "markdown",
   "metadata": {},
   "source": [
    "## Random split"
   ]
  },
  {
   "cell_type": "code",
   "execution_count": 20,
   "metadata": {},
   "outputs": [
    {
     "data": {
      "text/html": [
       "204"
      ],
      "text/latex": [
       "204"
      ],
      "text/markdown": [
       "204"
      ],
      "text/plain": [
       "[1] 204"
      ]
     },
     "metadata": {},
     "output_type": "display_data"
    }
   ],
   "source": [
    "best_model_k_split <- results$k[results$AUC == max(results$AUC)]\n",
    "best_model_k_split"
   ]
  },
  {
   "cell_type": "code",
   "execution_count": 21,
   "metadata": {},
   "outputs": [],
   "source": [
    "best_model_split <-\n",
    "        knn(\n",
    "            train = data_normalized[, -1],\n",
    "            test = data_normalized[, -1],\n",
    "            cl = data_normalized$AKI_binary,\n",
    "            k = best_model_k_split,\n",
    "            prob = TRUE\n",
    "        )\n",
    "pred_prob_split <- attr(best_model_split, 'prob')\n",
    "pred_prob_split <- \n",
    "    ifelse(\n",
    "        best_model_split == 'yes', \n",
    "        pred_prob_split, \n",
    "        1 - pred_prob_split\n",
    "    )"
   ]
  },
  {
   "cell_type": "code",
   "execution_count": 22,
   "metadata": {},
   "outputs": [
    {
     "name": "stderr",
     "output_type": "stream",
     "text": [
      "Setting levels: control = 0, case = 1\n",
      "\n",
      "Setting direction: controls < cases\n",
      "\n"
     ]
    },
    {
     "data": {
      "text/html": [
       "0.654201324309117"
      ],
      "text/latex": [
       "0.654201324309117"
      ],
      "text/markdown": [
       "0.654201324309117"
      ],
      "text/plain": [
       "Area under the curve: 0.6542"
      ]
     },
     "metadata": {},
     "output_type": "display_data"
    }
   ],
   "source": [
    "# AUC \n",
    "roc_split <- roc(as.factor(\n",
    "                    as.numeric(data_normalized$AKI_binary)- 1), \n",
    "                pred_prob_split)\n",
    "AUC_split <- auc(roc_split)\n",
    "AUC_split"
   ]
  },
  {
   "cell_type": "markdown",
   "metadata": {},
   "source": [
    "## Cross-validation"
   ]
  },
  {
   "cell_type": "code",
   "execution_count": 23,
   "metadata": {},
   "outputs": [
    {
     "data": {
      "text/html": [
       "290"
      ],
      "text/latex": [
       "290"
      ],
      "text/markdown": [
       "290"
      ],
      "text/plain": [
       "[1] 290"
      ]
     },
     "metadata": {},
     "output_type": "display_data"
    }
   ],
   "source": [
    "best_model_k_cv <- KNN_tune$bestTune$k\n",
    "best_model_k_cv"
   ]
  },
  {
   "cell_type": "code",
   "execution_count": 24,
   "metadata": {},
   "outputs": [],
   "source": [
    "best_model_cv <- \n",
    "    knn3(\n",
    "        AKI_binary ~ .,\n",
    "        data = data_normalized,\n",
    "        k = best_model_k_cv\n",
    "    )\n",
    "\n",
    "predictions_cv <- predict(best_model_cv, data_normalized, type = \"class\")\n",
    "pred_prob_cv <- predict(best_model_cv, data_normalized, type = \"prob\")\n",
    "pred_prob_cv <- pred_prob_cv[,2]"
   ]
  },
  {
   "cell_type": "code",
   "execution_count": 25,
   "metadata": {},
   "outputs": [
    {
     "name": "stderr",
     "output_type": "stream",
     "text": [
      "Setting levels: control = 0, case = 1\n",
      "\n",
      "Setting direction: controls < cases\n",
      "\n"
     ]
    },
    {
     "data": {
      "text/html": [
       "0.646764404738151"
      ],
      "text/latex": [
       "0.646764404738151"
      ],
      "text/markdown": [
       "0.646764404738151"
      ],
      "text/plain": [
       "Area under the curve: 0.6468"
      ]
     },
     "metadata": {},
     "output_type": "display_data"
    }
   ],
   "source": [
    "# AUC \n",
    "roc_cv <- roc(as.factor(\n",
    "                as.numeric(data_normalized$AKI_binary) - 1), \n",
    "              pred_prob_cv)\n",
    "AUC_cv <- auc(roc_cv)\n",
    "AUC_cv"
   ]
  },
  {
   "cell_type": "markdown",
   "metadata": {},
   "source": [
    "# Step 5: Model evaluation in external data"
   ]
  },
  {
   "cell_type": "markdown",
   "metadata": {},
   "source": [
    "## Random split"
   ]
  },
  {
   "cell_type": "code",
   "execution_count": 26,
   "metadata": {},
   "outputs": [],
   "source": [
    "best_model_external <-\n",
    "        knn(\n",
    "            train = data_normalized[, -1],\n",
    "            test = data_external_normalized[, -1],\n",
    "            cl = data_normalized$AKI_binary,\n",
    "            k = best_model_k_split,\n",
    "            prob = TRUE\n",
    "        )\n",
    "pred_prob <- attr(best_model_external, 'prob')\n",
    "pred_prob <- ifelse(best_model_external == 'yes', pred_prob, 1-pred_prob)"
   ]
  },
  {
   "cell_type": "code",
   "execution_count": 27,
   "metadata": {},
   "outputs": [
    {
     "data": {
      "text/plain": [
       "      predicted\n",
       "actual   no  yes\n",
       "   no  2733    0\n",
       "   yes  267    0"
      ]
     },
     "metadata": {},
     "output_type": "display_data"
    }
   ],
   "source": [
    "# confusion matrix\n",
    "cm <- table(actual = data_external_normalized$AKI_binary, predicted = best_model_external)\n",
    "cm"
   ]
  },
  {
   "cell_type": "code",
   "execution_count": 28,
   "metadata": {},
   "outputs": [
    {
     "name": "stderr",
     "output_type": "stream",
     "text": [
      "Setting levels: control = 0, case = 1\n",
      "\n",
      "Setting direction: controls < cases\n",
      "\n"
     ]
    },
    {
     "data": {
      "text/html": [
       "0.683627490883377"
      ],
      "text/latex": [
       "0.683627490883377"
      ],
      "text/markdown": [
       "0.683627490883377"
      ],
      "text/plain": [
       "Area under the curve: 0.6836"
      ]
     },
     "metadata": {},
     "output_type": "display_data"
    }
   ],
   "source": [
    "# AUC \n",
    "roc <- roc(data_external$AKI_binary, pred_prob)\n",
    "AUC <- auc(roc)\n",
    "AUC"
   ]
  },
  {
   "cell_type": "code",
   "execution_count": 29,
   "metadata": {},
   "outputs": [
    {
     "data": {
      "image/png": "[encoded data removed]",
      "text/plain": [
       "plot without title"
      ]
     },
     "metadata": {
      "image/png": {
       "height": 420,
       "width": 420
      }
     },
     "output_type": "display_data"
    }
   ],
   "source": [
    "plot(1 - roc$specificities, \n",
    "     roc$sensitivities,\n",
    "     pch = 20,\n",
    "     col = \"tomato\", \n",
    "     xlim = c(0, 1), ylim = c(0, 1),\n",
    "     xlab = '1-Sepcificity',\n",
    "     ylab = 'Sensitivity',\n",
    "     xaxs = 'i', \n",
    "     yaxs = 'i')\n",
    "lines(1- roc$specificities, \n",
    "      roc$sensitivities,\n",
    "      col = \"tomato\")\n",
    "abline(0, 1, lty = 2, col = 'blue')\n",
    "legend(\"right\", \n",
    "       legend = paste(\"AUC: \", round(AUC, 3)), \n",
    "       col = \"tomato\", \n",
    "       lwd = 2, \n",
    "       bty = \"n\")"
   ]
  },
  {
   "cell_type": "code",
   "execution_count": 30,
   "metadata": {},
   "outputs": [
    {
     "data": {
      "text/html": [
       "<strong>png:</strong> 2"
      ],
      "text/latex": [
       "\\textbf{png:} 2"
      ],
      "text/markdown": [
       "**png:** 2"
      ],
      "text/plain": [
       "png \n",
       "  2 "
      ]
     },
     "metadata": {},
     "output_type": "display_data"
    }
   ],
   "source": [
    "png(filename = 'roc_split.png', width = 1600, height = 1600, unit = 'px', res = 300)\n",
    "plot(1 - roc$specificities, \n",
    "     roc$sensitivities,\n",
    "     pch = 20,\n",
    "     col = \"tomato\", \n",
    "     xlim = c(0, 1), ylim = c(0, 1),\n",
    "     xlab = '1-Sepcificity',\n",
    "     ylab = 'Sensitivity',\n",
    "     xaxs = 'i', \n",
    "     yaxs = 'i')\n",
    "lines(1- roc$specificities, \n",
    "      roc$sensitivities,\n",
    "      col = \"tomato\")\n",
    "abline(0, 1, lty = 2, col = 'blue')\n",
    "legend(\"right\", \n",
    "       legend = paste(\"AUC: \", round(AUC, 3)), \n",
    "       col = \"tomato\", \n",
    "       lwd = 2, \n",
    "       bty = \"n\")\n",
    "dev.off()"
   ]
  },
  {
   "cell_type": "code",
   "execution_count": 31,
   "metadata": {},
   "outputs": [
    {
     "data": {
      "image/png": "[encoded data removed]",
      "text/plain": [
       "plot without title"
      ]
     },
     "metadata": {
      "image/png": {
       "height": 420,
       "width": 420
      }
     },
     "output_type": "display_data"
    }
   ],
   "source": [
    "# calibration curve\n",
    "n_group <- 10\n",
    "cal_data <- data.frame(AKI_binary = as.numeric(data_external$AKI_binary) - 1, pred_prob)\n",
    "cal_data <- cal_data[order(cal_data$pred_prob),]\n",
    "cal_data <- cal_data %>% mutate(tiles = cut2(pred_prob, g = n_group))\n",
    "cal_data <- cal_data %>% \n",
    "            group_by(tiles) %>% \n",
    "            summarise(\n",
    "                n = n(),\n",
    "                obs_mean = mean(AKI_binary),\n",
    "                obs_sd = sd(AKI_binary),\n",
    "                # obs_mean = sum(AKI_binary) / n(),\n",
    "                # obs_sd = sqrt(obs_mean * (1 - obs_mean)),\n",
    "                pred_mean = mean(pred_prob),\n",
    "                obs_upper = obs_mean + 1.96*obs_sd/sqrt(n()),\n",
    "                obs_lower = obs_mean - 1.96*obs_sd/sqrt(n())\n",
    "            )\n",
    "\n",
    "cal_plot <- \n",
    "    ggplot(\n",
    "        cal_data, \n",
    "        aes(x = pred_mean, y = obs_mean)) +\n",
    "    # geom_line() +\n",
    "    geom_point(size = 5, colour = 'darkblue') +\n",
    "    geom_errorbar(\n",
    "        aes(ymin = obs_lower, ymax = obs_upper), \n",
    "        linewidth = 1,\n",
    "        width = .005, \n",
    "        colour = 'darkblue'\n",
    "    ) +\n",
    "    geom_abline(linewidth = 1) +\n",
    "    xlab(\"\\nPredicted incidence\") +\n",
    "    ylab(\"Observed incidence\\n\") +\n",
    "    scale_x_continuous(limits = c(0, 0.25), breaks = seq(0, 0.5, 0.05)) +\n",
    "    scale_y_continuous(limits = c(0, 0.3), breaks = seq(0, 0.5, 0.05)) +\n",
    "    theme(\n",
    "        panel.background = element_blank(),\n",
    "        panel.grid = element_blank(),\n",
    "        # panel.grid.major.y = element_line(color = \"gray\"),\n",
    "        plot.title = element_text(size = 20, face = \"bold\", hjust = 0), \n",
    "        axis.title = element_text(size = 20, face = \"bold\"),\n",
    "        axis.text = element_text(size = 20, color = 'black'),\n",
    "        axis.ticks.length.x = unit(0.3, 'cm'),\n",
    "        axis.ticks.length.y = unit(0.3, 'cm'),\n",
    "        axis.line = element_line(colour = \"black\", linewidth = 0.5)\n",
    "    )\n",
    "cal_plot"
   ]
  },
  {
   "cell_type": "code",
   "execution_count": 32,
   "metadata": {},
   "outputs": [
    {
     "data": {
      "text/html": [
       "<strong>png:</strong> 2"
      ],
      "text/latex": [
       "\\textbf{png:} 2"
      ],
      "text/markdown": [
       "**png:** 2"
      ],
      "text/plain": [
       "png \n",
       "  2 "
      ]
     },
     "metadata": {},
     "output_type": "display_data"
    }
   ],
   "source": [
    "png(filename = 'calibration_curve_split.png', width = 3200, height = 3200, unit = 'px', res = 300)\n",
    "cal_plot\n",
    "dev.off()"
   ]
  },
  {
   "cell_type": "markdown",
   "metadata": {},
   "source": [
    "## Cross-validation"
   ]
  },
  {
   "cell_type": "code",
   "execution_count": 33,
   "metadata": {},
   "outputs": [],
   "source": [
    "best_model_external <-\n",
    "        knn(\n",
    "            train = data_normalized[, -1],\n",
    "            test = data_external_normalized[, -1],\n",
    "            cl = data_normalized$AKI_binary,\n",
    "            k = best_model_k_cv,\n",
    "            prob = TRUE\n",
    "        )\n",
    "pred_prob <- attr(best_model_external, 'prob')\n",
    "pred_prob <- ifelse(best_model_external == 'yes', pred_prob, 1-pred_prob)"
   ]
  },
  {
   "cell_type": "code",
   "execution_count": 35,
   "metadata": {},
   "outputs": [
    {
     "data": {
      "text/plain": [
       "      predicted\n",
       "actual   no  yes\n",
       "     0 2733    0\n",
       "     1  267    0"
      ]
     },
     "metadata": {},
     "output_type": "display_data"
    }
   ],
   "source": [
    "# confusion matrix\n",
    "cm <- table(actual = data_external$AKI_binary, predicted = best_model_external)\n",
    "cm"
   ]
  },
  {
   "cell_type": "code",
   "execution_count": 36,
   "metadata": {},
   "outputs": [
    {
     "name": "stderr",
     "output_type": "stream",
     "text": [
      "Setting levels: control = 0, case = 1\n",
      "\n",
      "Setting direction: controls < cases\n",
      "\n"
     ]
    },
    {
     "data": {
      "text/html": [
       "0.685108214073791"
      ],
      "text/latex": [
       "0.685108214073791"
      ],
      "text/markdown": [
       "0.685108214073791"
      ],
      "text/plain": [
       "Area under the curve: 0.6851"
      ]
     },
     "metadata": {},
     "output_type": "display_data"
    }
   ],
   "source": [
    "# AUC \n",
    "roc <- roc(data_external$AKI_binary, pred_prob)\n",
    "AUC <- auc(roc)\n",
    "AUC"
   ]
  },
  {
   "cell_type": "code",
   "execution_count": 37,
   "metadata": {},
   "outputs": [
    {
     "data": {
      "image/png": "[encoded data removed]",
      "text/plain": [
       "plot without title"
      ]
     },
     "metadata": {
      "image/png": {
       "height": 420,
       "width": 420
      }
     },
     "output_type": "display_data"
    }
   ],
   "source": [
    "plot(1 - roc$specificities, \n",
    "     roc$sensitivities,\n",
    "     pch = 20,\n",
    "     col = \"tomato\", \n",
    "     xlim = c(0, 1), ylim = c(0, 1),\n",
    "     xlab = '1-Sepcificity',\n",
    "     ylab = 'Sensitivity',\n",
    "     xaxs = 'i', \n",
    "     yaxs = 'i')\n",
    "lines(1- roc$specificities, \n",
    "      roc$sensitivities,\n",
    "      col = \"tomato\")\n",
    "abline(0, 1, lty = 2, col = 'blue')\n",
    "legend(\"right\", \n",
    "       legend = paste(\"AUC: \", round(AUC, 3)), \n",
    "       col = \"tomato\", \n",
    "       lwd = 2, \n",
    "       bty = \"n\")"
   ]
  },
  {
   "cell_type": "code",
   "execution_count": 38,
   "metadata": {},
   "outputs": [
    {
     "data": {
      "text/html": [
       "<strong>png:</strong> 2"
      ],
      "text/latex": [
       "\\textbf{png:} 2"
      ],
      "text/markdown": [
       "**png:** 2"
      ],
      "text/plain": [
       "png \n",
       "  2 "
      ]
     },
     "metadata": {},
     "output_type": "display_data"
    }
   ],
   "source": [
    "png(filename = 'roc_cv.png', width = 1600, height = 1600, unit = 'px', res = 300)\n",
    "plot(1 - roc$specificities, \n",
    "     roc$sensitivities,\n",
    "     pch = 20,\n",
    "     col = \"tomato\", \n",
    "     xlim = c(0, 1), ylim = c(0, 1),\n",
    "     xlab = '1-Sepcificity',\n",
    "     ylab = 'Sensitivity',\n",
    "     xaxs = 'i', \n",
    "     yaxs = 'i')\n",
    "lines(1- roc$specificities, \n",
    "      roc$sensitivities,\n",
    "      col = \"tomato\")\n",
    "abline(0, 1, lty = 2, col = 'blue')\n",
    "legend(\"right\", \n",
    "       legend = paste(\"AUC: \", round(AUC, 3)), \n",
    "       col = \"tomato\", \n",
    "       lwd = 2, \n",
    "       bty = \"n\")\n",
    "dev.off()"
   ]
  },
  {
   "cell_type": "code",
   "execution_count": 39,
   "metadata": {},
   "outputs": [
    {
     "data": {
      "image/png": "[encoded data removed]",
      "text/plain": [
       "plot without title"
      ]
     },
     "metadata": {
      "image/png": {
       "height": 420,
       "width": 420
      }
     },
     "output_type": "display_data"
    }
   ],
   "source": [
    "# calibration curve\n",
    "n_group <- 10\n",
    "cal_data <- data.frame(AKI_binary = as.numeric(data_external$AKI_binary) - 1, pred_prob)\n",
    "cal_data <- cal_data[order(cal_data$pred_prob),]\n",
    "cal_data <- cal_data %>% mutate(tiles = cut2(pred_prob, g = n_group))\n",
    "cal_data <- cal_data %>% \n",
    "            group_by(tiles) %>% \n",
    "            summarise(\n",
    "                n = n(),\n",
    "                obs_mean = mean(AKI_binary),\n",
    "                obs_sd = sd(AKI_binary),\n",
    "                # obs_mean = sum(AKI_binary) / n(),\n",
    "                # obs_sd = sqrt(obs_mean * (1 - obs_mean)),\n",
    "                pred_mean = mean(pred_prob),\n",
    "                obs_upper = obs_mean + 1.96*obs_sd/sqrt(n()),\n",
    "                obs_lower = obs_mean - 1.96*obs_sd/sqrt(n())\n",
    "            )\n",
    "\n",
    "cal_plot <- \n",
    "    ggplot(\n",
    "        cal_data, \n",
    "        aes(x = pred_mean, y = obs_mean)) +\n",
    "    # geom_line() +\n",
    "    geom_point(size = 5, colour = 'darkblue') +\n",
    "    geom_errorbar(\n",
    "        aes(ymin = obs_lower, ymax = obs_upper), \n",
    "        linewidth = 1,\n",
    "        width = .005, \n",
    "        colour = 'darkblue'\n",
    "    ) +\n",
    "    geom_abline(linewidth = 1) +\n",
    "    xlab(\"\\nPredicted incidence\") +\n",
    "    ylab(\"Observed incidence\\n\") +\n",
    "    scale_x_continuous(limits = c(0, 0.25), breaks = seq(0, 0.5, 0.05)) +\n",
    "    scale_y_continuous(limits = c(0, 0.3), breaks = seq(0, 0.5, 0.05)) +\n",
    "    theme(\n",
    "        panel.background = element_blank(),\n",
    "        panel.grid = element_blank(),\n",
    "        # panel.grid.major.y = element_line(color = \"gray\"),\n",
    "        plot.title = element_text(size = 20, face = \"bold\", hjust = 0), \n",
    "        axis.title = element_text(size = 20, face = \"bold\"),\n",
    "        axis.text = element_text(size = 20, color = 'black'),\n",
    "        axis.ticks.length.x = unit(0.3, 'cm'),\n",
    "        axis.ticks.length.y = unit(0.3, 'cm'),\n",
    "        axis.line = element_line(colour = \"black\", linewidth = 0.5)\n",
    "    )\n",
    "cal_plot"
   ]
  },
  {
   "cell_type": "code",
   "execution_count": 40,
   "metadata": {},
   "outputs": [
    {
     "data": {
      "text/html": [
       "<strong>png:</strong> 2"
      ],
      "text/latex": [
       "\\textbf{png:} 2"
      ],
      "text/markdown": [
       "**png:** 2"
      ],
      "text/plain": [
       "png \n",
       "  2 "
      ]
     },
     "metadata": {},
     "output_type": "display_data"
    }
   ],
   "source": [
    "png(filename = 'calibration_curve_cv.png', width = 3200, height = 3200, unit = 'px', res = 300)\n",
    "cal_plot\n",
    "dev.off()"
   ]
  }
 ],
 "metadata": {
  "kernelspec": {
   "display_name": "R-4.4.1",
   "language": "R",
   "name": "ir4.4.1"
  },
  "language_info": {
   "codemirror_mode": "r",
   "file_extension": ".r",
   "mimetype": "text/x-r-source",
   "name": "R",
   "pygments_lexer": "r",
   "version": "4.4.1"
  }
 },
 "nbformat": 4,
 "nbformat_minor": 4
}
