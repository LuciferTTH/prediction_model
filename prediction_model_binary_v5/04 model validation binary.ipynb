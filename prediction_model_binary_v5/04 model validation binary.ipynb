{
 "cells": [
  {
   "cell_type": "markdown",
   "id": "d719415a-85ba-4a66-b7f0-66d8fc7106f5",
   "metadata": {},
   "source": [
    "# 1.Background（背景）"
   ]
  },
  {
   "cell_type": "markdown",
   "id": "c3cbfaaf-208e-4996-9fe0-7fa2b3dbf946",
   "metadata": {},
   "source": [
    "基于上述最优子集、逐步回归、LASSO回归筛选出的变量分别进行回归模型构建后，我们将涉及模型的评价，根据数据集的来源不同，可以通过内部验证和（或）外部验证对模型的区分度（Discrimination）、校准度（Calibration）和决策曲线三个方面进行评价。"
   ]
  },
  {
   "cell_type": "markdown",
   "id": "56a8db4c-db7c-4221-9ba1-70a26b407085",
   "metadata": {},
   "source": [
    "# 2.原理和方法"
   ]
  },
  {
   "cell_type": "markdown",
   "id": "c4ce37a7-623b-49e2-895d-f957e80d7ff0",
   "metadata": {},
   "source": [
    "## 2.1 评价指标"
   ]
  },
  {
   "cell_type": "markdown",
   "id": "e9bde6b2-a954-4947-ab4b-10ee256cb6a9",
   "metadata": {},
   "source": [
    "### 2.1.1 区分度（Discrimination）"
   ]
  },
  {
   "cell_type": "markdown",
   "id": "f74ff3a9-e239-4f1a-8ba9-75e2bb5d2a93",
   "metadata": {},
   "source": [
    "区分度（Discrimination），又称为模型的判别能力或排序能力，用于评价模型区分个体相对风险水平的能力，即发生终点事件的患者应有相对较高的预测发生概率，未发生终点事件的患者应有相对较低的预测概率。衡量区分度最常用的的指标是C统计量，或称C指数（C-index）。\n",
    "\n",
    "C统计量是给定两个人（一个人发生事件，另一个人没有发生事件），该模型估计的第一个病人风险高于第二个病人的概率。它是基于模型的风险估计和观察到的结局事件之间一致性（concordance）的度量（因此称为“C统计量”）。C统计量可以测量模型将患者从高风险到低风险排序的能力，但不评估模型预测事件发生的准确概率的能力（其通过模型的校准度进行衡量）。\n",
    "\n",
    "在针对二分类结局事件的预测模型中，C统计量等价于受试者工作特征曲线（ROC）下面积（AUC）。ROC曲线是反映模型敏感性与特异性之间关系的曲线。其X轴为1–特异度（假阳性率）， Y轴称为敏感度（真阳性率），将各阈值概率下计算的不同的敏感度与特异度描点连线，则得ROC曲线，其与X轴所围面积即AUC。两个指标均是评价预测模型区分度的常见指标，均一般在0.5（随机一致性）到1（完全一致性）之间。通常来说，对于二分类变量的预测模型，C统计量或AUC判别的常用标准为：\n",
    ">1. 低于0.60说明模型的区分度较差;\n",
    ">2. 0.6- 0.75说明模型的区分度可能有意义;\n",
    ">3. 大于0.7说明模型的区分度明显有意义。\n",
    "\n",
    ">1. less than 0.60 reflects poor discrimination; \n",
    ">2. 0.60 to 0.75, possibly helpful discrimination;\n",
    ">3. more than 0.75, clearly useful discrimination\n",
    "\n",
    "\n",
    "REF\n",
    "1. Pencina MJ, D'Agostino RB Sr. Evaluating Discrimination of Risk Prediction Models: The C Statistic. JAMA. 2015;314(10):1063-1064. doi:10.1001/jama.2015.11082\n",
    "2. Alba AC, Agoritsas T, Walsh M, et al. Discrimination and Calibration of Clinical Prediction Models: Users' Guides to the Medical Literature. JAMA. 2017;318(14):1377-1384. doi:10.1001/jama.2017.12126"
   ]
  },
  {
   "cell_type": "markdown",
   "id": "e4aab530-75c0-4204-8b0f-641b99e51348",
   "metadata": {},
   "source": [
    "### 2.1.2 校准度（Calibration）"
   ]
  },
  {
   "cell_type": "markdown",
   "id": "b460c01e-6cd6-415d-b106-a677973b78e6",
   "metadata": {},
   "source": [
    "一个模型只有良好的区分度是不够的，因为其仅代表相对风险排序。而临床是复杂的，对于50%的风险和80%的风险，我们的临床决策可能不同，这就引出了校准度的概念。校准度指预测与实际结果之间的一致性，可用来反映模型的绝对风险预测值是否准确。校准度的评估思路可以是：\n",
    "\n",
    "1. 根据研究对象在时间t的事件发生的预测概率进行分组；\n",
    "2. 在各组中计算时间t的事件发生的平均预测概率；\n",
    "3. 在各组中通过拟合该组的Kaplan-Meier生存函数来计算在时间t的事件发生的观测概率；\n",
    "4. 在各组中比较平均预测概率和观测概率，可使用散点图，校准度图等（校准度图按照预测概率进行等分组，横坐标为预测的生存率，纵坐标为实际的生存率，对角线是预测概率等于实际概率，偏离对角线越远说明预测的误差越大）；\n",
    "5. 通过统计检验的方法（如Hosmer-Lemeshow检验等）也可以对预测概率与实际观测概率之间的差异程度进行显著性检验，从而评估校准度，但是均存在各种局限性。"
   ]
  },
  {
   "cell_type": "markdown",
   "id": "82502b51-d8ce-462c-8070-1687f2bff5c1",
   "metadata": {},
   "source": [
    "### 2.1.3 决策曲线（Decision curve analysis)"
   ]
  },
  {
   "cell_type": "markdown",
   "id": "5edad255-c9ea-4535-9ba3-9a3049d9b547",
   "metadata": {},
   "source": [
    "模型预测再准确，也始终会有假阳性和假阴性存在，我们根据模型的预测结果去干预病人，这里面就有一个干预划不划得来的问题（例如对假阳性的病人进行干预是亏损的）。决策曲线引入了阈概率，表示的是只有病人的预测概率超过这个阈概率，干预才有受益，但阈概率本身我们是不知道的，我们关心训练出来的模型是否在任何阈概率情况下都是有收益的，都是值得应用的，这就是决策曲线要帮助我们回答的问题。该方法由纪念斯隆凯特琳癌症研究所的Andrew Vickers博士2006年在Medical Decision Making期刊上首次提出，而后得到了普遍应用。其绘制方法为：\n",
    "\n",
    "Ref:\n",
    "1. Fitzgerald M, Saville BR, Lewis RJ. Decision curve analysis. JAMA. 2015;313(4):409-410. doi:10.1001/jama.2015.37\n",
    "2. Vickers AJ, Elkin EB. Decision curve analysis: a novel method for evaluating prediction models. Med Decis Making. 2006;26(6):565-574. doi:10.1177/0272989X06295361"
   ]
  },
  {
   "cell_type": "markdown",
   "id": "42417703-177c-425a-8758-dc3631311953",
   "metadata": {},
   "source": [
    "1. Chose a value for $P_{t}$ (probability threshold, a level of diagnostic certainty above which the patient would choose to be treated);\n",
    "2. Calculate the number of true- and false-positive results using $P_{t}$ as the cut-point for determining a positive or negative result;\n",
    "3. Calculate the net benefit of the prediction model,  $Net Benefit = \\frac{TruePositiveCount}{n}-\\frac{FalsePositiveCount}{n}(\\frac{P_{t}}{1-P_{t}})$ (true- and false-positive count is the number of patients with true- and false-positive results and $n$ is the total number of patients);\n",
    "4. Vary $P_{t}$ over an appropriate range and repeat steps 2 – 3；\n",
    "5. Plot net benefit on the y axis against $P_{t}$ on the x axis；\n",
    "6. Repeat steps 1 – 5 for each model under consideration;\n",
    "7. Repeat steps 1 – 5 for the strategy of assuming all patients are positive;\n",
    "8. Draw a straight line parallel to the x-axis at $y=0$ representing the net benefit associated with the strategy of assuming that all patients are negative"
   ]
  },
  {
   "cell_type": "markdown",
   "id": "009f07dd-ce37-495a-8cf6-8afd460dbfb6",
   "metadata": {},
   "source": [
    "1. 选择一个阈概率 $P_{t}$ （当对一位患者的预测概率超过阈概率，该患者会被纳入干预）\n",
    "2. 使用 $P_{t}$ 作为确定患者为阴性或阳性结果（即是否纳入干预）的分界值，再结合患者的实际结局情况，确定真阳性和假阳性的结局数量；\n",
    "3. 计算该模型的净获益 $Net Benefit = \\frac{TruePositiveCount}{n}-\\frac{FalsePositiveCount}{n}(\\frac{P_{t}}{1-P_{t}})$，（$TruePositiveCount$ 和 $FalsePositiveCount$ 是指有真阳性结局事件和假阳性结局事件的患者的数量， $n$ 是患者总数）；\n",
    "4. 在合适的范围内修改阈概率 $P_{t}$ 的取值，并重复步骤2与步骤3；\n",
    "5. 以净获益为y轴，$P_{t}$ 为x轴，根据上述结果取点连线绘图；\n",
    "6. 对所有需要进行评估验证的模型都重复步骤1到5，每个模型绘制一条决策曲线；\n",
    "7. 假定所有患者均出现阳性结局，即所有患者均纳入干预，重复步骤1到5一次，仍计算不同 $P_{t}$ 下的净获益，并绘制一条“无效线”用于参考；\n",
    "8. 在 $y=0$ 处画一条平行于x轴的直线，此为另一条“无效线”，其假定所有患者都是阴性结局、均不纳入干预时（此时无论阈概率如何改变，净获益水平均为0）的情况"
   ]
  },
  {
   "cell_type": "markdown",
   "id": "12559434-d95c-47a8-a26e-949d0a60bfed",
   "metadata": {
    "tags": []
   },
   "source": [
    "## 2.2 内部验证方法"
   ]
  },
  {
   "cell_type": "markdown",
   "id": "a29367dc-67ec-48b6-a85c-b74bf695c947",
   "metadata": {},
   "source": [
    "内部验证法的目的是检验模型开发过程的generalizability，并且防止模型过度拟合以致高估模型的性能。内部验证是针对整个建模过程中的所有步骤，包括变量转换、变量筛选以及模型选择，甚至需要包括对数据缺失值的插补，而不是仅针对最终模型进行验证。内部验证的实施通常需要借助数据拆分或重抽样方法来实现，常用的方法有Bootstrap法、随机拆分验证、K折交叉验证。内部验证可以评估模型在开发队列中的表现，但不能反映模型在新数据中的表现（transferability），因此还需要进行外部验证。"
   ]
  },
  {
   "cell_type": "markdown",
   "id": "b31091af-e601-4de8-a87b-df57634a1fde",
   "metadata": {},
   "source": [
    "### 2.2.1 自助法（Bootstrap法）"
   ]
  },
  {
   "cell_type": "markdown",
   "id": "a878fbac-2d8c-4938-a9d7-12da775a60e9",
   "metadata": {
    "jp-MarkdownHeadingCollapsed": true
   },
   "source": [
    "#### 2.2.1.1常规自助法\n",
    "1. 划分训练集和测试集：有放回地从原始数据集随机重复抽样n次（n为样本容量），从而得到一个与原始数据同样大小的样本。将Bootstrap抽样所得样本数据作为训练集，测试集为所有样本数据；\n",
    "2. 在训练集上进行模型训练，筛选出最优模型；\n",
    "3. 根据训练集所得的最优模型，在测试集上进行预测并计算模型的C统计量；\n",
    "4. 重复步骤2和3多次，例如1000次，我们可以得到1000个不同训练集在测试集进行预测的C统计量值；\n",
    "5. 计算C统计量的均值"
   ]
  },
  {
   "cell_type": "markdown",
   "id": "6c548fe3-af30-45a9-bd0f-84f3294b7112",
   "metadata": {
    "id": "edea9c8f-7b6c-422a-b022-170f804ed10c"
   },
   "source": [
    "#### 2.2.1.2 增强自助法\n",
    "\n",
    "1. 划分训练集和测试集：有放回地从原始数据集随机重复抽样n次（n为样本容量），从而得到一个与原始数据同样大小的样本。将Bootstrap抽样所得样本数据作为训练集，测试集为所有样本数据。\n",
    "2. 在训练集上进行模型训练，筛选出最优模型；并在该训练集上进行预测并计算C统计量(称作bootstrap performance 或 apparent performance，即模型的表面表现）\n",
    "3. 根据训练集所得的最优模型，在测试集上进行预测并计算模型的C统计量（称作test performance，测试表现）；\n",
    "4. 重复步骤1-3多次，例如1000次，我们可以得到1000个不同的模型在其训练集和测试集中分别进行预测得到的C统计量；\n",
    "5. 计算4中得到的1000个预测训练集所得C统计量的均值，和1000个预测测试集所得C统计量的均值，前者减去后者得到C统计量的高估值（optimism）\n",
    "6. 在原始数据中拟合模型并进行预测，计算C统计量，再减去5中计算得到的高估值，得到模型在内部验证中，经过调整的C统计量(optimism-corrected C-index)"
   ]
  },
  {
   "cell_type": "markdown",
   "id": "7d6add46-0c7d-41f7-acef-d1c2439b6515",
   "metadata": {},
   "source": [
    "#### 2.2.1.3 0.632法"
   ]
  },
  {
   "cell_type": "markdown",
   "id": "00e5999b-a09d-4df9-88be-612582acefb4",
   "metadata": {},
   "source": [
    "1. 划分训练集和测试集：将Bootstrap抽样所得样本数据作为训练集，测试集为未被抽中的样本数据（从一个样本量为 $n$ 的数据集中有放回地抽样，每个个体被抽中的概率是 $\\frac{1}{n}$，未被抽中的概率是 $1-\\frac{1}{n}$，抽取 $n$ 次，因此一个个体 $n$ 次都未被抽中的概率是 $(1-\\frac{1}{n})^n$，当 $n$ 很大时，该概率近似为 $\\frac{1}{e}=0.368$，因此大约36.8%的样本将作为测试集，63.2%的样本作为训练集）；\n",
    "2. 在训练集上进行模型训练，筛选出最优模型；\n",
    "3. 根据训练集所得的最优模型，在测试集上进行预测并计算模型的C统计量；\n",
    "4. 重复步骤2和3多次，例如1000次，我们可以得到1000个训练集和测试集的预测值；\n",
    "5. 计算C统计量的均值"
   ]
  },
  {
   "cell_type": "markdown",
   "id": "66c490a2-6de9-4c8d-a94c-7475b674d99c",
   "metadata": {},
   "source": [
    "### 2.2 交叉验证法"
   ]
  },
  {
   "cell_type": "markdown",
   "id": "3399a306-e720-4810-9ab3-3f15e4df71dc",
   "metadata": {},
   "source": [
    "主要步骤如下：\n",
    "1. 将数据集分为训练集和测试集两部分；\n",
    "2. 保留一小部分数据集作为测试集，使用数据集的其余部分（训练集）训练模型；\n",
    "3. 利用测试集来测试训练集所得的最优模型，以此来评价模型的性能"
   ]
  },
  {
   "cell_type": "markdown",
   "id": "865049e3-05ab-447d-bceb-fef844300233",
   "metadata": {},
   "source": [
    "#### 2.2.1 随机拆分验证"
   ]
  },
  {
   "cell_type": "markdown",
   "id": "4fd1f575-06ed-4955-8180-ea27cfb464a7",
   "metadata": {},
   "source": [
    "1. 将数据集按一定比例进行拆分，拆分为训练集和测试集（例如：80％或70%的数据集作为训练集，20%或30%的数据集作为测试集）;\n",
    "2. 在训练集上进行模型训练，筛选出最优模型;\n",
    "3. 根据训练集所得的最优模型，在测试集上进行预测;\n",
    "4. 在测试集上建立新模型并评价模型的区分度和校准度"
   ]
  },
  {
   "cell_type": "markdown",
   "id": "f9b7698b-42d0-470c-b442-1cead9fcf481",
   "metadata": {},
   "source": [
    ">- 注意：仅当数据集含较大样本量可以供拆分时使用，当数据量较小时，不推荐使用。\n",
    ">- 缺点：仅在一部分数据集上建立模型，可能会遗漏一些信息，从而导致结果有偏差。此外，预测误差也会随着我们划分的训练集和测试集不同而不稳定"
   ]
  },
  {
   "cell_type": "markdown",
   "id": "10f0b4b2-3ba9-46a5-b425-281d88fd8b6a",
   "metadata": {
    "id": "798931f0-31e4-44b8-bcbc-23cdf17d5a75",
    "toc-hr-collapsed": true
   },
   "source": [
    "#### 2.2.2 K折交叉验证（K-fold Cross Validation）（更为推荐）"
   ]
  },
  {
   "cell_type": "markdown",
   "id": "2ccd6959-ac52-4c4d-b8b0-8dce07fb3d42",
   "metadata": {
    "id": "9aff02c4-5f05-44c5-b8bc-1d4ae5a9558c"
   },
   "source": [
    "1. 将数据集随机拆分为K个子集（例如5折交叉验证，就是5个子集）；\n",
    "2. 保留一个子集作测试集，所有其他子集作训练集，并在训练集上进行模型训练，筛选出最优模型；\n",
    "3. 根据训练集所得的最优模型，在测试集上进行预测并计算模型的C统计量和校准度；\n",
    "4. 重复此过程，直到k个子集中的每一个都已作为一次测试集；\n",
    "5. 计算K个C统计量的平均值"
   ]
  },
  {
   "cell_type": "markdown",
   "id": "167e8377-d874-4398-bd48-eec8cff290c4",
   "metadata": {
    "tags": []
   },
   "source": [
    "## 2.3 外部验证"
   ]
  },
  {
   "cell_type": "markdown",
   "id": "b2745b1b-067b-4d12-a8fb-39d7d0d35f92",
   "metadata": {},
   "source": [
    "外部验证包括以下几种方法：\n",
    "\n",
    "1. 时间验证：按时间截断，在某时间点前的样本作为训练集，之后的作为验证集；\n",
    "2. 空间验证：多个中心，几个中心作为训练集，其它中心作为验证集，空间相隔越远，验证结果仍然较好，其说服力越大；\n",
    "3. 时空验证：前两种方法结合。"
   ]
  },
  {
   "cell_type": "markdown",
   "id": "cc2df526-271a-42d4-a860-4bbeea3193a6",
   "metadata": {},
   "source": [
    "# 3.Simulation（模拟）"
   ]
  },
  {
   "cell_type": "markdown",
   "id": "0059fbb4-4d24-4205-aacd-f0b03c9f0ac2",
   "metadata": {},
   "source": [
    "下面将对以Lasso回归筛选得到的模型进行内部验证和外部验证。"
   ]
  },
  {
   "cell_type": "markdown",
   "id": "63e88303-4dd5-489c-a0f0-55c4d2e5fbcb",
   "metadata": {
    "tags": []
   },
   "source": [
    "Import packages（加载包）"
   ]
  },
  {
   "cell_type": "code",
   "execution_count": 1,
   "id": "a6ed9040-c11e-44ba-9c16-6ede695d068c",
   "metadata": {
    "tags": [],
    "vscode": {
     "languageId": "r"
    }
   },
   "outputs": [],
   "source": [
    "# Install required packages and library them\n",
    "packages <- c(\"devtools\",\n",
    "              \"plyr\",\n",
    "              \"caret\",\n",
    "              \"rms\",\n",
    "              \"boot\",\n",
    "              \"ggplot2\",\n",
    "              \"glmnet\",\n",
    "              \"pROC\",\n",
    "              \"dplyr\",\n",
    "              \"ggDCA\")\n",
    "\n",
    "for (i in packages) {\n",
    "    if (!suppressMessages(require(i, character.only = TRUE, quietly = TRUE))) {\n",
    "        install.packages(i, quietly = TRUE)\n",
    "    }\n",
    "}"
   ]
  },
  {
   "cell_type": "code",
   "execution_count": 2,
   "id": "05630e04",
   "metadata": {
    "tags": [],
    "vscode": {
     "languageId": "r"
    }
   },
   "outputs": [],
   "source": [
    "load(\"model_refit_binary_workspace.Rdata\")"
   ]
  },
  {
   "cell_type": "code",
   "execution_count": 3,
   "id": "e0bf30ec-6155-4972-b118-4d753f9abc2c",
   "metadata": {
    "tags": []
   },
   "outputs": [],
   "source": [
    "# transform multifactor variables to dummy variables\n",
    "dataset_external <- dataset_external %>% \n",
    "    mutate(albuminuria_moderate = as.numeric(albuminuria == \"moderate\"),\n",
    "           albuminuria_severe = as.numeric(albuminuria == \"severe\"),\n",
    "           CKD_stage_G3a = as.numeric(CKD_stage == \"G3a\"),\n",
    "           CKD_stage_G3b = as.numeric(CKD_stage == \"G3b\"),\n",
    "           CKD_stage_G4 = as.numeric(CKD_stage == \"G4\"))"
   ]
  },
  {
   "cell_type": "markdown",
   "id": "28ca65dc-98fe-40dc-a4c1-05644ff46ce7",
   "metadata": {},
   "source": [
    "## 3.1 内部验证"
   ]
  },
  {
   "cell_type": "markdown",
   "id": "5651fcb1-6040-4341-bbd1-aef7ce90898e",
   "metadata": {},
   "source": [
    "当无法获得满足外部验证的数据集时，可以采取内部验证的方法对构建的模型进行评价。内部验证的方法有很多，包括Bootstrap和交叉验证法等。"
   ]
  },
  {
   "cell_type": "markdown",
   "id": "c4196f0c-c913-4f0d-bfd3-b00dfef9857e",
   "metadata": {},
   "source": [
    "### 3.1.1 自助法（以常规自助法为例）"
   ]
  },
  {
   "cell_type": "code",
   "execution_count": 4,
   "id": "7c797ed0-fcd6-48b0-99b3-f973317c1ad3",
   "metadata": {
    "tags": []
   },
   "outputs": [
    {
     "name": "stdout",
     "output_type": "stream",
     "text": [
      "18 x 1 sparse Matrix of class \"dgCMatrix\"\n",
      "                                s1\n",
      "(Intercept)          -1.133470e+01\n",
      "age                   4.265535e-01\n",
      "age_square           -4.268555e-03\n",
      "male                  6.595776e-01\n",
      "TC_rcs_1             -2.134451e+00\n",
      "TC_rcs_2              1.657813e-01\n",
      "TC_rcs_3             -7.592852e-01\n",
      "log_LDLC              1.424675e-02\n",
      "albuminuria_moderate -6.014724e-01\n",
      "albuminuria_severe   -5.230525e-01\n",
      "CKD_stage_G3a        -1.229475e-01\n",
      "CKD_stage_G3b         3.857318e-01\n",
      "CKD_stage_G4         -5.582343e-01\n",
      "male_CKD_stage_G3a    1.106895e-01\n",
      "male_CKD_stage_G3b   -4.300367e-01\n",
      "male_CKD_stage_G4     5.374988e-01\n",
      "age_TC                2.661959e-02\n",
      "age_BMI_TC           -2.612469e-06\n"
     ]
    },
    {
     "name": "stderr",
     "output_type": "stream",
     "text": [
      "Setting levels: control = 0, case = 1\n",
      "\n",
      "Setting direction: controls < cases\n",
      "\n"
     ]
    },
    {
     "data": {
      "image/png": "[encoded data removed]",
      "text/plain": [
       "plot without title"
      ]
     },
     "metadata": {
      "image/png": {
       "height": 420,
       "width": 420
      }
     },
     "output_type": "display_data"
    },
    {
     "data": {
      "image/png": "[encoded data removed]",
      "text/plain": [
       "plot without title"
      ]
     },
     "metadata": {
      "image/png": {
       "height": 420,
       "width": 420
      }
     },
     "output_type": "display_data"
    },
    {
     "name": "stdout",
     "output_type": "stream",
     "text": [
      "18 x 1 sparse Matrix of class \"dgCMatrix\"\n",
      "                                s1\n",
      "(Intercept)          -3.229132e+00\n",
      "age                   .           \n",
      "age_square           -1.365399e-05\n",
      "male                  3.177378e-01\n",
      "TC_rcs_1              2.216467e-01\n",
      "TC_rcs_2              .           \n",
      "TC_rcs_3             -2.382482e-02\n",
      "log_LDLC             -1.605734e-01\n",
      "albuminuria_moderate -7.179879e-01\n",
      "albuminuria_severe   -3.915120e-01\n",
      "CKD_stage_G3a        -3.181806e-01\n",
      "CKD_stage_G3b         .           \n",
      "CKD_stage_G4         -3.836399e-01\n",
      "male_CKD_stage_G3a    2.994100e-01\n",
      "male_CKD_stage_G3b   -4.166659e-02\n",
      "male_CKD_stage_G4     .           \n",
      "age_TC                3.448412e-05\n",
      "age_BMI_TC            3.845137e-05\n"
     ]
    },
    {
     "name": "stderr",
     "output_type": "stream",
     "text": [
      "Setting levels: control = 0, case = 1\n",
      "\n",
      "Setting direction: controls < cases\n",
      "\n"
     ]
    },
    {
     "data": {
      "image/png": "[encoded data removed]",
      "text/plain": [
       "plot without title"
      ]
     },
     "metadata": {
      "image/png": {
       "height": 420,
       "width": 420
      }
     },
     "output_type": "display_data"
    },
    {
     "data": {
      "image/png": "[encoded data removed]",
      "text/plain": [
       "plot without title"
      ]
     },
     "metadata": {
      "image/png": {
       "height": 420,
       "width": 420
      }
     },
     "output_type": "display_data"
    }
   ],
   "source": [
    "set.seed(123)\n",
    "bootstrap_samples <- list()\n",
    "results <- data.frame()\n",
    "cal <- data.frame()\n",
    "N <- 2\n",
    "for (i in 1:N) {\n",
    "    bootstrap_sample <- dataset[sample(nrow(dataset), replace = TRUE), ]\n",
    "    bootstrap_samples[[i]] <- bootstrap_sample\n",
    "    train_data <- bootstrap_samples[[i]]\n",
    "    test_data <- dataset\n",
    "\n",
    "    predictors <- c('age', 'age_square', 'male', # 'BMI', 'SBP', \n",
    "                    # 'MI', 'HF', 'COPD', 'cancer', 'liver_disease', 'hypoglycemia', \n",
    "                    'TC_rcs_1', 'TC_rcs_2', 'TC_rcs_3', 'log_LDLC', \n",
    "                    'albuminuria_moderate', 'albuminuria_severe', \n",
    "                    'CKD_stage_G3a', 'CKD_stage_G3b', 'CKD_stage_G4',\n",
    "                    # 'No_outpatient', 'No_inpatient', \n",
    "                    # 'age_male', 'male_cancer', \n",
    "                    'male_CKD_stage_G3a', 'male_CKD_stage_G3b', 'male_CKD_stage_G4', \n",
    "                    'age_TC', 'age_BMI_TC')\n",
    "    \n",
    "    # 在训练集上进行模型训练并筛选最优模型 \n",
    "    formula <- Lasso_binary(data=train_data, binary_outcome=\"AKI_binary\", predictors = predictors, lambda = \"min\")\n",
    "    formula\n",
    "    \n",
    "    # model refit\n",
    "    train_model <- glm(as.formula(formula), data = train_data, family=binomial(link=\"logit\"))\n",
    "    \n",
    "    # 根据训练集所得的最优模型，在测试集上进行预测\n",
    "    pre <- predict(train_model, newdata=test_data, type=\"response\")\n",
    "    \n",
    "    # 在测试集上计算C统计量\n",
    "    binary_outcome <- \"AKI_binary\"\n",
    "    c_index <- round(somers2(pre, test_data[, binary_outcome])[\"C\"], 4)\n",
    "\n",
    "    # 在测试集上建立新模型并计算ROC\n",
    "    roc <- roc(test_data[, binary_outcome], pre)\n",
    "    AUC <- auc(roc)\n",
    "    \n",
    "    result <- data.frame(\n",
    "        no = i,\n",
    "        c_index = c_index,\n",
    "        AUC = round(AUC, 4)\n",
    "    )\n",
    "    results <- rbind(results, result)\n",
    "    \n",
    "    # 校准曲线\n",
    "    n_group <- 10\n",
    "    cal_data <- data.frame(AKI_binary=test_data[[binary_outcome]], pre)\n",
    "    cal_data <- cal_data[order(cal_data$pre),]\n",
    "    cal_data <- cal_data %>% \n",
    "            mutate(tiles = cut2(pre, g = n_group))\n",
    "            \n",
    "    cal_data <- cal_data %>% group_by(tiles) %>% summarise(n = n(),\n",
    "                      obs_sd = sd(AKI_binary),\n",
    "                      obs_mean = mean(AKI_binary),\n",
    "                      pred_mean = mean(pre),\n",
    "                      obs_upper = obs_mean + 1.96*obs_sd/sqrt(n()),\n",
    "                      obs_lower = obs_mean - 1.96*obs_sd/sqrt(n()))\n",
    "    cal_data <- cal_data %>% mutate(no = i)\n",
    "    cal <- rbind(cal, cal_data)\n",
    "}"
   ]
  },
  {
   "cell_type": "markdown",
   "id": "5446c814-f858-4df1-a3ce-7a19c086d94d",
   "metadata": {},
   "source": [
    "#### （1）C统计量"
   ]
  },
  {
   "cell_type": "code",
   "execution_count": 5,
   "id": "e8385efd-20b8-4335-9f0c-d330e74c6747",
   "metadata": {
    "tags": []
   },
   "outputs": [
    {
     "data": {
      "text/html": [
       "0.6134"
      ],
      "text/latex": [
       "0.6134"
      ],
      "text/markdown": [
       "0.6134"
      ],
      "text/plain": [
       "[1] 0.6134"
      ]
     },
     "metadata": {},
     "output_type": "display_data"
    }
   ],
   "source": [
    "mean(results[, \"c_index\"])"
   ]
  },
  {
   "cell_type": "markdown",
   "id": "416e357c-9e7b-41c5-8414-8dabe456572e",
   "metadata": {},
   "source": [
    "上述过程采用常规自助法（Bootstrap regular法）进行内部验证，自助抽样次数为2次，生成2个训练集，经2次LASSO回归筛选变量后拟合模型，在测试集上预测，计算的平均C统计量为0.6134，说明该方法得到的模型区分度较好。"
   ]
  },
  {
   "cell_type": "code",
   "execution_count": 6,
   "id": "d781d8cc-00d9-45af-b4aa-075116c0d31d",
   "metadata": {
    "tags": []
   },
   "outputs": [
    {
     "data": {
      "text/html": [
       "0.6134"
      ],
      "text/latex": [
       "0.6134"
      ],
      "text/markdown": [
       "0.6134"
      ],
      "text/plain": [
       "[1] 0.6134"
      ]
     },
     "metadata": {},
     "output_type": "display_data"
    }
   ],
   "source": [
    "mean(results[, \"AUC\"])"
   ]
  },
  {
   "cell_type": "markdown",
   "id": "38a24a1b-fe5d-49dc-afeb-591d77554bf2",
   "metadata": {},
   "source": [
    "同上，经LASSO回归筛选变量后得到的模型，采用常规自助法（Bootstrap regular法）进行内部验证，自助抽样次数为2次，计算的ROC曲线下面积AUC为0.6134，其等价于C统计量，说明该方法得到的模型区分度较好。"
   ]
  },
  {
   "cell_type": "markdown",
   "id": "0977943d-78d8-4886-916c-40fdfb1f9126",
   "metadata": {},
   "source": [
    "#### （2）校准曲线"
   ]
  },
  {
   "cell_type": "code",
   "execution_count": 7,
   "id": "dcdb8b99-5a58-4306-ada9-86dcbbea8f1c",
   "metadata": {
    "tags": []
   },
   "outputs": [
    {
     "data": {
      "image/png": "[encoded data removed]",
      "text/plain": [
       "plot without title"
      ]
     },
     "metadata": {
      "image/png": {
       "height": 420,
       "width": 420
      }
     },
     "output_type": "display_data"
    }
   ],
   "source": [
    "ggplot(cal, aes(x=pred_mean, y=obs_mean, group=as.factor(no), colour = as.factor(no))) +\n",
    "    geom_line() +\n",
    "    geom_point() +\n",
    "    geom_errorbar(aes(ymin=obs_lower, ymax=obs_upper), width=.005) +\n",
    "    geom_abline() +\n",
    "    xlab(\"Predicted incidence\") +\n",
    "    ylab(\"Observed incidence\") +\n",
    "    scale_x_continuous(limits = c(0, 1)) +\n",
    "    scale_y_continuous(limits = c(0, 1)) +\n",
    "    geom_point() + theme_bw()"
   ]
  },
  {
   "cell_type": "markdown",
   "id": "1265a54b-cad4-4f3b-b60e-32d2eaffa199",
   "metadata": {},
   "source": [
    "经LASSO回归筛选变量后得到的模型，采用常规自助法（Bootstrap regular法）进行内部验证，生成的校准曲线如上图所示。\n",
    "\n",
    "该图横轴对应预测结局概率，纵轴为实际观测概率，两条不同颜色的校准曲线代表2次自助抽样生成的两个训练集拟合模型后的预测结果，每条曲线有10个数据点代表所有预测样本的预测概率按十分位数划分为10份，各点的误差线代表实际观测概率的95%置信区间上下限。\n",
    "\n",
    "图中校准曲线沿对角线紧密贴合，波动程度较小，说明该方法所得模型校准度较好。"
   ]
  },
  {
   "cell_type": "markdown",
   "id": "b6bb76e8-c1a3-4c75-ba7b-7ab4daa75460",
   "metadata": {},
   "source": [
    "### 3.1.2 交叉验证法"
   ]
  },
  {
   "cell_type": "markdown",
   "id": "b1645bd5-81c0-4591-a022-76523f3e6cc8",
   "metadata": {},
   "source": [
    "#### 3.1.2.1 随机拆分验证法"
   ]
  },
  {
   "cell_type": "code",
   "execution_count": 8,
   "id": "f7b73484",
   "metadata": {
    "vscode": {
     "languageId": "r"
    }
   },
   "outputs": [],
   "source": [
    "# 将数据集进行拆分（例子：80％用于训练logit回归模型，20％用于评估模型性能）\n",
    "set.seed(123)\n",
    "training_samples <- sample(nrow(dataset), size = nrow(dataset)*0.8, replace = FALSE) # caret包中的createDataPartition函数可以用来做数据集划分\n",
    "train_data <- dataset[training_samples, ]\n",
    "test_data <- dataset[-training_samples, ]"
   ]
  },
  {
   "cell_type": "code",
   "execution_count": 9,
   "id": "e7b8bcba",
   "metadata": {
    "tags": [],
    "vscode": {
     "languageId": "r"
    }
   },
   "outputs": [
    {
     "data": {
      "image/png": "[encoded data removed]",
      "text/plain": [
       "plot without title"
      ]
     },
     "metadata": {
      "image/png": {
       "height": 420,
       "width": 420
      }
     },
     "output_type": "display_data"
    },
    {
     "name": "stdout",
     "output_type": "stream",
     "text": [
      "18 x 1 sparse Matrix of class \"dgCMatrix\"\n",
      "                                s1\n",
      "(Intercept)          -3.000917e+00\n",
      "age                   .           \n",
      "age_square            .           \n",
      "male                  3.341261e-01\n",
      "TC_rcs_1              .           \n",
      "TC_rcs_2              .           \n",
      "TC_rcs_3              .           \n",
      "log_LDLC              .           \n",
      "albuminuria_moderate -4.527284e-01\n",
      "albuminuria_severe   -1.972291e-01\n",
      "CKD_stage_G3a         .           \n",
      "CKD_stage_G3b         .           \n",
      "CKD_stage_G4          .           \n",
      "male_CKD_stage_G3a    .           \n",
      "male_CKD_stage_G3b    .           \n",
      "male_CKD_stage_G4     .           \n",
      "age_TC                2.099025e-03\n",
      "age_BMI_TC            7.171087e-06\n"
     ]
    },
    {
     "data": {
      "text/html": [
       "'AKI_binary ~ male + albuminuria_moderate + albuminuria_severe + age_TC + age_BMI_TC'"
      ],
      "text/latex": [
       "'AKI\\_binary \\textasciitilde{} male + albuminuria\\_moderate + albuminuria\\_severe + age\\_TC + age\\_BMI\\_TC'"
      ],
      "text/markdown": [
       "'AKI_binary ~ male + albuminuria_moderate + albuminuria_severe + age_TC + age_BMI_TC'"
      ],
      "text/plain": [
       "[1] \"AKI_binary ~ male + albuminuria_moderate + albuminuria_severe + age_TC + age_BMI_TC\""
      ]
     },
     "metadata": {},
     "output_type": "display_data"
    },
    {
     "name": "stderr",
     "output_type": "stream",
     "text": [
      "Setting levels: control = 0, case = 1\n",
      "\n",
      "Setting direction: controls < cases\n",
      "\n"
     ]
    },
    {
     "data": {
      "image/png": "[encoded data removed]",
      "text/plain": [
       "plot without title"
      ]
     },
     "metadata": {
      "image/png": {
       "height": 420,
       "width": 420
      }
     },
     "output_type": "display_data"
    }
   ],
   "source": [
    "results <- data.frame()\n",
    "cal <- data.frame()\n",
    "\n",
    "# 在训练集上进行模型训练并筛选最优模型 \n",
    "formula <- Lasso_binary(data=train_data, binary_outcome=\"AKI_binary\", predictors = predictors, lambda = \"min\")\n",
    "formula\n",
    "# model refit\n",
    "train_model <- glm(as.formula(formula), data = train_data, family=binomial(link=\"logit\"))\n",
    "\n",
    "# 根据训练集所得的最优模型，在测试集上进行预测\n",
    "pre <- predict(train_model, newdata=test_data, type=\"response\")\n",
    "\n",
    "# 在测试集上计算C统计量\n",
    "binary_outcome <- \"AKI_binary\"\n",
    "c_index <- round(somers2(pre, test_data[, binary_outcome])[\"C\"], 4)\n",
    "\n",
    "# 在测试集上建立新模型并计算ROC\n",
    "roc <- roc(test_data[, binary_outcome], pre)\n",
    "AUC <- auc(roc)\n",
    "\n",
    "result <- data.frame(\n",
    "    no = i,\n",
    "    c_index = c_index,\n",
    "    AUC = round(AUC, 4)\n",
    ")\n",
    "results <- rbind(results, result)\n",
    "\n",
    "# 校准曲线\n",
    "n_group <- 10\n",
    "cal_data <- data.frame(AKI_binary=test_data[[binary_outcome]], pre)\n",
    "cal_data <- cal_data[order(cal_data$pre),]\n",
    "cal_data <- cal_data %>% \n",
    "        mutate(tiles = cut2(pre, g = n_group))\n",
    "\n",
    "cal_data <- cal_data %>% group_by(tiles) %>% summarise(n = n(),\n",
    "                  obs_sd = sd(AKI_binary),\n",
    "                  obs_mean = mean(AKI_binary),\n",
    "                  pred_mean = mean(pre),\n",
    "                  obs_upper = obs_mean + 1.96*obs_sd/sqrt(n()),\n",
    "                  obs_lower = obs_mean - 1.96*obs_sd/sqrt(n()))\n",
    "cal_data <- cal_data %>% mutate(no = i)\n",
    "cal <- rbind(cal, cal_data)"
   ]
  },
  {
   "cell_type": "markdown",
   "id": "e01b7f75-32d3-4f64-8026-30e63a7bf93d",
   "metadata": {},
   "source": [
    "##### （1）C统计量"
   ]
  },
  {
   "cell_type": "code",
   "execution_count": 10,
   "id": "fdbe3dda",
   "metadata": {
    "tags": [],
    "vscode": {
     "languageId": "r"
    }
   },
   "outputs": [
    {
     "data": {
      "text/html": [
       "0.608"
      ],
      "text/latex": [
       "0.608"
      ],
      "text/markdown": [
       "0.608"
      ],
      "text/plain": [
       "[1] 0.608"
      ]
     },
     "metadata": {},
     "output_type": "display_data"
    }
   ],
   "source": [
    "mean(results[, \"c_index\"])"
   ]
  },
  {
   "cell_type": "markdown",
   "id": "f96680e3-18fe-4826-84a2-b48128c78502",
   "metadata": {},
   "source": [
    "上述过程采用交叉验证法（随机拆分验证法）进行内部验证，抽取80%样本作为训练集，剩余20%样本为测试集，最终，经LASSO回归筛选变量后得到的模型，计算的C统计量为0.608，说明区分度较好。"
   ]
  },
  {
   "cell_type": "markdown",
   "id": "6733f19c",
   "metadata": {},
   "source": [
    "##### （2）校准曲线"
   ]
  },
  {
   "cell_type": "code",
   "execution_count": 11,
   "id": "d9bfbb47-84a6-4212-b5cd-9c0160468399",
   "metadata": {
    "tags": []
   },
   "outputs": [
    {
     "data": {
      "image/png": "[encoded data removed]",
      "text/plain": [
       "plot without title"
      ]
     },
     "metadata": {
      "image/png": {
       "height": 420,
       "width": 420
      }
     },
     "output_type": "display_data"
    }
   ],
   "source": [
    "ggplot(cal, aes(x=pred_mean, y=obs_mean)) +\n",
    "    geom_line() +\n",
    "    geom_point() +\n",
    "    geom_errorbar(aes(ymin=obs_lower, ymax=obs_upper), width=.005) +\n",
    "    geom_abline() +\n",
    "    xlab(\"Predicted incidence\") +\n",
    "    ylab(\"Observed incidence\") +\n",
    "    scale_x_continuous(limits = c(0, 1)) +\n",
    "    scale_y_continuous(limits = c(0, 1)) +\n",
    "    geom_point() + theme_bw()"
   ]
  },
  {
   "cell_type": "markdown",
   "id": "38734d5c-8d27-4978-98f0-ecf5b0302682",
   "metadata": {},
   "source": [
    "经LASSO回归筛选变量后得到的模型，采用交叉验证法（随机拆分验证法）进行内部验证，生成的校准曲线如上图所示\n",
    "\n",
    "该图横轴对应预测结局概率，纵轴为实际观测概率，一条曲线有10个数据点代表所有预测样本的预测概率按十分位数划分为10份，各点的误差线代表实际观测概率的95%置信区间上下限。\n",
    "\n",
    "图中校准曲线沿对角线紧密贴合，波动程度较小，说明该方法所得模型校准度较好。"
   ]
  },
  {
   "cell_type": "markdown",
   "id": "48b23f65-e546-4855-bd79-4113e5f1a64f",
   "metadata": {},
   "source": [
    "#### 3.1.2.2 K折交叉验证（更为推荐）"
   ]
  },
  {
   "cell_type": "code",
   "execution_count": 12,
   "id": "31ad2c63-64c3-4e33-9c97-da74c8d2bacd",
   "metadata": {
    "tags": []
   },
   "outputs": [
    {
     "name": "stdout",
     "output_type": "stream",
     "text": [
      "18 x 1 sparse Matrix of class \"dgCMatrix\"\n",
      "                                s1\n",
      "(Intercept)          -2.814198e+00\n",
      "age                   .           \n",
      "age_square            .           \n",
      "male                  2.724390e-01\n",
      "TC_rcs_1              .           \n",
      "TC_rcs_2              .           \n",
      "TC_rcs_3              .           \n",
      "log_LDLC              .           \n",
      "albuminuria_moderate -6.176305e-01\n",
      "albuminuria_severe   -2.314442e-01\n",
      "CKD_stage_G3a         .           \n",
      "CKD_stage_G3b         .           \n",
      "CKD_stage_G4          .           \n",
      "male_CKD_stage_G3a    7.562135e-02\n",
      "male_CKD_stage_G3b    .           \n",
      "male_CKD_stage_G4     .           \n",
      "age_TC                1.279656e-03\n",
      "age_BMI_TC            2.144008e-05\n"
     ]
    },
    {
     "name": "stderr",
     "output_type": "stream",
     "text": [
      "Setting levels: control = 0, case = 1\n",
      "\n",
      "Setting direction: controls < cases\n",
      "\n"
     ]
    },
    {
     "data": {
      "image/png": "[encoded data removed]",
      "text/plain": [
       "plot without title"
      ]
     },
     "metadata": {
      "image/png": {
       "height": 420,
       "width": 420
      }
     },
     "output_type": "display_data"
    },
    {
     "data": {
      "image/png": "[encoded data removed]",
      "text/plain": [
       "plot without title"
      ]
     },
     "metadata": {
      "image/png": {
       "height": 420,
       "width": 420
      }
     },
     "output_type": "display_data"
    },
    {
     "name": "stdout",
     "output_type": "stream",
     "text": [
      "18 x 1 sparse Matrix of class \"dgCMatrix\"\n",
      "                                s1\n",
      "(Intercept)          -3.070355e+00\n",
      "age                   .           \n",
      "age_square           -1.184560e-06\n",
      "male                  3.068670e-01\n",
      "TC_rcs_1              1.813474e-03\n",
      "TC_rcs_2              .           \n",
      "TC_rcs_3             -1.980832e-02\n",
      "log_LDLC              4.454635e-03\n",
      "albuminuria_moderate -5.542970e-01\n",
      "albuminuria_severe   -2.357611e-01\n",
      "CKD_stage_G3a        -2.141513e-01\n",
      "CKD_stage_G3b         .           \n",
      "CKD_stage_G4         -6.001167e-01\n",
      "male_CKD_stage_G3a    1.478743e-01\n",
      "male_CKD_stage_G3b    .           \n",
      "male_CKD_stage_G4     7.077730e-01\n",
      "age_TC                2.361595e-03\n",
      "age_BMI_TC            2.966822e-05\n"
     ]
    },
    {
     "name": "stderr",
     "output_type": "stream",
     "text": [
      "Setting levels: control = 0, case = 1\n",
      "\n",
      "Setting direction: controls < cases\n",
      "\n"
     ]
    },
    {
     "data": {
      "image/png": "[encoded data removed]",
      "text/plain": [
       "plot without title"
      ]
     },
     "metadata": {
      "image/png": {
       "height": 420,
       "width": 420
      }
     },
     "output_type": "display_data"
    },
    {
     "data": {
      "image/png": "[encoded data removed]",
      "text/plain": [
       "plot without title"
      ]
     },
     "metadata": {
      "image/png": {
       "height": 420,
       "width": 420
      }
     },
     "output_type": "display_data"
    },
    {
     "name": "stdout",
     "output_type": "stream",
     "text": [
      "18 x 1 sparse Matrix of class \"dgCMatrix\"\n",
      "                                s1\n",
      "(Intercept)          -3.048658e+00\n",
      "age                   .           \n",
      "age_square            .           \n",
      "male                  3.591496e-01\n",
      "TC_rcs_1              .           \n",
      "TC_rcs_2              .           \n",
      "TC_rcs_3              .           \n",
      "log_LDLC              .           \n",
      "albuminuria_moderate -4.108081e-01\n",
      "albuminuria_severe   -1.180483e-01\n",
      "CKD_stage_G3a         .           \n",
      "CKD_stage_G3b         .           \n",
      "CKD_stage_G4         -1.426021e-03\n",
      "male_CKD_stage_G3a    4.268031e-02\n",
      "male_CKD_stage_G3b    .           \n",
      "male_CKD_stage_G4     .           \n",
      "age_TC                1.991294e-03\n",
      "age_BMI_TC            1.669897e-05\n"
     ]
    },
    {
     "name": "stderr",
     "output_type": "stream",
     "text": [
      "Setting levels: control = 0, case = 1\n",
      "\n",
      "Setting direction: controls < cases\n",
      "\n"
     ]
    },
    {
     "data": {
      "image/png": "[encoded data removed]",
      "text/plain": [
       "plot without title"
      ]
     },
     "metadata": {
      "image/png": {
       "height": 420,
       "width": 420
      }
     },
     "output_type": "display_data"
    },
    {
     "data": {
      "image/png": "[encoded data removed]",
      "text/plain": [
       "plot without title"
      ]
     },
     "metadata": {
      "image/png": {
       "height": 420,
       "width": 420
      }
     },
     "output_type": "display_data"
    },
    {
     "name": "stdout",
     "output_type": "stream",
     "text": [
      "18 x 1 sparse Matrix of class \"dgCMatrix\"\n",
      "                                s1\n",
      "(Intercept)          -3.005038e+00\n",
      "age                   .           \n",
      "age_square            .           \n",
      "male                  3.890615e-01\n",
      "TC_rcs_1              .           \n",
      "TC_rcs_2              .           \n",
      "TC_rcs_3              .           \n",
      "log_LDLC              .           \n",
      "albuminuria_moderate -5.953714e-01\n",
      "albuminuria_severe   -2.036366e-01\n",
      "CKD_stage_G3a        -2.026747e-02\n",
      "CKD_stage_G3b         2.816398e-02\n",
      "CKD_stage_G4          .           \n",
      "male_CKD_stage_G3a    5.550768e-02\n",
      "male_CKD_stage_G3b    .           \n",
      "male_CKD_stage_G4     .           \n",
      "age_TC                1.308910e-03\n",
      "age_BMI_TC            3.495001e-05\n"
     ]
    },
    {
     "name": "stderr",
     "output_type": "stream",
     "text": [
      "Setting levels: control = 0, case = 1\n",
      "\n",
      "Setting direction: controls < cases\n",
      "\n"
     ]
    },
    {
     "data": {
      "image/png": "[encoded data removed]",
      "text/plain": [
       "plot without title"
      ]
     },
     "metadata": {
      "image/png": {
       "height": 420,
       "width": 420
      }
     },
     "output_type": "display_data"
    },
    {
     "data": {
      "image/png": "[encoded data removed]",
      "text/plain": [
       "plot without title"
      ]
     },
     "metadata": {
      "image/png": {
       "height": 420,
       "width": 420
      }
     },
     "output_type": "display_data"
    },
    {
     "name": "stdout",
     "output_type": "stream",
     "text": [
      "18 x 1 sparse Matrix of class \"dgCMatrix\"\n",
      "                                s1\n",
      "(Intercept)           3.123481e+00\n",
      "age                  -7.723350e-02\n",
      "age_square           -3.911893e-05\n",
      "male                  2.536539e-01\n",
      "TC_rcs_1             -1.423540e+00\n",
      "TC_rcs_2              1.036213e-01\n",
      "TC_rcs_3             -4.686652e-01\n",
      "log_LDLC              7.137598e-02\n",
      "albuminuria_moderate -7.829747e-01\n",
      "albuminuria_severe   -3.608522e-01\n",
      "CKD_stage_G3a        -2.927070e-01\n",
      "CKD_stage_G3b        -2.839008e-02\n",
      "CKD_stage_G4         -5.930316e-01\n",
      "male_CKD_stage_G3a    3.633881e-01\n",
      "male_CKD_stage_G3b    5.724734e-02\n",
      "male_CKD_stage_G4     7.772983e-01\n",
      "age_TC                1.858687e-02\n",
      "age_BMI_TC            3.539786e-06\n"
     ]
    },
    {
     "name": "stderr",
     "output_type": "stream",
     "text": [
      "Setting levels: control = 0, case = 1\n",
      "\n",
      "Setting direction: controls < cases\n",
      "\n"
     ]
    },
    {
     "data": {
      "image/png": "[encoded data removed]",
      "text/plain": [
       "plot without title"
      ]
     },
     "metadata": {
      "image/png": {
       "height": 420,
       "width": 420
      }
     },
     "output_type": "display_data"
    },
    {
     "data": {
      "image/png": "[encoded data removed]",
      "text/plain": [
       "plot without title"
      ]
     },
     "metadata": {
      "image/png": {
       "height": 420,
       "width": 420
      }
     },
     "output_type": "display_data"
    }
   ],
   "source": [
    "folds <- createFolds(y=dataset[,\"AKI_binary\"], k=5)\n",
    "results <- data.frame()\n",
    "cal <- data.frame()\n",
    "\n",
    "for(i in 1:5){\n",
    "    train_data <- dataset[-folds[[i]],] \n",
    "    test_data <- dataset[folds[[i]],] \n",
    "    \n",
    "    predictors <- c('age', 'age_square', 'male', # 'BMI', 'SBP', \n",
    "                    # 'MI', 'HF', 'COPD', 'cancer', 'liver_disease', 'hypoglycemia', \n",
    "                    'TC_rcs_1', 'TC_rcs_2', 'TC_rcs_3', 'log_LDLC', \n",
    "                    'albuminuria_moderate', 'albuminuria_severe', \n",
    "                    'CKD_stage_G3a', 'CKD_stage_G3b', 'CKD_stage_G4',\n",
    "                    # 'No_outpatient', 'No_inpatient', \n",
    "                    # 'age_male', 'male_cancer', \n",
    "                    'male_CKD_stage_G3a', 'male_CKD_stage_G3b', 'male_CKD_stage_G4', \n",
    "                    'age_TC', 'age_BMI_TC')\n",
    "    \n",
    "    # 在训练集上进行模型训练并筛选最优模型 \n",
    "    formula <- Lasso_binary(data=train_data, binary_outcome=\"AKI_binary\", predictors = predictors, lambda = \"min\")\n",
    "    formula\n",
    "    \n",
    "    # model refit\n",
    "    train_model <- glm(as.formula(formula), data = train_data, family=binomial(link=\"logit\"))\n",
    "    \n",
    "    # 根据训练集所得的最优模型，在测试集上进行预测\n",
    "    pre <- predict(train_model, newdata=test_data, type=\"response\")\n",
    "    \n",
    "    # 在测试集上计算C统计量\n",
    "    binary_outcome <- \"AKI_binary\"\n",
    "    c_index <- round(somers2(pre, test_data[, binary_outcome])[\"C\"], 4)\n",
    "\n",
    "    # 在测试集上建立新模型并计算ROC\n",
    "    roc <- roc(test_data[, binary_outcome], pre)\n",
    "    AUC <- auc(roc)\n",
    "    \n",
    "    result <- data.frame(\n",
    "        no = i,\n",
    "        c_index = c_index,\n",
    "        AUC = round(AUC, 4)\n",
    "    )\n",
    "    results <- rbind(results, result)\n",
    "    \n",
    "    # 校准曲线\n",
    "    n_group <- 10\n",
    "    cal_data <- data.frame(AKI_binary=test_data[[binary_outcome]], pre)\n",
    "    cal_data <- cal_data[order(cal_data$pre),]\n",
    "    cal_data <- cal_data %>% \n",
    "            mutate(tiles = cut2(pre, g = n_group))\n",
    "            \n",
    "    cal_data <- cal_data %>% group_by(tiles) %>% summarise(n = n(),\n",
    "                      obs_sd = sd(AKI_binary),\n",
    "                      obs_mean = mean(AKI_binary),\n",
    "                      pred_mean = mean(pre),\n",
    "                      obs_upper = obs_mean + 1.96*obs_sd/sqrt(n()),\n",
    "                      obs_lower = obs_mean - 1.96*obs_sd/sqrt(n()))\n",
    "    cal_data <- cal_data %>% mutate(no = i)\n",
    "    cal <- rbind(cal, cal_data)\n",
    "}"
   ]
  },
  {
   "cell_type": "markdown",
   "id": "a1f89469-2a69-4660-8ec2-5d1b6ef9429c",
   "metadata": {},
   "source": [
    "##### （1）C统计量"
   ]
  },
  {
   "cell_type": "code",
   "execution_count": 13,
   "id": "31bf87ba-76e7-4672-b0ea-498dfb1cf81d",
   "metadata": {
    "tags": [],
    "vscode": {
     "languageId": "r"
    }
   },
   "outputs": [
    {
     "data": {
      "text/html": [
       "0.60002"
      ],
      "text/latex": [
       "0.60002"
      ],
      "text/markdown": [
       "0.60002"
      ],
      "text/plain": [
       "[1] 0.60002"
      ]
     },
     "metadata": {},
     "output_type": "display_data"
    }
   ],
   "source": [
    "mean(results[, \"c_index\"])"
   ]
  },
  {
   "cell_type": "markdown",
   "id": "2c5fa3ff-a329-4c55-9045-b8d5c7cf4b18",
   "metadata": {},
   "source": [
    "上述过程采用交叉验证法（5折交叉验证）进行内部验证，原数据集被拆为5个子集，轮流作为测试集与其他情况下的训练集，经5次LASSO回归筛选变量后拟合模型，计算的平均C统计量为0.60002，说明该方法得到的模型区分度较好。"
   ]
  },
  {
   "cell_type": "markdown",
   "id": "3aec4ae5-cd2a-49e2-b45b-20dc2b0d1bce",
   "metadata": {},
   "source": [
    "##### （2）校准曲线"
   ]
  },
  {
   "cell_type": "code",
   "execution_count": 14,
   "id": "71cee61d-1adf-4018-972c-235457e0b49c",
   "metadata": {
    "tags": []
   },
   "outputs": [
    {
     "data": {
      "image/png": "[encoded data removed]",
      "text/plain": [
       "plot without title"
      ]
     },
     "metadata": {
      "image/png": {
       "height": 420,
       "width": 420
      }
     },
     "output_type": "display_data"
    }
   ],
   "source": [
    "ggplot(cal, aes(x=pred_mean, y=obs_mean, group=as.factor(no), colour = as.factor(no))) +\n",
    "    geom_line() +\n",
    "    geom_point() +\n",
    "    geom_errorbar(aes(ymin=obs_lower, ymax=obs_upper), width=.005) +\n",
    "    geom_abline() +\n",
    "    xlab(\"Predicted incidence\") +\n",
    "    ylab(\"Observed incidence\") +\n",
    "    scale_x_continuous(limits = c(0, 1)) +\n",
    "    scale_y_continuous(limits = c(0, 1)) + \n",
    "    geom_point() + theme_bw()"
   ]
  },
  {
   "cell_type": "markdown",
   "id": "3df4c49a-cba1-49dc-8c55-60c8e104988c",
   "metadata": {},
   "source": [
    "经LASSO回归筛选变量后得到的模型，采用交叉验证法（5折交叉验证）进行内部验证，生成的校准曲线如上图所示。\n",
    "\n",
    "该图横轴对应预测结局概率，纵轴为实际观测概率，5条不同颜色的校准曲线代表拆分成的5个子集轮流作为测试集与训练集之一、经5次拟合模型后的预测结果，每条曲线有10个数据点代表所有预测样本的预测概率按十分位数划分为10份，各点的误差线代表实际观测概率的95%置信区间上下限。\n",
    "\n",
    "图中所有校准曲线沿对角线紧密贴合，波动程度较小，说明该方法所得模型校准度较好。"
   ]
  },
  {
   "cell_type": "markdown",
   "id": "83cd4659-27d1-42a9-9455-edffe78b6c65",
   "metadata": {},
   "source": [
    "## 3.2 外部验证"
   ]
  },
  {
   "cell_type": "markdown",
   "id": "6d2e6d99-658e-49ba-9737-66be7f51c4ef",
   "metadata": {},
   "source": [
    "### 应用别人文章的里面的模型"
   ]
  },
  {
   "cell_type": "code",
   "execution_count": 15,
   "id": "ab5bb78c-24f8-48ce-b454-39d3eb9a16ca",
   "metadata": {},
   "outputs": [],
   "source": [
    "pre <- function (beta0, beta, predictors, data) {\n",
    "    design_matrix <- as.matrix(data[,predictors])\n",
    "    score <-  design_matrix %*% as.matrix(beta) + beta0\n",
    "    pre <- exp(score) / (1 + exp(score))\n",
    "    return(pre)\n",
    "}"
   ]
  },
  {
   "cell_type": "markdown",
   "id": "def20fc1-764c-410e-8528-b471e7ac96e0",
   "metadata": {},
   "source": [
    "### 自己筛选的模型"
   ]
  },
  {
   "cell_type": "code",
   "execution_count": 16,
   "id": "41723d99-fcd6-48fe-9136-850b9961a9cd",
   "metadata": {
    "tags": []
   },
   "outputs": [
    {
     "data": {
      "text/plain": [
       "AKI_binary ~ age + age_square + male + TC_rcs_1 + TC_rcs_2 + \n",
       "    TC_rcs_3 + albuminuria_moderate + albuminuria_severe + CKD_stage_G3a + \n",
       "    CKD_stage_G3b + CKD_stage_G4 + male_CKD_stage_G3a + male_CKD_stage_G3b + \n",
       "    male_CKD_stage_G4 + age_TC + age_BMI_TC"
      ]
     },
     "metadata": {},
     "output_type": "display_data"
    }
   ],
   "source": [
    "# 根据lasso回归筛选的变量并通过model refit得到的模型\n",
    "formula(train_model_lasso_refit)"
   ]
  },
  {
   "cell_type": "code",
   "execution_count": 17,
   "id": "8c97e4f5-508d-4272-9462-09831c7e38e8",
   "metadata": {
    "tags": []
   },
   "outputs": [],
   "source": [
    "# model refit得到的模型在外部测试集上进行预测\n",
    "pre <- predict(train_model_lasso_refit, newdata = dataset_external, type = \"response\")"
   ]
  },
  {
   "cell_type": "markdown",
   "id": "8a7c0e44-54e2-4710-b4d1-754ece6738f5",
   "metadata": {},
   "source": [
    "### （1）C统计量（区分度）"
   ]
  },
  {
   "cell_type": "code",
   "execution_count": 18,
   "id": "8875a309-eb4b-4924-8cbf-4eaa2e35e774",
   "metadata": {
    "tags": []
   },
   "outputs": [
    {
     "data": {
      "text/html": [
       "<strong>C:</strong> 0.6159"
      ],
      "text/latex": [
       "\\textbf{C:} 0.6159"
      ],
      "text/markdown": [
       "**C:** 0.6159"
      ],
      "text/plain": [
       "     C \n",
       "0.6159 "
      ]
     },
     "metadata": {},
     "output_type": "display_data"
    }
   ],
   "source": [
    "# 在测试集上计算C统计量\n",
    "binary_outcome <- \"AKI_binary\"\n",
    "c_index <- round(somers2(pre, dataset_external[, binary_outcome])[\"C\"], 4)\n",
    "c_index"
   ]
  },
  {
   "cell_type": "markdown",
   "id": "c4bd3879-2a1f-4d97-9a2e-4f0a02971c29",
   "metadata": {},
   "source": [
    "在训练集上经LASSO回归筛选变量并重新拟合后的模型，在外部测试集上预测得到的C统计量为0.6159，说明区分度较好。"
   ]
  },
  {
   "cell_type": "markdown",
   "id": "455c5fa9-d621-4710-9061-98b5dc7c84e5",
   "metadata": {},
   "source": [
    "### （2）校准曲线（校准度）"
   ]
  },
  {
   "cell_type": "code",
   "execution_count": 19,
   "id": "6143b163-9762-47d4-bdd2-630b1c06a53e",
   "metadata": {
    "tags": []
   },
   "outputs": [],
   "source": [
    "# 校准曲线\n",
    "n_group <- 10\n",
    "cal_data <- data.frame(AKI_binary=dataset_external[[binary_outcome]], pre)\n",
    "cal_data <- cal_data[order(cal_data$pre),]\n",
    "cal_data <- cal_data %>% mutate(tiles = cut2(pre, g = n_group))\n",
    "cal_data <- cal_data %>% group_by(tiles) %>% summarise(n = n(),\n",
    "                  obs_sd = sd(AKI_binary),\n",
    "                  obs_mean = mean(AKI_binary),\n",
    "                  pred_mean = mean(pre),\n",
    "                  obs_upper = obs_mean + 1.96*obs_sd/sqrt(n()),\n",
    "                  obs_lower = obs_mean - 1.96*obs_sd/sqrt(n()))"
   ]
  },
  {
   "cell_type": "code",
   "execution_count": 20,
   "id": "7798cba5-ea1b-4ba9-8895-968f6b50b484",
   "metadata": {
    "tags": []
   },
   "outputs": [
    {
     "data": {
      "image/png": "[encoded data removed]",
      "text/plain": [
       "plot without title"
      ]
     },
     "metadata": {
      "image/png": {
       "height": 420,
       "width": 420
      }
     },
     "output_type": "display_data"
    }
   ],
   "source": [
    "ggplot(cal_data, aes(x=pred_mean, y=obs_mean)) +\n",
    "    geom_line() +\n",
    "    geom_point() +\n",
    "    geom_errorbar(aes(ymin=obs_lower, ymax=obs_upper), width=.02) +\n",
    "    geom_abline() +\n",
    "    xlab(\"Predicted incidence\") +\n",
    "    ylab(\"Observed incidence\") +\n",
    "    scale_x_continuous(limits = c(0, 1)) +\n",
    "    scale_y_continuous(limits = c(0, 1)) +\n",
    "    geom_point() + theme_bw()"
   ]
  },
  {
   "cell_type": "markdown",
   "id": "b2c69c97-e041-483e-85e1-2c7e7215ae57",
   "metadata": {},
   "source": [
    "在训练集上经LASSO回归筛选变量并重新拟合后的模型，在外部测试集上计算得到的校准曲线如图所示。\n",
    "\n",
    "该图横轴对应预测结局概率，纵轴为实际观测概率，10个数据点代表所有预测样本的预测概率按十分位数划分为10份，各点的误差线代表实际观测概率的95%置信区间上下限。\n",
    "\n",
    "图中所有校准曲线沿对角线紧密贴合，波动程度较小，说明该方法所得模型校准度较好。"
   ]
  },
  {
   "cell_type": "markdown",
   "id": "9860c522-53bf-42b8-a477-9f4c57d5e1fb",
   "metadata": {},
   "source": [
    "### （3）决策曲线"
   ]
  },
  {
   "cell_type": "code",
   "execution_count": 21,
   "id": "e1fe0fd2",
   "metadata": {
    "vscode": {
     "languageId": "r"
    }
   },
   "outputs": [
    {
     "name": "stderr",
     "output_type": "stream",
     "text": [
      "Warning message:\n",
      "\"\u001b[1m\u001b[22mRemoved 389 rows containing missing values (`geom_line()`).\"\n"
     ]
    },
    {
     "data": {
      "image/png": "[encoded data removed]",
      "text/plain": [
       "plot without title"
      ]
     },
     "metadata": {
      "image/png": {
       "height": 420,
       "width": 420
      }
     },
     "output_type": "display_data"
    }
   ],
   "source": [
    "train_model <- glm(formula(train_model_lasso_refit), data = dataset, family = binomial(link = \"logit\"))\n",
    "pre <- predict(train_model, newdata = dataset_external, type = \"response\")\n",
    "test_model <- glm(AKI_binary ~ pre, data = dataset_external, family=binomial(link=\"logit\"))\n",
    "dca_plot <- ggDCA::dca(test_model)\n",
    "ggplot(dca_plot)"
   ]
  },
  {
   "cell_type": "markdown",
   "id": "079934b3-fd83-4e73-b0a8-86231ec7096c",
   "metadata": {},
   "source": [
    "在训练集上经LASSO回归筛选变量并重新拟合后的模型，在外部测试集上计算得到的决策曲线如图所示。\n",
    "\n",
    "该图横轴代表阈概率，纵轴代表净获益，“All”参考线与“None”参考线分别代表所有的患者均纳入干预与均不纳入干预时各阈概率下的净获益水平。\n",
    "\n",
    "可见，阈概率在约＜0.15的水平下时，该模型存在一定获益。"
   ]
  },
  {
   "cell_type": "code",
   "execution_count": 22,
   "id": "2a4d24ec",
   "metadata": {
    "vscode": {
     "languageId": "r"
    }
   },
   "outputs": [
    {
     "name": "stderr",
     "output_type": "stream",
     "text": [
      "Warning message:\n",
      "\"\u001b[1m\u001b[22mRemoved 2951 rows containing missing values (`geom_line()`).\"\n"
     ]
    },
    {
     "data": {
      "image/png": "[encoded data removed]",
      "text/plain": [
       "plot without title"
      ]
     },
     "metadata": {
      "image/png": {
       "height": 420,
       "width": 420
      }
     },
     "output_type": "display_data"
    }
   ],
   "source": [
    "# 自己写一个\n",
    "train_model <- glm(formula(train_model_lasso_refit), data = dataset, family = binomial(link = \"logit\"))\n",
    "pred1 <- predict(train_model, type = \"response\")\n",
    "dataset$pred1 <- pred1\n",
    "\n",
    "pred <- predict(train_model, newdata = dataset_external, type = \"response\")\n",
    "dataset_external$pred <- pred\n",
    "\n",
    "pt <- sort(unique(c(pred, pred1)))\n",
    "results <- data.frame()\n",
    "results_train <- data.frame()\n",
    "results_test <- data.frame()\n",
    "results_null <- data.frame()\n",
    "results_all <- data.frame()\n",
    "\n",
    "results_null <- data.frame(\n",
    "        threshold_probability = pt,\n",
    "        net_benifit = 0,\n",
    "        model = \"Null\"\n",
    ")\n",
    "\n",
    "results_all <- lapply(pt, function(x) {\n",
    "    temp <- dataset_external\n",
    "    TP <- sum(temp$AKI_binary == 1)\n",
    "    FP <- sum(temp$AKI_binary == 0)\n",
    "    weightingfactor <- x / (1 - x)\n",
    "    netbenefit <- TP / nrow(temp) - FP / nrow(temp) * weightingfactor\n",
    "    data.frame(\n",
    "        threshold_probability = x,\n",
    "        net_benifit = netbenefit,\n",
    "        model = \"All\"\n",
    "    )\n",
    "})\n",
    "results_all <- do.call(rbind, results_all)\n",
    "\n",
    "results_test <- lapply(pt, function(x) {\n",
    "    temp <- dataset_external\n",
    "    TP <- sum(temp$pred >= x & temp$AKI_binary == 1)\n",
    "    FP <- sum(temp$pred >= x & temp$AKI_binary == 0)\n",
    "    weightingfactor <- x/(1 - x)\n",
    "    netbenefit <- TP / nrow(temp) - FP / nrow(temp) * weightingfactor\n",
    "    \n",
    "    data.frame(\n",
    "        threshold_probability = x,\n",
    "        net_benifit = netbenefit,\n",
    "        model = \"test_model\"\n",
    "    )\n",
    "})\n",
    "results_test <- do.call(rbind, results_test)\n",
    "\n",
    "pt1 <- sort(unique(pred1))\n",
    "results_train <- lapply(pt1, function(x) {\n",
    "    temp <- dataset\n",
    "    TP <- sum(temp$pred1 >= x & temp$AKI_binary == 1)\n",
    "    FP <- sum(temp$pred1 >= x & temp$AKI_binary == 0)\n",
    "    weightingfactor <- x / (1 - x)\n",
    "    netbenefit <- TP / nrow(temp) - FP / nrow(temp) * weightingfactor\n",
    "    \n",
    "    data.frame(\n",
    "        threshold_probability = x,\n",
    "        net_benifit = netbenefit,\n",
    "        model = \"train_model\"\n",
    "    )\n",
    "})\n",
    "results_train <- do.call(rbind, results_train)\n",
    "\n",
    "results <- rbind(results_null, results_all, results_train, results_test)\n",
    "\n",
    "ggplot(results, aes(x = threshold_probability, y = net_benifit, group = model, colour = model),) + \n",
    "    geom_line() +\n",
    "    scale_y_continuous(limits=c(-0.01, 0.1), n.breaks = 10) + \n",
    "    theme_bw()"
   ]
  },
  {
   "cell_type": "code",
   "execution_count": 23,
   "id": "bd8049f0-a7d1-4874-80ea-4d5262a0657f",
   "metadata": {},
   "outputs": [],
   "source": [
    "save.image(\"model_validation_binary_workspace.Rdata\")"
   ]
  },
  {
   "cell_type": "markdown",
   "id": "37ac0f9d-6313-4ad0-98a1-3e9e0f1e37e4",
   "metadata": {},
   "source": [
    "在训练集上经LASSO回归筛选变量并重新拟合后的模型，在原始训练集和外部测试集上分别进行预测，计算得到的决策曲线如图所示。\n",
    "\n",
    "该图横轴代表阈概率，纵轴代表净获益，“All”参考线与“Null”参考线分别代表所有的患者均纳入干预与均不纳入干预时各阈概率下的净获益水平。\n",
    "\n",
    "可见，阈概率在约＜0.15的水平下时，该模型存在一定获益；在约＜0.12的水平下时，该模型在训练集进行预测显现出的净获益水平更好。"
   ]
  }
 ],
 "metadata": {
  "kernelspec": {
   "display_name": "R",
   "language": "R",
   "name": "ir"
  },
  "language_info": {
   "codemirror_mode": "r",
   "file_extension": ".r",
   "mimetype": "text/x-r-source",
   "name": "R",
   "pygments_lexer": "r",
   "version": "4.1.3"
  }
 },
 "nbformat": 4,
 "nbformat_minor": 5
}
