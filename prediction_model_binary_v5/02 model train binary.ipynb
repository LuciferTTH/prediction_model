{
 "cells": [
  {
   "cell_type": "markdown",
   "id": "3d318b93-e851-40c3-8f3b-3ae4a996c2fa",
   "metadata": {},
   "source": [
    "# 1.Background （背景）"
   ]
  },
  {
   "cell_type": "markdown",
   "id": "c248a4bc-c45b-41b3-9f5e-826a85ca94d4",
   "metadata": {},
   "source": [
    "临床结局一般是多因素共同作用的结果，在模型构建时，变量间常存在各种各样的关系，单因素分析由于无法考虑各变量之间的关系，结果往往不可靠，我们常常采用的解决方案是多因素的回归分析。在进行多因素的回归分析时，如何合理地进行变量筛选从而构建最佳模型是不可避免的问题。"
   ]
  },
  {
   "cell_type": "markdown",
   "id": "cb26f1c8-4cb0-4d09-92da-0970c76662b7",
   "metadata": {},
   "source": [
    "# 2.筛选方法和函数"
   ]
  },
  {
   "cell_type": "markdown",
   "id": "946385af-92c6-4376-8aa9-580ff04edcda",
   "metadata": {},
   "source": [
    "Bestsubset_survivalWhen we build a prediction model, in nature, what we would like to do is to find a function $f()$ to make $Y=f(\\mathbf{X}, \\epsilon)$. The function $f()$ can be enumerous. Thus, The key step of prediction model building is to make some reasonable assumptions about the function form of $f()$, and these assumptions are called the hypothesis space of $f()$.\n",
    "\n",
    "当我们构建预测模型时，我们想去找到一个函数 $f()$ 使得 $Y=f(\\mathbf{X}, \\epsilon)$，函数 $f()$ 是多种多样的。因此，构建预测模型的关键步骤是对 $f()$ 的函数形式做出一些合理的假设，这些假设就称为 $f()$ 的假设空间"
   ]
  },
  {
   "cell_type": "markdown",
   "id": "8848cea7-7050-4d1b-9870-c7edf4265854",
   "metadata": {},
   "source": [
    "Hypothesis space of linear function ($f(\\mathbf{X}, \\epsilon)=\\mathbf{X} \\cdot \\beta^{T} + \\epsilon$)\n"
   ]
  },
  {
   "cell_type": "markdown",
   "id": "f4523788-6096-4a0c-abc7-5b006a41e8dc",
   "metadata": {},
   "source": [
    "线性函数的假设空间为 $f(\\mathbf{X}, \\epsilon)=\\mathbf{X} \\cdot \\beta^{T} + \\epsilon$"
   ]
  },
  {
   "cell_type": "markdown",
   "id": "2d7e7fdb-af0d-4bef-9854-29b42e72a685",
   "metadata": {
    "tags": []
   },
   "source": [
    "## 2.1 Without additional restrictions（无额外限制条件的变量筛选方法）"
   ]
  },
  {
   "cell_type": "markdown",
   "id": "ab4edccb-5d6f-4233-8c7f-4123982dbdf8",
   "metadata": {},
   "source": [
    "When we assume the hypothesis space is a space of linear function without any additional restriction. The key question now is to find the optimal combination of candicate predictors from the candidate predictor pool. During the process of finding the optimal combination, we have different searching strategies, each one of them is only a trade-off between complexity and best optimism. Basically, there are two types of searching strategies as follows.\n",
    "\n",
    "当我们假定该假设空间是一个无额外限制的线性函数空间时，关键问题就是从预测变量池中寻找候选预测变量的最佳组合。我们在寻找最佳模型的过程中有不同的模型变量筛选方法，但每一种方法仅是对模型复杂性和最优组合之间的权衡。以下将介绍两种常见的模型变量筛选方法\n",
    ">- 最优子集筛选法（best subset selection）\n",
    ">- 逐步选择法（stepwise selection）\n",
    ">>- 前进法（forward stepwise selection）\n",
    ">>- 后退法（backward stepwise selection）"
   ]
  },
  {
   "cell_type": "markdown",
   "id": "398c1d54-67b6-41c8-adb0-664613498392",
   "metadata": {},
   "source": [
    "### 2.1.1 最优子集法（Best subset selection）"
   ]
  },
  {
   "cell_type": "markdown",
   "id": "b52d43eb-51b4-4ed9-ac78-f1199e6acefb",
   "metadata": {},
   "source": [
    "1. Let $M_{0}$ denote the null model, which contains no predictors;\n",
    "2. For $k = 1, 2, \\cdots, p$\n",
    ">- Fit all ${p \\choose k}$ models that contain exactly $k$ predictors;\n",
    ">- Pick the best among these ${p \\choose k}$ models, and call it $M_{k}$; Here <span style=\"color:red\">best</span> is defined as having the smallest deviance ($D=-2l(0)$, for linear model, deviance is equal to residual sum of squares [RSS]), or equivalently the largest $R^{2}$ (coefficient of determination, $R^{2}=1-\\frac{SSR}{SST}$, generalized $R^{2}=1-(\\frac{l(0)}{l(\\hat{\\beta})})^{2/n}$);\n",
    "3. Select a single best model from among $M_{0}, \\cdots, M_{p}$ using cross-validated prediction error, AIC, BIC, ...;"
   ]
  },
  {
   "cell_type": "markdown",
   "id": "23bc8b90-e579-4a48-8baf-e0197eef9411",
   "metadata": {},
   "source": [
    "1. 记 $M_{0}$ 为空模型，该模型中无预测变量，只存在截距项；\n",
    "2. 对于 $k = 1, 2, \\cdots, p$：\n",
    ">- 选取所有 ${p \\choose k}$ 个包含k个自变量的模型进行拟合；\n",
    ">- 从 ${p \\choose k}$ 个模型中选择最优模型，记为$M_{k}$。因为${p \\choose k}$个模型的自变量数均为k，所以此处最优模型可以通过最小的方差[$D=-2l(0)$，对于线性模型而言，方差等同于残差平方和(RSS)]，或最大的 $R^{2}$ [决定系数, $R^{2}=1-\\frac{SSR}{SST}$, 广义 $R^{2}=1-(\\frac{l(0)}{l(\\hat{\\beta})})^{2/n}$]选取。\n",
    "3. 从 $M_{0}, \\cdots, M_{p}$ 中选择一个最优模型，选取标准包括交叉验证的预测误差、AIC、BIC等。"
   ]
  },
  {
   "cell_type": "code",
   "execution_count": 1,
   "id": "edf287de-08e7-46fe-a53b-014fb74ee51b",
   "metadata": {
    "tags": []
   },
   "outputs": [],
   "source": [
    "# Install required packages and library them\n",
    "packages <- c(\"dplyr\",\n",
    "              \"glmnet\",\n",
    "              \"StepReg\",\n",
    "              \"plyr\")\n",
    "\n",
    "for (i in packages) {\n",
    "    if (!suppressMessages(require(i, character.only = TRUE, quietly = TRUE))) {\n",
    "        install.packages(i, quietly = TRUE)\n",
    "    }\n",
    "}"
   ]
  },
  {
   "cell_type": "code",
   "execution_count": 2,
   "id": "cd870862-4735-4863-927e-42e47f9ee80c",
   "metadata": {
    "tags": []
   },
   "outputs": [],
   "source": [
    "# 定义函数\n",
    "# best subset\n",
    "Bestsubset_binary <- function(dataset, binary_outcome, predictors, best_criteria = \"R2\"){\n",
    "    list_of_reg_formulas <- lapply(seq_along((predictors)), function(n) {\n",
    "        right_hand_side <- apply(X = combn(predictors, n), MARGIN = 2, paste, collapse = \" + \")\n",
    "        paste(binary_outcome, right_hand_side, sep = \"  ~  \")\n",
    "    })\n",
    "    vector_of_reg_formulas <- unlist(list_of_reg_formulas)\n",
    "    \n",
    "    options(warn = -1)\n",
    "    list_of_reg_fits <- lapply(vector_of_reg_formulas, function(x) {\n",
    "        formula <- as.formula(x)\n",
    "        fit <- glm(formula, \n",
    "                   data = dataset, \n",
    "                   family = binomial(link = \"logit\"))\n",
    "        result_R2 <- 1 - (summary(fit)$deviance / \n",
    "                          summary(fit)$null.deviance)\n",
    "        result_AIC <- extractAIC(fit)\n",
    "        data.frame(No_predictors = result_AIC[1],\n",
    "                   R2 = result_R2[1], \n",
    "                   AIC = result_AIC[2],\n",
    "                   model = x)\n",
    "    })\n",
    "    options(warn = 0)\n",
    "    \n",
    "    res <- do.call(rbind, list_of_reg_fits)\n",
    "    if (best_criteria == \"R2\"){\n",
    "        formula <- res %>% \n",
    "            group_by(No_predictors) %>% \n",
    "            mutate(best_model = (R2 == max(R2))) %>% \n",
    "            filter(best_model) %>% \n",
    "            ungroup() %>% \n",
    "            mutate(model = as.character(model), optimal_model = (AIC == min(AIC))) %>% \n",
    "            filter(optimal_model) %>% \n",
    "            '[['('model')\n",
    "    }\n",
    "    if (best_criteria == \"AIC\"){\n",
    "        formula <- res %>% \n",
    "            group_by(No_predictors) %>% \n",
    "            mutate(best_model = (AIC == min(AIC))) %>% \n",
    "            filter(best_model) %>% \n",
    "            ungroup() %>% \n",
    "            mutate(model = as.character(model), optimal_model = (AIC == min(AIC))) %>% \n",
    "            filter(optimal_model) %>% \n",
    "            '[['('model')\n",
    "    }\n",
    "    return(formula)\n",
    "}"
   ]
  },
  {
   "cell_type": "markdown",
   "id": "1a380ea6-840f-4f9a-b9a5-6f13a646ee70",
   "metadata": {},
   "source": [
    "### 2.1.2 逐步选择法（stepwise selection）"
   ]
  },
  {
   "cell_type": "markdown",
   "id": "76c61214-a155-48fe-9c41-6fff0fdbd6e1",
   "metadata": {
    "tags": []
   },
   "source": [
    "#### （1）前进法"
   ]
  },
  {
   "cell_type": "markdown",
   "id": "881915af-bc5a-4d30-b842-ca21c68cf811",
   "metadata": {},
   "source": [
    "1. 记 $M_{0}$ 为空模型，该模型中无预测变量，只存在截距项；\n",
    "2. 对于 $k = 0, 1, \\cdots, p-1$：\n",
    ">- 拟合所有在 $M_{k}$ 模型基础上加入1个自变量的模型（共有$p-k$个模型）；\n",
    ">- 从 $p-k$ 个模型中选取 $R^{2}$ 最大的模型，记为$M_{k+1}$；\n",
    "3. 从 $M_{0}, \\cdots, M_{p}$ 中选择一个最优模型，选取标准包括交叉验证的预测误差、AIC、BIC等。"
   ]
  },
  {
   "cell_type": "code",
   "execution_count": 3,
   "id": "1d77638c-ba09-439c-800a-629363c5f5cf",
   "metadata": {
    "tags": []
   },
   "outputs": [],
   "source": [
    "# Forwardstep\n",
    "Forwardstep_binary <- function(dataset, binary_outcome, predictors){\n",
    "    selected_vars <- c()\n",
    "    models <- data.frame()\n",
    "    p <- length(predictors)\n",
    "    \n",
    "    # null model(初始model) \n",
    "    null_model <- glm(as.formula(paste(binary_outcome, \"1\", sep = \" ~ \")),\n",
    "                      data = dataset,\n",
    "                      family = binomial(link = \"logit\"))\n",
    "    result_R2 <- 1 - (summary(null_model)$deviance /\n",
    "                      summary(null_model)$null.deviance)\n",
    "    result_AIC <- extractAIC(null_model)\n",
    "    models <- data.frame(\n",
    "                     No_predictors = result_AIC[1],\n",
    "                     R2 = result_R2[1],\n",
    "                     AIC = result_AIC[2])\n",
    "\n",
    "    for (k in 0:(p-1)) {\n",
    "        candidate_added_vars  <- setdiff(predictors, selected_vars)\n",
    "        # Generate p-k model by adding another predictor\n",
    "        results <- lapply(candidate_added_vars, function(x) {\n",
    "            formula <- paste(binary_outcome, \n",
    "                             paste(c(x, selected_vars),\n",
    "                                   collapse = \" + \"),\n",
    "                             sep = \" ~ \")\n",
    "            fit <- glm(as.formula(formula),\n",
    "                       data = dataset,\n",
    "                       family = binomial(link = \"logit\"))\n",
    "            result_R2 <- 1 - (summary(fit)$deviance /\n",
    "                              summary(fit)$null.deviance)\n",
    "            result_AIC <- extractAIC(fit)\n",
    "            data.frame(No_predictors = result_AIC[1],\n",
    "                        R2 = result_R2[1],\n",
    "                        AIC = result_AIC[2],\n",
    "                        added_var = x,\n",
    "                        formula = formula)\n",
    "        })\n",
    "        res <- do.call(rbind, results)\n",
    "        best_model <- res %>% \n",
    "                        mutate(best_model = (R2 == max(R2))) %>% \n",
    "                        filter(best_model)\n",
    "        added_var <-  best_model %>% '[['('added_var')\n",
    "        selected_vars <- c(selected_vars, added_var)\n",
    "        best_model$model_vars <- paste(selected_vars, collapse = \" + \")\n",
    "        models <- rbind.fill(models, best_model)\n",
    "    }\n",
    "    \n",
    "    train_model_forwardstep <- models[models$AIC == min(models$AIC),][,\"formula\"]\n",
    "    return(train_model_forwardstep)\n",
    "}"
   ]
  },
  {
   "cell_type": "markdown",
   "id": "7d9bdf70-966f-4ec5-891d-0a66de3c4add",
   "metadata": {
    "tags": []
   },
   "source": [
    "#### （补充）带有停止准则的前进法\n",
    "\n",
    "1. Let $M_{0}$ denote the null model, which contains no predictors; Let $M_{p}$ denote the full model, which contains all $p$ predictors;\n",
    "\n",
    "2. Repeat the following steps for $k = 1, \\cdots, p$ :\n",
    ">- Fit all $p-k+1 \\choose 1$ models by adding another predictor to model $M_{k-1}$;\n",
    ">- Pick the best model, call it $M_k$; Here <span style=\"color:red\">best</span> is defined as having the smallest deviance ($D=-2l(0)$, for linear model, deviance is equal to residual sum of squares [RSS]), or equivalently the largest $R^{2}$ (coefficient of determination, $R^{2}=1-\\frac{SSR}{SST}$, generalized $R^{2}=1-(\\frac{l(0)}{l(\\hat{\\beta})})^{2/n}$); or the samllest cross-validated prediction error, or the samllest AIC ($-2l(\\hat{\\beta} + 2k$), or the samllest BIC($-2l(\\hat{\\beta} + klog(n)$), ...\n",
    ">- Select a single best model between $M_{k-1}$ and $M_{k}$; \n",
    ">- Stop if the single best model is $M_{k-1}$ or $k = p$.\n",
    "\n",
    "3. The final model is $M_{k-1}$ or $M_{p}$.\n"
   ]
  },
  {
   "cell_type": "markdown",
   "id": "f660d961-8b05-4a08-9168-aa80b011cd89",
   "metadata": {
    "tags": []
   },
   "source": [
    "1.定义$M_{0}$为空模型，不含任何预测变量；定义$M_{p}$为全模型，含有全部 $p$ 个预测变量；\n",
    "\n",
    "2.对于 $k = 1,\\cdots, p$，重复以下步骤：\n",
    "    \n",
    ">- 通过为模型 $M_{k-1}$添加1个预测变量，拟合所有的$p-k+1 \\choose 1$ 个模型\n",
    ">- 选择最优模型，记为$M_{k}$；此处最优模型可以通过最小的方差[$D=-2l(0)$，对于线性模型而言，方差等同于残差平方和(RSS)]，或最大的 $R^{2}$ [决定系数, $R^{2}=1-\\frac{SSR}{SST}$, 广义 $R^{2}=1-(\\frac{l(0)}{l(\\hat{\\beta})})^{2/n}$]，或最小的交叉验证的预测误差，或最小的AIC[$-2l(\\hat{\\beta} + 2k$]，或最小的BIC[$-2l(\\hat{\\beta} + klog(n)$]选取...\n",
    ">- 从 $M_{k-1}$和$M_{k}$之间选择一个最好的模型；\n",
    ">- 当该模型是$M_{k-1}$或$k = p$的时候，停止该过程。   \n",
    "\n",
    "3.最终的模型为$M_{k-1}$ 或 $M_{p}$。"
   ]
  },
  {
   "cell_type": "code",
   "execution_count": 4,
   "id": "497b5df7-475c-4839-baa8-f8017f87fe8f",
   "metadata": {
    "tags": []
   },
   "outputs": [],
   "source": [
    "# Forwardstep with stop criteria (也可以用step()函数)\n",
    "ForwardstepwithStop_binary <- function(dataset, binary_outcome, predictors){\n",
    "    selected_vars <- c()\n",
    "    p <- length(predictors)\n",
    "    \n",
    "    # null model\n",
    "    null_model <- glm(as.formula(paste(binary_outcome, \"1\", sep = \" ~ \")),\n",
    "                      data = dataset,\n",
    "                      family = binomial(link = \"logit\"))\n",
    "    result_R2 <- 1 - (summary(null_model)$deviance /\n",
    "                      summary(null_model)$null.deviance)\n",
    "    AIC_min <- extractAIC(null_model)[2]\n",
    "    \n",
    "    for (k in 1:p) {\n",
    "        # Generate p-k+1 model by adding another predictor\n",
    "        candidate_added_vars  <- setdiff(predictors, selected_vars)\n",
    "        results <- lapply(candidate_added_vars, function(x){\n",
    "            formula <- paste(binary_outcome, \n",
    "                             paste(c(x, selected_vars),\n",
    "                                   collapse = \" + \"),\n",
    "                             sep = \" ~ \")\n",
    "            fit <- glm(as.formula(formula),\n",
    "                       data = dataset,\n",
    "                       family = binomial(link = \"logit\"))\n",
    "            result_R2 <- 1 - (summary(fit)$deviance /\n",
    "                              summary(fit)$null.deviance)\n",
    "            result_AIC <- extractAIC(fit)\n",
    "            data.frame(No_predictors = result_AIC[1],\n",
    "                       R2 = result_R2[1],\n",
    "                       AIC = result_AIC[2],\n",
    "                       added_var = x,\n",
    "                       formula = formula)\n",
    "        })\n",
    "        res <- do.call(rbind, results)\n",
    "\n",
    "        if (min(res$AIC) < AIC_min) { \n",
    "            added_var <- res %>% \n",
    "                    mutate(best_model = (AIC == min(AIC))) %>% \n",
    "                    filter(best_model) %>% \n",
    "                    '[['('added_var')\n",
    "            selected_vars <- c(selected_vars, added_var)\n",
    "            k = k + 1\n",
    "            AIC_min <- min(res$AIC)\n",
    "        } else {\n",
    "            break \n",
    "            # Stop if the single best model is $M_{k-1}$\n",
    "        }\n",
    "    }\n",
    "    final_model <- paste(binary_outcome, \n",
    "                         paste(selected_vars, collapse = \" + \"), \n",
    "                         sep = \" ~ \")\n",
    "    return(final_model)\n",
    "}"
   ]
  },
  {
   "cell_type": "markdown",
   "id": "4a266796-f4af-4199-ae25-7c6359d02980",
   "metadata": {},
   "source": [
    "#### （2）后退法"
   ]
  },
  {
   "cell_type": "markdown",
   "id": "357402f9-2e2d-40d8-ab0e-58d3e13c9a2d",
   "metadata": {},
   "source": [
    "1. 记 $M_{p}$ 为包含所有自变量的全模型；\n",
    "2. 对于 $k = p, p-1, \\cdots, 1$：\n",
    ">- 拟合所有在 $M_{k}$ 模型基础上减少1个自变量的模型（共有$k$个模型）；\n",
    ">- 从$k$个模型中选取 $R^{2}$ 最大的模型，记为$M_{k-1}$\n",
    "3. 从 $M_{0}, \\cdots, M_{p}$ 中选择一个最优模型，选取标准包括交叉验证的预测误差、AIC、BIC等。"
   ]
  },
  {
   "cell_type": "code",
   "execution_count": 5,
   "id": "108c8359-b9a6-4b5f-8b6f-45784fa4323c",
   "metadata": {
    "tags": []
   },
   "outputs": [],
   "source": [
    "# Backwardstep\n",
    "Backwardstep_binary <- function(dataset, binary_outcome, predictors){\n",
    "    selected_vars <- predictors\n",
    "    models <- data.frame()\n",
    "    p <- length(predictors)\n",
    "    # full model(初始model) \n",
    "    full_model <- glm(as.formula(paste(binary_outcome, \n",
    "                                 paste(predictors, collapse = \" + \"), \n",
    "                                 sep = \" ~ \")),\n",
    "                      data = dataset,\n",
    "                      family = binomial(link = \"logit\"))\n",
    "    result_R2 <- 1 - (summary(full_model)$deviance / \n",
    "                      summary(full_model)$null.deviance)\n",
    "    result_AIC <- extractAIC(full_model)\n",
    "    models <- data.frame(\n",
    "                 No_predictors = result_AIC[1],\n",
    "                 R2 = result_R2[1],\n",
    "                 AIC = result_AIC[2])\n",
    "    \n",
    "    for (k in p:1) {\n",
    "        if (k == 1) {\n",
    "            # null_model\n",
    "            null_model <- glm(as.formula(paste(binary_outcome, \"1\", sep = \" ~ \")),\n",
    "                              data = dataset,\n",
    "                              family = binomial(link = \"logit\"))\n",
    "            result_R2 <- 1 - (summary(null_model)$deviance / \n",
    "                              summary(null_model)$null.deviance)\n",
    "            result_AIC <- extractAIC(null_model)\n",
    "            best_model <- data.frame(\n",
    "                                 No_predictors = result_AIC[1],\n",
    "                                 R2 = result_R2[1],\n",
    "                                 AIC = result_AIC[2])\n",
    "            models <- rbind.fill(models, best_model)\n",
    "        }\n",
    "        if (k > 1) {\n",
    "            # Generate k model by remove a predictor\n",
    "            candidate_vars <- selected_vars\n",
    "            results <- lapply(candidate_vars, function(x){\n",
    "                formula <- paste(binary_outcome,\n",
    "                                 paste(setdiff(selected_vars, x), collapse = \" + \"), \n",
    "                                 sep = \" ~ \")\n",
    "                fit <- glm(as.formula(formula),\n",
    "                           data = dataset,\n",
    "                           family = binomial(link = \"logit\"))\n",
    "                result_R2 <- 1 - (summary(fit)$deviance / \n",
    "                                  summary(fit)$null.deviance)\n",
    "                result_AIC <- extractAIC(fit)\n",
    "                data.frame(No_predictors = result_AIC[1],\n",
    "                           R2 = result_R2[1], \n",
    "                           AIC = result_AIC[2],\n",
    "                           dropped_var = x,\n",
    "                           formula = formula)\n",
    "            })\n",
    "            res <- do.call(rbind, results)\n",
    "            best_model <- res %>% \n",
    "                            mutate(best_model = (R2 == max(R2))) %>% \n",
    "                            filter(best_model)\n",
    "            dropped_var <-  best_model %>% '[['('dropped_var')\n",
    "            selected_vars <- setdiff(selected_vars, dropped_var)\n",
    "            best_model$model_vars <- paste(selected_vars, collapse = \" + \")\n",
    "            models <- rbind.fill(models, best_model)\n",
    "        }\n",
    "    }\n",
    "\n",
    "    train_model_backwardstep <- models[models$AIC == min(models$AIC),][,\"formula\"]\n",
    "    return(train_model_backwardstep)\n",
    "}"
   ]
  },
  {
   "cell_type": "markdown",
   "id": "0407ab4c-e5df-481f-8f1d-8ad3e213fdcc",
   "metadata": {},
   "source": [
    "#### （补充）带有停止准则的后退法\n",
    "\n",
    "1. Let $M_{p}$ denote the full model, which contains all $p$ predictors; Let $M_{0}$ denote the null model, which contains no predictors;\n",
    "\n",
    "2. Repeat the folloing steps for $k = p, \\cdots, 1$ :\n",
    "\n",
    ">- Fit all $k \\choose 1$ models by dropping one predictor from model $M_{k}$;\n",
    ">- Pick the best model, call it $M_{k-1}$; Here <span style=\"color:red\">best</span> is defined as having the smallest deviance ($D=-2l(0)$, for linear model, deviance is equal to residual sum of squares [RSS]), or equivalently the largest $R^{2}$ (coefficient of determination, $R^{2}=1-\\frac{SSR}{SST}$, generalized $R^{2}=1-(\\frac{l(0)}{l(\\hat{\\beta})})^{2/n}$); or the samllest cross-validated prediction error, or the samllest AIC ($-2l(\\hat{\\beta} + 2k$), or the samllest BIC($-2l(\\hat{\\beta} + klog(n)$), ...\n",
    ">- Select a single best model between $M_{k-1}$ and $M_{k}$; \n",
    ">- Stop if the single best model is $M_{k}$ or $k = 1$.\n",
    "\n",
    "3. The final model is $M_{k}$ or $M_{1}$."
   ]
  },
  {
   "cell_type": "markdown",
   "id": "d9c29375-0b17-4db7-bf22-bd260ea81c97",
   "metadata": {},
   "source": [
    "1. 定义$M_{p}$为全模型，含有全部 $p$ 个预测变量；定义$M_{0}$为空模型，不含任何预测变量\n",
    "\n",
    "2. 对于$k = p, \\cdots, 1$ ，重复以下步骤：\n",
    ">- 通过减少 $M_{k}$模型一个预测变量的方法，拟合所有的$k \\choose 1$ 个模型；\n",
    ">- 选择最优模型，记为$M_{k-1}$；此处最优模型可以通过最小的方差（$D=-2l(0)$，对于线性模型而言，方差等同于残差平方和[RSS]），或最大的 $R^{2}$ (决定系数, $R^{2}=1-\\frac{SSR}{SST}$, 广义 $R^{2}=1-(\\frac{l(0)}{l(\\hat{\\beta})})^{2/n}$)，或最小的交叉验证的预测误差，或最小的AIC($-2l(\\hat{\\beta} + 2k$)，或最小的BIC($-2l(\\hat{\\beta} + klog(n)$)选取...\n",
    ">- 从 $M_{k-1}$和$M_{k}$之间选择一个最好的模型；\n",
    ">- 当该模型是$M_{k}$或$k = 1$的时候，停止该过程。                                                  \n",
    "\n",
    "\n",
    "3. 最终模型为$M_{k}$或$k = 1$。"
   ]
  },
  {
   "cell_type": "code",
   "execution_count": 6,
   "id": "ee7edf86-e551-4b80-8727-650a73dc899e",
   "metadata": {
    "tags": []
   },
   "outputs": [],
   "source": [
    "# Backwardstep with stop criteria (也可以用step()函数)\n",
    "BackwardstepwithStop_binary <- function(dataset, binary_outcome, predictors){    \n",
    "    p <- length(predictors)\n",
    "    selected_vars <- predictors     \n",
    "    # 创建一个全模型(初始模型)\n",
    "    full_model <- glm(as.formula(paste(binary_outcome, \n",
    "                                 paste(predictors, collapse = \" + \"), \n",
    "                                 sep = \" ~ \")), \n",
    "                      data = dataset,\n",
    "                      family = binomial(link = \"logit\")) \n",
    "    AIC_min <- extractAIC(full_model)[2]\n",
    "    \n",
    "    for (k in p:1) {\n",
    "        # Generate k model by remove a predictor\n",
    "        candidate_vars <- selected_vars\n",
    "        if ((k > 1)) {\n",
    "            results <- lapply(candidate_vars, function(x){\n",
    "                formula <- paste(binary_outcome, \n",
    "                                 paste(setdiff(candidate_vars, x), collapse = \" + \"), \n",
    "                                 sep = \" ~ \")\n",
    "                fit <- glm(as.formula(formula),\n",
    "                           data = dataset,\n",
    "                           family = binomial(link = \"logit\"))\n",
    "                result_R2 <- 1 - (summary(fit)$deviance / \n",
    "                                  summary(fit)$null.deviance)\n",
    "                result_AIC <- extractAIC(fit)\n",
    "                data.frame(No_predictors = result_AIC[1],\n",
    "                           R2 = result_R2[1], \n",
    "                           AIC = result_AIC[2],\n",
    "                           dropped_var = x,\n",
    "                           formula = formula)\n",
    "            })\n",
    "            res <- do.call(rbind, results)\n",
    "            if (min(res$AIC) <= AIC_min){ \n",
    "                dropped_var <- res %>% \n",
    "                                mutate(best_model = (AIC == min(AIC))) %>% \n",
    "                                filter(best_model) %>% \n",
    "                                '[['('dropped_var')\n",
    "                selected_vars <- setdiff(candidate_vars, dropped_var)\n",
    "                k = k - 1\n",
    "                AIC_min <- min(res$AIC)\n",
    "            } else {\n",
    "                break \n",
    "                # Stop if the single best model is $M_{k}$\n",
    "            }\n",
    "        }\n",
    "        if (k == 1) {\n",
    "            # drop one variable will make a null model\n",
    "            # null_model\n",
    "            null_model <- glm(as.formula(paste(binary_outcome, \"1\", sep = \" ~ \")),\n",
    "                              data = dataset,\n",
    "                              family = binomial(link = \"logit\"))\n",
    "            result_R2 <- 1 - (summary(null_model)$deviance / \n",
    "                              summary(null_model)$null.deviance)\n",
    "            result_AIC <- extractAIC(null_model)\n",
    "            if (result_AIC[2] <= AIC_min) {\n",
    "                selected_vars <- c()\n",
    "            } else {\n",
    "                break \n",
    "                # Stop if the single best model is $M_{k}$\n",
    "            }\n",
    "        }\n",
    "    }\n",
    "    final_model <- paste(binary_outcome, \n",
    "                         paste(selected_vars, collapse = \" + \"), \n",
    "                         sep = \" ~ \")\n",
    "    return(final_model)\n",
    "}"
   ]
  },
  {
   "cell_type": "markdown",
   "id": "a3903c76-30ad-41db-96c7-70619a6940e6",
   "metadata": {},
   "source": [
    "#### （3）双向选择法\n",
    "\n",
    "1. Let $M_{p}$ denote the full model, which contains all $p$ predictors; Let $M_{0}$ denote the null model, which contains no predictors;\n",
    "2. Start from null model;\n",
    "For any model includ k predictors:\n",
    "3. Forward selection, for the rest of $p-k$ predictors:\n",
    ">- Fit all $p-k \\choose 1$ models by adding another predictor from the rest of $p-k$ predictors to best model between $M_{k-1}$ and $M_{k}$;\n",
    ">- Pick the best model, call it $M_{k+1}$; Here <span style=\"color:red\">best</span> is defined as having the smallest deviance ($D=-2l(0)$, for linear model, deviance is equal to residual sum of squares [RSS]), or equivalently the largest $R^{2}$ (coefficient of determination, $R^{2}=1-\\frac{SSR}{SST}$, generalized $R^{2}=1-(\\frac{l(0)}{l(\\hat{\\beta})})^{2/n}$); or the samllest cross-validated prediction error, or the samllest AIC ($-2l(\\hat{\\beta} + 2k$), or the samllest BIC($-2l(\\hat{\\beta} + klog(n)$), ...\n",
    ">- Select a single best model between $M_{k+1}$ and $M_{k}$; \n",
    "\n",
    "4. If add another predictor, then Backward selection\n",
    ">- Fit all $k \\choose 1$ models by drop one predictor from model $M_{k+1}$;\n",
    ">- Pick the best model, call it $Mb_{k}$; Here <span style=\"color:red\">best</span> is defined as having the smallest deviance ($D=-2l(0)$, for linear model, deviance is equal to residual sum of squares [RSS]), or equivalently the largest $R^{2}$ (coefficient of determination, $R^{2}=1-\\frac{SSR}{SST}$, generalized $R^{2}=1-(\\frac{l(0)}{l(\\hat{\\beta})})^{2/n}$); or the samllest cross-validated prediction error, or the samllest AIC ($-2l(\\hat{\\beta} + 2k$), or the samllest BIC($-2l(\\hat{\\beta} + klog(n)$), ...\n",
    ">- Select a single best model between $M_{k}$ and $M_{k+1}$;\n",
    "\n",
    "\n",
    "5. Stop if the single best model is $M_{k}$, otherwise repeat 3 and 4."
   ]
  },
  {
   "cell_type": "markdown",
   "id": "1e3aaa6c-e436-41ad-84d4-6fff65be1c9d",
   "metadata": {
    "tags": []
   },
   "source": [
    "1.定义$M_{p}$为全模型，含有全部 $p$ 个预测变量；定义$M_{0}$为空模型，不含任何预测变量\n",
    "\n",
    "2.从空模型开始，对任何一个含有k个预测变量的模型（进行以下操作）：\n",
    "\n",
    "3.前进选择法：对于剩下的$p-k$个预测变量（进行以下操作）：\n",
    ">- 通过向模型$M_{k-1}$与模型$M_{k}$之间的最优模型增添一个剩余的$p-k$个预测变量之一的方法，拟合所有 $p-k \\choose 1$ 个模型；\n",
    ">- 选取最优模型，记作$M_{k+1}$，最优模型可以通过最小的方差（$D=-2l(0)$，对于线性模型而言，方差等同于残差平方和[RSS]），\n",
    "或最大的 $R^{2}$ (决定系数, $R^{2}=1-\\frac{SSR}{SST}$, 广义 $R^{2}=1-(\\frac{l(0)}{l(\\hat{\\beta})})^{2/n}$)，\n",
    "或最小的交叉验证的预测误差，或最小的AIC($-2l(\\hat{\\beta} + 2k$)，或最小的BIC($-2l(\\hat{\\beta} + klog(n)$)选取...\n",
    ">- 从 $M_{k+1}$和$M_{k}$之间选择一个最优模型；\n",
    "\n",
    "4.每增加了一个预测变量，同时也进行后退选择（进行以下操作）：\n",
    ">- 通过减少 $M_{k+1}$模型一个预测变量的方法，拟合所有的$k \\choose 1$ 个模型；\n",
    ">- 选取最优模型，记作$M_{k}$，最优模型可以通过最小的方差（$D=-2l(0)$，对于线性模型而言，方差等同于残差平方和[RSS]），\n",
    "或最大的 $R^{2}$ (决定系数, $R^{2}=1-\\frac{SSR}{SST}$, 广义 $R^{2}=1-(\\frac{l(0)}{l(\\hat{\\beta})})^{2/n}$)，\n",
    "或最小的交叉验证的预测误差，或最小的AIC($-2l(\\hat{\\beta} + 2k$)，或最小的BIC($-2l(\\hat{\\beta} + klog(n)$)选取...\n",
    ">- 从 $M_{k}$和$M_{k+1}$之间选择一个最优模型；\n",
    "\n",
    "5. 当最优模型是$M_{k}$时,停止该筛选过程，否则不断重复过程3与过程4."
   ]
  },
  {
   "cell_type": "code",
   "execution_count": 7,
   "id": "78921f77-c1e6-472e-b4d4-501fc04546aa",
   "metadata": {
    "tags": []
   },
   "outputs": [],
   "source": [
    "Bidirectionstep_binary <- function(dataset, binary_outcome, predictors){\n",
    "    p <- length(predictors)\n",
    "    selected_vars <- c()\n",
    "    k <- length(selected_vars)\n",
    "    null_model <- glm(as.formula(paste(binary_outcome, \"1\", sep = \" ~ \")),\n",
    "                      data = dataset,\n",
    "                      family = binomial(link = \"logit\")) # 创建一个空模型\n",
    "    AIC_min  <- null_model$aic\n",
    "\n",
    "    while (TRUE) {\n",
    "        # Forward selection\n",
    "        candidate_added_vars <- setdiff(predictors, selected_vars)\n",
    "        # Generate p-k model by adding another predictor\n",
    "        results_added <- lapply(candidate_added_vars, function(x) {\n",
    "            formula <- paste(binary_outcome,\n",
    "                             paste(c(x, selected_vars),\n",
    "                                   collapse = \" + \"), \n",
    "                             sep = \" ~ \")\n",
    "            fit <- glm(as.formula(formula),\n",
    "                       data = dataset,\n",
    "                       family = binomial(link = \"logit\"))\n",
    "            result_added_R2 <- 1 - (summary(fit)$deviance /\n",
    "                                    summary(fit)$null.deviance)\n",
    "            result_added_AIC <- extractAIC(fit)\n",
    "            data.frame(\n",
    "                No_predictors = result_added_AIC[1],\n",
    "                R2 = result_added_R2[1], \n",
    "                AIC = result_added_AIC[2],\n",
    "                added_var = x)\n",
    "        })\n",
    "\n",
    "        res_added <- do.call(rbind, results_added)\n",
    "\n",
    "        if (k <= p && min(res_added$AIC) <= AIC_min){\n",
    "            added_var <- res_added %>% \n",
    "                    mutate(best_model = (AIC == min(AIC))) %>%\n",
    "                    filter(best_model) %>% \n",
    "                    '[['('added_var')\n",
    "            selected_vars <- c(selected_vars, added_var)\n",
    "            k <- length(selected_vars)\n",
    "            AIC_min <- min(res_added$AIC)\n",
    "        } else {\n",
    "            added_var  <- c()\n",
    "        }\n",
    "        \n",
    "        if (length(added_var) == 0) {\n",
    "                break\n",
    "        }\n",
    "        \n",
    "        # Backward selection\n",
    "        # k is the number of the selected variables in after forward selection\n",
    "        # length(added_var) is to determine whether the forward selection have added another variables: \n",
    "          # 0, forward selection added no vars, then stop the loop; the best model have been selected.\n",
    "          # 1, forward selection added another variable, then conduct the backward selection to determine whether to drop a variable in the selected variables.\n",
    "        \n",
    "        if (k >= 2 && length(added_var) == 1) {\n",
    "            # Backward selection\n",
    "            # Generate k model by remove a predictor\n",
    "            candidate_dropped_vars <- selected_vars\n",
    "\n",
    "            results_dropped <- lapply(candidate_dropped_vars, function(x){\n",
    "                formula <- paste(binary_outcome,\n",
    "                                 paste(setdiff(candidate_dropped_vars, x),\n",
    "                                       collapse = \" + \"), \n",
    "                                 sep = \" ~ \")\n",
    "                fit <- glm(as.formula(formula),\n",
    "                           data = dataset,\n",
    "                           family = binomial(link = \"logit\"))\n",
    "                result_dropped_R2 <- 1 - (summary(fit)$deviance /\n",
    "                                          summary(fit)$null.deviance)\n",
    "                result_dropped_AIC <- extractAIC(fit)\n",
    "\n",
    "                data.frame(\n",
    "                    No_predictors = result_dropped_AIC[1],\n",
    "                    R2 = result_dropped_R2[1],\n",
    "                    AIC = result_dropped_AIC[2],\n",
    "                    dropped_var = x)\n",
    "            })\n",
    "\n",
    "            res_dropped <- do.call(rbind, results_dropped)\n",
    "\n",
    "            if (min(res_dropped$AIC) <= AIC_min) {\n",
    "                dropped_var <- res_dropped %>% \n",
    "                        mutate(best_model = (AIC == min(AIC))) %>%\n",
    "                        filter(best_model) %>% \n",
    "                        '[['('dropped_var')\n",
    "                selected_vars <- setdiff(candidate_dropped_vars, dropped_var)\n",
    "                k <- length(selected_vars)\n",
    "                AIC_min <- min(res_dropped$AIC)\n",
    "            } else {\n",
    "                dropped_var  <- c()\n",
    "            }\n",
    "        }\n",
    "    }\n",
    "      \n",
    "}"
   ]
  },
  {
   "cell_type": "markdown",
   "id": "0fcf04bf-b494-43c1-808d-86c156fa6737",
   "metadata": {},
   "source": [
    "#### Summary（总结）"
   ]
  },
  {
   "cell_type": "markdown",
   "id": "c14cbc7e-d7af-482a-a02d-dc111de0ccaf",
   "metadata": {},
   "source": [
    "##### 前进法（模型中的自变量从无到有、由少到多逐个引入回归方程）\n",
    "\n",
    ">- 优点：可以自动去掉高度相关的自变量\n",
    ">- 局限性：后续变量的进入可能会使先进入方程的自变量变得无统计学意义\n",
    "\n",
    "##### 后退法（先将全部自变量放入模型，然后逐步剔除无统计学意义的自变量）\n",
    "\n",
    ">- 优点：考虑到自变量的组合作用\n",
    ">- 局限性：自变量数目较多或某些自变量高度相关时，可能会得到错误的结果"
   ]
  },
  {
   "cell_type": "markdown",
   "id": "7411d732-5d13-46a4-b011-58f231bcf5db",
   "metadata": {},
   "source": [
    "##### 逐步选择法与最优子集法的区别\n",
    "\n",
    "最优子集选择法可以选择任意变量进行建模，而逐步选择法只能基于之前所选的k个变量进行(k+1)轮建模，所以逐步选择法不能保证最优，因为前面的变量选择中很有可能选中一些不是很重要的变量（或在专业背景下不好解释的变量），但在后面的迭代中也必须加上，从而就不一定能产生最优变量组合。但优势是计算量大大减小，因此实用性更强。"
   ]
  },
  {
   "cell_type": "markdown",
   "id": "201756cd-9d35-4eaa-8de3-4508f44b8f84",
   "metadata": {},
   "source": [
    "## 2.2 With additional restrictions（存在额外限制条件的变量筛选方法）"
   ]
  },
  {
   "cell_type": "markdown",
   "id": "e00cea8b-b94b-4518-847d-3cafe4e04915",
   "metadata": {},
   "source": [
    "### 2.2.1 LASSO回归"
   ]
  },
  {
   "cell_type": "markdown",
   "id": "7a45547e-ddbf-47ff-b8b5-008c3262d72a",
   "metadata": {},
   "source": [
    "LASSO回归引入正则化方法（L1-范数），使 $L({β_{1},..., β_{p}})+λ\\sum|β_{j}|$ 最小，通过在模型估计中增加惩罚项（$\\sum|β_{j}|$）压缩回归系数减小方差。由于LASSO回归可以将预测变量的估计系数压缩到0，因此可以在压缩系数的同时起到变量筛选的作用。"
   ]
  },
  {
   "cell_type": "markdown",
   "id": "5c068057-4a64-4160-a0b5-37840f8d83cb",
   "metadata": {},
   "source": [
    "1. 将所有预测变量放入模型，建立LASSO回归；\n",
    "2. LASSO回归为寻找最佳的模型，引入惩罚值 λ(lambda)，随着λ值增加，各变量的回归系数β减小，有些会被压缩为0，说明这些变量在该λ值下对模型贡献很小可以剔除。因此，λ值决定了回归系数被压缩的程度从而决定最后纳入模型的预测变量；\n",
    "3. 确定最佳λ值，以下为两种常见方法：\n",
    ">- 采用十折交叉验证，计算不同 λ值下的Partial-likelihood deviance，一般选择最小Partial-likelihood deviance一个标准误时对应的λ值（虽然理论上选Partial-likelihood deviance最小时所对应的λ值，但λ值过小，回归系数压缩幅度较小，不一定能较好解决模型过拟合和共线性的问题）\n",
    ">- 计算各模型的AIC、BIC等，选取AIC或BIC最小时对应的λ值"
   ]
  },
  {
   "cell_type": "code",
   "execution_count": 8,
   "id": "5d5b4fd1-e7ec-4de7-a66d-190eefb11ba4",
   "metadata": {
    "tags": []
   },
   "outputs": [],
   "source": [
    "Lasso_binary <- function(dataset, binary_outcome, predictors, lambda = \"min\"){\n",
    "    set.seed(123)\n",
    "    x <- data.matrix(dataset[,predictors])\n",
    "    fit <- glmnet(x,\n",
    "                  dataset[, binary_outcome],\n",
    "                  family = \"binomial\",\n",
    "                  alpha = 1) # family规定回归模型的类型，alpha=1进行LASSO回归，alpha=0进行岭回归\n",
    "\n",
    "    # 可视化结果\n",
    "    plot(fit, xvar=\"lambda\", label=T)\n",
    "\n",
    "    # 使用交叉验证来确定最佳的λ\n",
    "    cv.fit <- cv.glmnet(x,\n",
    "                  dataset[, binary_outcome],\n",
    "                  family = \"binomial\",\n",
    "                  alpha = 1)\n",
    "    plot(cv.fit)\n",
    "\n",
    "    if (lambda == \"1se\"){\n",
    "        coef1 <- predict(fit, s=cv.fit$lambda.1se, type = \"coefficients\")\n",
    "        print(coef1)\n",
    "        selected_vars <- coef1@Dimnames[[1]][coef1@i+1]\n",
    "        selected_vars <- selected_vars[selected_vars != \"(Intercept)\"]\n",
    "    }\n",
    "\n",
    "    if (lambda == \"min\"){\n",
    "        coef2 <- predict(fit, s=cv.fit$lambda.min, type = \"coefficients\")\n",
    "        print(coef2)\n",
    "        selected_vars <- coef2@Dimnames[[1]][coef2@i+1]\n",
    "        selected_vars <- selected_vars[selected_vars != \"(Intercept)\"]\n",
    "    }\n",
    "\n",
    "    lasso_model <- paste(binary_outcome, paste(selected_vars, collapse = \" + \"), sep = \" ~ \")\n",
    "    return(lasso_model)\n",
    "}"
   ]
  },
  {
   "cell_type": "markdown",
   "id": "780b06d6-b53b-4f65-893d-9ae9a052d6ae",
   "metadata": {},
   "source": [
    "# 3.Simulation（模拟实验）"
   ]
  },
  {
   "cell_type": "code",
   "execution_count": 9,
   "id": "d5f9dcf2-98ba-449f-8c15-66640e98e6e7",
   "metadata": {
    "tags": [],
    "vscode": {
     "languageId": "r"
    }
   },
   "outputs": [],
   "source": [
    "load('dataset_binary_after_description.R')"
   ]
  },
  {
   "cell_type": "code",
   "execution_count": 10,
   "id": "abf1a691-6276-4ae9-acdf-e871751ef845",
   "metadata": {
    "tags": []
   },
   "outputs": [],
   "source": [
    "# transform factor variables to dummy variables\n",
    "dataset <- dataset %>% \n",
    "    mutate(albuminuria_moderate = as.numeric(albuminuria == \"moderate\"),\n",
    "           albuminuria_severe = as.numeric(albuminuria == \"severe\"),\n",
    "           CKD_stage_G3a = as.numeric(CKD_stage == \"G3a\"),\n",
    "           CKD_stage_G3b = as.numeric(CKD_stage == \"G3b\"),\n",
    "           CKD_stage_G4 = as.numeric(CKD_stage == \"G4\"))\n",
    "\n",
    "# 待筛选变量\n",
    "predictors <- c('age', 'age_square', 'male', \n",
    "                # 'BMI', 'SBP', \n",
    "                # 'MI', 'HF', 'COPD', 'cancer', 'liver_disease', 'hypoglycemia', \n",
    "                'TC_rcs_1', 'TC_rcs_2', 'TC_rcs_3', 'log_LDLC', \n",
    "                'albuminuria_moderate', 'albuminuria_severe', \n",
    "                'CKD_stage_G3a', 'CKD_stage_G3b', 'CKD_stage_G4',\n",
    "                # 'No_outpatient', 'No_inpatient', \n",
    "                # 'age_male', 'male_cancer', \n",
    "                'male_CKD_stage_G3a', 'male_CKD_stage_G3b', 'male_CKD_stage_G4', \n",
    "                'age_TC', 'age_BMI_TC')"
   ]
  },
  {
   "cell_type": "markdown",
   "id": "c91ac7dd-c8d3-4e2d-8bc7-19d4d678f815",
   "metadata": {},
   "source": [
    "## 3.1 Without additional restrictions（无额外限制条件的变量筛选方法）"
   ]
  },
  {
   "cell_type": "markdown",
   "id": "d6f7f137-1a21-4669-a5fe-5325da08a72c",
   "metadata": {},
   "source": [
    "### 3.1.1 最优子集法（Best subset selection）"
   ]
  },
  {
   "cell_type": "code",
   "execution_count": 11,
   "id": "b65dc401-7569-4e3c-8b65-17b6877f55f5",
   "metadata": {
    "tags": [],
    "vscode": {
     "languageId": "r"
    }
   },
   "outputs": [],
   "source": [
    "# train_model_bestsubset <- Bestsubset_binary(dataset, binary_outcome = \"AKI_binary\", predictors = predictors)\n",
    "# train_model_bestsubset\n",
    "# 'AKI_binary  ~  age + age_square + male + TC_rcs_1 + TC_rcs_2 + TC_rcs_3 + log_LDLC + albuminuria_moderate + albuminuria_severe + CKD_stage_G3a + CKD_stage_G3b + CKD_stage_G4 + male_CKD_stage_G3a + male_CKD_stage_G3b + male_CKD_stage_G4 + age_TC + age_BMI_TC'"
   ]
  },
  {
   "cell_type": "markdown",
   "id": "289c98b6-a8ec-4a81-a1b8-11c61ea84ffe",
   "metadata": {},
   "source": [
    "通过最优子集法筛选的预测变量包括age，age_square，male，TC_rcs_1，TC_rcs_2，TC_rcs_3，log_LDLC，albuminuria_moderate，\n",
    "albuminuria_severe，CKD_stage_G3a，CKD_stage_G3b，CKD_stage_G4，male_CKD_stage_G3a，male_CKD_stage_G3b，male_CKD_stage_G4，\n",
    "age_TC，age_BMI_TC（即纳入的所有待筛选预测变量）"
   ]
  },
  {
   "cell_type": "markdown",
   "id": "62c4265f-a06a-45b0-8284-f67dc1ca620d",
   "metadata": {},
   "source": [
    "### 3.1.2 逐步筛选法（stepwise selection）"
   ]
  },
  {
   "cell_type": "markdown",
   "id": "bcf4cb52-ebab-4cb2-a168-575a86bac867",
   "metadata": {},
   "source": [
    "#### （1）前进法（Forward stepwise selection without stop critera）"
   ]
  },
  {
   "cell_type": "code",
   "execution_count": 12,
   "id": "38541571-8996-4ba6-b497-87964dc828c1",
   "metadata": {
    "tags": []
   },
   "outputs": [
    {
     "data": {
      "text/html": [
       "'AKI_binary ~ age_square + male + albuminuria_moderate + age_TC + albuminuria_severe + TC_rcs_3 + TC_rcs_2 + TC_rcs_1'"
      ],
      "text/latex": [
       "'AKI\\_binary \\textasciitilde{} age\\_square + male + albuminuria\\_moderate + age\\_TC + albuminuria\\_severe + TC\\_rcs\\_3 + TC\\_rcs\\_2 + TC\\_rcs\\_1'"
      ],
      "text/markdown": [
       "'AKI_binary ~ age_square + male + albuminuria_moderate + age_TC + albuminuria_severe + TC_rcs_3 + TC_rcs_2 + TC_rcs_1'"
      ],
      "text/plain": [
       "[1] \"AKI_binary ~ age_square + male + albuminuria_moderate + age_TC + albuminuria_severe + TC_rcs_3 + TC_rcs_2 + TC_rcs_1\""
      ]
     },
     "metadata": {},
     "output_type": "display_data"
    }
   ],
   "source": [
    "train_model_forward <- Forwardstep_binary(dataset, binary_outcome = \"AKI_binary\", predictors = predictors)\n",
    "train_model_forward"
   ]
  },
  {
   "cell_type": "markdown",
   "id": "42f48ab6-a8da-4f6c-a9a7-08500ad4314d",
   "metadata": {
    "tags": []
   },
   "source": [
    "采用逐步选择法（前进法）筛选得到的变量有age_square，male，albuminuria_moderate，albuminuria_severe，age_TC，TC_rcs_1，\n",
    "TC_rcs_2，TC_rcs_3"
   ]
  },
  {
   "cell_type": "markdown",
   "id": "1cc6cc3b-4419-4577-8a1f-97b02455bd9d",
   "metadata": {},
   "source": [
    "#### （补充）带有停止准则的前进法（Forward stepwise selection with stop critera）"
   ]
  },
  {
   "cell_type": "code",
   "execution_count": 13,
   "id": "108c9267-8de5-4c94-9815-c6c123a9ea97",
   "metadata": {
    "tags": []
   },
   "outputs": [
    {
     "data": {
      "text/html": [
       "'AKI_binary ~ male + albuminuria_moderate + age_TC + albuminuria_severe'"
      ],
      "text/latex": [
       "'AKI\\_binary \\textasciitilde{} male + albuminuria\\_moderate + age\\_TC + albuminuria\\_severe'"
      ],
      "text/markdown": [
       "'AKI_binary ~ male + albuminuria_moderate + age_TC + albuminuria_severe'"
      ],
      "text/plain": [
       "[1] \"AKI_binary ~ male + albuminuria_moderate + age_TC + albuminuria_severe\""
      ]
     },
     "metadata": {},
     "output_type": "display_data"
    }
   ],
   "source": [
    "train_model_forwardwithstep <- ForwardstepwithStop_binary(dataset, binary_outcome = \"AKI_binary\", predictors = predictors)\n",
    "train_model_forwardwithstep"
   ]
  },
  {
   "cell_type": "markdown",
   "id": "4af97003-a8af-45da-ad31-c58234ed9564",
   "metadata": {},
   "source": [
    "采用带有stop criteria的前进法筛选得到的预测变量有male，albuminuria_moderate，age_TC，albuminuria_severe"
   ]
  },
  {
   "cell_type": "code",
   "execution_count": 14,
   "id": "70f6a9dc-f651-4fa9-add9-1519e5cdb266",
   "metadata": {
    "tags": [],
    "vscode": {
     "languageId": "r"
    }
   },
   "outputs": [
    {
     "data": {
      "text/html": [
       "'AKI_binary ~ male + albuminuria_moderate + age_TC + albuminuria_severe'"
      ],
      "text/latex": [
       "'AKI\\_binary \\textasciitilde{} male + albuminuria\\_moderate + age\\_TC + albuminuria\\_severe'"
      ],
      "text/markdown": [
       "'AKI_binary ~ male + albuminuria_moderate + age_TC + albuminuria_severe'"
      ],
      "text/plain": [
       "[1] \"AKI_binary ~ male + albuminuria_moderate + age_TC + albuminuria_severe\""
      ]
     },
     "metadata": {},
     "output_type": "display_data"
    }
   ],
   "source": [
    "# 利用stepwiseLogit和Step()函数\n",
    "Binary_outcome <- \"AKI_binary\"\n",
    "full_model <- glm(as.formula(paste(Binary_outcome, paste(predictors, collapse = \" + \"), sep = \" ~ \")), \n",
    "                             data = dataset, \n",
    "                             family = binomial(link = \"logit\")) # 创建一个全模型\n",
    "null_model <- glm(as.formula(AKI_binary ~ 1), \n",
    "                  data = dataset, \n",
    "                  family = binomial(link = \"logit\")) # 创建一个空模型\n",
    "forward_model <- stepwiseLogit(as.formula(paste(Binary_outcome, paste(predictors, collapse = \" + \"), sep = \" ~ \")),\n",
    "                               data = dataset,\n",
    "                               selection = \"forward\",\n",
    "                               select = \"AIC\")\n",
    "forward_model <- paste(Binary_outcome, paste(as.vector(forward_model$`Selected Varaibles`)[-1], collapse = \" + \"), sep = \" ~ \") \n",
    "forward_model"
   ]
  },
  {
   "cell_type": "markdown",
   "id": "0cef77f1-414d-4195-9a1d-84b6dc4c9ad5",
   "metadata": {},
   "source": [
    "采用\"StepReg\"包的stepwiseLogit()函数(筛选方法为“向前选择”)筛选得到的预测变量有male，albuminuria_moderate，age_TC，albuminuria_severe"
   ]
  },
  {
   "cell_type": "code",
   "execution_count": 15,
   "id": "b65bf1f6-6df9-4821-9a7f-17fcbbd5ea4d",
   "metadata": {
    "tags": [],
    "vscode": {
     "languageId": "r"
    }
   },
   "outputs": [
    {
     "data": {
      "text/plain": [
       "AKI_binary ~ male + albuminuria_moderate + age_TC + albuminuria_severe"
      ]
     },
     "metadata": {},
     "output_type": "display_data"
    }
   ],
   "source": [
    "# 利用stepwiseLogit和Step()函数\n",
    "forward_model <- step(null_model, direction = \"forward\", scope = list(upper = formula(full_model), lower = formula(null_model)), trace=0)\n",
    "forward_model$formula"
   ]
  },
  {
   "cell_type": "markdown",
   "id": "16787fb7-cd2b-48b8-a2f3-f1e24f78acf0",
   "metadata": {},
   "source": [
    "采用Step()函数(筛选方法为“向前选择”)筛选得到的预测变量有male，albuminuria_moderate，age_TC，albuminuria_severe"
   ]
  },
  {
   "cell_type": "markdown",
   "id": "63354752-0ec1-46b7-81f4-f6e0a1563b51",
   "metadata": {},
   "source": [
    "#### （2）后退法（Backward stepwise selection without stop criteria）"
   ]
  },
  {
   "cell_type": "code",
   "execution_count": 16,
   "id": "7ecac204-68a6-46ea-b8b0-5f6c87bb7ead",
   "metadata": {
    "tags": []
   },
   "outputs": [
    {
     "data": {
      "text/html": [
       "'AKI_binary ~ age_square + male + TC_rcs_1 + TC_rcs_2 + TC_rcs_3 + albuminuria_moderate + albuminuria_severe + age_TC'"
      ],
      "text/latex": [
       "'AKI\\_binary \\textasciitilde{} age\\_square + male + TC\\_rcs\\_1 + TC\\_rcs\\_2 + TC\\_rcs\\_3 + albuminuria\\_moderate + albuminuria\\_severe + age\\_TC'"
      ],
      "text/markdown": [
       "'AKI_binary ~ age_square + male + TC_rcs_1 + TC_rcs_2 + TC_rcs_3 + albuminuria_moderate + albuminuria_severe + age_TC'"
      ],
      "text/plain": [
       "[1] \"AKI_binary ~ age_square + male + TC_rcs_1 + TC_rcs_2 + TC_rcs_3 + albuminuria_moderate + albuminuria_severe + age_TC\""
      ]
     },
     "metadata": {},
     "output_type": "display_data"
    }
   ],
   "source": [
    "train_model_backward <- Backwardstep_binary(dataset, binary_outcome=\"AKI_binary\", predictors)\n",
    "train_model_backward"
   ]
  },
  {
   "cell_type": "markdown",
   "id": "65313031-84a7-4ff8-8199-09823574bdf1",
   "metadata": {},
   "source": [
    "采用逐步选择法（后退法）筛选得到的变量有age_square，male，TC_rcs_1，TC_rcs_2，TC_rcs_3，albuminuria_moderate，albuminuria_severe，age_TC"
   ]
  },
  {
   "cell_type": "markdown",
   "id": "8d8b94bc-4f76-4614-afdf-b936e2d7af9e",
   "metadata": {},
   "source": [
    "#### （补充）带有停止准则的后退法（Backward stepwise selection with stop criteria）"
   ]
  },
  {
   "cell_type": "code",
   "execution_count": 17,
   "id": "6e15056a-74dc-4380-aebb-307ddcf4c1ff",
   "metadata": {
    "tags": []
   },
   "outputs": [
    {
     "data": {
      "text/html": [
       "'AKI_binary ~ age_square + male + TC_rcs_1 + TC_rcs_2 + TC_rcs_3 + albuminuria_moderate + albuminuria_severe + CKD_stage_G3a + CKD_stage_G4 + male_CKD_stage_G3a + male_CKD_stage_G4 + age_TC'"
      ],
      "text/latex": [
       "'AKI\\_binary \\textasciitilde{} age\\_square + male + TC\\_rcs\\_1 + TC\\_rcs\\_2 + TC\\_rcs\\_3 + albuminuria\\_moderate + albuminuria\\_severe + CKD\\_stage\\_G3a + CKD\\_stage\\_G4 + male\\_CKD\\_stage\\_G3a + male\\_CKD\\_stage\\_G4 + age\\_TC'"
      ],
      "text/markdown": [
       "'AKI_binary ~ age_square + male + TC_rcs_1 + TC_rcs_2 + TC_rcs_3 + albuminuria_moderate + albuminuria_severe + CKD_stage_G3a + CKD_stage_G4 + male_CKD_stage_G3a + male_CKD_stage_G4 + age_TC'"
      ],
      "text/plain": [
       "[1] \"AKI_binary ~ age_square + male + TC_rcs_1 + TC_rcs_2 + TC_rcs_3 + albuminuria_moderate + albuminuria_severe + CKD_stage_G3a + CKD_stage_G4 + male_CKD_stage_G3a + male_CKD_stage_G4 + age_TC\""
      ]
     },
     "metadata": {},
     "output_type": "display_data"
    }
   ],
   "source": [
    "train_model_backwardwithstop <- BackwardstepwithStop_binary(dataset, binary_outcome=\"AKI_binary\", predictors)\n",
    "train_model_backwardwithstop"
   ]
  },
  {
   "cell_type": "markdown",
   "id": "3a223d78-c684-4cd5-a1c7-7b228bde860b",
   "metadata": {},
   "source": [
    "采用带有stop criteria的后退法筛选得到的预测变量有 age_square，male，TC_rcs_1，TC_rcs_2，TC_rcs_3，albuminuria_moderate，\n",
    "albuminuria_severe，CKD_stage_G3a，CKD_stage_G4，male_CKD_stage_G3a，male_CKD_stage_G4，age_TC"
   ]
  },
  {
   "cell_type": "code",
   "execution_count": 18,
   "id": "cebfee7f-1bc9-43c9-aafd-bd96d97d2172",
   "metadata": {
    "tags": [],
    "vscode": {
     "languageId": "r"
    }
   },
   "outputs": [
    {
     "data": {
      "text/html": [
       "'AKI_binary ~ age_square + male + TC_rcs_1 + TC_rcs_2 + TC_rcs_3 + albuminuria_moderate + albuminuria_severe + CKD_stage_G3a + CKD_stage_G4 + male_CKD_stage_G3a + male_CKD_stage_G4 + age_TC'"
      ],
      "text/latex": [
       "'AKI\\_binary \\textasciitilde{} age\\_square + male + TC\\_rcs\\_1 + TC\\_rcs\\_2 + TC\\_rcs\\_3 + albuminuria\\_moderate + albuminuria\\_severe + CKD\\_stage\\_G3a + CKD\\_stage\\_G4 + male\\_CKD\\_stage\\_G3a + male\\_CKD\\_stage\\_G4 + age\\_TC'"
      ],
      "text/markdown": [
       "'AKI_binary ~ age_square + male + TC_rcs_1 + TC_rcs_2 + TC_rcs_3 + albuminuria_moderate + albuminuria_severe + CKD_stage_G3a + CKD_stage_G4 + male_CKD_stage_G3a + male_CKD_stage_G4 + age_TC'"
      ],
      "text/plain": [
       "[1] \"AKI_binary ~ age_square + male + TC_rcs_1 + TC_rcs_2 + TC_rcs_3 + albuminuria_moderate + albuminuria_severe + CKD_stage_G3a + CKD_stage_G4 + male_CKD_stage_G3a + male_CKD_stage_G4 + age_TC\""
      ]
     },
     "metadata": {},
     "output_type": "display_data"
    }
   ],
   "source": [
    "# 利用stepwiseLogit和Step()函数\n",
    "full_model <- glm(as.formula(paste(Binary_outcome, paste(predictors, collapse = \" + \"), sep = \" ~ \")), \n",
    "                             data = dataset, \n",
    "                             family = binomial(link = \"logit\")) # 创建一个全模型\n",
    "null_model <- glm(as.formula(AKI_binary ~ 1), \n",
    "                  data = dataset, \n",
    "                  family = binomial(link = \"logit\")) # 创建一个空模型\n",
    "\n",
    "backword_model <- stepwiseLogit(as.formula(paste(Binary_outcome, paste(predictors, collapse = \" + \"), sep = \" ~ \")),\n",
    "                               data = dataset,\n",
    "                               selection = \"backward\",\n",
    "                               select = \"AIC\")\n",
    "backword_model <- paste(Binary_outcome, paste(as.vector(backword_model$`Selected Varaibles`)[-1], collapse = \" + \"), sep = \" ~ \") \n",
    "backword_model"
   ]
  },
  {
   "cell_type": "markdown",
   "id": "b439a276-bca6-496a-9492-3ae9ce8a3831",
   "metadata": {},
   "source": [
    "采用\"StepReg\"包的stepwiseLogit()函数(筛选方法为“向后选择”)筛选得到的预测变量有age_square，male，TC_rcs_1，TC_rcs_2，TC_rcs_3，\n",
    "albuminuria_moderate，albuminuria_severe，CKD_stage_G3a，CKD_stage_G4，male_CKD_stage_G3a，male_CKD_stage_G4，age_TC"
   ]
  },
  {
   "cell_type": "code",
   "execution_count": 19,
   "id": "b873d744-5053-464e-8f3a-473c7a07c393",
   "metadata": {
    "tags": [],
    "vscode": {
     "languageId": "r"
    }
   },
   "outputs": [
    {
     "data": {
      "text/plain": [
       "AKI_binary ~ age_square + male + TC_rcs_1 + TC_rcs_2 + TC_rcs_3 + \n",
       "    albuminuria_moderate + albuminuria_severe + CKD_stage_G3a + \n",
       "    CKD_stage_G4 + male_CKD_stage_G3a + male_CKD_stage_G4 + age_TC"
      ]
     },
     "metadata": {},
     "output_type": "display_data"
    }
   ],
   "source": [
    "# 利用stepwiseLogit和Step()函数\n",
    "backword_model <- step(full_model, direction = \"backward\", \n",
    "                       scope = list(upper = formula(full_model), lower = formula(null_model)), trace=0)\n",
    "backword_model$formula"
   ]
  },
  {
   "cell_type": "markdown",
   "id": "3eb89b1d-d83e-4b42-9a2f-a065e76520e8",
   "metadata": {},
   "source": [
    "采用Step()函数(筛选方法为“向后选择”)筛选得到的预测变量有age_square，male，TC_rcs_1，TC_rcs_2，TC_rcs_3，albuminuria_moderate，\n",
    "albuminuria_severe，CKD_stage_G3a，CKD_stage_G4，male_CKD_stage_G3a，male_CKD_stage_G4，age_TC"
   ]
  },
  {
   "cell_type": "markdown",
   "id": "78fb033b-207e-45f8-971e-b1f690ae2845",
   "metadata": {},
   "source": [
    "#### （3）双向选择法（Bidirection stepwise selection）"
   ]
  },
  {
   "cell_type": "code",
   "execution_count": 20,
   "id": "79571ac1-25bd-4c7b-a7f7-ba90c3a70c35",
   "metadata": {
    "tags": []
   },
   "outputs": [
    {
     "data": {
      "text/plain": [
       "NULL"
      ]
     },
     "metadata": {},
     "output_type": "display_data"
    }
   ],
   "source": [
    "train_model_bidirection <- Bidirectionstep_binary(dataset,\n",
    "                                                  binary_outcome=\"AKI_binary\",\n",
    "                                                  predictors)\n",
    "train_model_bidirection"
   ]
  },
  {
   "cell_type": "markdown",
   "id": "d72754fb-32b9-4e98-931f-2298959c2c85",
   "metadata": {},
   "source": [
    "采用逐步选择法（双向选择法）筛选得到的变量有male，albuminuria_moderate，age_TC，albuminuria_severe"
   ]
  },
  {
   "cell_type": "code",
   "execution_count": 21,
   "id": "7437d1d2-98c6-4717-9599-0fc4e560c0c0",
   "metadata": {
    "tags": [],
    "vscode": {
     "languageId": "r"
    }
   },
   "outputs": [
    {
     "data": {
      "text/html": [
       "'AKI_binary ~ male + albuminuria_moderate + age_TC + albuminuria_severe'"
      ],
      "text/latex": [
       "'AKI\\_binary \\textasciitilde{} male + albuminuria\\_moderate + age\\_TC + albuminuria\\_severe'"
      ],
      "text/markdown": [
       "'AKI_binary ~ male + albuminuria_moderate + age_TC + albuminuria_severe'"
      ],
      "text/plain": [
       "[1] \"AKI_binary ~ male + albuminuria_moderate + age_TC + albuminuria_severe\""
      ]
     },
     "metadata": {},
     "output_type": "display_data"
    }
   ],
   "source": [
    "# 利用stepwiseLogit或step函数\n",
    "bidirection_model <- stepwiseLogit(as.formula(paste(Binary_outcome, paste(predictors, collapse = \" + \"), sep = \" ~ \")),\n",
    "                               data = dataset,\n",
    "                               selection = \"bidirection\",\n",
    "                               select = \"AIC\")\n",
    "bidirection_model <- paste(Binary_outcome, paste(as.vector(bidirection_model$`Selected Varaibles`)[-1], collapse = \" + \"), sep = \" ~ \") \n",
    "bidirection_model"
   ]
  },
  {
   "cell_type": "markdown",
   "id": "7fa06466-33fd-49a6-be21-9de0a7f4813d",
   "metadata": {},
   "source": [
    "采用\"StepReg\"包的stepwiseLogit()函数(筛选方法为“双向选择”)筛选得到的变量有male，albuminuria_moderate，age_TC，albuminuria_severe"
   ]
  },
  {
   "cell_type": "code",
   "execution_count": 22,
   "id": "0e63d247-7c28-413d-a7e1-93d884c72f8d",
   "metadata": {
    "tags": [],
    "vscode": {
     "languageId": "r"
    }
   },
   "outputs": [
    {
     "data": {
      "text/plain": [
       "AKI_binary ~ male + albuminuria_moderate + age_TC + albuminuria_severe"
      ]
     },
     "metadata": {},
     "output_type": "display_data"
    }
   ],
   "source": [
    "# 利用stepwiseLogit或step函数\n",
    "bidirection_model <- step(null_model, direction = \"both\", \n",
    "                          scope = list(upper = formula(full_model), lower = formula(null_model)), trace = 0)\n",
    "bidirection_model$formula"
   ]
  },
  {
   "cell_type": "markdown",
   "id": "99bc807a-9f72-42f6-9186-06cba4e0765c",
   "metadata": {},
   "source": [
    "采用Step()函数(筛选方法为“双向选择”)筛选得到的预测变量有male，albuminuria_moderate，age_TC，albuminuria_severe"
   ]
  },
  {
   "cell_type": "markdown",
   "id": "477a2b49-f143-41f5-9fb6-13e1f4d4212a",
   "metadata": {},
   "source": [
    "## 3.2 With additional restrictions（存在额外限制条件的变量筛选方法）"
   ]
  },
  {
   "cell_type": "markdown",
   "id": "bd6d35a8-9680-42d3-b28e-6492fddce7d3",
   "metadata": {},
   "source": [
    "#### 3.2.1 LASSO regression（LASSO回归）"
   ]
  },
  {
   "cell_type": "code",
   "execution_count": 23,
   "id": "c633856d-d7d1-4b3d-8b5a-c359c0240d23",
   "metadata": {
    "tags": []
   },
   "outputs": [
    {
     "data": {
      "image/png": "[encoded data removed]",
      "text/plain": [
       "plot without title"
      ]
     },
     "metadata": {
      "image/png": {
       "height": 420,
       "width": 420
      }
     },
     "output_type": "display_data"
    },
    {
     "name": "stdout",
     "output_type": "stream",
     "text": [
      "18 x 1 sparse Matrix of class \"dgCMatrix\"\n",
      "                            s1\n",
      "(Intercept)          -2.306331\n",
      "age                   .       \n",
      "age_square            .       \n",
      "male                  .       \n",
      "TC_rcs_1              .       \n",
      "TC_rcs_2              .       \n",
      "TC_rcs_3              .       \n",
      "log_LDLC              .       \n",
      "albuminuria_moderate  .       \n",
      "albuminuria_severe    .       \n",
      "CKD_stage_G3a         .       \n",
      "CKD_stage_G3b         .       \n",
      "CKD_stage_G4          .       \n",
      "male_CKD_stage_G3a    .       \n",
      "male_CKD_stage_G3b    .       \n",
      "male_CKD_stage_G4     .       \n",
      "age_TC                .       \n",
      "age_BMI_TC            .       \n"
     ]
    },
    {
     "data": {
      "image/png": "[encoded data removed]",
      "text/plain": [
       "plot without title"
      ]
     },
     "metadata": {
      "image/png": {
       "height": 420,
       "width": 420
      }
     },
     "output_type": "display_data"
    }
   ],
   "source": [
    "train_model_lasso <- Lasso_binary(dataset,\n",
    "                                  binary_outcome=\"AKI_binary\",\n",
    "                                  predictors,\n",
    "                                  lambda = \"1se\")"
   ]
  },
  {
   "cell_type": "markdown",
   "id": "c07ed31e-b9ae-4b09-bfa1-96a3ca59cb7b",
   "metadata": {},
   "source": [
    "上图1为LASSO筛选变量动态过程图，一条彩色线代表一个变量的回归系数β值的变化，x轴为惩罚值，x轴上方为在该值下的剩余变量数。随着λ增加，各变量的回归系数β在减小，有些变为0，说明该变量在此时对模型贡献微乎其微可以剔除。"
   ]
  },
  {
   "cell_type": "markdown",
   "id": "beb0a9b5-544a-4258-972b-f7d649faebf5",
   "metadata": {},
   "source": [
    "上图2展示了$binomial deviance = -2l(\\hat{\\beta}$)随$Log(\\lambda)$变化曲线，图中给出了两个惩罚值λ：\n",
    "1. Binomial deviance最小时的λ值，即lambda.min； \n",
    "2. 最小Binomial deviance一个标准误时对应的λ值，即lambda.1se"
   ]
  },
  {
   "cell_type": "markdown",
   "id": "026ec422-451d-4c66-b80b-c2d8e9204c82",
   "metadata": {},
   "source": [
    "$\\lambda=lambda.1se$时，给出的是一个具备优良性能且自变量个数最少的模型，因此LASSO回归筛选出的变量为空模型"
   ]
  },
  {
   "cell_type": "code",
   "execution_count": 24,
   "id": "2428750f-731f-4968-8598-103972b9d64c",
   "metadata": {
    "tags": []
   },
   "outputs": [
    {
     "data": {
      "image/png": "[encoded data removed]",
      "text/plain": [
       "plot without title"
      ]
     },
     "metadata": {
      "image/png": {
       "height": 420,
       "width": 420
      }
     },
     "output_type": "display_data"
    },
    {
     "name": "stdout",
     "output_type": "stream",
     "text": [
      "18 x 1 sparse Matrix of class \"dgCMatrix\"\n",
      "                                s1\n",
      "(Intercept)           1.801584e+00\n",
      "age                  -4.220885e-02\n",
      "age_square           -3.603022e-04\n",
      "male                  2.621372e-01\n",
      "TC_rcs_1             -1.386342e+00\n",
      "TC_rcs_2              7.597628e-02\n",
      "TC_rcs_3             -3.538706e-01\n",
      "log_LDLC              .           \n",
      "albuminuria_moderate -7.055944e-01\n",
      "albuminuria_severe   -3.432824e-01\n",
      "CKD_stage_G3a        -2.782759e-01\n",
      "CKD_stage_G3b         1.602543e-02\n",
      "CKD_stage_G4         -6.762152e-01\n",
      "male_CKD_stage_G3a    3.446029e-01\n",
      "male_CKD_stage_G3b   -2.090516e-02\n",
      "male_CKD_stage_G4     8.335382e-01\n",
      "age_TC                2.013243e-02\n",
      "age_BMI_TC            1.906895e-05\n"
     ]
    },
    {
     "data": {
      "image/png": "[encoded data removed]",
      "text/plain": [
       "plot without title"
      ]
     },
     "metadata": {
      "image/png": {
       "height": 420,
       "width": 420
      }
     },
     "output_type": "display_data"
    }
   ],
   "source": [
    "train_model_lasso <- Lasso_binary(dataset,\n",
    "                                  binary_outcome=\"AKI_binary\",\n",
    "                                  predictors,\n",
    "                                  lambda = \"min\")"
   ]
  },
  {
   "cell_type": "markdown",
   "id": "66101d49-d3fb-4f20-b0c3-6ec4ddc5e462",
   "metadata": {},
   "source": [
    "$\\lambda=lambda.min$时，给出的是一个具备优良性能的模型，因此LASSO回归筛选出的变量为`age + age_square + male + TC_rcs_1 + TC_rcs_2 + TC_rcs_3 + albuminuria_moderate + albuminuria_severe + CKD_stage_G3a + CKD_stage_G3b + CKD_stage_G4 + male_CKD_stage_G3a + male_CKD_stage_G3b + male_CKD_stage_G4 + age_TC + age_BMI_TCage + age_square + male + TC_rcs_1 + TC_rcs_2 + TC_rcs_3 + albuminuria_moderate + albuminuria_severe + CKD_stage_G3a + CKD_stage_G3b + CKD_stage_G4 + male_CKD_stage_G3a + male_CKD_stage_G3b + male_CKD_stage_G4 + age_TC + age_BMI_TC`"
   ]
  },
  {
   "cell_type": "code",
   "execution_count": 25,
   "id": "297a3ede-760f-4cb2-8d39-b9f1991d34df",
   "metadata": {
    "tags": []
   },
   "outputs": [
    {
     "data": {
      "text/html": [
       "'AKI_binary ~ age + age_square + male + TC_rcs_1 + TC_rcs_2 + TC_rcs_3 + albuminuria_moderate + albuminuria_severe + CKD_stage_G3a + CKD_stage_G3b + CKD_stage_G4 + male_CKD_stage_G3a + male_CKD_stage_G3b + male_CKD_stage_G4 + age_TC + age_BMI_TC'"
      ],
      "text/latex": [
       "'AKI\\_binary \\textasciitilde{} age + age\\_square + male + TC\\_rcs\\_1 + TC\\_rcs\\_2 + TC\\_rcs\\_3 + albuminuria\\_moderate + albuminuria\\_severe + CKD\\_stage\\_G3a + CKD\\_stage\\_G3b + CKD\\_stage\\_G4 + male\\_CKD\\_stage\\_G3a + male\\_CKD\\_stage\\_G3b + male\\_CKD\\_stage\\_G4 + age\\_TC + age\\_BMI\\_TC'"
      ],
      "text/markdown": [
       "'AKI_binary ~ age + age_square + male + TC_rcs_1 + TC_rcs_2 + TC_rcs_3 + albuminuria_moderate + albuminuria_severe + CKD_stage_G3a + CKD_stage_G3b + CKD_stage_G4 + male_CKD_stage_G3a + male_CKD_stage_G3b + male_CKD_stage_G4 + age_TC + age_BMI_TC'"
      ],
      "text/plain": [
       "[1] \"AKI_binary ~ age + age_square + male + TC_rcs_1 + TC_rcs_2 + TC_rcs_3 + albuminuria_moderate + albuminuria_severe + CKD_stage_G3a + CKD_stage_G3b + CKD_stage_G4 + male_CKD_stage_G3a + male_CKD_stage_G3b + male_CKD_stage_G4 + age_TC + age_BMI_TC\""
      ]
     },
     "metadata": {},
     "output_type": "display_data"
    }
   ],
   "source": [
    "train_model_lasso"
   ]
  },
  {
   "cell_type": "code",
   "execution_count": 26,
   "id": "01deee3a-cec7-451d-b15e-ea796fcb5f3c",
   "metadata": {
    "tags": []
   },
   "outputs": [],
   "source": [
    "save.image(\"model_train_binary_workspace.Rdata\")"
   ]
  }
 ],
 "metadata": {
  "kernelspec": {
   "display_name": "R",
   "language": "R",
   "name": "ir"
  },
  "language_info": {
   "codemirror_mode": "r",
   "file_extension": ".r",
   "mimetype": "text/x-r-source",
   "name": "R",
   "pygments_lexer": "r",
   "version": "4.1.3"
  },
  "toc-autonumbering": false,
  "toc-showcode": false
 },
 "nbformat": 4,
 "nbformat_minor": 5
}
