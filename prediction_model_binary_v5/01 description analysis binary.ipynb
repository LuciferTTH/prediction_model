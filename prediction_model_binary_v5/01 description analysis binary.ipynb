{
 "cells": [
  {
   "cell_type": "markdown",
   "id": "85218053-db23-44fb-90e6-4fdb067676f5",
   "metadata": {},
   "source": [
    "# 1.数据准备"
   ]
  },
  {
   "cell_type": "markdown",
   "id": "16d2ebc3-3ccd-472a-93a9-aac59d068e16",
   "metadata": {},
   "source": [
    "## 1.1 Import packages"
   ]
  },
  {
   "cell_type": "markdown",
   "id": "27e80ccb-289a-4af7-8f65-be66ff155579",
   "metadata": {},
   "source": [
    "## 1.1 载入R包"
   ]
  },
  {
   "cell_type": "code",
   "execution_count": 1,
   "id": "3213500c-8d75-4180-a00b-0c3956b887e7",
   "metadata": {
    "tags": []
   },
   "outputs": [],
   "source": [
    "# Install required packages and library them\n",
    "packages <- c(\"dplyr\",\n",
    "              \"tableone\",\n",
    "              \"stringr\",\n",
    "              \"R.utils\",\n",
    "              \"biostat3\",\n",
    "              \"spatstat\",\n",
    "              \"rms\")\n",
    "\n",
    "for (i in packages) {\n",
    "    if (!suppressMessages(require(i, character.only = TRUE, quietly = TRUE))) {\n",
    "        install.packages(i, quietly = TRUE)\n",
    "    }\n",
    "}"
   ]
  },
  {
   "cell_type": "markdown",
   "id": "ed7ece31-4b17-4bb4-baa9-e11a07ba9d74",
   "metadata": {},
   "source": [
    "## 1.2 Define function"
   ]
  },
  {
   "cell_type": "markdown",
   "id": "62a71fb9-078f-4fbb-bec0-c653b3e2d316",
   "metadata": {},
   "source": [
    "## 1.2 定义函数"
   ]
  },
  {
   "cell_type": "code",
   "execution_count": 2,
   "id": "493cb7b2-e849-4e44-8b47-936cc3cbf86d",
   "metadata": {},
   "outputs": [],
   "source": [
    "# Daly LE. Confidence Limits Made Easy: Interval Estimation Using a Substitution Method. American journal of epidemiology. 1998;147(8):783-90.\n",
    "exactBinomCI <- function (x, n, conf.level = 0.95) {\n",
    "  alpha <- 1 - conf.level \n",
    "  upper <- qbinom((1 - (alpha / 2)), size = n, prob = x/n) # 改为binary\n",
    "  lower <- qbinom(alpha / 2, size = n, prob = x/n)\n",
    "  return(c(lower, upper))\n",
    "}"
   ]
  },
  {
   "cell_type": "code",
   "execution_count": 3,
   "id": "e21c7e65-998e-4097-9d75-a2a20612ef9e",
   "metadata": {},
   "outputs": [],
   "source": [
    "Tab1b_of_binary_outcome <- function(outcome, dataset, digit = 2, \n",
    "                                          groups = c('external', 'raw'), ...) {\n",
    "    additional_arguments <- list(...)\n",
    "    if ('weight' %in% names(additional_arguments)) {\n",
    "      dataset <- dataset %>% mutate(weight = .data[[weight]])\n",
    "    } else {\n",
    "      dataset$weight = 1\n",
    "    }\n",
    "\n",
    "    if ('exposure' %in% names(additional_arguments)) {\n",
    "      dataset <- dataset %>%\n",
    "        mutate(exposure = .data[[additional_arguments$exposure]])\n",
    "\n",
    "      levels(dataset$exposure) = groups\n",
    "\n",
    "      incid_trt <- dataset %>%\n",
    "          group_by(exposure) %>%\n",
    "          summarise(\n",
    "                n = round(sum(weight), digit),\n",
    "                event = round(sum(.data[[outcome]] * weight), digit),\n",
    "                # 发病率% = 发生人数/总人数 * 100\n",
    "                rate = round(event / n * 100, digit), \n",
    "                lci = round(exactBinomCI(x=event, n)[1] / n * 100, digit),\n",
    "                uci = round(exactBinomCI(x=event, n)[2] / n * 100, digit))\n",
    "    } else {\n",
    "      exposure <- rep('all', nrow(dataset))\n",
    "\n",
    "      dataset$exposure <- 'all'\n",
    "\n",
    "      incid_trt <- dataset %>%\n",
    "          group_by(exposure) %>%\n",
    "          summarise(\n",
    "                n = round(sum(weight), digit),\n",
    "                event = round(sum(.data[[outcome]] * weight), digit),\n",
    "                rate = round(event / n * 100, digit),\n",
    "                lci = round(exactBinomCI(x=event, n)[1] / n * 100, digit),\n",
    "                uci = round(exactBinomCI(x=event, n)[2] / n * 100, digit))\n",
    "    }\n",
    "\n",
    "    incid_trt <- as.data.frame(incid_trt) %>%\n",
    "        mutate(rate = paste0(rate, \" (\", lci, \"-\", uci, \")\"))\n",
    "\n",
    "    colnames(incid_trt) <- c('group', 'n', 'event', 'incidence(%)')\n",
    "\n",
    "    results <- incid_trt[, c('group', 'n', 'event', 'incidence(%)')]\n",
    "\n",
    "    return(results)\n",
    "}"
   ]
  },
  {
   "cell_type": "markdown",
   "id": "b958669f-b111-44df-95d4-4008a8832e2a",
   "metadata": {},
   "source": [
    "# 2.数据清洗和描述"
   ]
  },
  {
   "cell_type": "markdown",
   "id": "0052de52-3a8f-447f-8ccb-e2d2d67238e1",
   "metadata": {},
   "source": [
    "## 2.1 加载数据集"
   ]
  },
  {
   "cell_type": "markdown",
   "id": "d903bb8e-5d8f-4979-9616-baaee64da543",
   "metadata": {
    "tags": []
   },
   "source": [
    "## 2.1 Import dataset"
   ]
  },
  {
   "cell_type": "code",
   "execution_count": 4,
   "id": "65a598cc-bb02-4b55-900d-8f1daa04d77b",
   "metadata": {},
   "outputs": [],
   "source": [
    "load(\"simulated_dataset.R\")"
   ]
  },
  {
   "cell_type": "code",
   "execution_count": 5,
   "id": "fbc80482-66a9-48ec-a846-0235fa560600",
   "metadata": {},
   "outputs": [
    {
     "data": {
      "text/html": [
       "<table class=\"dataframe\">\n",
       "<caption>A data.frame: 6 × 21</caption>\n",
       "<thead>\n",
       "\t<tr><th></th><th scope=col>ID</th><th scope=col>X_1</th><th scope=col>X_2</th><th scope=col>X_3</th><th scope=col>X_4</th><th scope=col>X_5</th><th scope=col>X_6</th><th scope=col>X_7</th><th scope=col>X_8</th><th scope=col>X_9</th><th scope=col>...</th><th scope=col>X_11</th><th scope=col>X_12</th><th scope=col>X_13</th><th scope=col>X_14</th><th scope=col>X_15</th><th scope=col>X_16</th><th scope=col>Y</th><th scope=col>delta</th><th scope=col>Y_binary</th><th scope=col>type</th></tr>\n",
       "\t<tr><th></th><th scope=col>&lt;dbl&gt;</th><th scope=col>&lt;dbl&gt;</th><th scope=col>&lt;dbl&gt;</th><th scope=col>&lt;dbl&gt;</th><th scope=col>&lt;dbl&gt;</th><th scope=col>&lt;dbl&gt;</th><th scope=col>&lt;dbl&gt;</th><th scope=col>&lt;dbl&gt;</th><th scope=col>&lt;dbl&gt;</th><th scope=col>&lt;dbl&gt;</th><th scope=col>...</th><th scope=col>&lt;dbl&gt;</th><th scope=col>&lt;dbl&gt;</th><th scope=col>&lt;dbl&gt;</th><th scope=col>&lt;dbl&gt;</th><th scope=col>&lt;dbl&gt;</th><th scope=col>&lt;dbl&gt;</th><th scope=col>&lt;dbl&gt;</th><th scope=col>&lt;dbl&gt;</th><th scope=col>&lt;dbl&gt;</th><th scope=col>&lt;chr&gt;</th></tr>\n",
       "</thead>\n",
       "<tbody>\n",
       "\t<tr><th scope=row>1</th><td>1</td><td>56</td><td>0</td><td>15.4</td><td>127</td><td>0</td><td>1</td><td>1</td><td>0</td><td>1</td><td>...</td><td>4.20</td><td>1</td><td>0</td><td>0</td><td>0</td><td>3</td><td>1.511000</td><td>1</td><td>0</td><td>raw</td></tr>\n",
       "\t<tr><th scope=row>2</th><td>2</td><td>63</td><td>0</td><td>14.8</td><td>122</td><td>0</td><td>0</td><td>0</td><td>0</td><td>1</td><td>...</td><td>3.72</td><td>0</td><td>0</td><td>0</td><td>0</td><td>3</td><td>2.854611</td><td>0</td><td>0</td><td>raw</td></tr>\n",
       "\t<tr><th scope=row>3</th><td>3</td><td>67</td><td>1</td><td>28.5</td><td>130</td><td>0</td><td>1</td><td>1</td><td>1</td><td>1</td><td>...</td><td>2.57</td><td>0</td><td>0</td><td>0</td><td>0</td><td>4</td><td>1.614861</td><td>0</td><td>1</td><td>raw</td></tr>\n",
       "\t<tr><th scope=row>4</th><td>4</td><td>50</td><td>1</td><td>23.3</td><td> 85</td><td>0</td><td>0</td><td>0</td><td>0</td><td>1</td><td>...</td><td>3.10</td><td>0</td><td>0</td><td>0</td><td>0</td><td>2</td><td>5.208720</td><td>0</td><td>0</td><td>raw</td></tr>\n",
       "\t<tr><th scope=row>5</th><td>5</td><td>64</td><td>0</td><td>17.9</td><td>109</td><td>0</td><td>0</td><td>0</td><td>0</td><td>1</td><td>...</td><td>2.61</td><td>0</td><td>1</td><td>0</td><td>0</td><td>1</td><td>4.713570</td><td>0</td><td>0</td><td>raw</td></tr>\n",
       "\t<tr><th scope=row>6</th><td>6</td><td>65</td><td>0</td><td>18.9</td><td> 82</td><td>0</td><td>0</td><td>1</td><td>0</td><td>2</td><td>...</td><td>2.57</td><td>1</td><td>0</td><td>0</td><td>0</td><td>3</td><td>1.428300</td><td>1</td><td>0</td><td>raw</td></tr>\n",
       "</tbody>\n",
       "</table>\n"
      ],
      "text/latex": [
       "A data.frame: 6 × 21\n",
       "\\begin{tabular}{r|lllllllllllllllllllll}\n",
       "  & ID & X\\_1 & X\\_2 & X\\_3 & X\\_4 & X\\_5 & X\\_6 & X\\_7 & X\\_8 & X\\_9 & ... & X\\_11 & X\\_12 & X\\_13 & X\\_14 & X\\_15 & X\\_16 & Y & delta & Y\\_binary & type\\\\\n",
       "  & <dbl> & <dbl> & <dbl> & <dbl> & <dbl> & <dbl> & <dbl> & <dbl> & <dbl> & <dbl> & ... & <dbl> & <dbl> & <dbl> & <dbl> & <dbl> & <dbl> & <dbl> & <dbl> & <dbl> & <chr>\\\\\n",
       "\\hline\n",
       "\t1 & 1 & 56 & 0 & 15.4 & 127 & 0 & 1 & 1 & 0 & 1 & ... & 4.20 & 1 & 0 & 0 & 0 & 3 & 1.511000 & 1 & 0 & raw\\\\\n",
       "\t2 & 2 & 63 & 0 & 14.8 & 122 & 0 & 0 & 0 & 0 & 1 & ... & 3.72 & 0 & 0 & 0 & 0 & 3 & 2.854611 & 0 & 0 & raw\\\\\n",
       "\t3 & 3 & 67 & 1 & 28.5 & 130 & 0 & 1 & 1 & 1 & 1 & ... & 2.57 & 0 & 0 & 0 & 0 & 4 & 1.614861 & 0 & 1 & raw\\\\\n",
       "\t4 & 4 & 50 & 1 & 23.3 &  85 & 0 & 0 & 0 & 0 & 1 & ... & 3.10 & 0 & 0 & 0 & 0 & 2 & 5.208720 & 0 & 0 & raw\\\\\n",
       "\t5 & 5 & 64 & 0 & 17.9 & 109 & 0 & 0 & 0 & 0 & 1 & ... & 2.61 & 0 & 1 & 0 & 0 & 1 & 4.713570 & 0 & 0 & raw\\\\\n",
       "\t6 & 6 & 65 & 0 & 18.9 &  82 & 0 & 0 & 1 & 0 & 2 & ... & 2.57 & 1 & 0 & 0 & 0 & 3 & 1.428300 & 1 & 0 & raw\\\\\n",
       "\\end{tabular}\n"
      ],
      "text/markdown": [
       "\n",
       "A data.frame: 6 × 21\n",
       "\n",
       "| <!--/--> | ID &lt;dbl&gt; | X_1 &lt;dbl&gt; | X_2 &lt;dbl&gt; | X_3 &lt;dbl&gt; | X_4 &lt;dbl&gt; | X_5 &lt;dbl&gt; | X_6 &lt;dbl&gt; | X_7 &lt;dbl&gt; | X_8 &lt;dbl&gt; | X_9 &lt;dbl&gt; | ... ... | X_11 &lt;dbl&gt; | X_12 &lt;dbl&gt; | X_13 &lt;dbl&gt; | X_14 &lt;dbl&gt; | X_15 &lt;dbl&gt; | X_16 &lt;dbl&gt; | Y &lt;dbl&gt; | delta &lt;dbl&gt; | Y_binary &lt;dbl&gt; | type &lt;chr&gt; |\n",
       "|---|---|---|---|---|---|---|---|---|---|---|---|---|---|---|---|---|---|---|---|---|---|\n",
       "| 1 | 1 | 56 | 0 | 15.4 | 127 | 0 | 1 | 1 | 0 | 1 | ... | 4.20 | 1 | 0 | 0 | 0 | 3 | 1.511000 | 1 | 0 | raw |\n",
       "| 2 | 2 | 63 | 0 | 14.8 | 122 | 0 | 0 | 0 | 0 | 1 | ... | 3.72 | 0 | 0 | 0 | 0 | 3 | 2.854611 | 0 | 0 | raw |\n",
       "| 3 | 3 | 67 | 1 | 28.5 | 130 | 0 | 1 | 1 | 1 | 1 | ... | 2.57 | 0 | 0 | 0 | 0 | 4 | 1.614861 | 0 | 1 | raw |\n",
       "| 4 | 4 | 50 | 1 | 23.3 |  85 | 0 | 0 | 0 | 0 | 1 | ... | 3.10 | 0 | 0 | 0 | 0 | 2 | 5.208720 | 0 | 0 | raw |\n",
       "| 5 | 5 | 64 | 0 | 17.9 | 109 | 0 | 0 | 0 | 0 | 1 | ... | 2.61 | 0 | 1 | 0 | 0 | 1 | 4.713570 | 0 | 0 | raw |\n",
       "| 6 | 6 | 65 | 0 | 18.9 |  82 | 0 | 0 | 1 | 0 | 2 | ... | 2.57 | 1 | 0 | 0 | 0 | 3 | 1.428300 | 1 | 0 | raw |\n",
       "\n"
      ],
      "text/plain": [
       "  ID X_1 X_2 X_3  X_4 X_5 X_6 X_7 X_8 X_9 ... X_11 X_12 X_13 X_14 X_15 X_16\n",
       "1 1  56  0   15.4 127 0   1   1   0   1   ... 4.20 1    0    0    0    3   \n",
       "2 2  63  0   14.8 122 0   0   0   0   1   ... 3.72 0    0    0    0    3   \n",
       "3 3  67  1   28.5 130 0   1   1   1   1   ... 2.57 0    0    0    0    4   \n",
       "4 4  50  1   23.3  85 0   0   0   0   1   ... 3.10 0    0    0    0    2   \n",
       "5 5  64  0   17.9 109 0   0   0   0   1   ... 2.61 0    1    0    0    1   \n",
       "6 6  65  0   18.9  82 0   0   1   0   2   ... 2.57 1    0    0    0    3   \n",
       "  Y        delta Y_binary type\n",
       "1 1.511000 1     0        raw \n",
       "2 2.854611 0     0        raw \n",
       "3 1.614861 0     1        raw \n",
       "4 5.208720 0     0        raw \n",
       "5 4.713570 0     0        raw \n",
       "6 1.428300 1     0        raw "
      ]
     },
     "metadata": {},
     "output_type": "display_data"
    }
   ],
   "source": [
    "head(dataset_final)"
   ]
  },
  {
   "cell_type": "code",
   "execution_count": 6,
   "id": "ccbe9104-61b2-42d2-aa9d-6c16adbe1a9c",
   "metadata": {},
   "outputs": [],
   "source": [
    "names(dataset_final) <- c('ID', 'age', 'male', 'BMI', 'SBP', 'MI', 'HF', 'COPD', \n",
    "                          'cancer', 'albuminuria', 'TC', 'LDLC', 'No_outpatient', 'No_inpatient', \n",
    "                          'liver_disease', 'hypoglycemia', 'CKD_stage', \n",
    "                          'AKI_time', 'AKI_status', 'AKI_binary', 'type') # 原文件中没有binary outcome"
   ]
  },
  {
   "cell_type": "code",
   "execution_count": 7,
   "id": "50b4af5d-9787-414d-8ecc-9a2b99f51bca",
   "metadata": {},
   "outputs": [
    {
     "data": {
      "text/html": [
       "<table class=\"dataframe\">\n",
       "<caption>A data.frame: 6 × 21</caption>\n",
       "<thead>\n",
       "\t<tr><th></th><th scope=col>ID</th><th scope=col>age</th><th scope=col>male</th><th scope=col>BMI</th><th scope=col>SBP</th><th scope=col>MI</th><th scope=col>HF</th><th scope=col>COPD</th><th scope=col>cancer</th><th scope=col>albuminuria</th><th scope=col>...</th><th scope=col>LDLC</th><th scope=col>No_outpatient</th><th scope=col>No_inpatient</th><th scope=col>liver_disease</th><th scope=col>hypoglycemia</th><th scope=col>CKD_stage</th><th scope=col>AKI_time</th><th scope=col>AKI_status</th><th scope=col>AKI_binary</th><th scope=col>type</th></tr>\n",
       "\t<tr><th></th><th scope=col>&lt;dbl&gt;</th><th scope=col>&lt;dbl&gt;</th><th scope=col>&lt;dbl&gt;</th><th scope=col>&lt;dbl&gt;</th><th scope=col>&lt;dbl&gt;</th><th scope=col>&lt;dbl&gt;</th><th scope=col>&lt;dbl&gt;</th><th scope=col>&lt;dbl&gt;</th><th scope=col>&lt;dbl&gt;</th><th scope=col>&lt;dbl&gt;</th><th scope=col>...</th><th scope=col>&lt;dbl&gt;</th><th scope=col>&lt;dbl&gt;</th><th scope=col>&lt;dbl&gt;</th><th scope=col>&lt;dbl&gt;</th><th scope=col>&lt;dbl&gt;</th><th scope=col>&lt;dbl&gt;</th><th scope=col>&lt;dbl&gt;</th><th scope=col>&lt;dbl&gt;</th><th scope=col>&lt;dbl&gt;</th><th scope=col>&lt;chr&gt;</th></tr>\n",
       "</thead>\n",
       "<tbody>\n",
       "\t<tr><th scope=row>1</th><td>1</td><td>56</td><td>0</td><td>15.4</td><td>127</td><td>0</td><td>1</td><td>1</td><td>0</td><td>1</td><td>...</td><td>4.20</td><td>1</td><td>0</td><td>0</td><td>0</td><td>3</td><td>1.511000</td><td>1</td><td>0</td><td>raw</td></tr>\n",
       "\t<tr><th scope=row>2</th><td>2</td><td>63</td><td>0</td><td>14.8</td><td>122</td><td>0</td><td>0</td><td>0</td><td>0</td><td>1</td><td>...</td><td>3.72</td><td>0</td><td>0</td><td>0</td><td>0</td><td>3</td><td>2.854611</td><td>0</td><td>0</td><td>raw</td></tr>\n",
       "\t<tr><th scope=row>3</th><td>3</td><td>67</td><td>1</td><td>28.5</td><td>130</td><td>0</td><td>1</td><td>1</td><td>1</td><td>1</td><td>...</td><td>2.57</td><td>0</td><td>0</td><td>0</td><td>0</td><td>4</td><td>1.614861</td><td>0</td><td>1</td><td>raw</td></tr>\n",
       "\t<tr><th scope=row>4</th><td>4</td><td>50</td><td>1</td><td>23.3</td><td> 85</td><td>0</td><td>0</td><td>0</td><td>0</td><td>1</td><td>...</td><td>3.10</td><td>0</td><td>0</td><td>0</td><td>0</td><td>2</td><td>5.208720</td><td>0</td><td>0</td><td>raw</td></tr>\n",
       "\t<tr><th scope=row>5</th><td>5</td><td>64</td><td>0</td><td>17.9</td><td>109</td><td>0</td><td>0</td><td>0</td><td>0</td><td>1</td><td>...</td><td>2.61</td><td>0</td><td>1</td><td>0</td><td>0</td><td>1</td><td>4.713570</td><td>0</td><td>0</td><td>raw</td></tr>\n",
       "\t<tr><th scope=row>6</th><td>6</td><td>65</td><td>0</td><td>18.9</td><td> 82</td><td>0</td><td>0</td><td>1</td><td>0</td><td>2</td><td>...</td><td>2.57</td><td>1</td><td>0</td><td>0</td><td>0</td><td>3</td><td>1.428300</td><td>1</td><td>0</td><td>raw</td></tr>\n",
       "</tbody>\n",
       "</table>\n"
      ],
      "text/latex": [
       "A data.frame: 6 × 21\n",
       "\\begin{tabular}{r|lllllllllllllllllllll}\n",
       "  & ID & age & male & BMI & SBP & MI & HF & COPD & cancer & albuminuria & ... & LDLC & No\\_outpatient & No\\_inpatient & liver\\_disease & hypoglycemia & CKD\\_stage & AKI\\_time & AKI\\_status & AKI\\_binary & type\\\\\n",
       "  & <dbl> & <dbl> & <dbl> & <dbl> & <dbl> & <dbl> & <dbl> & <dbl> & <dbl> & <dbl> & ... & <dbl> & <dbl> & <dbl> & <dbl> & <dbl> & <dbl> & <dbl> & <dbl> & <dbl> & <chr>\\\\\n",
       "\\hline\n",
       "\t1 & 1 & 56 & 0 & 15.4 & 127 & 0 & 1 & 1 & 0 & 1 & ... & 4.20 & 1 & 0 & 0 & 0 & 3 & 1.511000 & 1 & 0 & raw\\\\\n",
       "\t2 & 2 & 63 & 0 & 14.8 & 122 & 0 & 0 & 0 & 0 & 1 & ... & 3.72 & 0 & 0 & 0 & 0 & 3 & 2.854611 & 0 & 0 & raw\\\\\n",
       "\t3 & 3 & 67 & 1 & 28.5 & 130 & 0 & 1 & 1 & 1 & 1 & ... & 2.57 & 0 & 0 & 0 & 0 & 4 & 1.614861 & 0 & 1 & raw\\\\\n",
       "\t4 & 4 & 50 & 1 & 23.3 &  85 & 0 & 0 & 0 & 0 & 1 & ... & 3.10 & 0 & 0 & 0 & 0 & 2 & 5.208720 & 0 & 0 & raw\\\\\n",
       "\t5 & 5 & 64 & 0 & 17.9 & 109 & 0 & 0 & 0 & 0 & 1 & ... & 2.61 & 0 & 1 & 0 & 0 & 1 & 4.713570 & 0 & 0 & raw\\\\\n",
       "\t6 & 6 & 65 & 0 & 18.9 &  82 & 0 & 0 & 1 & 0 & 2 & ... & 2.57 & 1 & 0 & 0 & 0 & 3 & 1.428300 & 1 & 0 & raw\\\\\n",
       "\\end{tabular}\n"
      ],
      "text/markdown": [
       "\n",
       "A data.frame: 6 × 21\n",
       "\n",
       "| <!--/--> | ID &lt;dbl&gt; | age &lt;dbl&gt; | male &lt;dbl&gt; | BMI &lt;dbl&gt; | SBP &lt;dbl&gt; | MI &lt;dbl&gt; | HF &lt;dbl&gt; | COPD &lt;dbl&gt; | cancer &lt;dbl&gt; | albuminuria &lt;dbl&gt; | ... ... | LDLC &lt;dbl&gt; | No_outpatient &lt;dbl&gt; | No_inpatient &lt;dbl&gt; | liver_disease &lt;dbl&gt; | hypoglycemia &lt;dbl&gt; | CKD_stage &lt;dbl&gt; | AKI_time &lt;dbl&gt; | AKI_status &lt;dbl&gt; | AKI_binary &lt;dbl&gt; | type &lt;chr&gt; |\n",
       "|---|---|---|---|---|---|---|---|---|---|---|---|---|---|---|---|---|---|---|---|---|---|\n",
       "| 1 | 1 | 56 | 0 | 15.4 | 127 | 0 | 1 | 1 | 0 | 1 | ... | 4.20 | 1 | 0 | 0 | 0 | 3 | 1.511000 | 1 | 0 | raw |\n",
       "| 2 | 2 | 63 | 0 | 14.8 | 122 | 0 | 0 | 0 | 0 | 1 | ... | 3.72 | 0 | 0 | 0 | 0 | 3 | 2.854611 | 0 | 0 | raw |\n",
       "| 3 | 3 | 67 | 1 | 28.5 | 130 | 0 | 1 | 1 | 1 | 1 | ... | 2.57 | 0 | 0 | 0 | 0 | 4 | 1.614861 | 0 | 1 | raw |\n",
       "| 4 | 4 | 50 | 1 | 23.3 |  85 | 0 | 0 | 0 | 0 | 1 | ... | 3.10 | 0 | 0 | 0 | 0 | 2 | 5.208720 | 0 | 0 | raw |\n",
       "| 5 | 5 | 64 | 0 | 17.9 | 109 | 0 | 0 | 0 | 0 | 1 | ... | 2.61 | 0 | 1 | 0 | 0 | 1 | 4.713570 | 0 | 0 | raw |\n",
       "| 6 | 6 | 65 | 0 | 18.9 |  82 | 0 | 0 | 1 | 0 | 2 | ... | 2.57 | 1 | 0 | 0 | 0 | 3 | 1.428300 | 1 | 0 | raw |\n",
       "\n"
      ],
      "text/plain": [
       "  ID age male BMI  SBP MI HF COPD cancer albuminuria ... LDLC No_outpatient\n",
       "1 1  56  0    15.4 127 0  1  1    0      1           ... 4.20 1            \n",
       "2 2  63  0    14.8 122 0  0  0    0      1           ... 3.72 0            \n",
       "3 3  67  1    28.5 130 0  1  1    1      1           ... 2.57 0            \n",
       "4 4  50  1    23.3  85 0  0  0    0      1           ... 3.10 0            \n",
       "5 5  64  0    17.9 109 0  0  0    0      1           ... 2.61 0            \n",
       "6 6  65  0    18.9  82 0  0  1    0      2           ... 2.57 1            \n",
       "  No_inpatient liver_disease hypoglycemia CKD_stage AKI_time AKI_status\n",
       "1 0            0             0            3         1.511000 1         \n",
       "2 0            0             0            3         2.854611 0         \n",
       "3 0            0             0            4         1.614861 0         \n",
       "4 0            0             0            2         5.208720 0         \n",
       "5 1            0             0            1         4.713570 0         \n",
       "6 0            0             0            3         1.428300 1         \n",
       "  AKI_binary type\n",
       "1 0          raw \n",
       "2 0          raw \n",
       "3 1          raw \n",
       "4 0          raw \n",
       "5 0          raw \n",
       "6 0          raw "
      ]
     },
     "metadata": {},
     "output_type": "display_data"
    }
   ],
   "source": [
    "head(dataset_final)"
   ]
  },
  {
   "cell_type": "markdown",
   "id": "b31f1572-912a-4210-9430-b754ce98e32c",
   "metadata": {},
   "source": [
    "## 2.2 分类变量的注释"
   ]
  },
  {
   "cell_type": "markdown",
   "id": "a7f2c50d-0382-43be-8fab-6d7fb2fe15fd",
   "metadata": {},
   "source": [
    "## 2.2 Relabel of categorical covariates"
   ]
  },
  {
   "cell_type": "code",
   "execution_count": 8,
   "id": "7261f820-cb89-4336-8248-77c099ddf134",
   "metadata": {},
   "outputs": [],
   "source": [
    "dataset_final <- dataset_final %>%\n",
    "        mutate(\n",
    "        albuminuria = case_when( ## relabel of categorical variable\n",
    "            albuminuria == 1 ~ \"normal to mild\",\n",
    "            albuminuria == 2 ~ \"moderate\",\n",
    "            albuminuria == 3 ~ \"severe\"),\n",
    "        albuminuria = factor(albuminuria, levels = c(\"normal to mild\", \"moderate\", \"severe\")),\n",
    "        CKD_stage = case_when(\n",
    "            CKD_stage == 1 ~ \"G1-2\",\n",
    "            CKD_stage == 2 ~ \"G3a\",\n",
    "            CKD_stage == 3 ~ \"G3b\",\n",
    "            CKD_stage == 4 ~ \"G4\"),\n",
    "        CKD_stage = factor(CKD_stage, levels = c(\"G1-2\", \"G3a\", \"G3b\", \"G4\")))"
   ]
  },
  {
   "cell_type": "code",
   "execution_count": 9,
   "id": "28b67195-70d7-456a-ac0e-5b7f8cff29b5",
   "metadata": {},
   "outputs": [],
   "source": [
    "dataset_binary <- dataset_final[, c('ID', 'age', 'male', 'BMI', 'SBP', 'MI', 'HF', 'COPD', \n",
    "                          'cancer', 'albuminuria', 'TC', 'LDLC', 'No_outpatient', 'No_inpatient', \n",
    "                          'liver_disease', 'hypoglycemia', 'CKD_stage', 'AKI_binary', 'type')]"
   ]
  },
  {
   "cell_type": "markdown",
   "id": "b95747a8-31ff-4b49-99d7-5b6bd4a7754d",
   "metadata": {},
   "source": [
    "## 2.3 表1"
   ]
  },
  {
   "cell_type": "markdown",
   "id": "326d84fe-9e36-441a-b17e-1b86929e8e63",
   "metadata": {},
   "source": [
    "## 2.3 Table one"
   ]
  },
  {
   "cell_type": "code",
   "execution_count": 10,
   "id": "0efd4ca8-a0d1-4ca9-82b4-912d04afe5fd",
   "metadata": {},
   "outputs": [],
   "source": [
    "xvars <- c('age', 'male', \n",
    "           ## \n",
    "           'BMI', 'SBP', \n",
    "           ## cormobidities\n",
    "           'MI', 'HF', 'COPD', 'cancer', 'liver_disease', 'hypoglycemia', \n",
    "           ## lab tests\n",
    "           'albuminuria', 'CKD_stage', 'TC', 'LDLC', \n",
    "           ## healthcare utilization\n",
    "           'No_outpatient', 'No_inpatient')\n",
    "xfactorvars <- c('male', \n",
    "                 ## cormobidities\n",
    "                 'MI', 'HF', 'COPD', 'cancer', 'liver_disease', 'hypoglycemia', \n",
    "                 ## lab tests\n",
    "                 'albuminuria', 'CKD_stage')\n",
    "\n",
    "xmultilevelfactorvars <- c(\"albuminuria\", \"CKD_stage\") # multilevel categories\n",
    "\n",
    "xnonnormvars <- c(## healthcare utilization\n",
    "                  'No_outpatient', 'No_inpatient')"
   ]
  },
  {
   "cell_type": "code",
   "execution_count": 11,
   "id": "7eb80a71-876e-42c1-bdb2-17a978f2f672",
   "metadata": {
    "tags": []
   },
   "outputs": [],
   "source": [
    "tb1.all <- CreateTableOne(xvars, data = dataset_binary, factorVars = xfactorvars, includeNA = T)\n",
    "tb1.all <- print(tb1.all, nonnormal = xnonnormvars, printToggle = F)\n",
    "tb1.part <- CreateTableOne(xvars, strata = 'type', data = dataset_binary, factorVars = xfactorvars, includeNA = T)\n",
    "tb1.part <- print(tb1.part, nonnormal = xnonnormvars, test = F, smd = T, printToggle = F)\n",
    "\n",
    "N <- c(N=nrow(dataset_binary), colSums(!is.na(dataset_binary[xvars])))\n",
    "N_mcatv <- sapply(dataset_binary[, xmultilevelfactorvars], table) # 修改了添加multilevel categories的代码，增加了亚组的人数\n",
    "for (i in xmultilevelfactorvars) {\n",
    "    start <- str_which(names(N), i)\n",
    "    N_inset <- as.numeric(N_mcatv[[i]])\n",
    "    names(N_inset)  <- names(N_mcatv[[i]])\n",
    "    N <- c(N[1:start], N_inset, N[-(1:start)])\n",
    "}\n",
    "tb1 <- cbind(N, tb1.all, tb1.part)"
   ]
  },
  {
   "cell_type": "code",
   "execution_count": 12,
   "id": "b54f6844-7798-40af-905b-42fa31f1d148",
   "metadata": {},
   "outputs": [
    {
     "data": {
      "text/html": [
       "<table class=\"dataframe\">\n",
       "<caption>A matrix: 24 × 5 of type chr</caption>\n",
       "<thead>\n",
       "\t<tr><th></th><th scope=col>N</th><th scope=col>Overall</th><th scope=col>external</th><th scope=col>raw</th><th scope=col>SMD</th></tr>\n",
       "</thead>\n",
       "<tbody>\n",
       "\t<tr><th scope=row>N</th><td>8000</td><td>  8000             </td><td>  3000             </td><td>  5000             </td><td>      </td></tr>\n",
       "\t<tr><th scope=row>age</th><td>8000</td><td> 61.56 (5.91)      </td><td> 60.87 (7.16)      </td><td> 61.96 (4.97)      </td><td> 0.177</td></tr>\n",
       "\t<tr><th scope=row>male</th><td>8000</td><td>  3950 (49.4)      </td><td>  1493 (49.8)      </td><td>  2457 (49.1)      </td><td> 0.013</td></tr>\n",
       "\t<tr><th scope=row>BMI</th><td>8000</td><td> 22.34 (4.79)      </td><td> 22.57 (5.05)      </td><td> 22.20 (4.62)      </td><td> 0.078</td></tr>\n",
       "\t<tr><th scope=row>SBP</th><td>8000</td><td>113.80 (19.19)     </td><td>119.74 (19.90)     </td><td>110.24 (17.84)     </td><td> 0.503</td></tr>\n",
       "\t<tr><th scope=row>MI</th><td>8000</td><td>  1136 (14.2)      </td><td>   447 (14.9)      </td><td>   689 (13.8)      </td><td> 0.032</td></tr>\n",
       "\t<tr><th scope=row>HF</th><td>8000</td><td>  2073 (25.9)      </td><td>   800 (26.7)      </td><td>  1273 (25.5)      </td><td> 0.027</td></tr>\n",
       "\t<tr><th scope=row>COPD</th><td>8000</td><td>  2329 (29.1)      </td><td>   868 (28.9)      </td><td>  1461 (29.2)      </td><td> 0.006</td></tr>\n",
       "\t<tr><th scope=row>cancer</th><td>8000</td><td>  1693 (21.2)      </td><td>   636 (21.2)      </td><td>  1057 (21.1)      </td><td> 0.001</td></tr>\n",
       "\t<tr><th scope=row>liver_disease</th><td>8000</td><td>   626 ( 7.8)      </td><td>   240 ( 8.0)      </td><td>   386 ( 7.7)      </td><td> 0.010</td></tr>\n",
       "\t<tr><th scope=row>hypoglycemia</th><td>8000</td><td>   176 ( 2.2)      </td><td>    85 ( 2.8)      </td><td>    91 ( 1.8)      </td><td> 0.067</td></tr>\n",
       "\t<tr><th scope=row>albuminuria</th><td>8000</td><td>                   </td><td>                   </td><td>                   </td><td> 0.298</td></tr>\n",
       "\t<tr><th scope=row>normal to mild</th><td>4965</td><td>  4965 (62.1)      </td><td>  1593 (53.1)      </td><td>  3372 (67.4)      </td><td>      </td></tr>\n",
       "\t<tr><th scope=row>moderate</th><td>1928</td><td>  1928 (24.1)      </td><td>   914 (30.5)      </td><td>  1014 (20.3)      </td><td>      </td></tr>\n",
       "\t<tr><th scope=row>severe</th><td>1107</td><td>  1107 (13.8)      </td><td>   493 (16.4)      </td><td>   614 (12.3)      </td><td>      </td></tr>\n",
       "\t<tr><th scope=row>CKD_stage</th><td>8000</td><td>                   </td><td>                   </td><td>                   </td><td> 0.091</td></tr>\n",
       "\t<tr><th scope=row>G1-2</th><td>1498</td><td>  1498 (18.7)      </td><td>   598 (19.9)      </td><td>   900 (18.0)      </td><td>      </td></tr>\n",
       "\t<tr><th scope=row>G3a</th><td>4020</td><td>  4020 (50.2)      </td><td>  1529 (51.0)      </td><td>  2491 (49.8)      </td><td>      </td></tr>\n",
       "\t<tr><th scope=row>G3b</th><td>2013</td><td>  2013 (25.2)      </td><td>   686 (22.9)      </td><td>  1327 (26.5)      </td><td>      </td></tr>\n",
       "\t<tr><th scope=row>G4</th><td>469 </td><td>   469 ( 5.9)      </td><td>   187 ( 6.2)      </td><td>   282 ( 5.6)      </td><td>      </td></tr>\n",
       "\t<tr><th scope=row>TC</th><td>8000</td><td>  4.47 (1.11)      </td><td>  4.57 (1.09)      </td><td>  4.42 (1.12)      </td><td> 0.140</td></tr>\n",
       "\t<tr><th scope=row>LDLC</th><td>8000</td><td>  2.95 (0.65)      </td><td>  3.10 (0.72)      </td><td>  2.86 (0.58)      </td><td> 0.364</td></tr>\n",
       "\t<tr><th scope=row>No_outpatient</th><td>8000</td><td>  0.00 [0.00, 1.00]</td><td>  0.00 [0.00, 1.00]</td><td>  0.00 [0.00, 1.00]</td><td> 0.064</td></tr>\n",
       "\t<tr><th scope=row>No_inpatient</th><td>8000</td><td>  0.00 [0.00, 1.00]</td><td>  0.00 [0.00, 1.00]</td><td>  0.00 [0.00, 1.00]</td><td> 0.151</td></tr>\n",
       "</tbody>\n",
       "</table>\n"
      ],
      "text/latex": [
       "A matrix: 24 × 5 of type chr\n",
       "\\begin{tabular}{r|lllll}\n",
       "  & N & Overall & external & raw & SMD\\\\\n",
       "\\hline\n",
       "\tN & 8000 &   8000              &   3000              &   5000              &       \\\\\n",
       "\tage & 8000 &  61.56 (5.91)       &  60.87 (7.16)       &  61.96 (4.97)       &  0.177\\\\\n",
       "\tmale & 8000 &   3950 (49.4)       &   1493 (49.8)       &   2457 (49.1)       &  0.013\\\\\n",
       "\tBMI & 8000 &  22.34 (4.79)       &  22.57 (5.05)       &  22.20 (4.62)       &  0.078\\\\\n",
       "\tSBP & 8000 & 113.80 (19.19)      & 119.74 (19.90)      & 110.24 (17.84)      &  0.503\\\\\n",
       "\tMI & 8000 &   1136 (14.2)       &    447 (14.9)       &    689 (13.8)       &  0.032\\\\\n",
       "\tHF & 8000 &   2073 (25.9)       &    800 (26.7)       &   1273 (25.5)       &  0.027\\\\\n",
       "\tCOPD & 8000 &   2329 (29.1)       &    868 (28.9)       &   1461 (29.2)       &  0.006\\\\\n",
       "\tcancer & 8000 &   1693 (21.2)       &    636 (21.2)       &   1057 (21.1)       &  0.001\\\\\n",
       "\tliver\\_disease & 8000 &    626 ( 7.8)       &    240 ( 8.0)       &    386 ( 7.7)       &  0.010\\\\\n",
       "\thypoglycemia & 8000 &    176 ( 2.2)       &     85 ( 2.8)       &     91 ( 1.8)       &  0.067\\\\\n",
       "\talbuminuria & 8000 &                     &                     &                     &  0.298\\\\\n",
       "\tnormal to mild & 4965 &   4965 (62.1)       &   1593 (53.1)       &   3372 (67.4)       &       \\\\\n",
       "\tmoderate & 1928 &   1928 (24.1)       &    914 (30.5)       &   1014 (20.3)       &       \\\\\n",
       "\tsevere & 1107 &   1107 (13.8)       &    493 (16.4)       &    614 (12.3)       &       \\\\\n",
       "\tCKD\\_stage & 8000 &                     &                     &                     &  0.091\\\\\n",
       "\tG1-2 & 1498 &   1498 (18.7)       &    598 (19.9)       &    900 (18.0)       &       \\\\\n",
       "\tG3a & 4020 &   4020 (50.2)       &   1529 (51.0)       &   2491 (49.8)       &       \\\\\n",
       "\tG3b & 2013 &   2013 (25.2)       &    686 (22.9)       &   1327 (26.5)       &       \\\\\n",
       "\tG4 & 469  &    469 ( 5.9)       &    187 ( 6.2)       &    282 ( 5.6)       &       \\\\\n",
       "\tTC & 8000 &   4.47 (1.11)       &   4.57 (1.09)       &   4.42 (1.12)       &  0.140\\\\\n",
       "\tLDLC & 8000 &   2.95 (0.65)       &   3.10 (0.72)       &   2.86 (0.58)       &  0.364\\\\\n",
       "\tNo\\_outpatient & 8000 &   0.00 {[}0.00, 1.00{]} &   0.00 {[}0.00, 1.00{]} &   0.00 {[}0.00, 1.00{]} &  0.064\\\\\n",
       "\tNo\\_inpatient & 8000 &   0.00 {[}0.00, 1.00{]} &   0.00 {[}0.00, 1.00{]} &   0.00 {[}0.00, 1.00{]} &  0.151\\\\\n",
       "\\end{tabular}\n"
      ],
      "text/markdown": [
       "\n",
       "A matrix: 24 × 5 of type chr\n",
       "\n",
       "| <!--/--> | N | Overall | external | raw | SMD |\n",
       "|---|---|---|---|---|---|\n",
       "| N | 8000 |   8000              |   3000              |   5000              | <!----> |\n",
       "| age | 8000 |  61.56 (5.91)       |  60.87 (7.16)       |  61.96 (4.97)       |  0.177 |\n",
       "| male | 8000 |   3950 (49.4)       |   1493 (49.8)       |   2457 (49.1)       |  0.013 |\n",
       "| BMI | 8000 |  22.34 (4.79)       |  22.57 (5.05)       |  22.20 (4.62)       |  0.078 |\n",
       "| SBP | 8000 | 113.80 (19.19)      | 119.74 (19.90)      | 110.24 (17.84)      |  0.503 |\n",
       "| MI | 8000 |   1136 (14.2)       |    447 (14.9)       |    689 (13.8)       |  0.032 |\n",
       "| HF | 8000 |   2073 (25.9)       |    800 (26.7)       |   1273 (25.5)       |  0.027 |\n",
       "| COPD | 8000 |   2329 (29.1)       |    868 (28.9)       |   1461 (29.2)       |  0.006 |\n",
       "| cancer | 8000 |   1693 (21.2)       |    636 (21.2)       |   1057 (21.1)       |  0.001 |\n",
       "| liver_disease | 8000 |    626 ( 7.8)       |    240 ( 8.0)       |    386 ( 7.7)       |  0.010 |\n",
       "| hypoglycemia | 8000 |    176 ( 2.2)       |     85 ( 2.8)       |     91 ( 1.8)       |  0.067 |\n",
       "| albuminuria | 8000 | <!----> | <!----> | <!----> |  0.298 |\n",
       "| normal to mild | 4965 |   4965 (62.1)       |   1593 (53.1)       |   3372 (67.4)       | <!----> |\n",
       "| moderate | 1928 |   1928 (24.1)       |    914 (30.5)       |   1014 (20.3)       | <!----> |\n",
       "| severe | 1107 |   1107 (13.8)       |    493 (16.4)       |    614 (12.3)       | <!----> |\n",
       "| CKD_stage | 8000 | <!----> | <!----> | <!----> |  0.091 |\n",
       "| G1-2 | 1498 |   1498 (18.7)       |    598 (19.9)       |    900 (18.0)       | <!----> |\n",
       "| G3a | 4020 |   4020 (50.2)       |   1529 (51.0)       |   2491 (49.8)       | <!----> |\n",
       "| G3b | 2013 |   2013 (25.2)       |    686 (22.9)       |   1327 (26.5)       | <!----> |\n",
       "| G4 | 469  |    469 ( 5.9)       |    187 ( 6.2)       |    282 ( 5.6)       | <!----> |\n",
       "| TC | 8000 |   4.47 (1.11)       |   4.57 (1.09)       |   4.42 (1.12)       |  0.140 |\n",
       "| LDLC | 8000 |   2.95 (0.65)       |   3.10 (0.72)       |   2.86 (0.58)       |  0.364 |\n",
       "| No_outpatient | 8000 |   0.00 [0.00, 1.00] |   0.00 [0.00, 1.00] |   0.00 [0.00, 1.00] |  0.064 |\n",
       "| No_inpatient | 8000 |   0.00 [0.00, 1.00] |   0.00 [0.00, 1.00] |   0.00 [0.00, 1.00] |  0.151 |\n",
       "\n"
      ],
      "text/plain": [
       "               N    Overall             external            raw                \n",
       "N              8000   8000                3000                5000             \n",
       "age            8000  61.56 (5.91)        60.87 (7.16)        61.96 (4.97)      \n",
       "male           8000   3950 (49.4)         1493 (49.8)         2457 (49.1)      \n",
       "BMI            8000  22.34 (4.79)        22.57 (5.05)        22.20 (4.62)      \n",
       "SBP            8000 113.80 (19.19)      119.74 (19.90)      110.24 (17.84)     \n",
       "MI             8000   1136 (14.2)          447 (14.9)          689 (13.8)      \n",
       "HF             8000   2073 (25.9)          800 (26.7)         1273 (25.5)      \n",
       "COPD           8000   2329 (29.1)          868 (28.9)         1461 (29.2)      \n",
       "cancer         8000   1693 (21.2)          636 (21.2)         1057 (21.1)      \n",
       "liver_disease  8000    626 ( 7.8)          240 ( 8.0)          386 ( 7.7)      \n",
       "hypoglycemia   8000    176 ( 2.2)           85 ( 2.8)           91 ( 1.8)      \n",
       "albuminuria    8000                                                            \n",
       "normal to mild 4965   4965 (62.1)         1593 (53.1)         3372 (67.4)      \n",
       "moderate       1928   1928 (24.1)          914 (30.5)         1014 (20.3)      \n",
       "severe         1107   1107 (13.8)          493 (16.4)          614 (12.3)      \n",
       "CKD_stage      8000                                                            \n",
       "G1-2           1498   1498 (18.7)          598 (19.9)          900 (18.0)      \n",
       "G3a            4020   4020 (50.2)         1529 (51.0)         2491 (49.8)      \n",
       "G3b            2013   2013 (25.2)          686 (22.9)         1327 (26.5)      \n",
       "G4             469     469 ( 5.9)          187 ( 6.2)          282 ( 5.6)      \n",
       "TC             8000   4.47 (1.11)         4.57 (1.09)         4.42 (1.12)      \n",
       "LDLC           8000   2.95 (0.65)         3.10 (0.72)         2.86 (0.58)      \n",
       "No_outpatient  8000   0.00 [0.00, 1.00]   0.00 [0.00, 1.00]   0.00 [0.00, 1.00]\n",
       "No_inpatient   8000   0.00 [0.00, 1.00]   0.00 [0.00, 1.00]   0.00 [0.00, 1.00]\n",
       "               SMD   \n",
       "N                    \n",
       "age             0.177\n",
       "male            0.013\n",
       "BMI             0.078\n",
       "SBP             0.503\n",
       "MI              0.032\n",
       "HF              0.027\n",
       "COPD            0.006\n",
       "cancer          0.001\n",
       "liver_disease   0.010\n",
       "hypoglycemia    0.067\n",
       "albuminuria     0.298\n",
       "normal to mild       \n",
       "moderate             \n",
       "severe               \n",
       "CKD_stage       0.091\n",
       "G1-2                 \n",
       "G3a                  \n",
       "G3b                  \n",
       "G4                   \n",
       "TC              0.140\n",
       "LDLC            0.364\n",
       "No_outpatient   0.064\n",
       "No_inpatient    0.151"
      ]
     },
     "metadata": {},
     "output_type": "display_data"
    }
   ],
   "source": [
    "tb1"
   ]
  },
  {
   "cell_type": "markdown",
   "id": "d44672a3-df4d-4934-aaa9-b9dcb8f9bdb2",
   "metadata": {},
   "source": [
    "## 2.4 表2 "
   ]
  },
  {
   "cell_type": "markdown",
   "id": "2c6eb999-d638-4bf9-87ca-2d58a32f5209",
   "metadata": {},
   "source": [
    "## 2.4 Table 2"
   ]
  },
  {
   "cell_type": "code",
   "execution_count": 13,
   "id": "4b6d5919-1edb-4dcc-8262-efa8b42e055c",
   "metadata": {},
   "outputs": [],
   "source": [
    "dataset <- dataset_binary %>% filter(type == \"raw\")"
   ]
  },
  {
   "cell_type": "code",
   "execution_count": 14,
   "id": "e4cac857-ece0-4895-9711-0098a3c01f29",
   "metadata": {},
   "outputs": [
    {
     "data": {
      "text/html": [
       "<table class=\"dataframe\">\n",
       "<caption>A data.frame: 1 × 4</caption>\n",
       "<thead>\n",
       "\t<tr><th scope=col>group</th><th scope=col>n</th><th scope=col>event</th><th scope=col>incidence(%)</th></tr>\n",
       "\t<tr><th scope=col>&lt;chr&gt;</th><th scope=col>&lt;dbl&gt;</th><th scope=col>&lt;dbl&gt;</th><th scope=col>&lt;chr&gt;</th></tr>\n",
       "</thead>\n",
       "<tbody>\n",
       "\t<tr><td>all</td><td>5000</td><td>453</td><td>9.06 (8.28-9.86)</td></tr>\n",
       "</tbody>\n",
       "</table>\n"
      ],
      "text/latex": [
       "A data.frame: 1 × 4\n",
       "\\begin{tabular}{llll}\n",
       " group & n & event & incidence(\\%)\\\\\n",
       " <chr> & <dbl> & <dbl> & <chr>\\\\\n",
       "\\hline\n",
       "\t all & 5000 & 453 & 9.06 (8.28-9.86)\\\\\n",
       "\\end{tabular}\n"
      ],
      "text/markdown": [
       "\n",
       "A data.frame: 1 × 4\n",
       "\n",
       "| group &lt;chr&gt; | n &lt;dbl&gt; | event &lt;dbl&gt; | incidence(%) &lt;chr&gt; |\n",
       "|---|---|---|---|\n",
       "| all | 5000 | 453 | 9.06 (8.28-9.86) |\n",
       "\n"
      ],
      "text/plain": [
       "  group n    event incidence(%)    \n",
       "1 all   5000 453   9.06 (8.28-9.86)"
      ]
     },
     "metadata": {},
     "output_type": "display_data"
    }
   ],
   "source": [
    "Tab1b_of_binary_outcome(\"AKI_binary\", dataset = dataset, digit = 2)"
   ]
  },
  {
   "cell_type": "code",
   "execution_count": 15,
   "id": "7255f7d4-fd4e-43ad-a60c-a55f2153aeb1",
   "metadata": {},
   "outputs": [],
   "source": [
    "dataset_external <- dataset_binary %>% filter(type == \"external\")"
   ]
  },
  {
   "cell_type": "code",
   "execution_count": 16,
   "id": "cda2e706-121a-4009-b68b-173ee118c05d",
   "metadata": {},
   "outputs": [
    {
     "data": {
      "text/html": [
       "<table class=\"dataframe\">\n",
       "<caption>A data.frame: 1 × 4</caption>\n",
       "<thead>\n",
       "\t<tr><th scope=col>group</th><th scope=col>n</th><th scope=col>event</th><th scope=col>incidence(%)</th></tr>\n",
       "\t<tr><th scope=col>&lt;chr&gt;</th><th scope=col>&lt;dbl&gt;</th><th scope=col>&lt;dbl&gt;</th><th scope=col>&lt;chr&gt;</th></tr>\n",
       "</thead>\n",
       "<tbody>\n",
       "\t<tr><td>all</td><td>3000</td><td>267</td><td>8.9 (7.9-9.93)</td></tr>\n",
       "</tbody>\n",
       "</table>\n"
      ],
      "text/latex": [
       "A data.frame: 1 × 4\n",
       "\\begin{tabular}{llll}\n",
       " group & n & event & incidence(\\%)\\\\\n",
       " <chr> & <dbl> & <dbl> & <chr>\\\\\n",
       "\\hline\n",
       "\t all & 3000 & 267 & 8.9 (7.9-9.93)\\\\\n",
       "\\end{tabular}\n"
      ],
      "text/markdown": [
       "\n",
       "A data.frame: 1 × 4\n",
       "\n",
       "| group &lt;chr&gt; | n &lt;dbl&gt; | event &lt;dbl&gt; | incidence(%) &lt;chr&gt; |\n",
       "|---|---|---|---|\n",
       "| all | 3000 | 267 | 8.9 (7.9-9.93) |\n",
       "\n"
      ],
      "text/plain": [
       "  group n    event incidence(%)  \n",
       "1 all   3000 267   8.9 (7.9-9.93)"
      ]
     },
     "metadata": {},
     "output_type": "display_data"
    }
   ],
   "source": [
    "Tab1b_of_binary_outcome(\"AKI_binary\", dataset = dataset_external, digit = 2)"
   ]
  },
  {
   "cell_type": "code",
   "execution_count": 17,
   "id": "cc148646-8ebf-4c29-8417-0a73a0803c0d",
   "metadata": {},
   "outputs": [
    {
     "data": {
      "text/html": [
       "<table class=\"dataframe\">\n",
       "<caption>A data.frame: 2 × 4</caption>\n",
       "<thead>\n",
       "\t<tr><th scope=col>group</th><th scope=col>n</th><th scope=col>event</th><th scope=col>incidence(%)</th></tr>\n",
       "\t<tr><th scope=col>&lt;chr&gt;</th><th scope=col>&lt;dbl&gt;</th><th scope=col>&lt;dbl&gt;</th><th scope=col>&lt;chr&gt;</th></tr>\n",
       "</thead>\n",
       "<tbody>\n",
       "\t<tr><td>external</td><td>3000</td><td>267</td><td>8.9 (7.9-9.93)  </td></tr>\n",
       "\t<tr><td>raw     </td><td>5000</td><td>453</td><td>9.06 (8.28-9.86)</td></tr>\n",
       "</tbody>\n",
       "</table>\n"
      ],
      "text/latex": [
       "A data.frame: 2 × 4\n",
       "\\begin{tabular}{llll}\n",
       " group & n & event & incidence(\\%)\\\\\n",
       " <chr> & <dbl> & <dbl> & <chr>\\\\\n",
       "\\hline\n",
       "\t external & 3000 & 267 & 8.9 (7.9-9.93)  \\\\\n",
       "\t raw      & 5000 & 453 & 9.06 (8.28-9.86)\\\\\n",
       "\\end{tabular}\n"
      ],
      "text/markdown": [
       "\n",
       "A data.frame: 2 × 4\n",
       "\n",
       "| group &lt;chr&gt; | n &lt;dbl&gt; | event &lt;dbl&gt; | incidence(%) &lt;chr&gt; |\n",
       "|---|---|---|---|\n",
       "| external | 3000 | 267 | 8.9 (7.9-9.93)   |\n",
       "| raw      | 5000 | 453 | 9.06 (8.28-9.86) |\n",
       "\n"
      ],
      "text/plain": [
       "  group    n    event incidence(%)    \n",
       "1 external 3000 267   8.9 (7.9-9.93)  \n",
       "2 raw      5000 453   9.06 (8.28-9.86)"
      ]
     },
     "metadata": {},
     "output_type": "display_data"
    }
   ],
   "source": [
    "Tab1b_of_binary_outcome(\"AKI_binary\", dataset = dataset_binary, digit = 2, exposure = \"type\")"
   ]
  },
  {
   "cell_type": "markdown",
   "id": "5c6a6bd3-1e9e-4dc4-9a7d-4a8819aa57d5",
   "metadata": {},
   "source": [
    "上述的代码和表格使用了预先定义的功能*Tab1b_of_time_to_event_outcome*在训练集和验证集中分别生成了结局。从表中可以看到，模型训练集总人数为5000人，在所观察的人群中，有453人发生了结局事件(Acute Kidney Injury, AKI),而AKI的发病率为9.06%(95%CI: 8.26%-9.91%)；验证集总人数3000人，有267人发生了结局事件(Acute Kidney Injury, AKI),而AKI的发病率为8.90% (95%CI: 7.90%-10.0%)。"
   ]
  },
  {
   "cell_type": "markdown",
   "id": "17841a50-87ea-45af-afa1-574cd1af4a94",
   "metadata": {},
   "source": [
    "## 2.5 Transformation of covariates"
   ]
  },
  {
   "cell_type": "markdown",
   "id": "6e6117f2-78c0-4605-8983-5b3d2309b25f",
   "metadata": {},
   "source": [
    "## 2.5 协变量的转换"
   ]
  },
  {
   "cell_type": "markdown",
   "id": "4ecc10e1-8a92-432f-868a-8e1a4125b871",
   "metadata": {},
   "source": [
    "### （1）Standardization \n",
    "$$\n",
    "\\frac{X-E(X)}{\\sqrt{Var(X)}}\n",
    "$$"
   ]
  },
  {
   "cell_type": "markdown",
   "id": "28608bbf-2dde-4913-911d-834f2a5bb16f",
   "metadata": {},
   "source": [
    "标准化：这里给出了Z-Score标准化的公式，这种方法给予原始数据的均值(mean)和标准差(standard deviation)进行数据的标准化。经过处理的数据符合标准正态分布，即均值为0，标准差为1。"
   ]
  },
  {
   "cell_type": "markdown",
   "id": "4fd76d98-c4f0-4fa2-bb3b-f533813dcfef",
   "metadata": {
    "tags": []
   },
   "source": [
    "### （2）Normalization\n",
    "$$\n",
    "\\frac{X-min(X)}{max(X)-min(X)}\n",
    "$$\n",
    "\n",
    "归一化：这里给出了Min-Max归一化(Min-Max Normalization)，也称为离差标准化，是对原始数据的线性变换，使结果值映射到[0-1]之间。其中max(X)为样本数据的最大值，min(X)为样本数据的最小值。这种归一化方法比较适用在数值比较集中的情况。\n"
   ]
  },
  {
   "cell_type": "markdown",
   "id": "a47c3a96-1702-4cd5-af67-dad9a72dc798",
   "metadata": {},
   "source": [
    "### （3）Restricted cubic spline"
   ]
  },
  {
   "cell_type": "markdown",
   "id": "d5b6474e-625f-4f4b-a001-5e78ea7eb179",
   "metadata": {},
   "source": [
    "$$\n",
    "r(X,K) = X, S_{K,1}, ..., S_{K,(K-2)}\n",
    "$$"
   ]
  },
  {
   "cell_type": "markdown",
   "id": "97803550-5d1e-46d0-a39d-10d17d045cee",
   "metadata": {},
   "source": [
    "$$\n",
    "S_{Ki} = \\gamma (X-\\xi_{i})_{+}^{3} - \\frac{(\\xi_{K}-\\xi_{i})(\\gamma(X-\\xi_{K-1}))_{+}^{3}}{\\xi_{K}-\\xi_{K-1}} + \\frac{(\\xi_{K-1}-\\xi_{i})(\\gamma(X-\\xi_{K}))_{+}^{3}}{\\xi_{K}-\\xi_{K-1}}, i = 1, ..., K-2\n",
    "$$"
   ]
  },
  {
   "cell_type": "markdown",
   "id": "21dd4d5b-0e4a-4b9d-be97-505f6b9b062e",
   "metadata": {},
   "source": [
    "$$ \\gamma=\\left\\{\n",
    "    \\begin{array}{rcl}\n",
    "    \t1 & & {norm=0} \\\\\n",
    "    \t\\xi_{K}-\\xi_{K-1} & & {norm=1} \\\\\n",
    "    \t(\\xi_{K}-\\xi_{1})^{2} & & {norm=2} \n",
    "    \\end{array} \\right.\n",
    "$$"
   ]
  },
  {
   "cell_type": "markdown",
   "id": "f24a7fe6-e571-45c5-b4bc-f22cdbc1311c",
   "metadata": {},
   "source": [
    "$K$ number of knots, parameter *nk* in function <span style=\"color:blue\">rcspline.eval</span>. For 3 knots, the outer quantiles used are 0.10 and 0.90. For 4-6 knots, the outer quantiles used are 0.05 and 0.95. For *nk*>6, the outer quantiles are 0.025 and 0.975. The knots are equally spaced between these on the quantile scale. When *nk* knots are set, a matrix with *nk-1* columns will be returned. \n",
    "<br>\n",
    "$\\gamma$ normalization constant, parameter *norm* in function <span style=\"color:blue\">rcspline.eval</span>. For *norm = 0*, no normalization is used. For *norm = 1*, constant $\\xi_{K}-\\xi_{K-1}$ is used to normalize non-linear terms. For *norm = 2*, constant $(\\xi_{K}-\\xi_{1})^{2}$ is used to normalize non-linear terms, which has the advantage of making all nonlinear terms beon the x-scale."
   ]
  },
  {
   "cell_type": "markdown",
   "id": "1c36593d-7a2c-415f-b435-971857673f5f",
   "metadata": {},
   "source": [
    "### （3）限制性立方样条 (Restricted cubic spline，RCS)\n",
    "在上述公式中，$K$为节点数，在<span style = \"color:blue\">rms</span>包函数<span style = \"color:blue\">rcspline.eval</span>中为参数*nk*。如果节点数为3，对应的最外侧节点位置为0.10和0.90；如果节点数为4-6个，对应的位置为0.05和0.95；如果节点数大于6，则对应的位置为0.025和0.975，这些节点的间距相等。如果节点数为*nk*个，则返回*nk-1*列。\n",
    "<br>\n",
    "$\\gamma$为归一化常数，在函数<span style = \"color:blue\">rcspline.eval</span> 中为参数*norm*。当*norm = 0* 时，不使用归一化；当*norm = 1* 时，常数$\\xi_{K}-\\xi_{K-1}$ 用于非线性项的归一化；当*norm = 2* 时，常数$(\\xi_{K}-\\xi_{1})^{\\frac{2}{3}}$ 用于非线性项的归一化，这样做的优点是使所有的非线性项在x轴上具有相同的尺度。\n"
   ]
  },
  {
   "cell_type": "code",
   "execution_count": 18,
   "id": "44a12a13-b385-469d-9635-c6f230d9a946",
   "metadata": {},
   "outputs": [],
   "source": [
    "dataset_binary_trans <- dataset_binary %>% \n",
    "    mutate(age_square = age ^ 2) %>% ## generate square of continuous variable\n",
    "    mutate(log_LDLC = log(LDLC)) %>% ## generate log of continuous variable\n",
    "    mutate(age_std = (age - mean(age)) / sd(age)) %>% ## standardization\n",
    "    mutate(age_nor = (age - min(age)) / (max(age) - min(age))) %>% ## normalization [0, 1]\n",
    "    mutate(age_category = case_when( ## categorization of continuous variable\n",
    "               age < 50 ~ '<50', \n",
    "               age >= 50 & age < 60 ~ '50-59', \n",
    "               age >= 60 & age < 70 ~ '60-69', \n",
    "               age >= 70 & age < 80 ~ '70-79',\n",
    "               age >= 80 ~ '>=80'),\n",
    "           age_category = factor(age_category, levels = c('<50', '50-59', '60-69', '70-79', '>=80'))) %>%\n",
    "    mutate(hypertension = ifelse(SBP > 130, 1, 0)) %>% \n",
    "    mutate(BMI_category = case_when(\n",
    "               BMI < 18.5 ~ 'underweight', \n",
    "               BMI >= 18.5 & BMI < 25 ~ 'normal weight',\n",
    "               BMI >= 25 & BMI < 30 ~ 'overweight', \n",
    "               BMI >= 30 ~ 'obesity'), \n",
    "           BMI_category = factor(BMI_category,levels = c('underweight', 'normal weight', 'overweight', 'obesity'))) %>% \n",
    "    mutate(TC_category = cut(TC, breaks = quantile(TC, probs = seq(0, 1, 0.25)), include.lowest = T), \n",
    "           TC_category = relevel(TC_category, ref = '(3.75,4.49]')) %>% ## reset reference group\n",
    "    mutate(TC_rcs_1 = rcspline.eval(TC, nk = 4, norm = 0, knots.only = F, inclx = T)[, 1], ## generate resctricted cubic spline\n",
    "           TC_rcs_2 = rcspline.eval(TC, nk = 4, norm = 0, knots.only = F, inclx = T)[, 2], \n",
    "           TC_rcs_3 = rcspline.eval(TC, nk = 4, norm = 0, knots.only = F, inclx = T)[, 3]) %>%\n",
    "    mutate(age_male = age * (male == 1), ## generate interaction terms \n",
    "           male_cancer = male * cancer,\n",
    "           male_CKD_stage_G3a = (male == 1) * (CKD_stage == \"G3a\"),\n",
    "           male_CKD_stage_G3b = (male == 1) * (CKD_stage == \"G3b\"),\n",
    "           male_CKD_stage_G4 = (male == 1) * (CKD_stage == \"G4\"),\n",
    "           age_TC = age * TC,\n",
    "           age_BMI_TC = age * BMI * TC)"
   ]
  },
  {
   "cell_type": "markdown",
   "id": "cfb0f531-e326-420d-8dfa-3e2bf98c5b71",
   "metadata": {},
   "source": [
    "## 2.6 预测变量池"
   ]
  },
  {
   "cell_type": "markdown",
   "id": "5d191816-0617-4f42-9891-61361931e97e",
   "metadata": {},
   "source": [
    "*dataset_binary_trans*这个数据集中包含了所有原始变量和上述新生成的变量，除去患者ID和结局，现在预测变量池(canditate predictor pool)内共有35个变量，包括原始变量:**年龄、性别、身体质量指数(BMI)、收缩压(SBP)、有无心肌梗死(MI)、心力衰竭(HF)、慢性阻塞性肺病(COPD)、癌症、尿蛋白、总胆固醇(TC)、低密度脂蛋白(LDLC)、门诊就诊次数、住院次数、有无肝脏疾病、低血糖症、CKD分期**，转换后和新生成的变量:**年龄的平方、标准化年龄、归一化年龄、年龄段、对数化LDLC、有无高血压、BMI水平、TC水平、限制性立方样条转换后不同水平下的TC(TC_rcs_1/2/3)**, 交互项包括：<b>年龄$\\times$性别(age_male)、性别$\\times$有无癌症(male_cancer)、性别$\\times$CKD分期(male_CKD_stage_G3a/G3b/G4)、年龄$\\times$TC(age_TC)、年龄$\\times$BMI$\\times$TC(age_BMI_TC)</b>。"
   ]
  },
  {
   "cell_type": "code",
   "execution_count": 19,
   "id": "b701ba00-a100-4d3e-a59c-c0da7192a4bc",
   "metadata": {
    "tags": []
   },
   "outputs": [],
   "source": [
    "dataset <- dataset_binary_trans %>% filter(type == 'raw')\n",
    "dataset_external <- dataset_binary_trans %>% filter(type == 'external')\n",
    "save(dataset, dataset_external, file = 'dataset_binary_after_description.R')"
   ]
  }
 ],
 "metadata": {
  "kernelspec": {
   "display_name": "R",
   "language": "R",
   "name": "ir"
  },
  "language_info": {
   "codemirror_mode": "r",
   "file_extension": ".r",
   "mimetype": "text/x-r-source",
   "name": "R",
   "pygments_lexer": "r",
   "version": "4.1.3"
  }
 },
 "nbformat": 4,
 "nbformat_minor": 5
}
