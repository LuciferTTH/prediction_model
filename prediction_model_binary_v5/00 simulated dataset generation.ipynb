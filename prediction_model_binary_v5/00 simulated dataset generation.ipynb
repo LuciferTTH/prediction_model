{
 "cells": [
  {
   "cell_type": "markdown",
   "metadata": {
    "tags": []
   },
   "source": [
    "# 1.载入包和定义函数"
   ]
  },
  {
   "cell_type": "code",
   "execution_count": 1,
   "metadata": {
    "tags": []
   },
   "outputs": [],
   "source": [
    "# Install required packages and library them\n",
    "packages <- c(\"LaplacesDemon\",\n",
    "              \"dplyr\")\n",
    "\n",
    "for (i in packages) {\n",
    "    if (!suppressMessages(require(i, character.only = TRUE))) {\n",
    "        install.packages(i)\n",
    "    }\n",
    "}"
   ]
  },
  {
   "cell_type": "code",
   "execution_count": 2,
   "metadata": {},
   "outputs": [],
   "source": [
    "rnorm_truncated <- function(n, mean, sd, ...) {\n",
    "    additional_arguments <- list(...)\n",
    "    if (length(additional_arguments) == 1 & names(additional_arguments)[[1]] == 'a') {\n",
    "        X = c()\n",
    "        j = 0\n",
    "        for (i in 1 : 10000) {\n",
    "            x = rnorm(1, mean, sd)\n",
    "            if (x >= additional_arguments[[1]]) {\n",
    "                X = c(X, x)\n",
    "                j = j + 1\n",
    "            } \n",
    "            if (j == n) {\n",
    "                j = 0\n",
    "                break\n",
    "            }\n",
    "        }\n",
    "    } else if (length(additional_arguments) == 1 & names(additional_arguments)[[1]] == 'b') {\n",
    "        X = c()\n",
    "        j = 0\n",
    "        for (i in 1 : 10000) {\n",
    "            x = rnorm(1, mean, sd)\n",
    "            if (x <= additional_arguments[[1]]) {\n",
    "                X = c(X, x)\n",
    "                j = j + 1\n",
    "            } \n",
    "            if (j == n) {\n",
    "                j = 0\n",
    "                break\n",
    "            }\n",
    "        }\n",
    "    } else if (length(additional_arguments) == 2) {\n",
    "        X = c()\n",
    "        j = 0\n",
    "        for (i in 1 : 10000) {\n",
    "            x = rnorm(1, mean, sd)\n",
    "            if (x >= additional_arguments[[1]] & x <= additional_arguments[[2]]) {\n",
    "                X = c(X, x)\n",
    "                j = j + 1\n",
    "            } \n",
    "            if (j == n) {\n",
    "                j = 0\n",
    "                break\n",
    "            }\n",
    "        }\n",
    "    } else {\n",
    "        stop(\"wrong input\")\n",
    "    }\n",
    "    return(X)\n",
    "}"
   ]
  },
  {
   "cell_type": "markdown",
   "metadata": {},
   "source": [
    "# 2.数据"
   ]
  },
  {
   "cell_type": "markdown",
   "metadata": {},
   "source": [
    "## 2.1 模拟情景（原理和方法）"
   ]
  },
  {
   "cell_type": "markdown",
   "metadata": {},
   "source": [
    "### （1）设计矩阵\n",
    "$X_1 \\sim \\psi(62, 8, 18, 130; x)$\n",
    "\\begin{equation}\n",
    "  \\psi(\\mu, \\sigma, a, b; x) =\n",
    "    \\begin{cases}\n",
    "      0 & \\text{if $x < a$}\\\\\n",
    "      \\frac{\\Phi(\\mu, \\sigma, x)}{\\Phi(\\mu, \\sigma, b) - \\Phi(\\mu, \\sigma, a)} & \\text{if $a \\leq x \\leq b$} \\\\\n",
    "      0 & \\text{if $x > b$}\n",
    "    \\end{cases}       \n",
    "\\end{equation}\n",
    "$X_2 \\sim Bern(0.42 + 0.001 \\times X_1)$ <br>\n",
    "$X_3 \\sim \\nu(x, X_2)$\n",
    "\\begin{equation}\n",
    "  \\nu(x, X_2) =\n",
    "    \\begin{cases}\n",
    "      (1 - 0.42 + 0.001 \\times X_1) \\times \\psi(20, 5, 13, 49; x) & \\text{if $X_2 = 0$}\\\\\n",
    "      (0.42 + 0.001 \\times X_1) \\times \\psi(23, 5, 15, 50; x) & \\text{if $X_2 = 1$}\\\\\n",
    "    \\end{cases}       \n",
    "\\end{equation}\n",
    "$X_4 \\sim \\psi(110, 18, 20, 300; x)$ <br>\n",
    "$X_5 \\sim Bern(0.13 + 0.005 \\times X_2 + 0.02 \\times I(X_4 > 140))$ <br>\n",
    "$X_6 \\sim Bern(0.23 + 0.0005 \\times X_1)$ <br>\n",
    "$X_7 \\sim Bern(0.29 + 0.01 \\times X_2)$ <br>\n",
    "$X_8 \\sim Bern(0.2)$ <br>\n",
    "$X_9 \\sim Multin(0.68, 0.2, 0.12)$ <br>\n",
    "$X_{10} \\sim \\psi(4.4 + 0.1 \\times X_2, 1.1, 0, 100; x)$ <br>\n",
    "$log(X_{11}) \\sim N(log(2.8), 0.2)$ <br>\n",
    "$X_{12} \\sim Pois(0.3)$ <br>\n",
    "$X_{13} \\sim Pois(0.05 + 0.01 \\times X_1)$ <br>\n",
    "$X_{14} \\sim Bern(0.08)$ <br>\n",
    "$X_{15} \\sim Bern(0.02)$ <br>\n",
    "$X_{16} \\sim Multin(0.19, 0.50, 0.25, 0.06)$"
   ]
  },
  {
   "cell_type": "markdown",
   "metadata": {},
   "source": [
    "### （2）生存结局变量\n",
    "$T \\sim Exp(\\lambda_0 + \\beta_1 \\times X_1 + \\beta_2 \\times X_1 ^ 2 + \\beta_3 \\times X_2 + \\beta_4 \\times X_3 + \\beta_5 \\times X_5 + \\beta_6 \\times X_7 + \\beta_7 \\times log(X_{11}) + \\beta_8 \\times X_2 \\times X_6 + \\beta_9 \\times X_2 \\times X_{15} \\times X_{16} + \\beta_{10} \\times I(X_4 > 150))$ <br>\n",
    "$C_{administrative} = 7$ <br>\n",
    "$C_{random} \\sim U(1, 7)$ <br>\n",
    "$T_{death} \\sim Exp(\\Lambda_0 + \\alpha_1 \\times X_1)$ <br>\n",
    "**没有competing risk的场景** <br>\n",
    "$Y = min(T, C_{administrative}, C_{random})$ <br>\n",
    "$\\Delta = I(Y=T)$ <br>\n",
    "**有competing risk的场景** <br>\n",
    "$Y = min(T, C_{administrative}, C_{random}, T_{death})$ <br>\n",
    "$\\Delta = I(Y=T)$"
   ]
  },
  {
   "cell_type": "markdown",
   "metadata": {},
   "source": [
    "### （3）二分类结局变量\n",
    "$Y \\sim Bern(\\theta_{0} + \\theta_{1} \\times X_{1} + \\theta_2 \\times X_2 + \\theta_3 \\times X_5 + \\theta_4 \\times I(X_9 = 1) + \\theta_5 \\times I(X_{10} \\geq 4.5))$"
   ]
  },
  {
   "cell_type": "markdown",
   "metadata": {},
   "source": [
    "## 2.2 模拟代码"
   ]
  },
  {
   "cell_type": "code",
   "execution_count": 3,
   "metadata": {},
   "outputs": [],
   "source": [
    "set.seed(1234)"
   ]
  },
  {
   "cell_type": "code",
   "execution_count": 4,
   "metadata": {
    "tags": []
   },
   "outputs": [],
   "source": [
    "N = 5000\n",
    "## Design matrix\n",
    "X_1 = round(rnorm_truncated(N, 62, 5, a = 18, b = 130), 0)\n",
    "X_2 = rbinom(N, 1, 0.42 + 0.001 * X_1)\n",
    "X_3 = round((1 - X_2) * rnorm_truncated(N, 20, 5, a = 13, b = 49) + \n",
    "            X_2 * rnorm_truncated(N, 23, 5, a = 15, b = 50), 1)\n",
    "X_4 = round(rnorm_truncated(N, 110, 18, a = 20, b = 300), 0)\n",
    "X_5 = rbinom(N, 1, 0.13 + 0.005 * X_2 + 0.02 * (X_4 > 140))\n",
    "X_6 = rbinom(N, 1, 0.23 + 0.0005 * X_1)\n",
    "X_7 = rbinom(N, 1, 0.29 + 0.01 * X_2)\n",
    "X_8 = rbinom(N, 1, 0.2)\n",
    "X_9 = rcat(N, c(0.68, 0.20, 0.12))\n",
    "X_10 = round(rnorm_truncated(N, 4.4 + 0.1 * X_2, 1.1, a = 0, b = 100), 2)\n",
    "X_11 = round(exp(rnorm(N, log(2.8), 0.2)), 2)\n",
    "X_12 = rpois(N, 0.3)\n",
    "X_13 = rpois(N, 0.05 + 0.01 * X_1)\n",
    "X_14 = rbinom(N, 1, 0.08)\n",
    "X_15 = rbinom(N, 1, 0.02)\n",
    "X_16 = rcat(N, c(0.19, 0.50, 0.25, 0.06))"
   ]
  },
  {
   "cell_type": "code",
   "execution_count": 5,
   "metadata": {
    "tags": []
   },
   "outputs": [],
   "source": [
    "T = round(rexp(N, rate = 0.0001 + log(1.0003) * X_1 + log(1.00002) * X_1 ^ 2 + log(1.1) * X_2 + log(1.0002) * X_3 + log(1.3) * X_5 + \n",
    "               log(1.2) * X_7 + log(1.0004) * log(X_11) + log(1.02) * X_2 * X_6 + log(1.01) * X_2 * X_15 * X_16 + \n",
    "               log(1.02) * I(X_4 > 150)), 4)\n",
    "C_adm = 7\n",
    "C_random = runif(N, min = 1, max = 7)\n",
    "T_death = rexp(N, rate = 0.002 + log(1.02) * X_1)\n",
    "Y = pmin(T, C_adm, C_random)\n",
    "delta = ifelse(Y == T, 1, 0)"
   ]
  },
  {
   "cell_type": "code",
   "execution_count": 6,
   "metadata": {},
   "outputs": [],
   "source": [
    "Y_binary = rbinom(N, 1, 0.02 - 0.0001 * X_1 + 0.05 * X_2 + 0.1 * X_5 + 0.04 * I(X_9 == 1) + 0.02 * I(X_10 >= 4.5))"
   ]
  },
  {
   "cell_type": "code",
   "execution_count": 7,
   "metadata": {},
   "outputs": [],
   "source": [
    "dataset <- cbind(ID = 1 : N, \n",
    "                 X_1, X_2, X_3, X_4, X_5, X_6, X_7, X_8, X_9, X_10, X_11, X_12, X_13, X_14, X_15, X_16, \n",
    "                 Y, delta, Y_binary) %>% data.frame() %>% mutate(type = 'raw')"
   ]
  },
  {
   "cell_type": "code",
   "execution_count": 8,
   "metadata": {},
   "outputs": [
    {
     "data": {
      "text/html": [
       "<table class=\"dataframe\">\n",
       "<caption>A data.frame: 10 × 21</caption>\n",
       "<thead>\n",
       "\t<tr><th></th><th scope=col>ID</th><th scope=col>X_1</th><th scope=col>X_2</th><th scope=col>X_3</th><th scope=col>X_4</th><th scope=col>X_5</th><th scope=col>X_6</th><th scope=col>X_7</th><th scope=col>X_8</th><th scope=col>X_9</th><th scope=col>...</th><th scope=col>X_11</th><th scope=col>X_12</th><th scope=col>X_13</th><th scope=col>X_14</th><th scope=col>X_15</th><th scope=col>X_16</th><th scope=col>Y</th><th scope=col>delta</th><th scope=col>Y_binary</th><th scope=col>type</th></tr>\n",
       "\t<tr><th></th><th scope=col>&lt;dbl&gt;</th><th scope=col>&lt;dbl&gt;</th><th scope=col>&lt;dbl&gt;</th><th scope=col>&lt;dbl&gt;</th><th scope=col>&lt;dbl&gt;</th><th scope=col>&lt;dbl&gt;</th><th scope=col>&lt;dbl&gt;</th><th scope=col>&lt;dbl&gt;</th><th scope=col>&lt;dbl&gt;</th><th scope=col>&lt;dbl&gt;</th><th scope=col>...</th><th scope=col>&lt;dbl&gt;</th><th scope=col>&lt;dbl&gt;</th><th scope=col>&lt;dbl&gt;</th><th scope=col>&lt;dbl&gt;</th><th scope=col>&lt;dbl&gt;</th><th scope=col>&lt;dbl&gt;</th><th scope=col>&lt;dbl&gt;</th><th scope=col>&lt;dbl&gt;</th><th scope=col>&lt;dbl&gt;</th><th scope=col>&lt;chr&gt;</th></tr>\n",
       "</thead>\n",
       "<tbody>\n",
       "\t<tr><th scope=row>1</th><td> 1</td><td>56</td><td>0</td><td>15.4</td><td>127</td><td>0</td><td>1</td><td>1</td><td>0</td><td>1</td><td>...</td><td>4.20</td><td>1</td><td>0</td><td>0</td><td>0</td><td>3</td><td>1.511000</td><td>1</td><td>0</td><td>raw</td></tr>\n",
       "\t<tr><th scope=row>2</th><td> 2</td><td>63</td><td>0</td><td>14.8</td><td>122</td><td>0</td><td>0</td><td>0</td><td>0</td><td>1</td><td>...</td><td>3.72</td><td>0</td><td>0</td><td>0</td><td>0</td><td>3</td><td>2.854611</td><td>0</td><td>0</td><td>raw</td></tr>\n",
       "\t<tr><th scope=row>3</th><td> 3</td><td>67</td><td>1</td><td>28.5</td><td>130</td><td>0</td><td>1</td><td>1</td><td>1</td><td>1</td><td>...</td><td>2.57</td><td>0</td><td>0</td><td>0</td><td>0</td><td>4</td><td>1.614861</td><td>0</td><td>1</td><td>raw</td></tr>\n",
       "\t<tr><th scope=row>4</th><td> 4</td><td>50</td><td>1</td><td>23.3</td><td> 85</td><td>0</td><td>0</td><td>0</td><td>0</td><td>1</td><td>...</td><td>3.10</td><td>0</td><td>0</td><td>0</td><td>0</td><td>2</td><td>5.208720</td><td>0</td><td>0</td><td>raw</td></tr>\n",
       "\t<tr><th scope=row>5</th><td> 5</td><td>64</td><td>0</td><td>17.9</td><td>109</td><td>0</td><td>0</td><td>0</td><td>0</td><td>1</td><td>...</td><td>2.61</td><td>0</td><td>1</td><td>0</td><td>0</td><td>1</td><td>4.713570</td><td>0</td><td>0</td><td>raw</td></tr>\n",
       "\t<tr><th scope=row>6</th><td> 6</td><td>65</td><td>0</td><td>18.9</td><td> 82</td><td>0</td><td>0</td><td>1</td><td>0</td><td>2</td><td>...</td><td>2.57</td><td>1</td><td>0</td><td>0</td><td>0</td><td>3</td><td>1.428300</td><td>1</td><td>0</td><td>raw</td></tr>\n",
       "\t<tr><th scope=row>7</th><td> 7</td><td>59</td><td>0</td><td>20.8</td><td>139</td><td>0</td><td>1</td><td>1</td><td>1</td><td>1</td><td>...</td><td>2.09</td><td>0</td><td>1</td><td>0</td><td>0</td><td>2</td><td>5.659800</td><td>1</td><td>0</td><td>raw</td></tr>\n",
       "\t<tr><th scope=row>8</th><td> 8</td><td>59</td><td>0</td><td>14.6</td><td> 97</td><td>0</td><td>0</td><td>0</td><td>0</td><td>2</td><td>...</td><td>3.48</td><td>0</td><td>3</td><td>0</td><td>0</td><td>2</td><td>2.313100</td><td>1</td><td>0</td><td>raw</td></tr>\n",
       "\t<tr><th scope=row>9</th><td> 9</td><td>59</td><td>0</td><td>25.6</td><td> 66</td><td>0</td><td>1</td><td>0</td><td>0</td><td>1</td><td>...</td><td>2.78</td><td>1</td><td>2</td><td>0</td><td>0</td><td>3</td><td>4.956085</td><td>0</td><td>0</td><td>raw</td></tr>\n",
       "\t<tr><th scope=row>10</th><td>10</td><td>58</td><td>0</td><td>17.9</td><td> 88</td><td>0</td><td>1</td><td>0</td><td>0</td><td>1</td><td>...</td><td>2.85</td><td>0</td><td>1</td><td>1</td><td>0</td><td>1</td><td>6.300248</td><td>0</td><td>0</td><td>raw</td></tr>\n",
       "</tbody>\n",
       "</table>\n"
      ],
      "text/latex": [
       "A data.frame: 10 × 21\n",
       "\\begin{tabular}{r|lllllllllllllllllllll}\n",
       "  & ID & X\\_1 & X\\_2 & X\\_3 & X\\_4 & X\\_5 & X\\_6 & X\\_7 & X\\_8 & X\\_9 & ... & X\\_11 & X\\_12 & X\\_13 & X\\_14 & X\\_15 & X\\_16 & Y & delta & Y\\_binary & type\\\\\n",
       "  & <dbl> & <dbl> & <dbl> & <dbl> & <dbl> & <dbl> & <dbl> & <dbl> & <dbl> & <dbl> & ... & <dbl> & <dbl> & <dbl> & <dbl> & <dbl> & <dbl> & <dbl> & <dbl> & <dbl> & <chr>\\\\\n",
       "\\hline\n",
       "\t1 &  1 & 56 & 0 & 15.4 & 127 & 0 & 1 & 1 & 0 & 1 & ... & 4.20 & 1 & 0 & 0 & 0 & 3 & 1.511000 & 1 & 0 & raw\\\\\n",
       "\t2 &  2 & 63 & 0 & 14.8 & 122 & 0 & 0 & 0 & 0 & 1 & ... & 3.72 & 0 & 0 & 0 & 0 & 3 & 2.854611 & 0 & 0 & raw\\\\\n",
       "\t3 &  3 & 67 & 1 & 28.5 & 130 & 0 & 1 & 1 & 1 & 1 & ... & 2.57 & 0 & 0 & 0 & 0 & 4 & 1.614861 & 0 & 1 & raw\\\\\n",
       "\t4 &  4 & 50 & 1 & 23.3 &  85 & 0 & 0 & 0 & 0 & 1 & ... & 3.10 & 0 & 0 & 0 & 0 & 2 & 5.208720 & 0 & 0 & raw\\\\\n",
       "\t5 &  5 & 64 & 0 & 17.9 & 109 & 0 & 0 & 0 & 0 & 1 & ... & 2.61 & 0 & 1 & 0 & 0 & 1 & 4.713570 & 0 & 0 & raw\\\\\n",
       "\t6 &  6 & 65 & 0 & 18.9 &  82 & 0 & 0 & 1 & 0 & 2 & ... & 2.57 & 1 & 0 & 0 & 0 & 3 & 1.428300 & 1 & 0 & raw\\\\\n",
       "\t7 &  7 & 59 & 0 & 20.8 & 139 & 0 & 1 & 1 & 1 & 1 & ... & 2.09 & 0 & 1 & 0 & 0 & 2 & 5.659800 & 1 & 0 & raw\\\\\n",
       "\t8 &  8 & 59 & 0 & 14.6 &  97 & 0 & 0 & 0 & 0 & 2 & ... & 3.48 & 0 & 3 & 0 & 0 & 2 & 2.313100 & 1 & 0 & raw\\\\\n",
       "\t9 &  9 & 59 & 0 & 25.6 &  66 & 0 & 1 & 0 & 0 & 1 & ... & 2.78 & 1 & 2 & 0 & 0 & 3 & 4.956085 & 0 & 0 & raw\\\\\n",
       "\t10 & 10 & 58 & 0 & 17.9 &  88 & 0 & 1 & 0 & 0 & 1 & ... & 2.85 & 0 & 1 & 1 & 0 & 1 & 6.300248 & 0 & 0 & raw\\\\\n",
       "\\end{tabular}\n"
      ],
      "text/markdown": [
       "\n",
       "A data.frame: 10 × 21\n",
       "\n",
       "| <!--/--> | ID &lt;dbl&gt; | X_1 &lt;dbl&gt; | X_2 &lt;dbl&gt; | X_3 &lt;dbl&gt; | X_4 &lt;dbl&gt; | X_5 &lt;dbl&gt; | X_6 &lt;dbl&gt; | X_7 &lt;dbl&gt; | X_8 &lt;dbl&gt; | X_9 &lt;dbl&gt; | ... ... | X_11 &lt;dbl&gt; | X_12 &lt;dbl&gt; | X_13 &lt;dbl&gt; | X_14 &lt;dbl&gt; | X_15 &lt;dbl&gt; | X_16 &lt;dbl&gt; | Y &lt;dbl&gt; | delta &lt;dbl&gt; | Y_binary &lt;dbl&gt; | type &lt;chr&gt; |\n",
       "|---|---|---|---|---|---|---|---|---|---|---|---|---|---|---|---|---|---|---|---|---|---|\n",
       "| 1 |  1 | 56 | 0 | 15.4 | 127 | 0 | 1 | 1 | 0 | 1 | ... | 4.20 | 1 | 0 | 0 | 0 | 3 | 1.511000 | 1 | 0 | raw |\n",
       "| 2 |  2 | 63 | 0 | 14.8 | 122 | 0 | 0 | 0 | 0 | 1 | ... | 3.72 | 0 | 0 | 0 | 0 | 3 | 2.854611 | 0 | 0 | raw |\n",
       "| 3 |  3 | 67 | 1 | 28.5 | 130 | 0 | 1 | 1 | 1 | 1 | ... | 2.57 | 0 | 0 | 0 | 0 | 4 | 1.614861 | 0 | 1 | raw |\n",
       "| 4 |  4 | 50 | 1 | 23.3 |  85 | 0 | 0 | 0 | 0 | 1 | ... | 3.10 | 0 | 0 | 0 | 0 | 2 | 5.208720 | 0 | 0 | raw |\n",
       "| 5 |  5 | 64 | 0 | 17.9 | 109 | 0 | 0 | 0 | 0 | 1 | ... | 2.61 | 0 | 1 | 0 | 0 | 1 | 4.713570 | 0 | 0 | raw |\n",
       "| 6 |  6 | 65 | 0 | 18.9 |  82 | 0 | 0 | 1 | 0 | 2 | ... | 2.57 | 1 | 0 | 0 | 0 | 3 | 1.428300 | 1 | 0 | raw |\n",
       "| 7 |  7 | 59 | 0 | 20.8 | 139 | 0 | 1 | 1 | 1 | 1 | ... | 2.09 | 0 | 1 | 0 | 0 | 2 | 5.659800 | 1 | 0 | raw |\n",
       "| 8 |  8 | 59 | 0 | 14.6 |  97 | 0 | 0 | 0 | 0 | 2 | ... | 3.48 | 0 | 3 | 0 | 0 | 2 | 2.313100 | 1 | 0 | raw |\n",
       "| 9 |  9 | 59 | 0 | 25.6 |  66 | 0 | 1 | 0 | 0 | 1 | ... | 2.78 | 1 | 2 | 0 | 0 | 3 | 4.956085 | 0 | 0 | raw |\n",
       "| 10 | 10 | 58 | 0 | 17.9 |  88 | 0 | 1 | 0 | 0 | 1 | ... | 2.85 | 0 | 1 | 1 | 0 | 1 | 6.300248 | 0 | 0 | raw |\n",
       "\n"
      ],
      "text/plain": [
       "   ID X_1 X_2 X_3  X_4 X_5 X_6 X_7 X_8 X_9 ... X_11 X_12 X_13 X_14 X_15 X_16\n",
       "1   1 56  0   15.4 127 0   1   1   0   1   ... 4.20 1    0    0    0    3   \n",
       "2   2 63  0   14.8 122 0   0   0   0   1   ... 3.72 0    0    0    0    3   \n",
       "3   3 67  1   28.5 130 0   1   1   1   1   ... 2.57 0    0    0    0    4   \n",
       "4   4 50  1   23.3  85 0   0   0   0   1   ... 3.10 0    0    0    0    2   \n",
       "5   5 64  0   17.9 109 0   0   0   0   1   ... 2.61 0    1    0    0    1   \n",
       "6   6 65  0   18.9  82 0   0   1   0   2   ... 2.57 1    0    0    0    3   \n",
       "7   7 59  0   20.8 139 0   1   1   1   1   ... 2.09 0    1    0    0    2   \n",
       "8   8 59  0   14.6  97 0   0   0   0   2   ... 3.48 0    3    0    0    2   \n",
       "9   9 59  0   25.6  66 0   1   0   0   1   ... 2.78 1    2    0    0    3   \n",
       "10 10 58  0   17.9  88 0   1   0   0   1   ... 2.85 0    1    1    0    1   \n",
       "   Y        delta Y_binary type\n",
       "1  1.511000 1     0        raw \n",
       "2  2.854611 0     0        raw \n",
       "3  1.614861 0     1        raw \n",
       "4  5.208720 0     0        raw \n",
       "5  4.713570 0     0        raw \n",
       "6  1.428300 1     0        raw \n",
       "7  5.659800 1     0        raw \n",
       "8  2.313100 1     0        raw \n",
       "9  4.956085 0     0        raw \n",
       "10 6.300248 0     0        raw "
      ]
     },
     "metadata": {},
     "output_type": "display_data"
    }
   ],
   "source": [
    "head(dataset, n = 10)"
   ]
  },
  {
   "cell_type": "markdown",
   "metadata": {},
   "source": [
    "# 3.外部数据"
   ]
  },
  {
   "cell_type": "markdown",
   "metadata": {},
   "source": [
    "## 3.1 模拟情景 (外部验证数据集)"
   ]
  },
  {
   "cell_type": "markdown",
   "metadata": {
    "jp-MarkdownHeadingCollapsed": true,
    "tags": []
   },
   "source": [
    "### （1）设计矩阵\n",
    "$X_1 \\sim \\psi(61, 7, 18, 120; x)$\n",
    "\\begin{equation}\n",
    "  \\psi(\\mu, \\sigma, a, b; x) =\n",
    "    \\begin{cases}\n",
    "      0 & \\text{if $x < a$}\\\\\n",
    "      \\frac{\\Phi(\\mu, \\sigma, x)}{\\Phi(\\mu, \\sigma, b) - \\Phi(\\mu, \\sigma, a)} & \\text{if $a \\leq x \\leq b$} \\\\\n",
    "      0 & \\text{if $x > b$}\n",
    "    \\end{cases}       \n",
    "\\end{equation}\n",
    "$X_2 \\sim Bern(0.43 + 0.001 \\times X_1)$ <br>\n",
    "$X_3 \\sim \\nu(x, X_2)$\n",
    "\\begin{equation}\n",
    "  \\nu(x, X_2) =\n",
    "    \\begin{cases}\n",
    "      (1 - 0.43 + 0.001 \\times X_1) \\times \\psi(19, 6, 13, 49; x) & \\text{if $X_2 = 0$}\\\\\n",
    "      (0.43 + 0.001 \\times X_1) \\times \\psi(24, 5, 15, 50; x) & \\text{if $X_2 = 1$}\\\\\n",
    "    \\end{cases}       \n",
    "\\end{equation}\n",
    "$X_4 \\sim \\psi(120, 20, 10, 400; x)$ <br>\n",
    "$X_5 \\sim Bern(0.14 + 0.004 \\times X_2 + 0.02 \\times I(X_4 > 140))$ <br>\n",
    "$X_6 \\sim Bern(0.23 + 0.0005 \\times X_1)$ <br>\n",
    "$X_7 \\sim Bern(0.28 + 0.015 \\times X_2)$ <br>\n",
    "$X_8 \\sim Bern(0.22)$ <br>\n",
    "$X_9 \\sim Multin(0.54, 0.3, 0.16)$ <br>\n",
    "$X_{10} \\sim \\psi(4.5 + 0.1 \\times X_2, 1.1, 0, 100; x)$ <br>\n",
    "$log(X_{11}) \\sim N(log(3), 0.23)$ <br>\n",
    "$X_{12} \\sim Pois(0.32)$ <br>\n",
    "$X_{13} \\sim Pois(0.07 + 0.008 \\times X_1)$ <br>\n",
    "$X_{14} \\sim Bern(0.09)$ <br>\n",
    "$X_{15} \\sim Bern(0.03)$ <br>\n",
    "$X_{16} \\sim Multin(0.2, 0.5, 0.24, 0.06)$"
   ]
  },
  {
   "cell_type": "markdown",
   "metadata": {},
   "source": [
    "### （2）结局变量\n",
    "$T \\sim Exp(\\lambda_0 + \\beta_1 \\times X_1 + \\beta_2 \\times X_1 ^ 2 + \\beta_3 \\times X_2 + \\beta_4 \\times X_3 + \\beta_5 \\times X_5 + \\beta_6 \\times X_7 + \\beta_7 \\times log(X_{11}) + \\beta_8 \\times X_2 \\times X_6 + \\beta_9 \\times X_2 \\times X_{15} \\times X_{16} + \\beta_{10} \\times I(X_4 > 150))$ <br>\n",
    "$C_{administrative} = 7$ <br>\n",
    "$C_{random} \\sim U(1, 7)$ <br>\n",
    "$T_{death} \\sim Exp(\\Lambda_0 + \\alpha_1 \\times X_1)$ <br>\n",
    "**没有competing risk的场景** <br>\n",
    "$Y = min(T, C_{administrative}, C_{random})$ <br>\n",
    "$\\Delta = I(Y=T)$ <br>\n",
    "**有competing risk的场景** <br>\n",
    "$Y = min(T, C_{administrative}, C_{random}, T_{death})$ <br>\n",
    "$\\Delta = I(Y=T)$"
   ]
  },
  {
   "cell_type": "markdown",
   "metadata": {},
   "source": [
    "### （3）二分类结局变量\n",
    "\n",
    "$Y \\sim Bern(\\theta_{0} + \\theta_{1} \\times X_{1} + \\theta_2 \\times X_2 + \\theta_3 \\times X_5 + \\theta_4 \\times I(X_9 = 1) + \\theta_5 \\times I(X_{10} \\geq 4.7)) + \\theta_6 \\times X_{15}$"
   ]
  },
  {
   "cell_type": "markdown",
   "metadata": {},
   "source": [
    "## 3.2 模拟代码"
   ]
  },
  {
   "cell_type": "code",
   "execution_count": 9,
   "metadata": {
    "tags": []
   },
   "outputs": [],
   "source": [
    "N = 3000\n",
    "## Design matrix\n",
    "X_1 = round(rnorm_truncated(N, 61, 7, a = 18, b = 120), 0)\n",
    "X_2 = rbinom(N, 1, 0.43 + 0.001 * X_1)\n",
    "X_3 = round((1 - X_2) * rnorm_truncated(N, 19, 6, a = 13, b = 49) + \n",
    "            X_2 * rnorm_truncated(N, 24, 5, a = 15, b = 50), 1)\n",
    "X_4 = round(rnorm_truncated(N, 120, 20, a = 10, b = 400), 0)\n",
    "X_5 = rbinom(N, 1, 0.14 + 0.004 * X_2 + 0.02 * (X_4 > 140))\n",
    "X_6 = rbinom(N, 1, 0.23 + 0.0005 * X_1)\n",
    "X_7 = rbinom(N, 1, 0.28 + 0.015 * X_2)\n",
    "X_8 = rbinom(N, 1, 0.22)\n",
    "X_9 = rcat(N, c(0.54, 0.30, 0.16))\n",
    "X_10 = round(rnorm_truncated(N, 4.5 + 0.1 * X_2, 1.1, a = 0, b = 100), 2)\n",
    "X_11 = round(exp(rnorm(N, log(3), 0.23)), 2)\n",
    "X_12 = rpois(N, 0.32)\n",
    "X_13 = rpois(N, 0.07 + 0.008 * X_1)\n",
    "X_14 = rbinom(N, 1, 0.08)\n",
    "X_15 = rbinom(N, 1, 0.03)\n",
    "X_16 = rcat(N, c(0.20, 0.50, 0.24, 0.06))"
   ]
  },
  {
   "cell_type": "code",
   "execution_count": 10,
   "metadata": {},
   "outputs": [],
   "source": [
    "T = round(rexp(N, rate = 0.0002 + log(1.0004) * X_1 + log(1.2) * X_2 + log(1.0003) * X_3 + log(1.25) * X_5 + \n",
    "               log(1.15) * X_7 + log(1.0006) * log(X_11) + log(1.03) * X_2 * X_6 + log(1.04) * I(X_4 > 140)), 4)\n",
    "C_adm = 7\n",
    "C_random = runif(N, min = 1, max = 7)\n",
    "T_death = rexp(N, rate = 0.0015 + log(1.03) * X_1)\n",
    "Y = pmin(T, C_adm, C_random)\n",
    "delta = ifelse(Y == T, 1, 0)"
   ]
  },
  {
   "cell_type": "markdown",
   "metadata": {},
   "source": [
    "### 二分类结局变量\n",
    "\n",
    "$Y \\sim Bern(\\theta_{0} + \\theta_{1} \\times X_{1} + \\theta_2 \\times X_2 + \\theta_3 \\times X_5 + \\theta_4 \\times I(X_9 = 1) + \\theta_5 \\times I(X_{10} \\geq 4.7)) + \\theta_6 \\times X_{15}$"
   ]
  },
  {
   "cell_type": "code",
   "execution_count": 11,
   "metadata": {},
   "outputs": [],
   "source": [
    "Y_binary = rbinom(N, 1, 0.03 - 0.0002 * X_1 + 0.07 * X_2 + 0.1 * X_5 + 0.03 * I(X_9 == 1) + 0.01 * I(X_10 >= 4.7) + 0.1 * X_15)"
   ]
  },
  {
   "cell_type": "code",
   "execution_count": 12,
   "metadata": {},
   "outputs": [],
   "source": [
    "dataset_external <- cbind(ID = 1 : N, \n",
    "                          X_1, X_2, X_3, X_4, X_5, X_6, X_7, X_8, X_9, X_10, X_11, X_12, X_13, X_14, X_15, X_16, \n",
    "                          Y, delta, Y_binary) %>% data.frame() %>% mutate(type = 'external')"
   ]
  },
  {
   "cell_type": "code",
   "execution_count": 13,
   "metadata": {},
   "outputs": [
    {
     "data": {
      "text/html": [
       "<table class=\"dataframe\">\n",
       "<caption>A data.frame: 6 × 21</caption>\n",
       "<thead>\n",
       "\t<tr><th></th><th scope=col>ID</th><th scope=col>X_1</th><th scope=col>X_2</th><th scope=col>X_3</th><th scope=col>X_4</th><th scope=col>X_5</th><th scope=col>X_6</th><th scope=col>X_7</th><th scope=col>X_8</th><th scope=col>X_9</th><th scope=col>...</th><th scope=col>X_11</th><th scope=col>X_12</th><th scope=col>X_13</th><th scope=col>X_14</th><th scope=col>X_15</th><th scope=col>X_16</th><th scope=col>Y</th><th scope=col>delta</th><th scope=col>Y_binary</th><th scope=col>type</th></tr>\n",
       "\t<tr><th></th><th scope=col>&lt;dbl&gt;</th><th scope=col>&lt;dbl&gt;</th><th scope=col>&lt;dbl&gt;</th><th scope=col>&lt;dbl&gt;</th><th scope=col>&lt;dbl&gt;</th><th scope=col>&lt;dbl&gt;</th><th scope=col>&lt;dbl&gt;</th><th scope=col>&lt;dbl&gt;</th><th scope=col>&lt;dbl&gt;</th><th scope=col>&lt;dbl&gt;</th><th scope=col>...</th><th scope=col>&lt;dbl&gt;</th><th scope=col>&lt;dbl&gt;</th><th scope=col>&lt;dbl&gt;</th><th scope=col>&lt;dbl&gt;</th><th scope=col>&lt;dbl&gt;</th><th scope=col>&lt;dbl&gt;</th><th scope=col>&lt;dbl&gt;</th><th scope=col>&lt;dbl&gt;</th><th scope=col>&lt;dbl&gt;</th><th scope=col>&lt;chr&gt;</th></tr>\n",
       "</thead>\n",
       "<tbody>\n",
       "\t<tr><th scope=row>1</th><td>1</td><td>58</td><td>0</td><td>19.2</td><td> 73</td><td>0</td><td>0</td><td>0</td><td>0</td><td>1</td><td>...</td><td>2.41</td><td>1</td><td>2</td><td>0</td><td>0</td><td>3</td><td>6.368300</td><td>0</td><td>0</td><td>external</td></tr>\n",
       "\t<tr><th scope=row>2</th><td>2</td><td>67</td><td>1</td><td>17.4</td><td>142</td><td>0</td><td>1</td><td>1</td><td>0</td><td>2</td><td>...</td><td>3.12</td><td>0</td><td>0</td><td>0</td><td>0</td><td>1</td><td>4.467985</td><td>0</td><td>0</td><td>external</td></tr>\n",
       "\t<tr><th scope=row>3</th><td>3</td><td>46</td><td>1</td><td>33.9</td><td>137</td><td>1</td><td>0</td><td>1</td><td>1</td><td>1</td><td>...</td><td>3.47</td><td>0</td><td>0</td><td>0</td><td>0</td><td>3</td><td>3.269300</td><td>1</td><td>0</td><td>external</td></tr>\n",
       "\t<tr><th scope=row>4</th><td>4</td><td>71</td><td>1</td><td>29.0</td><td>135</td><td>0</td><td>0</td><td>0</td><td>0</td><td>3</td><td>...</td><td>2.91</td><td>0</td><td>1</td><td>0</td><td>0</td><td>1</td><td>3.867161</td><td>0</td><td>0</td><td>external</td></tr>\n",
       "\t<tr><th scope=row>5</th><td>5</td><td>64</td><td>1</td><td>32.6</td><td>126</td><td>0</td><td>1</td><td>0</td><td>0</td><td>1</td><td>...</td><td>3.40</td><td>0</td><td>0</td><td>0</td><td>0</td><td>2</td><td>5.495322</td><td>0</td><td>0</td><td>external</td></tr>\n",
       "\t<tr><th scope=row>6</th><td>6</td><td>63</td><td>1</td><td>26.7</td><td>133</td><td>0</td><td>0</td><td>0</td><td>1</td><td>1</td><td>...</td><td>2.98</td><td>0</td><td>1</td><td>1</td><td>0</td><td>2</td><td>2.291600</td><td>1</td><td>0</td><td>external</td></tr>\n",
       "</tbody>\n",
       "</table>\n"
      ],
      "text/latex": [
       "A data.frame: 6 × 21\n",
       "\\begin{tabular}{r|lllllllllllllllllllll}\n",
       "  & ID & X\\_1 & X\\_2 & X\\_3 & X\\_4 & X\\_5 & X\\_6 & X\\_7 & X\\_8 & X\\_9 & ... & X\\_11 & X\\_12 & X\\_13 & X\\_14 & X\\_15 & X\\_16 & Y & delta & Y\\_binary & type\\\\\n",
       "  & <dbl> & <dbl> & <dbl> & <dbl> & <dbl> & <dbl> & <dbl> & <dbl> & <dbl> & <dbl> & ... & <dbl> & <dbl> & <dbl> & <dbl> & <dbl> & <dbl> & <dbl> & <dbl> & <dbl> & <chr>\\\\\n",
       "\\hline\n",
       "\t1 & 1 & 58 & 0 & 19.2 &  73 & 0 & 0 & 0 & 0 & 1 & ... & 2.41 & 1 & 2 & 0 & 0 & 3 & 6.368300 & 0 & 0 & external\\\\\n",
       "\t2 & 2 & 67 & 1 & 17.4 & 142 & 0 & 1 & 1 & 0 & 2 & ... & 3.12 & 0 & 0 & 0 & 0 & 1 & 4.467985 & 0 & 0 & external\\\\\n",
       "\t3 & 3 & 46 & 1 & 33.9 & 137 & 1 & 0 & 1 & 1 & 1 & ... & 3.47 & 0 & 0 & 0 & 0 & 3 & 3.269300 & 1 & 0 & external\\\\\n",
       "\t4 & 4 & 71 & 1 & 29.0 & 135 & 0 & 0 & 0 & 0 & 3 & ... & 2.91 & 0 & 1 & 0 & 0 & 1 & 3.867161 & 0 & 0 & external\\\\\n",
       "\t5 & 5 & 64 & 1 & 32.6 & 126 & 0 & 1 & 0 & 0 & 1 & ... & 3.40 & 0 & 0 & 0 & 0 & 2 & 5.495322 & 0 & 0 & external\\\\\n",
       "\t6 & 6 & 63 & 1 & 26.7 & 133 & 0 & 0 & 0 & 1 & 1 & ... & 2.98 & 0 & 1 & 1 & 0 & 2 & 2.291600 & 1 & 0 & external\\\\\n",
       "\\end{tabular}\n"
      ],
      "text/markdown": [
       "\n",
       "A data.frame: 6 × 21\n",
       "\n",
       "| <!--/--> | ID &lt;dbl&gt; | X_1 &lt;dbl&gt; | X_2 &lt;dbl&gt; | X_3 &lt;dbl&gt; | X_4 &lt;dbl&gt; | X_5 &lt;dbl&gt; | X_6 &lt;dbl&gt; | X_7 &lt;dbl&gt; | X_8 &lt;dbl&gt; | X_9 &lt;dbl&gt; | ... ... | X_11 &lt;dbl&gt; | X_12 &lt;dbl&gt; | X_13 &lt;dbl&gt; | X_14 &lt;dbl&gt; | X_15 &lt;dbl&gt; | X_16 &lt;dbl&gt; | Y &lt;dbl&gt; | delta &lt;dbl&gt; | Y_binary &lt;dbl&gt; | type &lt;chr&gt; |\n",
       "|---|---|---|---|---|---|---|---|---|---|---|---|---|---|---|---|---|---|---|---|---|---|\n",
       "| 1 | 1 | 58 | 0 | 19.2 |  73 | 0 | 0 | 0 | 0 | 1 | ... | 2.41 | 1 | 2 | 0 | 0 | 3 | 6.368300 | 0 | 0 | external |\n",
       "| 2 | 2 | 67 | 1 | 17.4 | 142 | 0 | 1 | 1 | 0 | 2 | ... | 3.12 | 0 | 0 | 0 | 0 | 1 | 4.467985 | 0 | 0 | external |\n",
       "| 3 | 3 | 46 | 1 | 33.9 | 137 | 1 | 0 | 1 | 1 | 1 | ... | 3.47 | 0 | 0 | 0 | 0 | 3 | 3.269300 | 1 | 0 | external |\n",
       "| 4 | 4 | 71 | 1 | 29.0 | 135 | 0 | 0 | 0 | 0 | 3 | ... | 2.91 | 0 | 1 | 0 | 0 | 1 | 3.867161 | 0 | 0 | external |\n",
       "| 5 | 5 | 64 | 1 | 32.6 | 126 | 0 | 1 | 0 | 0 | 1 | ... | 3.40 | 0 | 0 | 0 | 0 | 2 | 5.495322 | 0 | 0 | external |\n",
       "| 6 | 6 | 63 | 1 | 26.7 | 133 | 0 | 0 | 0 | 1 | 1 | ... | 2.98 | 0 | 1 | 1 | 0 | 2 | 2.291600 | 1 | 0 | external |\n",
       "\n"
      ],
      "text/plain": [
       "  ID X_1 X_2 X_3  X_4 X_5 X_6 X_7 X_8 X_9 ... X_11 X_12 X_13 X_14 X_15 X_16\n",
       "1 1  58  0   19.2  73 0   0   0   0   1   ... 2.41 1    2    0    0    3   \n",
       "2 2  67  1   17.4 142 0   1   1   0   2   ... 3.12 0    0    0    0    1   \n",
       "3 3  46  1   33.9 137 1   0   1   1   1   ... 3.47 0    0    0    0    3   \n",
       "4 4  71  1   29.0 135 0   0   0   0   3   ... 2.91 0    1    0    0    1   \n",
       "5 5  64  1   32.6 126 0   1   0   0   1   ... 3.40 0    0    0    0    2   \n",
       "6 6  63  1   26.7 133 0   0   0   1   1   ... 2.98 0    1    1    0    2   \n",
       "  Y        delta Y_binary type    \n",
       "1 6.368300 0     0        external\n",
       "2 4.467985 0     0        external\n",
       "3 3.269300 1     0        external\n",
       "4 3.867161 0     0        external\n",
       "5 5.495322 0     0        external\n",
       "6 2.291600 1     0        external"
      ]
     },
     "metadata": {},
     "output_type": "display_data"
    }
   ],
   "source": [
    "head(dataset_external)"
   ]
  },
  {
   "cell_type": "code",
   "execution_count": 14,
   "metadata": {},
   "outputs": [],
   "source": [
    "dataset_final <- rbind(dataset, dataset_external)"
   ]
  },
  {
   "cell_type": "code",
   "execution_count": 15,
   "metadata": {},
   "outputs": [],
   "source": [
    "save(dataset_final, file = 'simulated_dataset.R')"
   ]
  },
  {
   "cell_type": "code",
   "execution_count": 16,
   "metadata": {
    "tags": []
   },
   "outputs": [
    {
     "data": {
      "text/html": [
       "<table class=\"dataframe\">\n",
       "<caption>A data.frame: 6 × 21</caption>\n",
       "<thead>\n",
       "\t<tr><th></th><th scope=col>ID</th><th scope=col>X_1</th><th scope=col>X_2</th><th scope=col>X_3</th><th scope=col>X_4</th><th scope=col>X_5</th><th scope=col>X_6</th><th scope=col>X_7</th><th scope=col>X_8</th><th scope=col>X_9</th><th scope=col>...</th><th scope=col>X_11</th><th scope=col>X_12</th><th scope=col>X_13</th><th scope=col>X_14</th><th scope=col>X_15</th><th scope=col>X_16</th><th scope=col>Y</th><th scope=col>delta</th><th scope=col>Y_binary</th><th scope=col>type</th></tr>\n",
       "\t<tr><th></th><th scope=col>&lt;dbl&gt;</th><th scope=col>&lt;dbl&gt;</th><th scope=col>&lt;dbl&gt;</th><th scope=col>&lt;dbl&gt;</th><th scope=col>&lt;dbl&gt;</th><th scope=col>&lt;dbl&gt;</th><th scope=col>&lt;dbl&gt;</th><th scope=col>&lt;dbl&gt;</th><th scope=col>&lt;dbl&gt;</th><th scope=col>&lt;dbl&gt;</th><th scope=col>...</th><th scope=col>&lt;dbl&gt;</th><th scope=col>&lt;dbl&gt;</th><th scope=col>&lt;dbl&gt;</th><th scope=col>&lt;dbl&gt;</th><th scope=col>&lt;dbl&gt;</th><th scope=col>&lt;dbl&gt;</th><th scope=col>&lt;dbl&gt;</th><th scope=col>&lt;dbl&gt;</th><th scope=col>&lt;dbl&gt;</th><th scope=col>&lt;chr&gt;</th></tr>\n",
       "</thead>\n",
       "<tbody>\n",
       "\t<tr><th scope=row>1</th><td>1</td><td>56</td><td>0</td><td>15.4</td><td>127</td><td>0</td><td>1</td><td>1</td><td>0</td><td>1</td><td>...</td><td>4.20</td><td>1</td><td>0</td><td>0</td><td>0</td><td>3</td><td>1.511000</td><td>1</td><td>0</td><td>raw</td></tr>\n",
       "\t<tr><th scope=row>2</th><td>2</td><td>63</td><td>0</td><td>14.8</td><td>122</td><td>0</td><td>0</td><td>0</td><td>0</td><td>1</td><td>...</td><td>3.72</td><td>0</td><td>0</td><td>0</td><td>0</td><td>3</td><td>2.854611</td><td>0</td><td>0</td><td>raw</td></tr>\n",
       "\t<tr><th scope=row>3</th><td>3</td><td>67</td><td>1</td><td>28.5</td><td>130</td><td>0</td><td>1</td><td>1</td><td>1</td><td>1</td><td>...</td><td>2.57</td><td>0</td><td>0</td><td>0</td><td>0</td><td>4</td><td>1.614861</td><td>0</td><td>1</td><td>raw</td></tr>\n",
       "\t<tr><th scope=row>4</th><td>4</td><td>50</td><td>1</td><td>23.3</td><td> 85</td><td>0</td><td>0</td><td>0</td><td>0</td><td>1</td><td>...</td><td>3.10</td><td>0</td><td>0</td><td>0</td><td>0</td><td>2</td><td>5.208720</td><td>0</td><td>0</td><td>raw</td></tr>\n",
       "\t<tr><th scope=row>5</th><td>5</td><td>64</td><td>0</td><td>17.9</td><td>109</td><td>0</td><td>0</td><td>0</td><td>0</td><td>1</td><td>...</td><td>2.61</td><td>0</td><td>1</td><td>0</td><td>0</td><td>1</td><td>4.713570</td><td>0</td><td>0</td><td>raw</td></tr>\n",
       "\t<tr><th scope=row>6</th><td>6</td><td>65</td><td>0</td><td>18.9</td><td> 82</td><td>0</td><td>0</td><td>1</td><td>0</td><td>2</td><td>...</td><td>2.57</td><td>1</td><td>0</td><td>0</td><td>0</td><td>3</td><td>1.428300</td><td>1</td><td>0</td><td>raw</td></tr>\n",
       "</tbody>\n",
       "</table>\n"
      ],
      "text/latex": [
       "A data.frame: 6 × 21\n",
       "\\begin{tabular}{r|lllllllllllllllllllll}\n",
       "  & ID & X\\_1 & X\\_2 & X\\_3 & X\\_4 & X\\_5 & X\\_6 & X\\_7 & X\\_8 & X\\_9 & ... & X\\_11 & X\\_12 & X\\_13 & X\\_14 & X\\_15 & X\\_16 & Y & delta & Y\\_binary & type\\\\\n",
       "  & <dbl> & <dbl> & <dbl> & <dbl> & <dbl> & <dbl> & <dbl> & <dbl> & <dbl> & <dbl> & ... & <dbl> & <dbl> & <dbl> & <dbl> & <dbl> & <dbl> & <dbl> & <dbl> & <dbl> & <chr>\\\\\n",
       "\\hline\n",
       "\t1 & 1 & 56 & 0 & 15.4 & 127 & 0 & 1 & 1 & 0 & 1 & ... & 4.20 & 1 & 0 & 0 & 0 & 3 & 1.511000 & 1 & 0 & raw\\\\\n",
       "\t2 & 2 & 63 & 0 & 14.8 & 122 & 0 & 0 & 0 & 0 & 1 & ... & 3.72 & 0 & 0 & 0 & 0 & 3 & 2.854611 & 0 & 0 & raw\\\\\n",
       "\t3 & 3 & 67 & 1 & 28.5 & 130 & 0 & 1 & 1 & 1 & 1 & ... & 2.57 & 0 & 0 & 0 & 0 & 4 & 1.614861 & 0 & 1 & raw\\\\\n",
       "\t4 & 4 & 50 & 1 & 23.3 &  85 & 0 & 0 & 0 & 0 & 1 & ... & 3.10 & 0 & 0 & 0 & 0 & 2 & 5.208720 & 0 & 0 & raw\\\\\n",
       "\t5 & 5 & 64 & 0 & 17.9 & 109 & 0 & 0 & 0 & 0 & 1 & ... & 2.61 & 0 & 1 & 0 & 0 & 1 & 4.713570 & 0 & 0 & raw\\\\\n",
       "\t6 & 6 & 65 & 0 & 18.9 &  82 & 0 & 0 & 1 & 0 & 2 & ... & 2.57 & 1 & 0 & 0 & 0 & 3 & 1.428300 & 1 & 0 & raw\\\\\n",
       "\\end{tabular}\n"
      ],
      "text/markdown": [
       "\n",
       "A data.frame: 6 × 21\n",
       "\n",
       "| <!--/--> | ID &lt;dbl&gt; | X_1 &lt;dbl&gt; | X_2 &lt;dbl&gt; | X_3 &lt;dbl&gt; | X_4 &lt;dbl&gt; | X_5 &lt;dbl&gt; | X_6 &lt;dbl&gt; | X_7 &lt;dbl&gt; | X_8 &lt;dbl&gt; | X_9 &lt;dbl&gt; | ... ... | X_11 &lt;dbl&gt; | X_12 &lt;dbl&gt; | X_13 &lt;dbl&gt; | X_14 &lt;dbl&gt; | X_15 &lt;dbl&gt; | X_16 &lt;dbl&gt; | Y &lt;dbl&gt; | delta &lt;dbl&gt; | Y_binary &lt;dbl&gt; | type &lt;chr&gt; |\n",
       "|---|---|---|---|---|---|---|---|---|---|---|---|---|---|---|---|---|---|---|---|---|---|\n",
       "| 1 | 1 | 56 | 0 | 15.4 | 127 | 0 | 1 | 1 | 0 | 1 | ... | 4.20 | 1 | 0 | 0 | 0 | 3 | 1.511000 | 1 | 0 | raw |\n",
       "| 2 | 2 | 63 | 0 | 14.8 | 122 | 0 | 0 | 0 | 0 | 1 | ... | 3.72 | 0 | 0 | 0 | 0 | 3 | 2.854611 | 0 | 0 | raw |\n",
       "| 3 | 3 | 67 | 1 | 28.5 | 130 | 0 | 1 | 1 | 1 | 1 | ... | 2.57 | 0 | 0 | 0 | 0 | 4 | 1.614861 | 0 | 1 | raw |\n",
       "| 4 | 4 | 50 | 1 | 23.3 |  85 | 0 | 0 | 0 | 0 | 1 | ... | 3.10 | 0 | 0 | 0 | 0 | 2 | 5.208720 | 0 | 0 | raw |\n",
       "| 5 | 5 | 64 | 0 | 17.9 | 109 | 0 | 0 | 0 | 0 | 1 | ... | 2.61 | 0 | 1 | 0 | 0 | 1 | 4.713570 | 0 | 0 | raw |\n",
       "| 6 | 6 | 65 | 0 | 18.9 |  82 | 0 | 0 | 1 | 0 | 2 | ... | 2.57 | 1 | 0 | 0 | 0 | 3 | 1.428300 | 1 | 0 | raw |\n",
       "\n"
      ],
      "text/plain": [
       "  ID X_1 X_2 X_3  X_4 X_5 X_6 X_7 X_8 X_9 ... X_11 X_12 X_13 X_14 X_15 X_16\n",
       "1 1  56  0   15.4 127 0   1   1   0   1   ... 4.20 1    0    0    0    3   \n",
       "2 2  63  0   14.8 122 0   0   0   0   1   ... 3.72 0    0    0    0    3   \n",
       "3 3  67  1   28.5 130 0   1   1   1   1   ... 2.57 0    0    0    0    4   \n",
       "4 4  50  1   23.3  85 0   0   0   0   1   ... 3.10 0    0    0    0    2   \n",
       "5 5  64  0   17.9 109 0   0   0   0   1   ... 2.61 0    1    0    0    1   \n",
       "6 6  65  0   18.9  82 0   0   1   0   2   ... 2.57 1    0    0    0    3   \n",
       "  Y        delta Y_binary type\n",
       "1 1.511000 1     0        raw \n",
       "2 2.854611 0     0        raw \n",
       "3 1.614861 0     1        raw \n",
       "4 5.208720 0     0        raw \n",
       "5 4.713570 0     0        raw \n",
       "6 1.428300 1     0        raw "
      ]
     },
     "metadata": {},
     "output_type": "display_data"
    }
   ],
   "source": [
    "head(dataset_final)"
   ]
  }
 ],
 "metadata": {
  "kernelspec": {
   "display_name": "R",
   "language": "R",
   "name": "ir"
  },
  "language_info": {
   "codemirror_mode": "r",
   "file_extension": ".r",
   "mimetype": "text/x-r-source",
   "name": "R",
   "pygments_lexer": "r",
   "version": "4.1.3"
  },
  "toc-autonumbering": false,
  "toc-showcode": false,
  "toc-showmarkdowntxt": false
 },
 "nbformat": 4,
 "nbformat_minor": 4
}
