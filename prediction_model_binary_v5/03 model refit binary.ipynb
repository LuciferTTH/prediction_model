{
 "cells": [
  {
   "cell_type": "markdown",
   "id": "36dd6bca-a957-4b83-b264-0bc49897e4c8",
   "metadata": {},
   "source": [
    "# 1. 背景"
   ]
  },
  {
   "cell_type": "markdown",
   "id": "15fa2b45-1387-4bd1-9697-f34de28c75c3",
   "metadata": {},
   "source": [
    "在进行变量筛选后，通常我们需要：\n",
    "- 根据临床专家的意见加入一些重要变量，如受试者年龄、性别；\n",
    "- 处理多分类变量问题（通常是如果多分类变量对应的某一虚拟变量被纳入模型，则所有该多分类变量的所有虚拟变量都纳入模型中）；\n",
    "- 采用存在限制条件的筛选方法对变量进行筛选。\n",
    "\n",
    "存在以上三种情况，需对模型进行重新拟合（Model refit）。"
   ]
  },
  {
   "cell_type": "markdown",
   "id": "faa9b236-eff4-42fa-a60e-f17b888f1d23",
   "metadata": {},
   "source": [
    "下面我们以采用采用存在限制条件的筛选方法筛选变量后重新拟合模型为例。"
   ]
  },
  {
   "cell_type": "markdown",
   "id": "c8499960-82d9-4939-85ab-c48c2d861dac",
   "metadata": {},
   "source": [
    "# 2. 导入数据和筛选变量"
   ]
  },
  {
   "cell_type": "code",
   "execution_count": 1,
   "id": "59f377e1-3872-4fcf-8c53-da0d230f0068",
   "metadata": {
    "tags": []
   },
   "outputs": [],
   "source": [
    "load(\"model_train_binary_workspace.Rdata\")"
   ]
  },
  {
   "cell_type": "code",
   "execution_count": 2,
   "id": "f890d485-a2dc-45a4-b258-68a295065898",
   "metadata": {
    "tags": []
   },
   "outputs": [],
   "source": [
    "# Install required packages and library them\n",
    "packages <- c(\"plyr\",\n",
    "              \"dplyr\",\n",
    "              \"glmnet\")\n",
    "\n",
    "for (i in packages) {\n",
    "    if (!suppressMessages(require(i, character.only = TRUE, quietly = TRUE))) {\n",
    "        install.packages(i, quietly = TRUE)\n",
    "    }\n",
    "}"
   ]
  },
  {
   "cell_type": "markdown",
   "id": "9da263ac-5fb3-4070-be78-551df45b0e14",
   "metadata": {},
   "source": [
    "## 3. 根据已筛选变量生成模型"
   ]
  },
  {
   "cell_type": "code",
   "execution_count": 3,
   "id": "cbc3cb41-676e-44da-98e3-dda991314d8b",
   "metadata": {
    "tags": []
   },
   "outputs": [
    {
     "data": {
      "text/html": [
       "'AKI_binary ~ age + age_square + male + TC_rcs_1 + TC_rcs_2 + TC_rcs_3 + albuminuria_moderate + albuminuria_severe + CKD_stage_G3a + CKD_stage_G3b + CKD_stage_G4 + male_CKD_stage_G3a + male_CKD_stage_G3b + male_CKD_stage_G4 + age_TC + age_BMI_TC'"
      ],
      "text/latex": [
       "'AKI\\_binary \\textasciitilde{} age + age\\_square + male + TC\\_rcs\\_1 + TC\\_rcs\\_2 + TC\\_rcs\\_3 + albuminuria\\_moderate + albuminuria\\_severe + CKD\\_stage\\_G3a + CKD\\_stage\\_G3b + CKD\\_stage\\_G4 + male\\_CKD\\_stage\\_G3a + male\\_CKD\\_stage\\_G3b + male\\_CKD\\_stage\\_G4 + age\\_TC + age\\_BMI\\_TC'"
      ],
      "text/markdown": [
       "'AKI_binary ~ age + age_square + male + TC_rcs_1 + TC_rcs_2 + TC_rcs_3 + albuminuria_moderate + albuminuria_severe + CKD_stage_G3a + CKD_stage_G3b + CKD_stage_G4 + male_CKD_stage_G3a + male_CKD_stage_G3b + male_CKD_stage_G4 + age_TC + age_BMI_TC'"
      ],
      "text/plain": [
       "[1] \"AKI_binary ~ age + age_square + male + TC_rcs_1 + TC_rcs_2 + TC_rcs_3 + albuminuria_moderate + albuminuria_severe + CKD_stage_G3a + CKD_stage_G3b + CKD_stage_G4 + male_CKD_stage_G3a + male_CKD_stage_G3b + male_CKD_stage_G4 + age_TC + age_BMI_TC\""
      ]
     },
     "metadata": {},
     "output_type": "display_data"
    }
   ],
   "source": [
    "train_model_lasso"
   ]
  },
  {
   "cell_type": "markdown",
   "id": "e5eed407-0638-4d17-a5ea-7f46204f9236",
   "metadata": {},
   "source": [
    "此前经Lasso回归生成的新模型包括的变量有 age，age_square，male，TC_rcs_1，TC_rcs_2，TC_rcs_3，albuminuria_moderate，\n",
    "albuminuria_severe，CKD_stage_G3a，CKD_stage_G3b，CKD_stage_G4，male_CKD_stage_G3a，male_CKD_stage_G3b，male_CKD_stage_G4，age_TC，age_BMI_TC。"
   ]
  },
  {
   "cell_type": "markdown",
   "id": "993fefd4-3b73-46e2-81c0-4add435ed2f8",
   "metadata": {},
   "source": [
    "## 4. 采用logit回归重新拟合模型"
   ]
  },
  {
   "cell_type": "code",
   "execution_count": 4,
   "id": "875a4128-a0ca-4555-95ec-6da4c55eb787",
   "metadata": {
    "tags": []
   },
   "outputs": [],
   "source": [
    "train_model_lasso_refit <- glm(as.formula(train_model_lasso),\n",
    "                               data = dataset,\n",
    "                              family = binomial(link = \"logit\"))"
   ]
  },
  {
   "cell_type": "code",
   "execution_count": 5,
   "id": "18d0399f-f8f8-4752-bf03-4e47b1b5cf01",
   "metadata": {
    "tags": []
   },
   "outputs": [
    {
     "data": {
      "text/plain": [
       "\n",
       "Call:\n",
       "glm(formula = as.formula(train_model_lasso), family = binomial(link = \"logit\"), \n",
       "    data = dataset)\n",
       "\n",
       "Deviance Residuals: \n",
       "    Min       1Q   Median       3Q      Max  \n",
       "-0.7884  -0.4810  -0.4078  -0.3332   2.6232  \n",
       "\n",
       "Coefficients:\n",
       "                       Estimate Std. Error z value Pr(>|z|)    \n",
       "(Intercept)           2.729e+00  5.989e+00   0.456  0.64864    \n",
       "age                  -4.955e-02  1.833e-01  -0.270  0.78695    \n",
       "age_square           -4.634e-04  1.475e-03  -0.314  0.75332    \n",
       "male                  2.641e-01  2.312e-01   1.142  0.25342    \n",
       "TC_rcs_1             -1.682e+00  5.842e-01  -2.879  0.00399 ** \n",
       "TC_rcs_2              8.241e-02  3.187e-02   2.585  0.00973 ** \n",
       "TC_rcs_3             -3.828e-01  1.370e-01  -2.794  0.00520 ** \n",
       "albuminuria_moderate -7.089e-01  1.506e-01  -4.706 2.53e-06 ***\n",
       "albuminuria_severe   -3.461e-01  1.630e-01  -2.123  0.03377 *  \n",
       "CKD_stage_G3a        -2.816e-01  2.027e-01  -1.390  0.16467    \n",
       "CKD_stage_G3b         1.792e-02  2.177e-01   0.082  0.93440    \n",
       "CKD_stage_G4         -6.895e-01  4.502e-01  -1.532  0.12561    \n",
       "male_CKD_stage_G3a    3.467e-01  2.730e-01   1.270  0.20406    \n",
       "male_CKD_stage_G3b   -2.653e-02  2.977e-01  -0.089  0.92900    \n",
       "male_CKD_stage_G4     8.523e-01  5.475e-01   1.557  0.11957    \n",
       "age_TC                2.449e-02  9.303e-03   2.633  0.00847 ** \n",
       "age_BMI_TC            1.883e-05  3.799e-05   0.496  0.62015    \n",
       "---\n",
       "Signif. codes:  0 '***' 0.001 '**' 0.01 '*' 0.05 '.' 0.1 ' ' 1\n",
       "\n",
       "(Dispersion parameter for binomial family taken to be 1)\n",
       "\n",
       "    Null deviance: 3039.2  on 4999  degrees of freedom\n",
       "Residual deviance: 2954.3  on 4983  degrees of freedom\n",
       "AIC: 2988.3\n",
       "\n",
       "Number of Fisher Scoring iterations: 5\n"
      ]
     },
     "metadata": {},
     "output_type": "display_data"
    }
   ],
   "source": [
    "summary(train_model_lasso_refit)"
   ]
  },
  {
   "cell_type": "code",
   "execution_count": 6,
   "id": "1a3f72cd-e8c3-42c5-afc8-4f05ab286d6e",
   "metadata": {
    "tags": []
   },
   "outputs": [
    {
     "data": {
      "text/plain": [
       "AKI_binary ~ age + age_square + male + TC_rcs_1 + TC_rcs_2 + \n",
       "    TC_rcs_3 + albuminuria_moderate + albuminuria_severe + CKD_stage_G3a + \n",
       "    CKD_stage_G3b + CKD_stage_G4 + male_CKD_stage_G3a + male_CKD_stage_G3b + \n",
       "    male_CKD_stage_G4 + age_TC + age_BMI_TC"
      ]
     },
     "metadata": {},
     "output_type": "display_data"
    }
   ],
   "source": [
    "formula(train_model_lasso_refit)"
   ]
  },
  {
   "cell_type": "markdown",
   "id": "54d3fd5d-16b2-4e99-93ec-2cef3149604a",
   "metadata": {},
   "source": [
    "采用logit回归重新拟合模型后新模型的预测变量包括age，age_square，male，TC_rcs_1，TC_rcs_2，TC_rcs_3，albuminuria_moderate，\n",
    "albuminuria_severe，CKD_stage_G3a，CKD_stage_G3b，CKD_stage_G4，male_CKD_stage_G3a，male_CKD_stage_G3b，male_CKD_stage_G4，\n",
    "age_TC，age_BMI_TC"
   ]
  },
  {
   "cell_type": "code",
   "execution_count": 7,
   "id": "bfab280c-e524-4d99-b790-875c916666c1",
   "metadata": {
    "tags": []
   },
   "outputs": [],
   "source": [
    "save.image(\"model_refit_binary_workspace.Rdata\")"
   ]
  }
 ],
 "metadata": {
  "kernelspec": {
   "display_name": "R",
   "language": "R",
   "name": "ir"
  },
  "language_info": {
   "codemirror_mode": "r",
   "file_extension": ".r",
   "mimetype": "text/x-r-source",
   "name": "R",
   "pygments_lexer": "r",
   "version": "4.1.3"
  }
 },
 "nbformat": 4,
 "nbformat_minor": 5
}
