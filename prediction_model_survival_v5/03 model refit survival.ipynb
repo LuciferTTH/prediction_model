{
 "cells": [
  {
   "cell_type": "markdown",
   "id": "36dd6bca-a957-4b83-b264-0bc49897e4c8",
   "metadata": {},
   "source": [
    "# 1.背景"
   ]
  },
  {
   "cell_type": "markdown",
   "id": "15fa2b45-1387-4bd1-9697-f34de28c75c3",
   "metadata": {},
   "source": [
    "在进行变量筛选后，通常我们需要：\n",
    "1. 根据临床专家的意见加入一些重要变量，如受试者年龄、性别；\n",
    "2. 处理多分类变量问题（通常是如果多分类变量对应的某一虚拟变量被纳入模型，则所有该多分类变量的所有虚拟变量都纳入模型中）；\n",
    "3. 采用存在限制条件策略筛选得到的变量；\n",
    "\n",
    "在处理以上三种情况后，重新对train model进行重新拟合。"
   ]
  },
  {
   "cell_type": "markdown",
   "id": "faa9b236-eff4-42fa-a60e-f17b888f1d23",
   "metadata": {},
   "source": [
    "下面我们以采用存在限制条件策略筛选变量后重新拟合模型为例。"
   ]
  },
  {
   "cell_type": "markdown",
   "id": "b666fe88-1675-4d81-8e89-a4b18f080f97",
   "metadata": {},
   "source": [
    "# 2.Simulation（模拟实验）"
   ]
  },
  {
   "cell_type": "markdown",
   "id": "c8499960-82d9-4939-85ab-c48c2d861dac",
   "metadata": {
    "tags": []
   },
   "source": [
    "## 2.1 导入数据和筛选变量"
   ]
  },
  {
   "cell_type": "code",
   "execution_count": 1,
   "id": "f890d485-a2dc-45a4-b258-68a295065898",
   "metadata": {
    "tags": []
   },
   "outputs": [],
   "source": [
    "# Install required packages and library them\n",
    "packages <- c(\"survival\",\n",
    "              \"survMisc\",\n",
    "              \"plyr\",\n",
    "              \"dplyr\",\n",
    "              \"glmnet\")\n",
    "\n",
    "for (i in packages) {\n",
    "    if (!suppressMessages(require(i, character.only = TRUE, quietly = TRUE))) {\n",
    "        install.packages(i, quietly = TRUE)\n",
    "    }\n",
    "}"
   ]
  },
  {
   "cell_type": "code",
   "execution_count": 2,
   "id": "59f377e1-3872-4fcf-8c53-da0d230f0068",
   "metadata": {
    "tags": []
   },
   "outputs": [],
   "source": [
    "load(\"model_train_workspace.Rdata\")"
   ]
  },
  {
   "cell_type": "markdown",
   "id": "9da263ac-5fb3-4070-be78-551df45b0e14",
   "metadata": {},
   "source": [
    "## 2.2 查看已筛选得到的变量"
   ]
  },
  {
   "cell_type": "code",
   "execution_count": 3,
   "id": "cbc3cb41-676e-44da-98e3-dda991314d8b",
   "metadata": {
    "tags": []
   },
   "outputs": [
    {
     "data": {
      "text/html": [
       "'Surv(AKI_time, AKI_status) ~ age + age_square + male + male_CKD_stage_G3a + age_BMI_TC'"
      ],
      "text/latex": [
       "'Surv(AKI\\_time, AKI\\_status) \\textasciitilde{} age + age\\_square + male + male\\_CKD\\_stage\\_G3a + age\\_BMI\\_TC'"
      ],
      "text/markdown": [
       "'Surv(AKI_time, AKI_status) ~ age + age_square + male + male_CKD_stage_G3a + age_BMI_TC'"
      ],
      "text/plain": [
       "[1] \"Surv(AKI_time, AKI_status) ~ age + age_square + male + male_CKD_stage_G3a + age_BMI_TC\""
      ]
     },
     "metadata": {},
     "output_type": "display_data"
    }
   ],
   "source": [
    "train_model_lasso"
   ]
  },
  {
   "cell_type": "markdown",
   "id": "bd659c3d-c7e8-44fa-808d-cec4305b51b1",
   "metadata": {},
   "source": [
    "此前经Lasso回归生成的新模型包括的变量有age，age_square，male，male_CKD_stage_G3a，age_BMI_TC。"
   ]
  },
  {
   "cell_type": "markdown",
   "id": "993fefd4-3b73-46e2-81c0-4add435ed2f8",
   "metadata": {},
   "source": [
    "## 2.3 采用Cox回归重新拟合模型"
   ]
  },
  {
   "cell_type": "code",
   "execution_count": 4,
   "id": "875a4128-a0ca-4555-95ec-6da4c55eb787",
   "metadata": {
    "tags": []
   },
   "outputs": [],
   "source": [
    "train_model_lasso_refit <- coxph(as.formula(train_model_lasso), data = dataset)"
   ]
  },
  {
   "cell_type": "code",
   "execution_count": 5,
   "id": "18d0399f-f8f8-4752-bf03-4e47b1b5cf01",
   "metadata": {
    "tags": []
   },
   "outputs": [
    {
     "data": {
      "text/plain": [
       "Call:\n",
       "coxph(formula = as.formula(train_model_lasso), data = dataset)\n",
       "\n",
       "  n= 5000, number of events= 2700 \n",
       "\n",
       "                        coef exp(coef)  se(coef)     z Pr(>|z|)    \n",
       "age                1.048e-02 1.011e+00 7.047e-02 0.149  0.88177    \n",
       "age_square         5.048e-05 1.000e+00 5.655e-04 0.089  0.92887    \n",
       "male               3.674e-01 1.444e+00 4.767e-02 7.706  1.3e-14 ***\n",
       "male_CKD_stage_G3a 9.572e-02 1.100e+00 5.149e-02 1.859  0.06304 .  \n",
       "age_BMI_TC         2.604e-05 1.000e+00 9.656e-06 2.697  0.00699 ** \n",
       "---\n",
       "Signif. codes:  0 '***' 0.001 '**' 0.01 '*' 0.05 '.' 0.1 ' ' 1\n",
       "\n",
       "                   exp(coef) exp(-coef) lower .95 upper .95\n",
       "age                    1.011     0.9896    0.8802     1.160\n",
       "age_square             1.000     0.9999    0.9989     1.001\n",
       "male                   1.444     0.6926    1.3151     1.585\n",
       "male_CKD_stage_G3a     1.100     0.9087    0.9948     1.217\n",
       "age_BMI_TC             1.000     1.0000    1.0000     1.000\n",
       "\n",
       "Concordance= 0.568  (se = 0.006 )\n",
       "Likelihood ratio test= 162.2  on 5 df,   p=<2e-16\n",
       "Wald test            = 162.2  on 5 df,   p=<2e-16\n",
       "Score (logrank) test = 164.4  on 5 df,   p=<2e-16\n"
      ]
     },
     "metadata": {},
     "output_type": "display_data"
    }
   ],
   "source": [
    "summary(train_model_lasso_refit)"
   ]
  },
  {
   "cell_type": "code",
   "execution_count": 6,
   "id": "1a3f72cd-e8c3-42c5-afc8-4f05ab286d6e",
   "metadata": {
    "tags": []
   },
   "outputs": [
    {
     "data": {
      "text/plain": [
       "Surv(AKI_time, AKI_status) ~ age + age_square + male + male_CKD_stage_G3a + \n",
       "    age_BMI_TC"
      ]
     },
     "metadata": {},
     "output_type": "display_data"
    }
   ],
   "source": [
    "formula(train_model_lasso_refit)"
   ]
  },
  {
   "cell_type": "markdown",
   "id": "ade60524-bb7d-4138-98d7-dff44a703945",
   "metadata": {},
   "source": [
    "采用COX回归重新拟合模型后新模型的预测变量包括age，age_square，male，male_CKD_stage_G3a，age_BMI_TC。"
   ]
  },
  {
   "cell_type": "code",
   "execution_count": 7,
   "id": "bfab280c-e524-4d99-b790-875c916666c1",
   "metadata": {
    "tags": []
   },
   "outputs": [],
   "source": [
    "save.image(\"model_refit_workspace.Rdata\")"
   ]
  }
 ],
 "metadata": {
  "kernelspec": {
   "display_name": "R",
   "language": "R",
   "name": "ir"
  },
  "language_info": {
   "codemirror_mode": "r",
   "file_extension": ".r",
   "mimetype": "text/x-r-source",
   "name": "R",
   "pygments_lexer": "r",
   "version": "4.1.3"
  }
 },
 "nbformat": 4,
 "nbformat_minor": 5
}
