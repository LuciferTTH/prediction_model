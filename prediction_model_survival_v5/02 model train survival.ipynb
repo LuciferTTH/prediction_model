{
 "cells": [
  {
   "cell_type": "markdown",
   "metadata": {},
   "source": [
    "# 1.Background（背景）"
   ]
  },
  {
   "cell_type": "markdown",
   "metadata": {},
   "source": [
    "临床结局一般是多因素共同作用的结果，在模型构建时，变量间常存在各种各样的关系，单因素分析由于无法考虑各变量之间的关系，结果往往不可靠，我们常常采用的解决方案是多因素的回归分析。在进行多因素的回归分析时，如何合理地进行变量筛选从而构建最佳模型是不可避免的问题。"
   ]
  },
  {
   "cell_type": "markdown",
   "metadata": {},
   "source": [
    "# 2.筛选方法和函数"
   ]
  },
  {
   "cell_type": "markdown",
   "metadata": {},
   "source": [
    "Bestsubset_survivalWhen we build a prediction model, in nature, what we would like to do is to find a function $f()$ to make $Y=f(\\mathbf{X}, \\epsilon)$. The function $f()$ can be enumerous. Thus, The key step of prediction model building is to make some reasonable assumptions about the function form of $f()$, and these assumptions are called the hypothesis space of $f()$.\n",
    "\n",
    "当我们构建预测模型时，我们想去找到一个函数 $f()$ 使得 $Y=f(\\mathbf{X}, \\epsilon)$，函数 $f()$ 是多种多样的。因此，构建预测模型的关键步骤是对 $f()$ 的函数形式做出一些合理的假设，这些假设就称为 $f()$ 的假设空间。"
   ]
  },
  {
   "cell_type": "markdown",
   "metadata": {},
   "source": [
    "Hypothesis space of linear function ($f(\\mathbf{X}, \\epsilon)=\\mathbf{X} \\cdot \\beta^{T} + \\epsilon$)\n"
   ]
  },
  {
   "cell_type": "markdown",
   "metadata": {},
   "source": [
    "线性函数的假设空间为 $f(\\mathbf{X}, \\epsilon)=\\mathbf{X} \\cdot \\beta^{T} + \\epsilon$。"
   ]
  },
  {
   "cell_type": "markdown",
   "metadata": {
    "tags": []
   },
   "source": [
    "## 2.1 Without additional restrictions（无额外限制的变量筛选方法）"
   ]
  },
  {
   "cell_type": "markdown",
   "metadata": {},
   "source": [
    "When we assume the hypothesis space is a space of linear function without any additional restriction. The key question now is to find the optimal combination of candicate predictors from the candidate predictor pool. During the process of finding the optimal combination, we have different searching strategies, each one of them is only a trade-off between complexity and best optimism. Basically, there are two types of searching strategies as follows.\n",
    "\n",
    "当我们假定该假设空间是一个无额外限制的线性函数空间时，关键问题就是从预测变量池中寻找候选预测变量的最佳组合。我们在寻找最佳模型的过程中有不同的模型变量筛选方法，但每一种方法仅是对模型复杂性和最优组合之间的权衡。以下将介绍两种常见的模型变量筛选方法\n",
    ">- 最优子集筛选法（best subset selection）\n",
    ">- 逐步选择法（stepwise selection）\n",
    ">>- 前进法（forward stepwise selection）\n",
    ">>- 后退法（backward stepwise selection）"
   ]
  },
  {
   "cell_type": "markdown",
   "metadata": {},
   "source": [
    "### 2.1.1 最优子集法（Best subset selection）"
   ]
  },
  {
   "cell_type": "markdown",
   "metadata": {},
   "source": [
    "1. Let $M_{0}$ denote the null model, which contains no predictors;\n",
    "2. For $k = 1, 2, \\cdots, p$\n",
    ">- Fit all ${p \\choose k}$ models that contain exactly $k$ predictors;\n",
    ">- Pick the best among these ${p \\choose k}$ models, and call it $M_{k}$; Here <span style=\"color:red\">best</span> is defined as having the smallest deviance ($D=-2l(0)$, for linear model, deviance is equal to residual sum of squares [RSS]), or equivalently the largest $R^{2}$ (coefficient of determination, $R^{2}=1-\\frac{SSR}{SST}$, generalized $R^{2}=1-(\\frac{l(0)}{l(\\hat{\\beta})})^{2/n}$);\n",
    "3. Select a single best model from among $M_{0}, \\cdots, M_{p}$ using cross-validated prediction error, AIC, BIC, ... ."
   ]
  },
  {
   "cell_type": "markdown",
   "metadata": {},
   "source": [
    "1. 记 $M_{0}$ 为空模型，该模型中无预测变量，只存在截距项；\n",
    "2. 对于 $k = 1, 2, \\cdots, p$：\n",
    ">- 选取所有 ${p \\choose k}$ 个包含k个自变量的模型进行拟合；\n",
    ">- 从 ${p \\choose k}$ 个模型中选择最优模型，记为$M_{k}$（因为${p \\choose k}$个模型的自变量数均为k，所以此处最优模型可以通过最小的方差（$D=-2l(0)$）或最大的 $R^{2}$ 选取）；\n",
    "3. 从 $M_{0}, \\cdots, M_{p}$ 中选择一个最优模型，选取标准包括交叉验证的预测误差、AIC、BIC等。"
   ]
  },
  {
   "cell_type": "code",
   "execution_count": 1,
   "metadata": {
    "tags": []
   },
   "outputs": [],
   "source": [
    "# Install required packages and library them\n",
    "packages <- c(\"survival\",\n",
    "              \"survMisc\",\n",
    "              \"plyr\",\n",
    "              \"dplyr\",\n",
    "              \"glmnet\")\n",
    "\n",
    "for (i in packages) {\n",
    "    if (!suppressMessages(require(i, character.only = TRUE, quietly = TRUE))) {\n",
    "        install.packages(i, quietly = TRUE)\n",
    "    }\n",
    "}"
   ]
  },
  {
   "cell_type": "code",
   "execution_count": 2,
   "metadata": {
    "tags": []
   },
   "outputs": [],
   "source": [
    "# 定义函数\n",
    "# best subset\n",
    "Bestsubset_survival <- function(dataset, time, status, predictors, best_criteria = \"R2\"){\n",
    "    survival_outcome <- Surv(dataset[,time], dataset[,status])\n",
    "    list_of_reg_formulas <- lapply(seq_along((predictors)), function(n) {\n",
    "        left_hand_side  <- paste(\"Surv(\", time, \", \", status, \")\", sep =\"\")\n",
    "        right_hand_side <- apply(X = combn(predictors, n), MARGIN = 2, paste, collapse = \" + \")\n",
    "        paste(left_hand_side, right_hand_side, sep = \"  ~  \")\n",
    "    })\n",
    "    vector_of_reg_formulas <- unlist(list_of_reg_formulas)\n",
    "    \n",
    "    options(warn = -1)\n",
    "    list_of_reg_fits <- lapply(vector_of_reg_formulas, function(x) {\n",
    "        formula <- as.formula(x)\n",
    "        fit <- coxph(formula, data = dataset)\n",
    "        result_R2 <- summary(fit)$rsq\n",
    "        result_AIC <- extractAIC(fit)\n",
    "        \n",
    "        data.frame(No_predictors = result_AIC[1],\n",
    "                   R2 = result_R2[1], \n",
    "                   AIC = result_AIC[2],\n",
    "                   model = x)\n",
    "    })\n",
    "    options(warn = 0)\n",
    "    \n",
    "    res <- do.call(rbind, list_of_reg_fits)\n",
    "    if (best_criteria == \"R2\"){\n",
    "        formula <- res %>% \n",
    "            group_by(No_predictors) %>% \n",
    "            mutate(best_model = (R2 == max(R2))) %>% \n",
    "            filter(best_model) %>% \n",
    "            ungroup() %>% \n",
    "            mutate(model = as.character(model), optimal_model = (AIC == min(AIC))) %>% \n",
    "            filter(optimal_model) %>% \n",
    "            '[['('model')\n",
    "    }\n",
    "    if (best_criteria == \"AIC\"){\n",
    "        formula <- res %>% \n",
    "            group_by(No_predictors) %>% \n",
    "            mutate(best_model = (AIC == min(AIC))) %>% \n",
    "            filter(best_model) %>% \n",
    "            ungroup() %>% \n",
    "            mutate(model = as.character(model), optimal_model = (AIC == min(AIC))) %>% \n",
    "            filter(optimal_model) %>% \n",
    "            '[['('model')\n",
    "    }\n",
    "    return(formula)\n",
    "}"
   ]
  },
  {
   "cell_type": "markdown",
   "metadata": {},
   "source": [
    "### 2.1.2 逐步选择法（stepwise selection）"
   ]
  },
  {
   "cell_type": "markdown",
   "metadata": {},
   "source": [
    "#### （1）前进法"
   ]
  },
  {
   "cell_type": "markdown",
   "metadata": {},
   "source": [
    "1. 记 $M_{0}$ 为空模型，该模型中无预测变量，只存在截距项；\n",
    "2. 对于 $k = 0, 1, \\cdots, p-1$：\n",
    ">- 拟合所有在 $M_{k}$ 模型基础上加入1个自变量的模型（共有$p-k$个模型）；\n",
    ">- 从 $p-k$ 个模型中选取 $R^{2}$ 最大的模型，记为$M_{k+1}$；\n",
    "3. 从 $M_{0}, \\cdots, M_{p}$ 中选择一个最优模型，选取标准包括交叉验证的预测误差、AIC、BIC等。"
   ]
  },
  {
   "cell_type": "code",
   "execution_count": 3,
   "metadata": {
    "tags": []
   },
   "outputs": [],
   "source": [
    "# Forwardstep\n",
    "Forwardstep_survival <- function(dataset, time, status, predictors){\n",
    "    selected_vars <- c()\n",
    "    models <- data.frame()\n",
    "    p <- length(predictors)\n",
    "    survival_outcome <- Surv(dataset[,time], dataset[,status])\n",
    "    \n",
    "    # null model(初始model) \n",
    "    null_model <- coxph(\n",
    "                as.formula(paste(\"Surv(\", time, \", \", status, \") ~ \",\n",
    "                                 \"1\", \n",
    "                                 sep = \"\")),\n",
    "                data = dataset) \n",
    "    result_R2 <- NA\n",
    "    result_AIC <- extractAIC(null_model)\n",
    "    models <- data.frame(\n",
    "                     No_predictors = result_AIC[1],\n",
    "                     R2 = NA,\n",
    "                     AIC = result_AIC[2])\n",
    "\n",
    "    for (k in 0:(p-1)) {\n",
    "        candidate_added_vars  <- setdiff(predictors, selected_vars)\n",
    "        # Generate p-k model by adding another predictor\n",
    "        results <- lapply(candidate_added_vars, function(x) {\n",
    "            formula <- paste(\"Surv(\", time, \", \", status, \") ~ \", \n",
    "                             paste(c(x, selected_vars),\n",
    "                                   collapse = \" + \"), sep = \"\")\n",
    "            fit <- coxph(as.formula(formula), data = dataset)\n",
    "            result_R2 <- summary(fit)$rsq\n",
    "            result_AIC <- extractAIC(fit)\n",
    "            data.frame(No_predictors = result_AIC[1],\n",
    "                        R2 = result_R2[1],\n",
    "                        AIC = result_AIC[2],\n",
    "                        added_var = x,\n",
    "                        formula = formula)\n",
    "        })\n",
    "        res <- do.call(rbind, results)\n",
    "        best_model <- res %>% \n",
    "                        mutate(best_model = (R2 == max(R2))) %>% \n",
    "                        filter(best_model)\n",
    "        added_var <-  best_model %>% '[['('added_var')\n",
    "        selected_vars <- c(selected_vars, added_var)\n",
    "        best_model$model_vars <- paste(selected_vars, collapse = \" + \")\n",
    "        models <- rbind.fill(models, best_model)\n",
    "    }\n",
    "    \n",
    "    train_model_forwardstep <- models[models$AIC == min(models$AIC),][,\"formula\"]\n",
    "    return(train_model_forwardstep)\n",
    "}"
   ]
  },
  {
   "cell_type": "markdown",
   "metadata": {
    "tags": []
   },
   "source": [
    "#### （补充）带有停止准则的前进法\n",
    "\n",
    "1. Let $M_{0}$ denote the null model, which contains no predictors; Let $M_{p}$ denote the full model, which contains all $p$ predictors;\n",
    "\n",
    "2. Repeat the following steps for $k = 1, \\cdots, p$ :\n",
    ">- Fit all $p-k+1 \\choose 1$ models by adding another predictor to model $M_{k-1}$;\n",
    ">- Pick the best model, call it $M_k$; Here <span style=\"color:red\">best</span> is defined as having the smallest deviance ($D=-2l(0)$, for linear model, deviance is equal to residual sum of squares [RSS]), or equivalently the largest $R^{2}$ (coefficient of determination, $R^{2}=1-\\frac{SSR}{SST}$, generalized $R^{2}=1-(\\frac{l(0)}{l(\\hat{\\beta})})^{2/n}$); or the samllest cross-validated prediction error, or the samllest AIC ($-2l(\\hat{\\beta} + 2k$), or the samllest BIC($-2l(\\hat{\\beta} + klog(n)$), ...\n",
    ">- Select a single best model between $M_{k-1}$ and $M_{k}$; \n",
    ">- Stop if the single best model is $M_{k-1}$ or $k = p$;\n",
    "\n",
    "3. The final model is $M_{k-1}$ or $M_{p}$.\n"
   ]
  },
  {
   "cell_type": "markdown",
   "metadata": {
    "tags": []
   },
   "source": [
    "1.定义$M_{0}$为空模型，不含任何预测变量；定义$M_{p}$为全模型，含有全部 $p$ 个预测变量；\n",
    "\n",
    "2.对于 $k = 1,\\cdots, p$，重复以下步骤：\n",
    "    \n",
    ">- 通过为模型 $M_{k-1}$添加1个预测变量，拟合所有的$p-k+1 \\choose 1$ 个模型\n",
    ">- 选择最优模型，记为$M_{k}$；此处最优模型可以通过最小的方差[$D=-2l(0)$，对于线性模型而言，方差等同于残差平方和(RSS)]，或最大的 $R^{2}$ [决定系数, $R^{2}=1-\\frac{SSR}{SST}$, 广义 $R^{2}=1-(\\frac{l(0)}{l(\\hat{\\beta})})^{2/n}$]，或最小的交叉验证的预测误差，或最小的AIC[$-2l(\\hat{\\beta} + 2k$]，或最小的BIC[$-2l(\\hat{\\beta} + klog(n)$]选取...\n",
    ">- 从 $M_{k-1}$和$M_{k}$之间选择一个最好的模型；\n",
    ">- 当该模型是$M_{k-1}$或$k = p$的时候，停止该过程；\n",
    "\n",
    "3.最终的模型为$M_{k-1}$ 或 $M_{p}$。"
   ]
  },
  {
   "cell_type": "code",
   "execution_count": 4,
   "metadata": {
    "tags": []
   },
   "outputs": [],
   "source": [
    "# Forwardstep with stop criteria(也可以用step()函数)\n",
    "ForwardstepwithStop_survival <- function(dataset, time, status, predictors){\n",
    "    selected_vars <- c()\n",
    "    p <- length(predictors)\n",
    "    null_model <- coxph(as.formula(\n",
    "                        paste(\"Surv(\", time, \", \", status, \") ~ \", \n",
    "                              \"1\", \n",
    "                              sep = \"\")),\n",
    "                        data = dataset) # null model\n",
    "    result_R2 <- NA\n",
    "    AIC_min <- extractAIC(null_model)[2]\n",
    "    \n",
    "    for (k in 1:p) {\n",
    "        candidate_added_vars  <- setdiff(predictors, selected_vars)\n",
    "        # Generate p-k+1 model by adding another predictor\n",
    "        results <- lapply(candidate_added_vars, function(x){\n",
    "            formula <- paste(\"Surv(\", time, \", \", status, \") ~ \", \n",
    "                             paste(c(x, selected_vars),\n",
    "                                   collapse = \" + \"), sep = \"\")\n",
    "            fit <- coxph(as.formula(formula), data = dataset)\n",
    "            result_R2 <- summary(fit)$rsq\n",
    "            result_AIC <- extractAIC(fit)\n",
    "            data.frame(\n",
    "                No_predictors = result_AIC[1],\n",
    "                R2 = result_R2[1],\n",
    "                AIC = result_AIC[2],\n",
    "                added_var = x,\n",
    "                formula = formula)\n",
    "        })\n",
    "        res <- do.call(rbind, results)\n",
    "\n",
    "        if (min(res$AIC) < AIC_min) { \n",
    "            added_var <- res %>% \n",
    "                    mutate(best_model = (AIC == min(AIC))) %>% \n",
    "                    filter(best_model) %>% \n",
    "                    '[['('added_var')\n",
    "            selected_vars <- c(selected_vars, added_var)\n",
    "            k = k + 1\n",
    "            AIC_min <- min(res$AIC)\n",
    "        } else {\n",
    "            break \n",
    "            # Stop if the single best model is $M_{k-1}$\n",
    "        }\n",
    "    }\n",
    "    final_model <- paste(\"Surv(\", time, \", \", status, \") ~ \", \n",
    "                         paste(selected_vars, collapse = \" + \"), \n",
    "                         sep = \"\")\n",
    "    return(final_model)\n",
    "}"
   ]
  },
  {
   "cell_type": "markdown",
   "metadata": {},
   "source": [
    "#### （2）后退法"
   ]
  },
  {
   "cell_type": "markdown",
   "metadata": {},
   "source": [
    "1. 记 $M_{p}$ 为包含所有自变量的全模型；\n",
    "2. 对于 $k = p, p-1, \\cdots, 1$：\n",
    ">- 拟合所有在 $M_{k}$ 模型基础上减少1个自变量的模型（共有$k$个模型）；\n",
    ">- 从$k$个模型中选取 $R^{2}$ 最大的模型，记为$M_{k-1}$；\n",
    "3. 从 $M_{0}, \\cdots, M_{p}$ 中选择一个最优模型，选取标准包括交叉验证的预测误差、AIC、BIC等。"
   ]
  },
  {
   "cell_type": "code",
   "execution_count": 5,
   "metadata": {
    "tags": []
   },
   "outputs": [],
   "source": [
    "# Backwardstep\n",
    "Backwardstep_survival <- function(dataset, time, status, predictors){\n",
    "    selected_vars <- predictors\n",
    "    models <- data.frame()\n",
    "    p <- length(predictors)\n",
    "    # full model(初始model) \n",
    "    full_model <- coxph(\n",
    "                as.formula(paste(\"Surv(\", time, \", \", status, \") ~ \",\n",
    "                                 paste(predictors, collapse = \"+\"), \n",
    "                                 sep = \"\")),\n",
    "                data = dataset)\n",
    "    result_R2 <- summary(full_model)$rsq\n",
    "    result_AIC <- extractAIC(full_model)\n",
    "    models <- data.frame(\n",
    "                 No_predictors = result_AIC[1],\n",
    "                 R2 = result_R2[1],\n",
    "                 AIC = result_AIC[2])\n",
    "    \n",
    "    for (k in p:1) {\n",
    "        if (k == 1) {\n",
    "            null_model <- coxph(\n",
    "                            as.formula(paste(\"Surv(\", time, \", \", status, \") ~ \",\n",
    "                                             \"1\", \n",
    "                                             sep = \"\")),\n",
    "                            data = dataset) # null model\n",
    "            result_R2 <- NA\n",
    "            result_AIC <- extractAIC(null_model)\n",
    "            best_model <- data.frame(\n",
    "                                 No_predictors = result_AIC[1],\n",
    "                                 R2 = NA,\n",
    "                                 AIC = result_AIC[2])\n",
    "            models <- rbind.fill(models, best_model)\n",
    "        }\n",
    "        if (k > 1) {\n",
    "            # Generate k model by remove a predictor\n",
    "            candidate_vars <- selected_vars\n",
    "            \n",
    "            results <- lapply(candidate_vars, function(x){\n",
    "                formula <- paste(\"Surv(\", time, \", \", status, \") ~ \",\n",
    "                                 paste(setdiff(selected_vars, x), collapse = \" + \"), \n",
    "                                 sep = \"\")\n",
    "                fit <- coxph(as.formula(formula), data=dataset)\n",
    "                result_R2 <- summary(fit)$rsq\n",
    "                result_AIC <- extractAIC(fit)\n",
    "\n",
    "                data.frame(No_predictors = result_AIC[1],\n",
    "                            R2 = result_R2[1], \n",
    "                            AIC = result_AIC[2],\n",
    "                            dropped_var = x,\n",
    "                            formula = as.character(formula))\n",
    "            })\n",
    "\n",
    "            res <- do.call(rbind, results)\n",
    "            best_model <- res %>% \n",
    "                            mutate(best_model = (R2 == max(R2))) %>% \n",
    "                            filter(best_model)\n",
    "            dropped_var <-  best_model %>% '[['('dropped_var')\n",
    "            selected_vars <- setdiff(selected_vars, dropped_var)\n",
    "            best_model$model_vars <- paste(selected_vars, collapse = \" + \")\n",
    "            models <- rbind.fill(models, best_model)\n",
    "        }\n",
    "    }\n",
    "\n",
    "    train_model_backwardstep <- models[models$AIC == min(models$AIC),][,\"formula\"]\n",
    "    return(train_model_backwardstep)\n",
    "}"
   ]
  },
  {
   "cell_type": "markdown",
   "metadata": {},
   "source": [
    "#### （补充）带有停止准则的后退法\n",
    "\n",
    "1. Let $M_{p}$ denote the full model, which contains all $p$ predictors; Let $M_{0}$ denote the null model, which contains no predictors;\n",
    "\n",
    "2. Repeat the folloing steps for $k = p, \\cdots, 1$:\n",
    "\n",
    ">- Fit all $k \\choose 1$ models by dropping one predictor from model $M_{k}$;\n",
    ">- Pick the best model, call it $M_{k-1}$; Here <span style=\"color:red\">best</span> is defined as having the smallest deviance ($D=-2l(0)$, for linear model, deviance is equal to residual sum of squares [RSS]), or equivalently the largest $R^{2}$ (coefficient of determination, $R^{2}=1-\\frac{SSR}{SST}$, generalized $R^{2}=1-(\\frac{l(0)}{l(\\hat{\\beta})})^{2/n}$); or the samllest cross-validated prediction error, or the samllest AIC ($-2l(\\hat{\\beta} + 2k$), or the samllest BIC($-2l(\\hat{\\beta} + klog(n)$), ...\n",
    ">- Select a single best model between $M_{k-1}$ and $M_{k}$; \n",
    ">- Stop if the single best model is $M_{k}$ or $k = 1$;\n",
    "\n",
    "3. The final model is $M_{k}$ or $M_{1}$."
   ]
  },
  {
   "cell_type": "markdown",
   "metadata": {},
   "source": [
    "1. 定义$M_{p}$为全模型，含有全部 $p$ 个预测变量；定义$M_{0}$为空模型，不含任何预测变量；\n",
    "\n",
    "2. 对于$k = p, \\cdots, 1$ ，重复以下步骤：\n",
    ">- 通过减少 $M_{k}$模型一个预测变量的方法，拟合所有的$k \\choose 1$ 个模型；\n",
    ">- 选择最优模型，记为$M_{k-1}$；此处最优模型可以通过最小的方差（$D=-2l(0)$，对于线性模型而言，方差等同于残差平方和[RSS]），\n",
    "或最大的 $R^{2}$ (决定系数, $R^{2}=1-\\frac{SSR}{SST}$, 广义 $R^{2}=1-(\\frac{l(0)}{l(\\hat{\\beta})})^{2/n}$)，\n",
    "或最小的交叉验证的预测误差，或最小的AIC($-2l(\\hat{\\beta} + 2k$)，或最小的BIC($-2l(\\hat{\\beta} + klog(n)$)选取；\n",
    ">- 从 $M_{k-1}$和$M_{k}$之间选择一个最好的模型；\n",
    ">- 当该模型是$M_{k}$或$k = 1$的时候，停止该过程；                                                 \n",
    "\n",
    "3. 最终模型为$M_{k}$或$k = 1$。"
   ]
  },
  {
   "cell_type": "code",
   "execution_count": 6,
   "metadata": {
    "tags": []
   },
   "outputs": [],
   "source": [
    "# Backwardstep with stop criteria (也可以用step()函数)\n",
    "BackwardstepwithStop_survival <- function(dataset, time, status, predictors){    \n",
    "    p <- length(predictors)\n",
    "    selected_vars <- predictors\n",
    "    survival_outcome <- Surv(dataset[,time], dataset[,status])\n",
    "    \n",
    "    # 创建一个全模型(初始模型)\n",
    "    full_model <- coxph(as.formula(paste(\"survival_outcome\", \n",
    "                                   paste(predictors, collapse = \" + \"), \n",
    "                                   sep = \" ~ \")), \n",
    "                        data = dataset) \n",
    "    AIC_min <- extractAIC(full_model)[2]\n",
    "    \n",
    "    for (k in p:1) {\n",
    "        # Generate k model by remove a predictor\n",
    "        candidate_vars <- selected_vars\n",
    "        \n",
    "        if ((k > 1)) {\n",
    "            results <- lapply(candidate_vars, function(x){\n",
    "                formula <- paste(\"survival_outcome\", \n",
    "                                 paste(setdiff(candidate_vars, x), collapse = \" + \"), \n",
    "                                 sep = \" ~ \")\n",
    "                \n",
    "                fit <- coxph(as.formula(formula), data = dataset)\n",
    "                \n",
    "                result_R2 <- summary(fit)$rsq\n",
    "                \n",
    "                result_AIC <- extractAIC(fit)\n",
    "\n",
    "                data.frame(No_predictors = result_AIC[1],\n",
    "                    R2 = result_R2[1], \n",
    "                    AIC = result_AIC[2],\n",
    "                    dropped_var = x)\n",
    "            })\n",
    "            res <- do.call(rbind, results)\n",
    "            if (min(res$AIC) <= AIC_min){ \n",
    "                dropped_var <- res %>% \n",
    "                    mutate(best_model = (AIC == min(AIC))) %>% \n",
    "                    filter(best_model) %>% \n",
    "                    '[['('dropped_var')\n",
    "                selected_vars <- setdiff(candidate_vars, dropped_var)\n",
    "                k = k - 1\n",
    "                AIC_min <- min(res$AIC)\n",
    "            } else {\n",
    "                break \n",
    "                # Stop if the single best model is $M_{k}$\n",
    "            }\n",
    "        }\n",
    "        if (k == 1) {\n",
    "            # drop one variable will make a null model\n",
    "            null_model <- coxph(\n",
    "                            as.formula(paste(\"survival_outcome\", \"1\", sep = \" ~ \")),\n",
    "                            data = dataset) # null model\n",
    "            result_R2 <- NA\n",
    "            result_AIC <- extractAIC(null_model)\n",
    "            if (result_AIC[2] <= AIC_min) {\n",
    "                selected_vars <- c()\n",
    "            } else {\n",
    "                break \n",
    "                # Stop if the single best model is $M_{k}$\n",
    "            }\n",
    "        }\n",
    "    }\n",
    "    final_model <- paste(\"Surv(\", time, \", \", status, \") ~ \", \n",
    "                         paste(selected_vars, collapse = \" + \"), \n",
    "                         sep = \"\")\n",
    "    return(final_model)\n",
    "}"
   ]
  },
  {
   "cell_type": "markdown",
   "metadata": {},
   "source": [
    "#### （3）双向选择法\n",
    "\n",
    "1. Let $M_{p}$ denote the full model, which contains all $p$ predictors; Let $M_{0}$ denote the null model, which contains no predictors;\n",
    "2. Start from null model, for any model includ k predictors:\n",
    "3. Forward selection, for the rest of $p-k$ predictors:\n",
    ">- Fit all $p-k \\choose 1$ models by adding another predictor from the rest of $p-k$ predictors to best model between $M_{k-1}$ and $M_{k}$;\n",
    ">- Pick the best model, call it $M_{k+1}$; Here <span style=\"color:red\">best</span> is defined as having the smallest deviance ($D=-2l(0)$, for linear model, deviance is equal to residual sum of squares [RSS]), or equivalently the largest $R^{2}$ (coefficient of determination, $R^{2}=1-\\frac{SSR}{SST}$, generalized $R^{2}=1-(\\frac{l(0)}{l(\\hat{\\beta})})^{2/n}$); or the samllest cross-validated prediction error, or the samllest AIC ($-2l(\\hat{\\beta} + 2k$), or the samllest BIC($-2l(\\hat{\\beta} + klog(n)$);\n",
    ">- Select a single best model between $M_{k+1}$ and $M_{k}$; \n",
    "\n",
    "4. If add another predictor, then Backward selection\n",
    ">- Fit all $k \\choose 1$ models by drop one predictor from model $M_{k+1}$;\n",
    ">- Pick the best model, call it $Mb_{k}$; Here <span style=\"color:red\">best</span> is defined as having the smallest deviance ($D=-2l(0)$, for linear model, deviance is equal to residual sum of squares [RSS]), or equivalently the largest $R^{2}$ (coefficient of determination, $R^{2}=1-\\frac{SSR}{SST}$, generalized $R^{2}=1-(\\frac{l(0)}{l(\\hat{\\beta})})^{2/n}$); or the samllest cross-validated prediction error, or the samllest AIC ($-2l(\\hat{\\beta} + 2k$), or the samllest BIC($-2l(\\hat{\\beta} + klog(n)$);\n",
    ">- Select a single best model between $M_{k}$ and $M_{k+1}$;\n",
    "\n",
    "5. Stop if the single best model is $M_{k}$, otherwise repeat 3 and 4."
   ]
  },
  {
   "cell_type": "markdown",
   "metadata": {
    "tags": []
   },
   "source": [
    "1. 定义$M_{p}$为全模型，含有全部 $p$ 个预测变量；定义$M_{0}$为空模型，不含任何预测变量；\n",
    "2. 从空模型开始，对任何一个含有k个预测变量的模型（进行以下操作）：\n",
    "3. 前进选择法：对于剩下的$p-k$个预测变量（进行以下操作）：\n",
    ">- 通过向模型$M_{k-1}$与模型$M_{k}$之间的最优模型增添一个剩余的$p-k$个预测变量之一的方法，拟合所有 $p-k \\choose 1$ 个模型；\n",
    ">- 选取最优模型，记作$M_{k+1}$，最优模型可以通过最小的方差（$D=-2l(0)$，对于线性模型而言，方差等同于残差平方和[RSS]），\n",
    "或最大的 $R^{2}$ (决定系数, $R^{2}=1-\\frac{SSR}{SST}$, 广义 $R^{2}=1-(\\frac{l(0)}{l(\\hat{\\beta})})^{2/n}$)，\n",
    "或最小的交叉验证的预测误差，或最小的AIC($-2l(\\hat{\\beta} + 2k$)，或最小的BIC($-2l(\\hat{\\beta} + klog(n)$)选取；\n",
    ">- 从 $M_{k+1}$和$M_{k}$之间选择一个最优模型；\n",
    "4. 每增加了一个预测变量，同时也进行后退选择（进行以下操作）：\n",
    ">- 通过减少 $M_{k+1}$模型一个预测变量的方法，拟合所有的$k \\choose 1$ 个模型；\n",
    ">- 选取最优模型，记作$M_{k}$，最优模型可以通过最小的方差（$D=-2l(0)$，对于线性模型而言，方差等同于残差平方和[RSS]），\n",
    "或最大的 $R^{2}$ (决定系数, $R^{2}=1-\\frac{SSR}{SST}$, 广义 $R^{2}=1-(\\frac{l(0)}{l(\\hat{\\beta})})^{2/n}$)，\n",
    "或最小的交叉验证的预测误差，或最小的AIC($-2l(\\hat{\\beta} + 2k$)，或最小的BIC($-2l(\\hat{\\beta} + klog(n)$)选取；\n",
    ">- 从 $M_{k}$和$M_{k+1}$之间选择一个最优模型；\n",
    "5. 当最优模型是$M_{k}$时,停止该筛选过程，否则不断重复过程3与过程4。"
   ]
  },
  {
   "cell_type": "markdown",
   "metadata": {},
   "source": [
    "#### Summary（总结）"
   ]
  },
  {
   "cell_type": "markdown",
   "metadata": {},
   "source": [
    "##### 前进法（模型中的自变量从无到有、由少到多逐个引入回归方程）\n",
    "\n",
    "1. 优点：可以自动去掉高度相关的自变量。\n",
    "2. 局限性：后续变量的进入可能会使先进入方程的自变量变得无统计学意义。\n",
    "\n",
    "##### 后退法（先将全部自变量放入模型，然后逐步剔除无统计学意义的自变量）\n",
    "\n",
    "1. 优点：考虑到自变量的组合作用。\n",
    "2. 局限性：自变量数目较多或某些自变量高度相关时，可能会得到错误的结果。"
   ]
  },
  {
   "cell_type": "markdown",
   "metadata": {},
   "source": [
    "##### 逐步选择法与最优子集法的区别\n",
    "\n",
    "最优子集选择法可以选择任意变量进行建模，而逐步选择法只能基于之前所选的k个变量进行(k+1)轮建模，所以逐步选择法不能保证最优，因为前面的变量选择中很有可能选中一些不是很重要的变量（或在专业背景下不好解释的变量），但在后面的迭代中也必须加上，从而就不一定能产生最优变量组合。但优势是计算量大大减小，因此实用性更强。"
   ]
  },
  {
   "cell_type": "markdown",
   "metadata": {},
   "source": [
    "## 2.2 With additional restrictions（带额外限制条件的变量筛选方法）"
   ]
  },
  {
   "cell_type": "markdown",
   "metadata": {},
   "source": [
    "### 2.2.1 LASSO回归"
   ]
  },
  {
   "cell_type": "markdown",
   "metadata": {},
   "source": [
    "LASSO回归引入正则化方法（L1-范数），使 $L({β_{1},..., β_{p}})+λ\\sum|β_{j}|$ 最小，通过在模型估计中增加惩罚项（$\\sum|β_{j}|$）压缩回归系数减小方差。由于LASSO回归可以将预测变量的估计系数压缩到0，因此可以在压缩系数的同时起到变量筛选的作用。"
   ]
  },
  {
   "cell_type": "markdown",
   "metadata": {},
   "source": [
    "1. 将所有预测变量放入模型，建立LASSO回归；\n",
    "2. LASSO回归为寻找最佳的模型，引入惩罚值 λ(lambda)，随着λ值增加，各变量的回归系数β减小，有些会被压缩为0，说明这些变量在该λ值下对模型贡献很小可以剔除。因此，λ值决定了回归系数被压缩的程度从而决定最后纳入模型的预测变量；\n",
    "3. 确定最佳λ值，以下为两种常见方法：\n",
    ">- 采用十折交叉验证，计算不同 λ值下的Partial-likelihood deviance，一般选择最小Partial-likelihood deviance一个标准误时对应的λ值（虽然理论上选Partial-likelihood deviance最小时所对应的λ值，但λ值过小，回归系数压缩幅度较小，不一定能较好解决模型过拟合和共线性的问题）；\n",
    ">- 计算各模型的AIC、BIC等，选取AIC或BIC最小时对应的λ值。"
   ]
  },
  {
   "cell_type": "code",
   "execution_count": 7,
   "metadata": {
    "tags": []
   },
   "outputs": [],
   "source": [
    "Lasso_survival <- function(dataset, time, status, predictors, lambda = \"min\"){\n",
    "    set.seed(123)\n",
    "    survival_outcome <- Surv(dataset[,time], dataset[,status])\n",
    "    x <- data.matrix(dataset[,predictors])\n",
    "    fit <- glmnet(x, survival_outcome, family=\"cox\", alpha=1)\n",
    "    \n",
    "    # 可视化结果\n",
    "    plot(fit, xvar=\"lambda\", label=T)\n",
    "    \n",
    "    # 使用交叉验证来确定最佳的λ\n",
    "    cv.fit <- cv.glmnet(x, survival_outcome, family=\"cox\", alpha = 1)\n",
    "    plot(cv.fit)\n",
    "    \n",
    "    if (lambda == \"1se\"){\n",
    "        coef1 <- predict(fit, s=cv.fit$lambda.1se, type = \"coefficients\")\n",
    "        print(coef1)\n",
    "        selected_vars <- coef1@Dimnames[[1]][coef1@i]\n",
    "    }\n",
    "    \n",
    "    if (lambda == \"min\"){\n",
    "        coef2 <- predict(fit, s=cv.fit$lambda.min, type = \"coefficients\")\n",
    "        print(coef2)\n",
    "        selected_vars <- coef2@Dimnames[[1]][coef2@i+1]\n",
    "    }\n",
    "    \n",
    "    lasso_model <- paste(\"Surv(\", time, \", \", status, \") ~ \", paste(selected_vars, collapse = \" + \"), sep = \"\")\n",
    "    return(lasso_model)\n",
    "}"
   ]
  },
  {
   "cell_type": "markdown",
   "metadata": {},
   "source": [
    "# 3.Simulation（模拟）"
   ]
  },
  {
   "cell_type": "code",
   "execution_count": 8,
   "metadata": {
    "tags": []
   },
   "outputs": [],
   "source": [
    "load('dataset_after_description.R')"
   ]
  },
  {
   "cell_type": "code",
   "execution_count": 9,
   "metadata": {
    "tags": []
   },
   "outputs": [],
   "source": [
    "# transform factor variables to dummy variables\n",
    "dataset <- dataset %>% \n",
    "    mutate(albuminuria_moderate = as.numeric(albuminuria == \"moderate\"),\n",
    "           albuminuria_severe = as.numeric(albuminuria == \"severe\"),\n",
    "           CKD_stage_G3a = as.numeric(CKD_stage == \"G3a\"),\n",
    "           CKD_stage_G3b = as.numeric(CKD_stage == \"G3b\"),\n",
    "           CKD_stage_G4 = as.numeric(CKD_stage == \"G4\"))\n",
    "\n",
    "# 待筛选变量\n",
    "predictors <- c('age', 'age_square', 'male', \n",
    "                # 'BMI', 'SBP', \n",
    "                # 'MI', 'HF', 'COPD', 'cancer', 'liver_disease', 'hypoglycemia', \n",
    "                'TC_rcs_1', 'TC_rcs_2', 'TC_rcs_3', 'log_LDLC', \n",
    "                'albuminuria_moderate', 'albuminuria_severe', \n",
    "                'CKD_stage_G3a', 'CKD_stage_G3b', 'CKD_stage_G4',\n",
    "                # 'No_outpatient', 'No_inpatient', \n",
    "                # 'age_male', 'male_cancer', \n",
    "                'male_CKD_stage_G3a', 'male_CKD_stage_G3b', 'male_CKD_stage_G4', \n",
    "                'age_TC', 'age_BMI_TC')"
   ]
  },
  {
   "cell_type": "markdown",
   "metadata": {
    "tags": []
   },
   "source": [
    "## 3.1 Without additional restrictions（无额外限制条件的变量筛选方法）"
   ]
  },
  {
   "cell_type": "markdown",
   "metadata": {},
   "source": [
    "### 3.1.1 最优子集法（Best subset selection）"
   ]
  },
  {
   "cell_type": "code",
   "execution_count": 10,
   "metadata": {
    "scrolled": true
   },
   "outputs": [],
   "source": [
    "# train_model_bestsubset <- Bestsubset_survival(data=dataset, time=\"AKI_time\", status=\"AKI_status\", , predictors = predictors)"
   ]
  },
  {
   "cell_type": "code",
   "execution_count": 11,
   "metadata": {},
   "outputs": [],
   "source": [
    "# train_model_bestsubset"
   ]
  },
  {
   "cell_type": "markdown",
   "metadata": {},
   "source": [
    "### 3.1.2 逐步选择法（stepwise selection）"
   ]
  },
  {
   "cell_type": "markdown",
   "metadata": {},
   "source": [
    "#### （1）前进法"
   ]
  },
  {
   "cell_type": "code",
   "execution_count": 12,
   "metadata": {
    "tags": []
   },
   "outputs": [
    {
     "data": {
      "text/html": [
       "'Surv(AKI_time, AKI_status) ~ age_TC + male + age + age_BMI_TC + male_CKD_stage_G3a + albuminuria_severe + TC_rcs_1 + TC_rcs_3'"
      ],
      "text/latex": [
       "'Surv(AKI\\_time, AKI\\_status) \\textasciitilde{} age\\_TC + male + age + age\\_BMI\\_TC + male\\_CKD\\_stage\\_G3a + albuminuria\\_severe + TC\\_rcs\\_1 + TC\\_rcs\\_3'"
      ],
      "text/markdown": [
       "'Surv(AKI_time, AKI_status) ~ age_TC + male + age + age_BMI_TC + male_CKD_stage_G3a + albuminuria_severe + TC_rcs_1 + TC_rcs_3'"
      ],
      "text/plain": [
       "[1] \"Surv(AKI_time, AKI_status) ~ age_TC + male + age + age_BMI_TC + male_CKD_stage_G3a + albuminuria_severe + TC_rcs_1 + TC_rcs_3\""
      ]
     },
     "metadata": {},
     "output_type": "display_data"
    }
   ],
   "source": [
    "train_model_forwardstep <- Forwardstep_survival(data=dataset, time=\"AKI_time\", status=\"AKI_status\", predictors = predictors)\n",
    "train_model_forwardstep"
   ]
  },
  {
   "cell_type": "markdown",
   "metadata": {
    "tags": []
   },
   "source": [
    "采用逐步选择法（前进法）筛选得到的变量有age_TC，male，age，age_BMI_TC，male_CKD_stage_G3a，albuminuria_severe，TC_rcs_1，TC_rcs_3"
   ]
  },
  {
   "cell_type": "markdown",
   "metadata": {},
   "source": [
    "#### (补充)带有停止准则的前进法"
   ]
  },
  {
   "cell_type": "code",
   "execution_count": 13,
   "metadata": {
    "tags": []
   },
   "outputs": [
    {
     "data": {
      "text/html": [
       "'Surv(AKI_time, AKI_status) ~ male + age + age_BMI_TC + male_CKD_stage_G3a'"
      ],
      "text/latex": [
       "'Surv(AKI\\_time, AKI\\_status) \\textasciitilde{} male + age + age\\_BMI\\_TC + male\\_CKD\\_stage\\_G3a'"
      ],
      "text/markdown": [
       "'Surv(AKI_time, AKI_status) ~ male + age + age_BMI_TC + male_CKD_stage_G3a'"
      ],
      "text/plain": [
       "[1] \"Surv(AKI_time, AKI_status) ~ male + age + age_BMI_TC + male_CKD_stage_G3a\""
      ]
     },
     "metadata": {},
     "output_type": "display_data"
    }
   ],
   "source": [
    "train_model_forwardstepwithstop <- ForwardstepwithStop_survival(data=dataset, time=\"AKI_time\", status=\"AKI_status\", predictors = predictors)\n",
    "train_model_forwardstepwithstop"
   ]
  },
  {
   "cell_type": "markdown",
   "metadata": {},
   "source": [
    "采用带有停止准则的前进法筛选得到的预测变量有male，age，age_BMI_TC，male_CKD_stage_G3a"
   ]
  },
  {
   "cell_type": "code",
   "execution_count": 14,
   "metadata": {
    "tags": []
   },
   "outputs": [
    {
     "data": {
      "text/plain": [
       "Surv(AKI_time, AKI_status) ~ male + age + age_BMI_TC + male_CKD_stage_G3a"
      ]
     },
     "metadata": {},
     "output_type": "display_data"
    }
   ],
   "source": [
    "# 使用Step()\n",
    "# 创建一个全模型(初始模型)\n",
    "time <- \"AKI_time\"\n",
    "status <- \"AKI_status\"\n",
    "full_model <- coxph(as.formula(paste(\"Surv(\", time, \", \", status, \") ~ \",  \n",
    "                               paste(predictors, collapse = \" + \"), \n",
    "                               sep = \"\")), \n",
    "                    data = dataset)\n",
    "null_model <- coxph(as.formula(paste(\"Surv(\", time, \", \", status, \") ~ \", \n",
    "                               \"1\", \n",
    "                               sep = \"\")), \n",
    "                    data = dataset)\n",
    "train_model_forwardstepfunction <- step(null_model, direction = \"forward\", scope = list(upper = formula(full_model), lower = formula(null_model)), trace=0)\n",
    "train_model_forwardstepfunction$formula"
   ]
  },
  {
   "cell_type": "markdown",
   "metadata": {},
   "source": [
    "采用Step()函数(筛选方法为“向前选择”)筛选得到的预测变量有male，age，age_BMI_TC，male_CKD_stage_G3a"
   ]
  },
  {
   "cell_type": "markdown",
   "metadata": {},
   "source": [
    "#### （2）后退法"
   ]
  },
  {
   "cell_type": "code",
   "execution_count": 15,
   "metadata": {
    "tags": []
   },
   "outputs": [
    {
     "data": {
      "text/html": [
       "'Surv(AKI_time, AKI_status) ~ male + TC_rcs_1 + TC_rcs_3 + male_CKD_stage_G3a + age_TC + age_BMI_TC'"
      ],
      "text/latex": [
       "'Surv(AKI\\_time, AKI\\_status) \\textasciitilde{} male + TC\\_rcs\\_1 + TC\\_rcs\\_3 + male\\_CKD\\_stage\\_G3a + age\\_TC + age\\_BMI\\_TC'"
      ],
      "text/markdown": [
       "'Surv(AKI_time, AKI_status) ~ male + TC_rcs_1 + TC_rcs_3 + male_CKD_stage_G3a + age_TC + age_BMI_TC'"
      ],
      "text/plain": [
       "[1] \"Surv(AKI_time, AKI_status) ~ male + TC_rcs_1 + TC_rcs_3 + male_CKD_stage_G3a + age_TC + age_BMI_TC\""
      ]
     },
     "metadata": {},
     "output_type": "display_data"
    }
   ],
   "source": [
    "train_model_backwardstep <- Backwardstep_survival(data=dataset, time=\"AKI_time\", status=\"AKI_status\", predictors = predictors)\n",
    "train_model_backwardstep"
   ]
  },
  {
   "cell_type": "markdown",
   "metadata": {},
   "source": [
    "采用逐步选择法（后退法）筛选得到的变量有male，TC_rcs_1，TC_rcs_3，male_CKD_stage_G3a，age_TC，age_BMI_TC"
   ]
  },
  {
   "cell_type": "markdown",
   "metadata": {},
   "source": [
    "#### (补充)带有停止准则的后退法"
   ]
  },
  {
   "cell_type": "code",
   "execution_count": 16,
   "metadata": {
    "tags": []
   },
   "outputs": [
    {
     "data": {
      "text/html": [
       "'Surv(AKI_time, AKI_status) ~ male + TC_rcs_1 + TC_rcs_3 + male_CKD_stage_G3a + age_TC + age_BMI_TC'"
      ],
      "text/latex": [
       "'Surv(AKI\\_time, AKI\\_status) \\textasciitilde{} male + TC\\_rcs\\_1 + TC\\_rcs\\_3 + male\\_CKD\\_stage\\_G3a + age\\_TC + age\\_BMI\\_TC'"
      ],
      "text/markdown": [
       "'Surv(AKI_time, AKI_status) ~ male + TC_rcs_1 + TC_rcs_3 + male_CKD_stage_G3a + age_TC + age_BMI_TC'"
      ],
      "text/plain": [
       "[1] \"Surv(AKI_time, AKI_status) ~ male + TC_rcs_1 + TC_rcs_3 + male_CKD_stage_G3a + age_TC + age_BMI_TC\""
      ]
     },
     "metadata": {},
     "output_type": "display_data"
    }
   ],
   "source": [
    "train_model_backwardstepwithstop <- BackwardstepwithStop_survival(data=dataset, time=\"AKI_time\", status=\"AKI_status\", predictors = predictors)\n",
    "train_model_backwardstepwithstop"
   ]
  },
  {
   "cell_type": "markdown",
   "metadata": {},
   "source": [
    "采用带有停止准则的后退法筛选得到的预测变量有male，TC_rcs_1，TC_rcs_3，male_CKD_stage_G3a，age_TC，age_BMI_TC"
   ]
  },
  {
   "cell_type": "code",
   "execution_count": 17,
   "metadata": {
    "tags": []
   },
   "outputs": [
    {
     "data": {
      "text/plain": [
       "Surv(AKI_time, AKI_status) ~ male + TC_rcs_1 + TC_rcs_3 + male_CKD_stage_G3a + \n",
       "    age_TC + age_BMI_TC"
      ]
     },
     "metadata": {},
     "output_type": "display_data"
    }
   ],
   "source": [
    "# 使用Step()\n",
    "# 创建一个全模型(初始模型)\n",
    "full_model <- coxph(as.formula(paste(\"Surv(\", time, \", \", status, \") ~ \", \n",
    "                               paste(predictors, collapse = \" + \"), \n",
    "                               sep = \"\")), \n",
    "                    data = dataset)\n",
    "null_model <- coxph(as.formula(paste(\"Surv(\", time, \", \", status, \") ~ \", \n",
    "                               \"1\", \n",
    "                               sep = \"\")), \n",
    "                    data = dataset)\n",
    "train_model_backwardstepfunction <- step(full_model, direction = \"backward\", scope = list(upper = formula(full_model), lower = formula(null_model)), trace=0)\n",
    "train_model_backwardstepfunction$formula"
   ]
  },
  {
   "cell_type": "markdown",
   "metadata": {},
   "source": [
    "采用Step()函数(筛选方法为“向后选择”)筛选得到的预测变量有male，TC_rcs_1，TC_rcs_3，male_CKD_stage_G3a，age_TC，age_BMI_TC"
   ]
  },
  {
   "cell_type": "markdown",
   "metadata": {},
   "source": [
    "## 3.2 With additional restrictions（带额外限制条件的变量筛选方法）"
   ]
  },
  {
   "cell_type": "markdown",
   "metadata": {},
   "source": [
    "### 3.2.1 LASSO回归"
   ]
  },
  {
   "cell_type": "code",
   "execution_count": 18,
   "metadata": {
    "tags": []
   },
   "outputs": [
    {
     "data": {
      "image/png": "[encoded data removed]",
      "text/plain": [
       "plot without title"
      ]
     },
     "metadata": {
      "image/png": {
       "height": 420,
       "width": 420
      }
     },
     "output_type": "display_data"
    },
    {
     "name": "stdout",
     "output_type": "stream",
     "text": [
      "17 x 1 sparse Matrix of class \"dgCMatrix\"\n",
      "                                1\n",
      "age                  9.749135e-03\n",
      "age_square           2.400645e-05\n",
      "male                 3.422981e-01\n",
      "TC_rcs_1             .           \n",
      "TC_rcs_2             .           \n",
      "TC_rcs_3             .           \n",
      "log_LDLC             .           \n",
      "albuminuria_moderate .           \n",
      "albuminuria_severe   .           \n",
      "CKD_stage_G3a        .           \n",
      "CKD_stage_G3b        .           \n",
      "CKD_stage_G4         .           \n",
      "male_CKD_stage_G3a   6.399917e-02\n",
      "male_CKD_stage_G3b   .           \n",
      "male_CKD_stage_G4    .           \n",
      "age_TC               .           \n",
      "age_BMI_TC           1.899753e-05\n"
     ]
    },
    {
     "data": {
      "image/png": "[encoded data removed]",
      "text/plain": [
       "plot without title"
      ]
     },
     "metadata": {
      "image/png": {
       "height": 420,
       "width": 420
      }
     },
     "output_type": "display_data"
    }
   ],
   "source": [
    "train_model_lasso <- Lasso_survival(data=dataset, time=\"AKI_time\", status=\"AKI_status\", predictors = predictors, lambda = \"min\")"
   ]
  },
  {
   "cell_type": "markdown",
   "metadata": {},
   "source": [
    "上图1为LASSO筛选变量动态过程图，一条彩色线代表一个变量的回归系数β值的变化，x轴为惩罚值，x轴上方为在该值下的剩余变量数。随着λ增加，各变量的回归系数β在减小，有些变为0，说明该变量在此时对模型贡献微乎其微可以剔除。"
   ]
  },
  {
   "cell_type": "markdown",
   "metadata": {},
   "source": [
    "上图2展示了Partial-likelihood deviance随Log(λ)变化曲线，图中给出了两个惩罚值λ：\n",
    "1. Partial-likelihood deviance最小时的λ值，即lambda.min； \n",
    "2. 最小Partial-likelihood deviance一个标准误时对应的λ值，即lambda.1se"
   ]
  },
  {
   "cell_type": "markdown",
   "metadata": {},
   "source": [
    "λ=lambda.min时，给出的是一个具备优良性能且自变量个数最少的模型，因此LASSO回归筛选出的变量为age, age_square, male, male_CKD_stage_G3a, age_BMI_TC。"
   ]
  },
  {
   "cell_type": "markdown",
   "metadata": {},
   "source": [
    "综上，模型预测的精确性有时可以通过压缩或者令某些系数为0来提高，通过损失一点偏差（bias）来降低预测值的方差，从而可能提高整个模型预测的精确性。此外，当有大量的预测变量时，我们经常去筛选一个小的子集来进行模型构建，防止模型的过拟合，我们愿意损失一点解释度。以上为模型变量筛选常用的3种方法，在实际运用中还需要结合具体的临床背景对预测变量进一步筛选。"
   ]
  },
  {
   "cell_type": "code",
   "execution_count": 19,
   "metadata": {
    "tags": []
   },
   "outputs": [
    {
     "data": {
      "text/html": [
       "'Surv(AKI_time, AKI_status) ~ age + age_square + male + male_CKD_stage_G3a + age_BMI_TC'"
      ],
      "text/latex": [
       "'Surv(AKI\\_time, AKI\\_status) \\textasciitilde{} age + age\\_square + male + male\\_CKD\\_stage\\_G3a + age\\_BMI\\_TC'"
      ],
      "text/markdown": [
       "'Surv(AKI_time, AKI_status) ~ age + age_square + male + male_CKD_stage_G3a + age_BMI_TC'"
      ],
      "text/plain": [
       "[1] \"Surv(AKI_time, AKI_status) ~ age + age_square + male + male_CKD_stage_G3a + age_BMI_TC\""
      ]
     },
     "metadata": {},
     "output_type": "display_data"
    }
   ],
   "source": [
    "train_model_lasso"
   ]
  },
  {
   "cell_type": "code",
   "execution_count": 20,
   "metadata": {
    "tags": []
   },
   "outputs": [],
   "source": [
    "save.image(\"model_train_workspace.Rdata\")"
   ]
  }
 ],
 "metadata": {
  "kernelspec": {
   "display_name": "R",
   "language": "R",
   "name": "ir"
  },
  "language_info": {
   "codemirror_mode": "r",
   "file_extension": ".r",
   "mimetype": "text/x-r-source",
   "name": "R",
   "pygments_lexer": "r",
   "version": "4.1.3"
  },
  "toc-autonumbering": false,
  "toc-showcode": false,
  "toc-showmarkdowntxt": false
 },
 "nbformat": 4,
 "nbformat_minor": 4
}
