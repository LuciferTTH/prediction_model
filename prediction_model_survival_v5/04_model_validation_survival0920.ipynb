{
 "cells": [
  {
   "cell_type": "markdown",
   "id": "24ff6d41-a9ee-45bb-8cb0-42cd2cebe325",
   "metadata": {
    "id": "24ff6d41-a9ee-45bb-8cb0-42cd2cebe325"
   },
   "source": [
    "# 1.Background（背景）"
   ]
  },
  {
   "cell_type": "markdown",
   "id": "d1d8a1d6-af4d-42da-be60-52ebe1b0ff5c",
   "metadata": {
    "id": "d1d8a1d6-af4d-42da-be60-52ebe1b0ff5c"
   },
   "source": [
    "基于上述最优子集、逐步回归、LASSO回归筛选出的变量分别进行cox回归模型构建后，我们将涉及模型的评价，根据数据集的来源不同，可以通过内部验证和（或）外部验证对模型的区分度（Discrimination）、校准度（Calibration）和决策曲线三个方面进行评价。"
   ]
  },
  {
   "cell_type": "markdown",
   "id": "6cc3fcef-8f73-416c-bfe1-84174d6817fd",
   "metadata": {
    "id": "6cc3fcef-8f73-416c-bfe1-84174d6817fd"
   },
   "source": [
    "# 2.原理和方法"
   ]
  },
  {
   "cell_type": "markdown",
   "id": "93cdd055-61e0-46e0-8f58-eda7e76f0c0a",
   "metadata": {
    "id": "93cdd055-61e0-46e0-8f58-eda7e76f0c0a"
   },
   "source": [
    "## 2.1 评价指标"
   ]
  },
  {
   "cell_type": "markdown",
   "id": "1cf600b7-0a39-4fde-8ac9-eaf2d2c8657c",
   "metadata": {
    "id": "1cf600b7-0a39-4fde-8ac9-eaf2d2c8657c"
   },
   "source": [
    "### 2.1.1 区分度（Discrimination）\n",
    "\n",
    "区分度（Discrimination），又称为模型的判别能力或排序能力，用于评价模型区分个体相对风险水平的能力，即发生终点事件的患者应有相对较高的预测发生概率，未发生终点事件的患者应有相对较低的预测概率。"
   ]
  },
  {
   "cell_type": "markdown",
   "id": "69cdcfc5",
   "metadata": {},
   "source": [
    "#### （1）Harrell’s C-index（Harrell’s C统计量）:"
   ]
  },
  {
   "cell_type": "markdown",
   "id": "9cff2707-0a69-4a73-b664-4fd50b714eba",
   "metadata": {
    "id": "9cff2707-0a69-4a73-b664-4fd50b714eba"
   },
   "source": [
    "衡量区分度最常用的的指标是C统计量，或称C指数（C-index）\n",
    "1. 全局区分度反映的是为完整随访时间之前发生事件的患者比完整随访时无事件的患者具有更高估计风险的概率\n",
    "2. 时间依赖区分度反映在选定的时间范围内，随机选择的的患者比随机选择的存活时间更短的患者具有更好的预测存活(事件风险更低)的概率，会在每个时间点观察结局状态。\n",
    "\n",
    "C统计量一般在0.5（随机一致性）到1（完全一致性）之间。通常来说，C统计量判别的常用标准为：\n",
    "\n",
    "1. 低于0.60说明模型的区分度较差;\n",
    "2. 0.6- 0.75说明模型的区分度可能有意义;\n",
    "3. 大于0.7说明模型的区分度明显有意义。"
   ]
  },
  {
   "cell_type": "markdown",
   "id": "562c862f",
   "metadata": {},
   "source": [
    "Estimand of Harrell’s C-index:\n",
    "\\begin{equation}\n",
    "C=P\\left(\\hat{T}_i<\\hat{T}_j \\mid T_i<T_j\\right)=P\\left(S\\left(t \\mid \\boldsymbol{X}_i\\right)<S\\left(t \\mid \\boldsymbol{X}_j\\right) \\mid T_i<T_j\\right) \\quad \\text { for any } t>0 \\text {. }\n",
    "\\end{equation}\n",
    "\n",
    "Estimator of Harrell’s C-index:\n",
    "\n",
    "\\begin{equation}\n",
    "S_i(t)<S_j(t) \\Longleftrightarrow\\left\\{S_0(t)\\right\\}^{\\mathrm{e}^{\\beta^{\\mathrm{T}} x_i}}<\\left\\{S_0(t)\\right\\}^{\\mathrm{e}^{\\boldsymbol{\\beta}^{\\mathrm{T}} x_j}} \\Longleftrightarrow \\boldsymbol{\\beta}^{\\mathrm{T}} \\boldsymbol{x}_i>\\boldsymbol{\\beta}^{\\mathrm{T}} \\boldsymbol{x}_j .\n",
    "\\end{equation}\n",
    "\n",
    "For every pair of patients $i$ and $j$ (with $i \\neq j$), look at their risk scores ($\\eta$) and times-to-event ($T$).\n",
    "1. If both $T_i$ and $T_j$ are not censored, then we can observe when both patients got the disease. We say that the pair $(i, j)$ is a **concordant pair** if risk scores $\\eta_i > \\eta_j$ and $T_i < T_j$, and it is a **discordant pair** if $\\eta_i > \\eta_j$ and $T_i > T_j$.\n",
    "2. If both $T_i$ and $T_j$ are censored, then we don’t know who got the disease first (if at all), so we don’t consider this pair in the computation.\n",
    "3. If one of $T_i$ and $T_j$ is censored, we only observe one disease. Let’s say we observe patient $i$ getting disease at time $T_i$, and that $T_j$ is censored. (The same logic holds for the reverse situation.)\n",
    "\n",
    "    - If $T_j < T_i$, then we don’t know for sure who got the disease first, so we don’t consider this pair in the computation.\n",
    "    - If $T_j > T_i$, then we know for sure that patient $i$ got the disease first. Hence, $(i, j)$ is a *concordant pair* if $\\eta_i > \\eta_j$, and is a **discordant pair** if $\\eta_i < \\eta_j$.\n",
    "\n",
    "\n",
    "Harrell’s C-index is simply\n",
    "\n",
    "\\begin{aligned} \\hat{C} = \\dfrac{\\# \\text{ concordant pairs}}{\\# \\text{ concordant pairs} + \\# \\text{ discordant pairs}}. \\end{aligned}\n",
    "\n",
    "\n",
    "\\begin{aligned} \\hat{C} = \\dfrac{\\sum_{i \\neq j} I(\\eta_i < \\eta_j) I( T_i > T_j) d_j }{\\sum_{i \\neq j} I ( T_i > T_j ) d_j }. \\end{aligned}\n",
    "\n",
    "$d_j$ means that the pair of observations that are not comparable because the smaller survival time is censored, i.e., $d_j = 0$.\n",
    "\n",
    "Ref: \n",
    "1. Van Oirbeek R, Lesaffre E. An application of Harrell's C‐index to PH frailty models. Statistics in Medicine. 2010 Dec 30;29(30):3160-71.\n",
    "2. Schmid M, Wright MN, Ziegler A. On the use of Harrell’s C for clinical risk prediction via random survival forests. Expert Systems with Applications. 2016 Nov 30;63:450-9."
   ]
  },
  {
   "cell_type": "markdown",
   "id": "6877cb09-f263-4cee-a1a7-b06cb196c6e4",
   "metadata": {},
   "source": [
    "Harrell’s C统计量的估计目标:\n",
    "\n",
    "\\begin{equation}\n",
    "C=P\\left(\\hat{T}_i<\\hat{T}_j \\mid T_i<T_j\\right)=P\\left(S\\left(t \\mid \\boldsymbol{X}_i\\right)<S\\left(t \\mid \\boldsymbol{X}_j\\right) \\mid T_i<T_j\\right) \\quad \\text { for any } t>0 \\text {. }\n",
    "\\end{equation}\n",
    "\n",
    "Harrell’s C统计量的估计量:\n",
    "\n",
    "\\begin{equation}\n",
    "S_i(t)<S_j(t) \\Longleftrightarrow\\left\\{S_0(t)\\right\\}^{\\mathrm{e}^{\\beta^{\\mathrm{T}} x_i}}<\\left\\{S_0(t)\\right\\}^{\\mathrm{e}^{\\boldsymbol{\\beta}^{\\mathrm{T}} x_j}} \\Longleftrightarrow \\boldsymbol{\\beta}^{\\mathrm{T}} \\boldsymbol{x}_i>\\boldsymbol{\\beta}^{\\mathrm{T}} \\boldsymbol{x}_j .\n",
    "\\end{equation}\n",
    "\n",
    "对任何一对两两配对的病例对子 $i$ 与 $j$ ( $i \\neq j$)，提取其风险指数（预测概率）($\\eta$) 与时间-事件数据 times-to-event ($T$)：\n",
    "1. 如果 $T_i$ 与 $T_j$均没有删失，则可观察到两个病例的结局事件。如果 $\\eta_i > \\eta_j$ 且 $T_i < T_j$，则称 $(i, j)$ 为“一致病例对”；如果 $\\eta_i > \\eta_j$ 且 $T_i > T_j$，则称之为“不一致病例对”；\n",
    "2. 如果 $T_i$ 与 $T_j$ 均删失，则无法知道哪个病例最先出现结局事件，因此计算过程中会舍弃该病例对；\n",
    "3. 如果 $T_i$ 与 $T_j$ 有一者删失，则只能观察到一个结局事件。假定病例 $i$ 在时间 $T_i$ 出现了结局事件，而病例 $j$ 的生存时间数据 $T_j$ 删失（反之亦然），则：\n",
    ">- 如果实际上 $T_j < T_i$，则无法知道哪个病例先出现结局事件，因此该病例对会被舍弃。\n",
    ">- 如果实际上 $T_j > T_i$，则可知病例 $i$ 先出现结局事件，因此，如果 $\\eta_i > \\eta_j$，该 $(i, j)$ 病例对被视作“一致病例对”，如果 $\\eta_i < \\eta_j$，则为“不一致病例对”。\n",
    "\n",
    "Harrell’s C统计量计算如下：\n",
    "\n",
    "\\begin{aligned} \\hat{C} = \\dfrac{\\# \\text{一致病例对}}{\\# \\text{ 一致病例对} + \\# \\text{ 不一致病例对}} \\end{aligned}\n",
    "\n",
    "\n",
    "\\begin{aligned} \\hat{C} = \\dfrac{\\sum_{i \\neq j} I(\\eta_i < \\eta_j) I( T_i > T_j) d_j }{\\sum_{i \\neq j} I ( T_i > T_j ) d_j } \\end{aligned}\n",
    "\n",
    "$d_j$ 指由病例对中较短的生存时间删失导致的无法确认是否一致的病例对的数量。"
   ]
  },
  {
   "cell_type": "markdown",
   "id": "7414c758",
   "metadata": {},
   "source": [
    "#### （2）Brier score（布里尔分数）"
   ]
  },
  {
   "cell_type": "markdown",
   "id": "3ba5f11e-654e-478b-8e6d-67af80fd3359",
   "metadata": {
    "id": "3ba5f11e-654e-478b-8e6d-67af80fd3359"
   },
   "source": [
    "### 2.1.2 校准度（Calibration）"
   ]
  },
  {
   "cell_type": "markdown",
   "id": "d2963209-688d-4f0e-82fa-256942edd490",
   "metadata": {
    "id": "d2963209-688d-4f0e-82fa-256942edd490"
   },
   "source": [
    "一个模型只有良好的区分度是不够的，因为其仅代表相对风险排序。而临床是复杂的，对于50%的风险和80%的风险，我们的临床决策可能不同，这就引出了校准度的概念。校准度指预测与实际结果之间的一致性，可用来反映模型的绝对风险预测值是否准确。"
   ]
  },
  {
   "cell_type": "markdown",
   "id": "ac6d06ff-3f8a-49a0-b03f-5dc3b8c7da26",
   "metadata": {
    "id": "ac6d06ff-3f8a-49a0-b03f-5dc3b8c7da26"
   },
   "source": [
    "1. 根据研究对象在时间t的事件发生的预测概率进行分组；\n",
    "2. 在各组中计算时间t的事件发生的平均预测概率；\n",
    "3. 在各组中通过拟合该组的Kaplan-Meier生存函数来计算在时间t的事件发生的观测概率；\n",
    "4. 在各组中比较平均预测概率和观测概率，可使用散点图，校准度图等（校准度图按照预测概率进行等分组，横坐标为预测的生存率，纵坐标为实际的生存率，对角线是预测概率等于实际概率，偏离对角线越远说明预测的误差越大）；\n",
    "5. 通过统计检验的方法（如Hosmer-Lemeshow检验等）也可以对预测概率与实际观测概率之间的差异程度进行显著性检验，从而评估校准度，但是均存在各种局限性。"
   ]
  },
  {
   "cell_type": "markdown",
   "id": "a844cffe-df53-433f-8231-b36cde6548b2",
   "metadata": {
    "id": "a844cffe-df53-433f-8231-b36cde6548b2"
   },
   "source": [
    "### 2.1.3 决策曲线（Decision curve analysis)"
   ]
  },
  {
   "cell_type": "markdown",
   "id": "ee49ed87-ed47-4371-ab16-a97dfbc29679",
   "metadata": {
    "id": "ee49ed87-ed47-4371-ab16-a97dfbc29679"
   },
   "source": [
    "模型预测再准确，也始终会有假阳性和假阴性存在，我们根据模型的预测结果去干预病人，这里面就有一个干预划不划得来的问题（例如对假阳性的病人进行干预是亏损的）。决策曲线引入了阈概率，表示的是只有病人的预测概率超过这个阈概率，干预才有受益，但阈概率本身我们是不知道的，我们关心训练出来的模型是否在任何阈概率情况下都是有收益的，都是值得应用的，这就是决策曲线要帮助我们回答的问题。该方法由纪念斯隆凯特琳癌症研究所的Andrew Vickers博士2006年在Medical Decision Making期刊上首次提出，而后得到了普遍应用。其绘制方法为：\n",
    "\n",
    "Ref:\n",
    "1. Fitzgerald M, Saville BR, Lewis RJ. Decision curve analysis. JAMA. 2015;313(4):409-410. doi:10.1001/jama.2015.37\n",
    "2. Vickers AJ, Elkin EB. Decision curve analysis: a novel method for evaluating prediction models. Med Decis Making. 2006;26(6):565-574. doi:10.1177/0272989X06295361"
   ]
  },
  {
   "cell_type": "markdown",
   "id": "eaf5dec2-eff5-4357-8e50-99bdd06c5684",
   "metadata": {
    "id": "eaf5dec2-eff5-4357-8e50-99bdd06c5684"
   },
   "source": [
    "1. Chose a value for $P_{t}$ (probability threshold, a level of diagnostic certainty above which the patient would choose to be treated);\n",
    "2. Calculate the number of true- and false-positive results using $P_{t}$ as the cut-point for determining a positive or negative result;\n",
    "3. Calculate the net benefit of the prediction model,  $Net Benefit = \\frac{TruePositiveCount}{n}-\\frac{FalsePositiveCount}{n}(\\frac{P_{t}}{1-P_{t}})$ (true- and false-positive count is the number of patients with true- and false-positive results and $n$ is the total number of patients);\n",
    "4. Vary $P_{t}$ over an appropriate range and repeat steps 2 – 3；\n",
    "5. Plot net benefit on the y axis against $P_{t}$ on the x axis；\n",
    "6. Repeat steps 1 – 5 for each model under consideration;\n",
    "7. Repeat steps 1 – 5 for the strategy of assuming all patients are positive;\n",
    "8. Draw a straight line parallel to the x-axis at $y=0$ representing the net benefit associated with the strategy of assuming that all patients are negative"
   ]
  },
  {
   "cell_type": "markdown",
   "id": "02c74119-50b0-410c-a18b-143dedd00943",
   "metadata": {},
   "source": [
    "1. 选择一个阈概率 $P_{t}$ （当对一位患者的预测概率超过阈概率，该患者会被纳入干预）；\n",
    "2. 使用 $P_{t}$ 作为确定患者为阴性或阳性结果（即是否纳入干预）的分界值，再结合患者的实际结局情况，确定真阳性和假阳性的结局数量；\n",
    "3. 计算该模型的净获益 $Net Benefit = \\frac{TruePositiveCount}{n}-\\frac{FalsePositiveCount}{n}(\\frac{P_{t}}{1-P_{t}})$，（$TruePositiveCount$ 和 $FalsePositiveCount$ 是指有真阳性结局事件和假阳性结局事件的患者的数量， $n$ 是患者总数）；\n",
    "4. 在合适的范围内修改阈概率 $P_{t}$ 的取值，并重复步骤2与步骤3；\n",
    "5. 以净获益为y轴，$P_{t}$ 为x轴，根据上述结果取点连线绘图；\n",
    "6. 对所有需要进行评估验证的模型都重复步骤1到5，每个模型绘制一条决策曲线；\n",
    "7. 假定所有患者均出现阳性结局，即所有患者均纳入干预，重复步骤1到5一次，仍计算不同 $P_{t}$ 下的净获益，并绘制一条“无效线”用于参考；\n",
    "8. 在 $y=0$ 处画一条平行于x轴的直线，此为另一条“无效线”，其假定所有患者都是阴性结局、均不纳入干预时（此时无论阈概率如何改变，净获益水平均为0）的情况。"
   ]
  },
  {
   "cell_type": "markdown",
   "id": "2eb4dbdc-b589-4d86-b154-287edd5ea7cb",
   "metadata": {
    "id": "2eb4dbdc-b589-4d86-b154-287edd5ea7cb",
    "tags": []
   },
   "source": [
    "## 2.2 内部验证方法"
   ]
  },
  {
   "cell_type": "markdown",
   "id": "92df80bb-d7ba-4eab-838f-31ea2d945451",
   "metadata": {
    "id": "92df80bb-d7ba-4eab-838f-31ea2d945451"
   },
   "source": [
    "内部验证法的目的是检验模型开发过程的generalizability，并且防止模型过度拟合以致高估模型的性能。内部验证是针对整个建模过程中的所有步骤，包括变量转换、变量筛选以及模型选择，甚至需要包括对数据缺失值的插补，而不是仅针对最终模型进行验证1。内部验证的实施通常需要借助数据分割或重抽样方法来实现，常用的方法有Bootstrap法、随机拆分验证、K折交叉验证。内部验证可以评估模型在开发队列中的表现，但不能反映模型在新数据中的表现（transferability），因此还需要进行外部验证。"
   ]
  },
  {
   "cell_type": "markdown",
   "id": "e85ffc6e-7587-4d82-9c47-1bc04ac95abe",
   "metadata": {
    "id": "e85ffc6e-7587-4d82-9c47-1bc04ac95abe"
   },
   "source": [
    "### 2.1 Bootstrap法（自举法，自助法）"
   ]
  },
  {
   "cell_type": "markdown",
   "id": "4d337d73-dab0-4a08-9761-bfa2eeb9d46c",
   "metadata": {
    "id": "4d337d73-dab0-4a08-9761-bfa2eeb9d46c"
   },
   "source": [
    "#### 2.2.1.1 常规自助法\n",
    "1. 划分训练集和测试集：有放回地从原始数据集随机重复抽样n次（n为样本容量），从而得到一个与原始数据同样大小的样本。将Bootstrap抽样所得样本数据作为训练集，测试集为所有样本数据；\n",
    "2. 在训练集上进行模型训练，筛选出最优模型；\n",
    "3. 根据训练集所得的最优模型，在测试集上进行预测并计算模型的C统计量；\n",
    "4. 重复步骤2和3多次，例如1000次，我们可以得到1000个不同训练集在测试集进行预测的C统计量值；\n",
    "5. 计算C统计量的均值。"
   ]
  },
  {
   "cell_type": "markdown",
   "id": "edea9c8f-7b6c-422a-b022-170f804ed10c",
   "metadata": {
    "id": "edea9c8f-7b6c-422a-b022-170f804ed10c"
   },
   "source": [
    "#### 2.2.1.2 增强自助法\n",
    "\n",
    "1. 划分训练集和测试集：有放回地从原始数据集随机重复抽样n次（n为样本容量），从而得到一个与原始数据同样大小的样本。将Bootstrap抽样所得样本数据作为训练集，测试集为所有样本数据；\n",
    "2. 在训练集上进行模型训练，筛选出最优模型；并在该训练集上进行预测并计算C统计量(称作bootstrap performance 或 apparent performance，即模型的表面表现）；\n",
    "3. 根据训练集所得的最优模型，在测试集上进行预测并计算模型的C统计量（称作test performance，测试表现）；\n",
    "4. 重复步骤1-3多次，例如1000次，我们可以得到1000个不同的模型在其训练集和测试集中分别进行预测得到的C统计量；\n",
    "5. 计算4中得到的1000个预测训练集所得C统计量的均值，和1000个预测测试集所得C统计量的均值，前者减去后者得到C统计量的高估值（optimism）\n",
    "6. 在原始数据中拟合模型并进行预测，计算C统计量，再减去5中计算得到的高估值，得到模型在内部验证中，经过调整的C统计量(optimism-corrected C-index)。"
   ]
  },
  {
   "cell_type": "markdown",
   "id": "6ab054a5",
   "metadata": {},
   "source": [
    "#### 2.2.1.3 0.632自助法"
   ]
  },
  {
   "cell_type": "markdown",
   "id": "aa334e6d",
   "metadata": {},
   "source": [
    "1. 划分训练集和测试集：将Bootstrap抽样所得样本数据作为训练集，测试集为未被抽中的样本数据（从一个样本量为 $n$ 的数据集中有放回地抽样，每个个体被抽中的概率是 $\\frac{1}{n}$，未被抽中的概率是 $1-\\frac{1}{n}$，抽取 $n$ 次，因此一个个体 $n$ 次都未被抽中的概率是 $(1-\\frac{1}{n})^n$，当 $n$ 很大时，该概率近似为 $\\frac{1}{e}=0.368$，因此大约36.8%的样本将作为测试集，63.2%的样本作为训练集）；\n",
    "2. 在训练集上进行模型训练，筛选出最优模型；\n",
    "3. 根据训练集所得的最优模型，在测试集上进行预测并计算模型的C统计量；\n",
    "4. 重复步骤1-3多次，例如1000次，我们可以得到1000个训练集和测试集的预测值；\n",
    "5. 计算C统计量的均值。"
   ]
  },
  {
   "cell_type": "markdown",
   "id": "15136d0d-7f76-4eaa-a2d0-23b6ac5302f2",
   "metadata": {
    "id": "15136d0d-7f76-4eaa-a2d0-23b6ac5302f2"
   },
   "source": [
    "### 2.2 交叉验证法"
   ]
  },
  {
   "cell_type": "markdown",
   "id": "237780ff-912a-4c39-8cf2-5530b8ba642d",
   "metadata": {
    "id": "237780ff-912a-4c39-8cf2-5530b8ba642d"
   },
   "source": [
    "主要步骤如下：\n",
    "1. 将数据集分为训练集和测试集两部分；\n",
    "2. 保留一小部分数据集作为测试集，使用数据集的其余部分（训练集）训练模型；\n",
    "3. 利用测试集来测试训练集所得的最优模型，以此来评价模型的性能。"
   ]
  },
  {
   "cell_type": "markdown",
   "id": "8cc47e6b-6e7c-4843-a0fc-4368e5237fdf",
   "metadata": {
    "id": "8cc47e6b-6e7c-4843-a0fc-4368e5237fdf"
   },
   "source": [
    "#### 2.2.2.1 随机拆分验证"
   ]
  },
  {
   "cell_type": "markdown",
   "id": "be439daa-e956-4ae1-83e4-5905a4ce8e3b",
   "metadata": {
    "id": "be439daa-e956-4ae1-83e4-5905a4ce8e3b"
   },
   "source": [
    "1. 将数据集按一定比例进行拆分，拆分为训练集和测试集（例如：80％或70%的数据集作为训练集，20%或30%的数据集作为测试集）;\n",
    "2. 在训练集上进行模型训练，筛选出最优模型；\n",
    "3. 根据训练集所得的最优模型，在测试集上进行预测；\n",
    "4. 在测试集上建立新模型并评价模型的区分度和校准度。"
   ]
  },
  {
   "cell_type": "markdown",
   "id": "9f8823c5-af76-4d38-916e-700cce1abf6d",
   "metadata": {
    "id": "9f8823c5-af76-4d38-916e-700cce1abf6d"
   },
   "source": [
    ">- 注意：仅当数据集含较大样本量可以供拆分时使用，当数据量较小时，不推荐使用。\n",
    ">- 缺点：仅在一部分数据集上建立模型，可能会遗漏一些信息，从而导致结果有偏差。此外，预测误差也会随着我们划分的训练集和测试集不同而不稳定。"
   ]
  },
  {
   "cell_type": "markdown",
   "id": "798931f0-31e4-44b8-bcbc-23cdf17d5a75",
   "metadata": {
    "id": "798931f0-31e4-44b8-bcbc-23cdf17d5a75",
    "toc-hr-collapsed": true
   },
   "source": [
    "#### 2.2.2.2 K折交叉验证（K-fold Cross Validation）（更为推荐）"
   ]
  },
  {
   "cell_type": "markdown",
   "id": "9aff02c4-5f05-44c5-b8bc-1d4ae5a9558c",
   "metadata": {
    "id": "9aff02c4-5f05-44c5-b8bc-1d4ae5a9558c"
   },
   "source": [
    "1. 将数据集随机拆分为K个子集（例如5折交叉验证，就是5个子集）；\n",
    "2. 保留一个子集作测试集，所有其他子集作训练集，并在训练集上进行模型训练，筛选出最优模型；\n",
    "3. 根据训练集所得的最优模型，在测试集上进行预测并计算模型的C统计量和校准度；\n",
    "4. 重复此过程，直到k个子集中的每一个都已作为一次测试集；\n",
    "5. 计算K个C统计量的平均值。"
   ]
  },
  {
   "cell_type": "markdown",
   "id": "07a6da9d-92c1-458d-8ccf-d5df6d81418f",
   "metadata": {
    "id": "07a6da9d-92c1-458d-8ccf-d5df6d81418f",
    "tags": []
   },
   "source": [
    "## 2.3 外部验证"
   ]
  },
  {
   "cell_type": "markdown",
   "id": "56b05a51-87a2-4854-8c0a-647e2bc4c092",
   "metadata": {
    "id": "258ab606-03c4-4ea7-9a85-cea6fd8f4f9c"
   },
   "source": [
    "外部验证包括以下几种方法：\n",
    "1. 时间验证：按时间截断，在某时间点前的样本作为训练集，之后的作为验证集；\n",
    "2. 空间验证：多个中心，几个中心作为训练集，其它中心作为验证集，空间相隔越远，验证结果仍然较好，其说服力越大；\n",
    "3. 时空验证：前两种方法结合。"
   ]
  },
  {
   "cell_type": "markdown",
   "id": "e55d5639-0fdb-42f2-8cb7-f3c8855c739b",
   "metadata": {
    "id": "e55d5639-0fdb-42f2-8cb7-f3c8855c739b"
   },
   "source": [
    "# 3.Simulation（模拟实验）"
   ]
  },
  {
   "cell_type": "markdown",
   "id": "6f197106-7d8c-4185-955b-cba500dbf03d",
   "metadata": {
    "id": "6f197106-7d8c-4185-955b-cba500dbf03d"
   },
   "source": [
    "下面将对以LASSO回归筛选得到的模型进行内部验证和外部验证。"
   ]
  },
  {
   "cell_type": "markdown",
   "id": "55aba85a-e595-48c3-b29d-81cca4380f7e",
   "metadata": {
    "id": "55aba85a-e595-48c3-b29d-81cca4380f7e",
    "tags": []
   },
   "source": [
    "Import packages（加载包）"
   ]
  },
  {
   "cell_type": "code",
   "execution_count": 1,
   "id": "aab83b48-fcb4-4ab5-81fa-62a6fd0b321d",
   "metadata": {
    "id": "aab83b48-fcb4-4ab5-81fa-62a6fd0b321d",
    "tags": [],
    "vscode": {
     "languageId": "r"
    }
   },
   "outputs": [],
   "source": [
    "# Install required packages and library them\n",
    "packages <- c(\"dplyr\",\n",
    "              \"caret\",\n",
    "              \"survival\",\n",
    "              \"glmnet\",\n",
    "              \"boot\",\n",
    "              \"timeROC\",\n",
    "              \"rms\",\n",
    "              \"ggDCA\",\n",
    "              \"ggplot2\",\n",
    "              \"Matrix\")\n",
    "\n",
    "for (i in packages) {\n",
    "    if (!suppressMessages(require(i, character.only = TRUE, quietly = TRUE))) {\n",
    "        install.packages(i, quietly = TRUE)\n",
    "    }\n",
    "}"
   ]
  },
  {
   "cell_type": "markdown",
   "id": "58576e8d-19f1-438a-9e41-869930bf843a",
   "metadata": {
    "id": "58576e8d-19f1-438a-9e41-869930bf843a"
   },
   "source": [
    "Import dataset（导入数据）"
   ]
  },
  {
   "cell_type": "code",
   "execution_count": 2,
   "id": "7dc900cc-17d2-4389-b36f-6d984d9ccf41",
   "metadata": {
    "id": "7dc900cc-17d2-4389-b36f-6d984d9ccf41",
    "tags": [],
    "vscode": {
     "languageId": "r"
    }
   },
   "outputs": [],
   "source": [
    "load(\"model_refit_workspace.Rdata\")"
   ]
  },
  {
   "cell_type": "code",
   "execution_count": 3,
   "id": "6e63392d-a85f-4c8f-acd3-1463c85b6f3e",
   "metadata": {
    "id": "6e63392d-a85f-4c8f-acd3-1463c85b6f3e",
    "tags": [],
    "vscode": {
     "languageId": "r"
    }
   },
   "outputs": [],
   "source": [
    "# transform multifactor variables to dummy variables\n",
    "dataset_external <- dataset_external %>%\n",
    "    mutate(albuminuria_moderate = as.numeric(albuminuria == \"moderate\"),\n",
    "           albuminuria_severe = as.numeric(albuminuria == \"severe\"),\n",
    "           CKD_stage_G3a = as.numeric(CKD_stage == \"G3a\"),\n",
    "           CKD_stage_G3b = as.numeric(CKD_stage == \"G3b\"),\n",
    "           CKD_stage_G4 = as.numeric(CKD_stage == \"G4\"))"
   ]
  },
  {
   "cell_type": "markdown",
   "id": "7dc5793a-5cf9-4a97-acc7-ea5fc7865221",
   "metadata": {
    "id": "7dc5793a-5cf9-4a97-acc7-ea5fc7865221"
   },
   "source": [
    "## 3.1 内部验证"
   ]
  },
  {
   "cell_type": "markdown",
   "id": "5db477eb-1b4d-4363-8b50-1d835166e6e5",
   "metadata": {
    "id": "5db477eb-1b4d-4363-8b50-1d835166e6e5"
   },
   "source": [
    "当无法获得满足外部验证的数据集时，可以采取内部验证的方法对构建的模型进行评价。内部验证的方法有很多，包括Bootstrap和交叉验证法等。"
   ]
  },
  {
   "cell_type": "markdown",
   "id": "593bc5ff-5d7d-4c35-b5f5-59cf0cf40304",
   "metadata": {
    "id": "593bc5ff-5d7d-4c35-b5f5-59cf0cf40304"
   },
   "source": [
    "### 3.1.1 Bootstrap法（自助法）"
   ]
  },
  {
   "cell_type": "markdown",
   "id": "aefpZF0ZAaEN",
   "metadata": {
    "id": "aefpZF0ZAaEN"
   },
   "source": [
    "#### 3.1.1.1 常规自助法"
   ]
  },
  {
   "cell_type": "code",
   "execution_count": 4,
   "id": "c7d1cbb3-864d-4358-b7d1-e410c116eabc",
   "metadata": {
    "id": "c7d1cbb3-864d-4358-b7d1-e410c116eabc",
    "outputId": "8e76f9e9-c928-4e5f-b702-2f29015cad81",
    "tags": [],
    "vscode": {
     "languageId": "r"
    }
   },
   "outputs": [
    {
     "data": {
      "image/png": "[encoded data removed]",
      "text/plain": [
       "plot without title"
      ]
     },
     "metadata": {
      "image/png": {
       "height": 420,
       "width": 420
      }
     },
     "output_type": "display_data"
    },
    {
     "name": "stdout",
     "output_type": "stream",
     "text": [
      "17 x 1 sparse Matrix of class \"dgCMatrix\"\n",
      "                                 1\n",
      "age                   0.0128859275\n",
      "age_square            .           \n",
      "male                  0.3384751090\n",
      "TC_rcs_1             -0.0411706027\n",
      "TC_rcs_2              .           \n",
      "TC_rcs_3              0.0087604448\n",
      "log_LDLC              0.1243984553\n",
      "albuminuria_moderate -0.0087610076\n",
      "albuminuria_severe   -0.0448266442\n",
      "CKD_stage_G3a         .           \n",
      "CKD_stage_G3b         0.0585773228\n",
      "CKD_stage_G4         -0.0094954999\n",
      "male_CKD_stage_G3a    0.2006637813\n",
      "male_CKD_stage_G3b    0.0386464542\n",
      "male_CKD_stage_G4     .           \n",
      "age_TC                .           \n",
      "age_BMI_TC            0.0000346535\n",
      "Using Cox survival estimates at  365 Days\n"
     ]
    },
    {
     "data": {
      "image/png": "[encoded data removed]",
      "text/plain": [
       "plot without title"
      ]
     },
     "metadata": {
      "image/png": {
       "height": 420,
       "width": 420
      }
     },
     "output_type": "display_data"
    },
    {
     "data": {
      "image/png": "[encoded data removed]",
      "text/plain": [
       "plot without title"
      ]
     },
     "metadata": {
      "image/png": {
       "height": 420,
       "width": 420
      }
     },
     "output_type": "display_data"
    },
    {
     "name": "stdout",
     "output_type": "stream",
     "text": [
      "17 x 1 sparse Matrix of class \"dgCMatrix\"\n",
      "                                 1\n",
      "age                   .           \n",
      "age_square           -4.567625e-07\n",
      "male                  4.111183e-01\n",
      "TC_rcs_1             -2.944912e-01\n",
      "TC_rcs_2              1.269984e-04\n",
      "TC_rcs_3              3.570427e-02\n",
      "log_LDLC             -4.445412e-02\n",
      "albuminuria_moderate  1.654524e-02\n",
      "albuminuria_severe   -7.502837e-02\n",
      "CKD_stage_G3a         8.401877e-02\n",
      "CKD_stage_G3b         .           \n",
      "CKD_stage_G4         -9.698842e-03\n",
      "male_CKD_stage_G3a    2.331211e-04\n",
      "male_CKD_stage_G3b    5.376126e-02\n",
      "male_CKD_stage_G4    -1.083788e-02\n",
      "age_TC                3.938731e-03\n",
      "age_BMI_TC            3.164526e-05\n",
      "Using Cox survival estimates at  365 Days\n"
     ]
    },
    {
     "data": {
      "image/png": "[encoded data removed]",
      "text/plain": [
       "plot without title"
      ]
     },
     "metadata": {
      "image/png": {
       "height": 420,
       "width": 420
      }
     },
     "output_type": "display_data"
    }
   ],
   "source": [
    "## Bootstrap法抽取内部验证的训练集\n",
    "set.seed(123)\n",
    "bootstrap_samples <- list()\n",
    "results <- data.frame()\n",
    "cal <- data.frame()\n",
    "N <- 2 # number of bootstrapping\n",
    "for (i in 1:N) {\n",
    "  bootstrap_sample <- dataset[sample(nrow(dataset), replace = TRUE), ]\n",
    "  bootstrap_samples[[i]] <- bootstrap_sample\n",
    "  train_data <- bootstrap_samples[[i]]\n",
    "  test_data <- dataset\n",
    "\n",
    "  predictors <- c('age', 'age_square', 'male', # 'BMI', 'SBP',\n",
    "                  # 'MI', 'HF', 'COPD', 'cancer', 'liver_disease', 'hypoglycemia',\n",
    "                  'TC_rcs_1', 'TC_rcs_2', 'TC_rcs_3', 'log_LDLC',\n",
    "                  'albuminuria_moderate', 'albuminuria_severe',\n",
    "                  'CKD_stage_G3a', 'CKD_stage_G3b', 'CKD_stage_G4',\n",
    "                  # 'No_outpatient', 'No_inpatient',\n",
    "                  # 'age_male', 'male_cancer',\n",
    "                  'male_CKD_stage_G3a', 'male_CKD_stage_G3b', 'male_CKD_stage_G4',\n",
    "                  'age_TC', 'age_BMI_TC')\n",
    "\n",
    "  # 在训练集上进行模型训练并筛选最优模型\n",
    "  formula <- Lasso_survival(data=train_data, time=\"AKI_time\", status=\"AKI_status\", predictors = predictors, lambda = \"min\")\n",
    "\n",
    "  # model refit\n",
    "  survival_outcome <- Surv(train_data[,\"AKI_time\"], train_data[,\"AKI_status\"])\n",
    "  train_model <- coxph(as.formula(formula), data=train_data)\n",
    "\n",
    "    # 根据训练集所得的最优模型，在测试集上进行预测\n",
    "  pre <- predict(train_model, newdata=test_data)\n",
    "\n",
    "  # 在测试集上建立新模型并计算Harrell’s C统计量（全局区分度）\n",
    "  test_model <- coxph(Surv(AKI_time, AKI_status) ~ pre, data=test_data)\n",
    "  c_index1 <- round(summary(test_model)$concordance, 4)[1]\n",
    "\n",
    "  # 在测试集上建立新模型并计算Time-dependent ROC(1 year)\n",
    "  timeROC <- timeROC(T=test_data$AKI_time,\n",
    "                  delta=test_data$AKI_status,\n",
    "                  marker=pre,\n",
    "                  cause=1, weighting=\"marginal\",\n",
    "                  times=1, # 可以输入要计算的年份向量\n",
    "                  iid=TRUE)\n",
    "  timeROC1 <- timeROC$AUC[\"t=1\"]\n",
    "\n",
    "  result <- data.frame(\n",
    "      no = i,\n",
    "      c_index = c_index1,\n",
    "      timeROC = timeROC1\n",
    "  )\n",
    "  results <- rbind(results, result)\n",
    "\n",
    "  # 1年期的校准曲线(调式)\n",
    "  no_group <- 10\n",
    "  m <- nrow(test_data) / no_group\n",
    "  test_model1 <- cph(Surv(AKI_time*365, AKI_status) ~ pre, data=test_data, surv=T, x=T, y=T, time.inc=365)\n",
    "  cal1 <- calibrate(test_model1, cmethod=\"KM\", m=m, u=365)\n",
    "  # time.inc和u要是一样的，都是要评价的时间节点，3年生存期为time.inc = 365*3，\n",
    "  # m要根据样本量来确定，由于标准曲线一般将所有样本分为3组（在图中显示3个点），而m代表每组的样本量数，因此m=约为样本量/3\n",
    "  # B代表最大再抽样的样本量（需要check一下）是用来计算resampleing calibration plot的，此处可以删掉。\n",
    "  cal1 <- as.data.frame(cal1[,c(\"mean.predicted\",\"KM\", \"std.err\")]) %>% mutate(no = i) # std.err是怎么计算的？\n",
    "  cal <- rbind(cal, cal1)\n",
    "}"
   ]
  },
  {
   "cell_type": "markdown",
   "id": "eeec4239-a7d7-4ccd-9e49-93f0a384bd00",
   "metadata": {
    "id": "eeec4239-a7d7-4ccd-9e49-93f0a384bd00"
   },
   "source": [
    "##### （1）Harrell's C统计量（全局区分度）"
   ]
  },
  {
   "cell_type": "code",
   "execution_count": 5,
   "id": "5369145f-1351-48b1-a3ad-91eeb5e9ca88",
   "metadata": {
    "id": "5369145f-1351-48b1-a3ad-91eeb5e9ca88",
    "outputId": "e7e7c810-7e3a-4bb1-cfd4-49fe2e9b6bba",
    "tags": [],
    "vscode": {
     "languageId": "r"
    }
   },
   "outputs": [
    {
     "data": {
      "text/html": [
       "0.5669"
      ],
      "text/latex": [
       "0.5669"
      ],
      "text/markdown": [
       "0.5669"
      ],
      "text/plain": [
       "[1] 0.5669"
      ]
     },
     "metadata": {},
     "output_type": "display_data"
    }
   ],
   "source": [
    "mean(results[,\"c_index\"])"
   ]
  },
  {
   "cell_type": "markdown",
   "id": "be175dd6-6ba5-4918-a2bd-e6ae44f67f38",
   "metadata": {
    "tags": []
   },
   "source": [
    "上述过程采用常规自助法（Bootstrap regular法）进行内部验证。自助抽样次数为2次，生成2个训练集，经2次LASSO回归筛选变量后拟合模型，在测试集上预测，计算的全局区分度Harrell's C统计量为0.5669，说明该方法所得模型的区分度一般。"
   ]
  },
  {
   "cell_type": "markdown",
   "id": "34ce6bc7-9ed5-4185-8f40-0b4eca05d3b1",
   "metadata": {
    "id": "34ce6bc7-9ed5-4185-8f40-0b4eca05d3b1"
   },
   "source": [
    "##### （2）Time-dependent ROC (1 year) 时间依赖ROC曲线下面积AUC（1年）"
   ]
  },
  {
   "cell_type": "code",
   "execution_count": 6,
   "id": "c4aabb03-79b7-47c7-ba8a-4c0aadfdd610",
   "metadata": {
    "id": "c4aabb03-79b7-47c7-ba8a-4c0aadfdd610",
    "outputId": "0a27e0e0-e8e6-49bb-8f09-604e18b3e2b5",
    "tags": [],
    "vscode": {
     "languageId": "r"
    }
   },
   "outputs": [
    {
     "data": {
      "text/html": [
       "0.5705785066122"
      ],
      "text/latex": [
       "0.5705785066122"
      ],
      "text/markdown": [
       "0.5705785066122"
      ],
      "text/plain": [
       "[1] 0.5705785"
      ]
     },
     "metadata": {},
     "output_type": "display_data"
    }
   ],
   "source": [
    "mean(results[,\"timeROC\"])"
   ]
  },
  {
   "cell_type": "markdown",
   "id": "4b3cc316-e263-4394-bb70-d66c5d6d05e1",
   "metadata": {},
   "source": [
    "经LASSO回归筛选变量后得到的模型，采用常规自助法（Bootstrap regular法）进行内部验证，自助抽样次数为2次，计算的1年内时间依赖曲线下面积AUC为0.570578506612，说明该方法所得模型的1年内时间依赖区分度一般。"
   ]
  },
  {
   "cell_type": "markdown",
   "id": "ab497db2-c4b0-46ae-9c4b-a9acbbddbe2d",
   "metadata": {
    "id": "ab497db2-c4b0-46ae-9c4b-a9acbbddbe2d"
   },
   "source": [
    "##### （3）校准曲线"
   ]
  },
  {
   "cell_type": "markdown",
   "id": "af3d3fcc-2b8f-4aca-949c-d6427b15d17f",
   "metadata": {},
   "source": [
    "经LASSO回归筛选变量后得到的模型，采用常规自助法（Bootstrap regular法）进行内部验证，生成的校准曲线如下图所示。\n",
    "\n",
    "该图横轴对应预测1年内生存概率，纵轴为实际生存概率，两条不同颜色的校准曲线代表2次自助抽样生成的两个训练集拟合模型后的预测结果，每条曲线有10个数据点代表所有预测样本的预测概率被划分为10份，各点的误差线代表实际观测概率的95%置信区间上下限。\n",
    "\n",
    "图中校准曲线沿对角线紧密贴合，波动程度较小，说明该方法所得模型校准度较好。"
   ]
  },
  {
   "cell_type": "code",
   "execution_count": 7,
   "id": "5f658d33-f856-4cdc-a8ae-6cd8ab1e7679",
   "metadata": {
    "id": "5f658d33-f856-4cdc-a8ae-6cd8ab1e7679",
    "outputId": "3df5da3f-23d4-495c-94ec-606297fae33c",
    "tags": [],
    "vscode": {
     "languageId": "r"
    }
   },
   "outputs": [
    {
     "data": {
      "image/png": "[encoded data removed]",
      "text/plain": [
       "plot without title"
      ]
     },
     "metadata": {
      "image/png": {
       "height": 420,
       "width": 420
      }
     },
     "output_type": "display_data"
    }
   ],
   "source": [
    "ggplot(cal, aes(x = mean.predicted, y = KM, group= as.factor(no), colour = as.factor(no))) +\n",
    "    geom_line() +\n",
    "    geom_point() +\n",
    "    xlab(\"Predicted survival at 365 day\") +\n",
    "    ylab(\"Observed survival(KM)\") +\n",
    "    scale_x_continuous(limit=c(0,1)) +\n",
    "    scale_y_continuous(limit=c(0,1)) +\n",
    "    geom_abline(intercept = 0, slope = 1, linetype = \"dashed\") +\n",
    "    geom_errorbar(aes(ymax = (KM+1.96*std.err),ymin = (KM-1.96*std.err)), width=0.02) +\n",
    "    theme_bw()"
   ]
  },
  {
   "cell_type": "markdown",
   "id": "Eae2h0PHAk0q",
   "metadata": {
    "id": "Eae2h0PHAk0q"
   },
   "source": [
    "#### 3.1.1.2 增强自助法"
   ]
  },
  {
   "cell_type": "code",
   "execution_count": 8,
   "id": "qCG3zAsqApHW",
   "metadata": {
    "id": "qCG3zAsqApHW",
    "vscode": {
     "languageId": "r"
    }
   },
   "outputs": [
    {
     "data": {
      "image/png": "[encoded data removed]",
      "text/plain": [
       "plot without title"
      ]
     },
     "metadata": {
      "image/png": {
       "height": 420,
       "width": 420
      }
     },
     "output_type": "display_data"
    },
    {
     "name": "stdout",
     "output_type": "stream",
     "text": [
      "17 x 1 sparse Matrix of class \"dgCMatrix\"\n",
      "                                 1\n",
      "age                   .           \n",
      "age_square           -4.567625e-07\n",
      "male                  4.111183e-01\n",
      "TC_rcs_1             -2.944912e-01\n",
      "TC_rcs_2              1.269984e-04\n",
      "TC_rcs_3              3.570427e-02\n",
      "log_LDLC             -4.445412e-02\n",
      "albuminuria_moderate  1.654524e-02\n",
      "albuminuria_severe   -7.502837e-02\n",
      "CKD_stage_G3a         8.401877e-02\n",
      "CKD_stage_G3b         .           \n",
      "CKD_stage_G4         -9.698842e-03\n",
      "male_CKD_stage_G3a    2.331211e-04\n",
      "male_CKD_stage_G3b    5.376126e-02\n",
      "male_CKD_stage_G4    -1.083788e-02\n",
      "age_TC                3.938731e-03\n",
      "age_BMI_TC            3.164526e-05\n"
     ]
    },
    {
     "data": {
      "image/png": "[encoded data removed]",
      "text/plain": [
       "plot without title"
      ]
     },
     "metadata": {
      "image/png": {
       "height": 420,
       "width": 420
      }
     },
     "output_type": "display_data"
    },
    {
     "data": {
      "image/png": "[encoded data removed]",
      "text/plain": [
       "plot without title"
      ]
     },
     "metadata": {
      "image/png": {
       "height": 420,
       "width": 420
      }
     },
     "output_type": "display_data"
    },
    {
     "name": "stdout",
     "output_type": "stream",
     "text": [
      "17 x 1 sparse Matrix of class \"dgCMatrix\"\n",
      "                                 1\n",
      "age                   1.747185e-02\n",
      "age_square            .           \n",
      "male                  3.773544e-01\n",
      "TC_rcs_1             -4.271452e-02\n",
      "TC_rcs_2              .           \n",
      "TC_rcs_3              1.543897e-02\n",
      "log_LDLC              8.345665e-02\n",
      "albuminuria_moderate  .           \n",
      "albuminuria_severe   -4.258056e-02\n",
      "CKD_stage_G3a         .           \n",
      "CKD_stage_G3b         6.533462e-02\n",
      "CKD_stage_G4         -2.705591e-02\n",
      "male_CKD_stage_G3a    1.214812e-01\n",
      "male_CKD_stage_G3b    .           \n",
      "male_CKD_stage_G4     .           \n",
      "age_TC                .           \n",
      "age_BMI_TC            3.046988e-05\n"
     ]
    },
    {
     "data": {
      "image/png": "[encoded data removed]",
      "text/plain": [
       "plot without title"
      ]
     },
     "metadata": {
      "image/png": {
       "height": 420,
       "width": 420
      }
     },
     "output_type": "display_data"
    }
   ],
   "source": [
    "# 加强Bootstrap\n",
    "N <- 2 # number of boot\n",
    "results <- data.frame()\n",
    "for (i in 1:N) {\n",
    "  bootstrap_sample <- dataset[sample(nrow(dataset), replace = TRUE), ]\n",
    "  bootstrap_samples[[i]] <- bootstrap_sample\n",
    "\n",
    "  train_data <- bootstrap_samples[[i]]\n",
    "  test_data <- dataset\n",
    "\n",
    "  predictors <- c('age', 'age_square', 'male', # 'BMI', 'SBP',\n",
    "                  # 'MI', 'HF', 'COPD', 'cancer', 'liver_disease', 'hypoglycemia',\n",
    "                  'TC_rcs_1', 'TC_rcs_2', 'TC_rcs_3', 'log_LDLC',\n",
    "                  'albuminuria_moderate', 'albuminuria_severe',\n",
    "                  'CKD_stage_G3a', 'CKD_stage_G3b', 'CKD_stage_G4',\n",
    "                  # 'No_outpatient', 'No_inpatient',\n",
    "                  # 'age_male', 'male_cancer',\n",
    "                  'male_CKD_stage_G3a', 'male_CKD_stage_G3b', 'male_CKD_stage_G4',\n",
    "                  'age_TC', 'age_BMI_TC')\n",
    "\n",
    "  # 在训练集上进行模型训练并筛选最优模型\n",
    "  formula <- Lasso_survival(data=train_data, time=\"AKI_time\", status=\"AKI_status\", predictors = predictors, lambda = \"min\")\n",
    "\n",
    "  # model refit\n",
    "  survival_outcome <- Surv(train_data[,\"AKI_time\"], train_data[,\"AKI_status\"])\n",
    "  train_model <- coxph(as.formula(formula), data=train_data)\n",
    "\n",
    "  # 根据训练集所得的最优模型，在测试集上进行预测\n",
    "  pre_train <- predict(train_model, newdata=train_data)\n",
    "  pre_test <- predict(train_model, newdata=test_data)\n",
    "\n",
    "  # 在训练集上计算Harrell’s C统计量（全局区分度）\n",
    "  c_index0 <- round(summary(train_model)$concordance, 4)[1]\n",
    "\n",
    "  # 在测试集上建立新模型并计算Harrell’s C统计量（全局区分度）\n",
    "  test_model <- coxph(Surv(AKI_time, AKI_status) ~ pre_test, data=test_data)\n",
    "  c_index1 <- round(summary(test_model)$concordance, 4)[1]\n",
    "\n",
    "\n",
    "  # 在训练集上计算Time-dependent ROC(1 year)\n",
    "  timeROC_train <- timeROC(train_data$AKI_time,\n",
    "                     delta=train_data$AKI_status,\n",
    "                     marker=pre_train,\n",
    "                     cause=1, weighting=\"marginal\",\n",
    "                     times=1, # 可以输入要计算的年份向量\n",
    "                     iid=TRUE)\n",
    "  timeROC0 <- timeROC_train$AUC[\"t=1\"]\n",
    "\n",
    "\n",
    "  # 在测试集上建立新模型并计算Time-dependent ROC(1 year)\n",
    "  timeROC <- timeROC(test_data$AKI_time,\n",
    "                     delta=test_data$AKI_status,\n",
    "                     marker=pre_test,\n",
    "                     cause=1, weighting=\"marginal\",\n",
    "                     times=1, # 可以输入要计算的年份向量\n",
    "                     iid=TRUE)\n",
    "  timeROC1 <- timeROC$AUC[\"t=1\"]\n",
    "\n",
    "  result <- data.frame(\n",
    "    no = i,\n",
    "    c_index_train = c_index0,\n",
    "    c_index = c_index1,\n",
    "    timeROC_train = timeROC0,\n",
    "    timeROC = timeROC1)\n",
    "\n",
    "  results <- rbind(results, result)\n",
    "}"
   ]
  },
  {
   "cell_type": "markdown",
   "id": "CCMJisVQA0kd",
   "metadata": {
    "id": "CCMJisVQA0kd"
   },
   "source": [
    "##### （1）Harrell's C统计量（全局区分度）"
   ]
  },
  {
   "cell_type": "code",
   "execution_count": 9,
   "id": "-4FdHAI8A22T",
   "metadata": {
    "id": "-4FdHAI8A22T",
    "vscode": {
     "languageId": "r"
    }
   },
   "outputs": [
    {
     "data": {
      "image/png": "[encoded data removed]",
      "text/plain": [
       "plot without title"
      ]
     },
     "metadata": {
      "image/png": {
       "height": 420,
       "width": 420
      }
     },
     "output_type": "display_data"
    },
    {
     "name": "stdout",
     "output_type": "stream",
     "text": [
      "17 x 1 sparse Matrix of class \"dgCMatrix\"\n",
      "                                1\n",
      "age                  9.749135e-03\n",
      "age_square           2.400645e-05\n",
      "male                 3.422981e-01\n",
      "TC_rcs_1             .           \n",
      "TC_rcs_2             .           \n",
      "TC_rcs_3             .           \n",
      "log_LDLC             .           \n",
      "albuminuria_moderate .           \n",
      "albuminuria_severe   .           \n",
      "CKD_stage_G3a        .           \n",
      "CKD_stage_G3b        .           \n",
      "CKD_stage_G4         .           \n",
      "male_CKD_stage_G3a   6.399917e-02\n",
      "male_CKD_stage_G3b   .           \n",
      "male_CKD_stage_G4    .           \n",
      "age_TC               .           \n",
      "age_BMI_TC           1.899753e-05\n"
     ]
    },
    {
     "data": {
      "text/html": [
       "<strong>C:</strong> 0.5609"
      ],
      "text/latex": [
       "\\textbf{C:} 0.5609"
      ],
      "text/markdown": [
       "**C:** 0.5609"
      ],
      "text/plain": [
       "     C \n",
       "0.5609 "
      ]
     },
     "metadata": {},
     "output_type": "display_data"
    },
    {
     "data": {
      "image/png": "[encoded data removed]",
      "text/plain": [
       "plot without title"
      ]
     },
     "metadata": {
      "image/png": {
       "height": 420,
       "width": 420
      }
     },
     "output_type": "display_data"
    }
   ],
   "source": [
    "# 在原始数据集上进行模型训练并筛选最优模型\n",
    "formula <- Lasso_survival(data=dataset, time=\"AKI_time\", status=\"AKI_status\", predictors = predictors, lambda = \"min\")\n",
    "\n",
    "# model refit\n",
    "survival_outcome <- Surv(dataset[,\"AKI_time\"], dataset[,\"AKI_status\"])\n",
    "train_model <- coxph(as.formula(formula), data=dataset)\n",
    "\n",
    "# 根据原始数据集所得的最优模型，在原始数据集上进行预测\n",
    "pre <- predict(train_model)\n",
    "\n",
    "# 在原始数据集上计算Harrell’s C统计量（全局区分度）\n",
    "c_index_apparent <- round(summary(train_model)$concordance, 4)[1]\n",
    "\n",
    "optimisim_C_index <- mean(results$c_index_train)-mean(results$c_index)\n",
    "\n",
    "c_index_apparent-optimisim_C_index"
   ]
  },
  {
   "cell_type": "markdown",
   "id": "e4de186d-dfd7-49ae-b9f1-314357a9a6f1",
   "metadata": {},
   "source": [
    "上述过程采用增强自助法（增强bootstrap法）进行内部验证。\n",
    "\n",
    "自助抽样次数为2次，抽样得到的训练集经LASSO回归筛选变量后重新拟合得到的模型分别在训练集与测试集上进行预测，分别计算C统计量的表面表现（apparent performance）与测试表现（test performance）的平均值，相减得到C统计量的平均高估值（optimism）。最后再利用原始数据集经LASSO回归筛选变量后重新拟合，得到模型后在原始数据集进行预测，计算得到Harrell’s C统计量，将其减去平均高估值，得到经过调整的全局区分度Harrell’s C统计量为0.5609。说明该方法所得模型的区分度一般。"
   ]
  },
  {
   "cell_type": "markdown",
   "id": "J0g8LU8BB4CL",
   "metadata": {
    "id": "J0g8LU8BB4CL"
   },
   "source": [
    "##### （2）Time-dependent ROC (1 year)（时间依赖曲线：1年）"
   ]
  },
  {
   "cell_type": "code",
   "execution_count": 10,
   "id": "qJaZtNfhB8uj",
   "metadata": {
    "id": "qJaZtNfhB8uj",
    "tags": [],
    "vscode": {
     "languageId": "r"
    }
   },
   "outputs": [
    {
     "data": {
      "text/html": [
       "<strong>t=1:</strong> 0.56931912983568"
      ],
      "text/latex": [
       "\\textbf{t=1:} 0.56931912983568"
      ],
      "text/markdown": [
       "**t=1:** 0.56931912983568"
      ],
      "text/plain": [
       "      t=1 \n",
       "0.5693191 "
      ]
     },
     "metadata": {},
     "output_type": "display_data"
    }
   ],
   "source": [
    "# 根据原始数据集所得的最优模型，在原始数据集上进行预测\n",
    "timeROC_origin <- timeROC(dataset$AKI_time,\n",
    "                    delta=dataset$AKI_status,\n",
    "                    marker=pre,\n",
    "                    cause=1, weighting=\"marginal\",\n",
    "                    times=1, # 可以输入要计算的年份向量\n",
    "                    iid=TRUE)\n",
    "\n",
    "timeROC_apparent <- timeROC_origin$AUC[\"t=1\"]\n",
    "\n",
    "optimisim_timeROC <- mean(results$timeROC_train)-mean(results$timeROC)\n",
    "timeROC_apparent-optimisim_timeROC"
   ]
  },
  {
   "cell_type": "markdown",
   "id": "e6ae4e44-3bdd-4c5b-afef-371cebaf75e1",
   "metadata": {},
   "source": [
    "上述过程采用增强自助法（增强bootstrap法）进行内部验证。\n",
    "\n",
    "自助抽样次数为2次，抽样得到的训练集经LASSO回归筛选变量后重新拟合得到的模型分别在训练集与测试集上进行预测，分别计算1年内时间依赖曲线下面积AUC的表面表现（apparent performance）与测试表现（test performance）的平均值，相减得到其平均高估值（optimism）。最后再利用原始数据集经LASSO回归筛选变量后重新拟合，得到模型后在原始数据集进行预测，计算得到1年时间依赖曲线下面积AUC，将其减去平均高估值，得到经过调整的1年内时间依赖曲线下面积AUC为0.5693。说明该方法所得模型的1年内时间依赖区分度一般。"
   ]
  },
  {
   "cell_type": "markdown",
   "id": "aff38d3a-9951-4e07-ad43-8e4fa833d11a",
   "metadata": {
    "id": "aff38d3a-9951-4e07-ad43-8e4fa833d11a"
   },
   "source": [
    "### 3.1.2 交叉验证法"
   ]
  },
  {
   "cell_type": "markdown",
   "id": "24fdc1bc-cc36-4fbc-9c0b-0c80827716cc",
   "metadata": {
    "id": "24fdc1bc-cc36-4fbc-9c0b-0c80827716cc"
   },
   "source": [
    "#### 3.1.2.1 随机拆分验证"
   ]
  },
  {
   "cell_type": "code",
   "execution_count": 11,
   "id": "17941295-890e-49d8-b41d-bbcf3c179a3e",
   "metadata": {
    "id": "17941295-890e-49d8-b41d-bbcf3c179a3e",
    "tags": [],
    "vscode": {
     "languageId": "r"
    }
   },
   "outputs": [],
   "source": [
    "# 将数据集进行拆分（例子：80％用于训练cox回归模型，20％用于评估模型性能）\n",
    "set.seed(123)\n",
    "training_samples <- dataset$ID %>% createDataPartition(p = 0.8, list = FALSE) # caret包中的createDataPartition函数可以用来做数据集划分\n",
    "train_data <- dataset[training_samples, ]\n",
    "test_data <- dataset[-training_samples, ]"
   ]
  },
  {
   "cell_type": "code",
   "execution_count": 12,
   "id": "0c02a76d-6009-492f-b7b0-0afd78a2c7fa",
   "metadata": {
    "id": "0c02a76d-6009-492f-b7b0-0afd78a2c7fa",
    "outputId": "bc093d1f-56ed-4958-8bbd-a656180b3789",
    "tags": [],
    "vscode": {
     "languageId": "r"
    }
   },
   "outputs": [
    {
     "data": {
      "image/png": "[encoded data removed]",
      "text/plain": [
       "plot without title"
      ]
     },
     "metadata": {
      "image/png": {
       "height": 420,
       "width": 420
      }
     },
     "output_type": "display_data"
    },
    {
     "name": "stdout",
     "output_type": "stream",
     "text": [
      "17 x 1 sparse Matrix of class \"dgCMatrix\"\n",
      "                                1\n",
      "age                  1.838840e-02\n",
      "age_square           .           \n",
      "male                 3.433094e-01\n",
      "TC_rcs_1             .           \n",
      "TC_rcs_2             .           \n",
      "TC_rcs_3             5.220364e-03\n",
      "log_LDLC             .           \n",
      "albuminuria_moderate .           \n",
      "albuminuria_severe   .           \n",
      "CKD_stage_G3a        .           \n",
      "CKD_stage_G3b        .           \n",
      "CKD_stage_G4         .           \n",
      "male_CKD_stage_G3a   9.784495e-02\n",
      "male_CKD_stage_G3b   .           \n",
      "male_CKD_stage_G4    .           \n",
      "age_TC               .           \n",
      "age_BMI_TC           2.080157e-05\n"
     ]
    },
    {
     "data": {
      "image/png": "[encoded data removed]",
      "text/plain": [
       "plot without title"
      ]
     },
     "metadata": {
      "image/png": {
       "height": 420,
       "width": 420
      }
     },
     "output_type": "display_data"
    }
   ],
   "source": [
    "# 采用Lasso回归筛选法，在训练集上进行模型训练\n",
    "predictors <- c('age', 'age_square', 'male', # 'BMI', 'SBP',\n",
    "                # 'MI', 'HF', 'COPD', 'cancer', 'liver_disease', 'hypoglycemia',\n",
    "                'TC_rcs_1', 'TC_rcs_2', 'TC_rcs_3', 'log_LDLC',\n",
    "                'albuminuria_moderate', 'albuminuria_severe',\n",
    "                'CKD_stage_G3a', 'CKD_stage_G3b', 'CKD_stage_G4',\n",
    "                # 'No_outpatient', 'No_inpatient',\n",
    "                # 'age_male', 'male_cancer',\n",
    "                'male_CKD_stage_G3a', 'male_CKD_stage_G3b', 'male_CKD_stage_G4',\n",
    "                'age_TC', 'age_BMI_TC')\n",
    "\n",
    "formula <- Lasso_survival(data=train_data, time=\"AKI_time\", status=\"AKI_status\", predictors = predictors, lambda = \"min\")\n",
    "\n",
    "# model refit\n",
    "survival_outcome <- Surv(train_data[,\"AKI_time\"], train_data[,\"AKI_status\"])\n",
    "train_model <- coxph(as.formula(formula), data=train_data)\n",
    "\n",
    "# 根据训练集所得的最优模型，在测试集上进行预测\n",
    "pre <- predict(train_model, newdata=test_data)"
   ]
  },
  {
   "cell_type": "markdown",
   "id": "a52fd786-5bff-4dc0-91bb-cb62b6957b1d",
   "metadata": {
    "id": "a52fd786-5bff-4dc0-91bb-cb62b6957b1d"
   },
   "source": [
    "##### （1）Harrell’s C统计量（全局区分度）"
   ]
  },
  {
   "cell_type": "code",
   "execution_count": 13,
   "id": "3ff27cd6-89cc-4b72-9b6b-95e7a0ba955b",
   "metadata": {
    "id": "3ff27cd6-89cc-4b72-9b6b-95e7a0ba955b",
    "outputId": "12f8a473-84b1-4b02-9321-e051635b683e",
    "tags": [],
    "vscode": {
     "languageId": "r"
    }
   },
   "outputs": [
    {
     "data": {
      "text/html": [
       "<style>\n",
       ".dl-inline {width: auto; margin:0; padding: 0}\n",
       ".dl-inline>dt, .dl-inline>dd {float: none; width: auto; display: inline-block}\n",
       ".dl-inline>dt::after {content: \":\\0020\"; padding-right: .5ex}\n",
       ".dl-inline>dt:not(:first-of-type) {padding-left: .5ex}\n",
       "</style><dl class=dl-inline><dt>C</dt><dd>0.5435</dd><dt>se(C)</dt><dd>0.0136</dd></dl>\n"
      ],
      "text/latex": [
       "\\begin{description*}\n",
       "\\item[C] 0.5435\n",
       "\\item[se(C)] 0.0136\n",
       "\\end{description*}\n"
      ],
      "text/markdown": [
       "C\n",
       ":   0.5435se(C)\n",
       ":   0.0136\n",
       "\n"
      ],
      "text/plain": [
       "     C  se(C) \n",
       "0.5435 0.0136 "
      ]
     },
     "metadata": {},
     "output_type": "display_data"
    }
   ],
   "source": [
    "# 在测试集上建立新模型并计算区分度和校准度\n",
    "test_model1 <- coxph(Surv(AKI_time, AKI_status) ~ pre, data=test_data)\n",
    "sum <- summary(test_model1)\n",
    "c_index <- round(sum$concordance,4)\n",
    "c_index"
   ]
  },
  {
   "cell_type": "markdown",
   "id": "486ce23f-88f2-4a30-8962-786c88075dd1",
   "metadata": {},
   "source": [
    "上述过程采用交叉验证法（随机拆分验证法）进行内部验证，抽取80%样本作为训练集，剩余20%样本为测试集，最终，经LASSO回归筛选变量后得到的模型，计算的全局区分度Harrell’s C统计量为0.5435，其标准误为0.0136，说明区分度一般。"
   ]
  },
  {
   "cell_type": "markdown",
   "id": "84e2bdc5-582e-4a11-a0e8-9f1ec1d7d6c4",
   "metadata": {
    "id": "84e2bdc5-582e-4a11-a0e8-9f1ec1d7d6c4"
   },
   "source": [
    "##### （2）Time-dependent ROC (1 year)（时间依赖曲线：1年）"
   ]
  },
  {
   "cell_type": "code",
   "execution_count": 14,
   "id": "708da9ba-5a4c-400d-ad0f-7f8ae0bbbb4f",
   "metadata": {
    "id": "708da9ba-5a4c-400d-ad0f-7f8ae0bbbb4f",
    "outputId": "51e1c7d5-628f-4057-e573-9e2e8aa503f4",
    "tags": [],
    "vscode": {
     "languageId": "r"
    }
   },
   "outputs": [
    {
     "data": {
      "text/html": [
       "<strong>t=1:</strong> 0.540769288898965"
      ],
      "text/latex": [
       "\\textbf{t=1:} 0.540769288898965"
      ],
      "text/markdown": [
       "**t=1:** 0.540769288898965"
      ],
      "text/plain": [
       "      t=1 \n",
       "0.5407693 "
      ]
     },
     "metadata": {},
     "output_type": "display_data"
    }
   ],
   "source": [
    "timeROC <- timeROC(T=test_data$AKI_time,\n",
    "                    delta=test_data$AKI_status,\n",
    "                    marker=pre,\n",
    "                    cause=1, weighting=\"marginal\",\n",
    "                    times=1,\n",
    "                    iid=TRUE)\n",
    "timeROC1 <- timeROC$AUC[\"t=1\"]\n",
    "timeROC1"
   ]
  },
  {
   "cell_type": "markdown",
   "id": "e3857e9e-92d3-4b24-a46c-d62168162bae",
   "metadata": {},
   "source": [
    "上述过程采用交叉验证法（随机拆分验证法）进行内部验证，抽取80%样本作为训练集，剩余20%样本为测试集，最终，经LASSO回归筛选变量后得到的模型，计算的1年时间依赖曲线下面积AUC为0.5408，说明其1年时间依赖区分度一般。"
   ]
  },
  {
   "cell_type": "markdown",
   "id": "403d9615-550a-4fd4-ae69-121ffed96d55",
   "metadata": {
    "id": "403d9615-550a-4fd4-ae69-121ffed96d55"
   },
   "source": [
    "##### （3）校准曲线"
   ]
  },
  {
   "cell_type": "code",
   "execution_count": 15,
   "id": "91b79cb0-9b06-4980-be17-a8b5668320a2",
   "metadata": {
    "id": "91b79cb0-9b06-4980-be17-a8b5668320a2",
    "outputId": "26c41198-dc59-4ca4-8a96-831dc7832f7f",
    "tags": [],
    "vscode": {
     "languageId": "r"
    }
   },
   "outputs": [
    {
     "name": "stdout",
     "output_type": "stream",
     "text": [
      "Using Cox survival estimates at  365 Days\n",
      "Using Cox survival estimates at  730 Days\n"
     ]
    },
    {
     "data": {
      "image/png": "[encoded data removed]",
      "text/plain": [
       "plot without title"
      ]
     },
     "metadata": {
      "image/png": {
       "height": 420,
       "width": 420
      }
     },
     "output_type": "display_data"
    }
   ],
   "source": [
    "no_group <- 10\n",
    "m <- nrow(test_data) / no_group\n",
    "\n",
    "# 1年生存期校准曲线\n",
    "test_model1 <- cph(Surv(AKI_time*365, AKI_status) ~ pre, data=test_data, surv=T, x=T, y=T, time.inc=365)\n",
    "options(warn = -1)\n",
    "cal1 <- calibrate(test_model1, cmethod=\"KM\", m=m, u=365)\n",
    "\n",
    "# 2年生存期校准曲线\n",
    "test_model2 <- cph(Surv(AKI_time*365, AKI_status) ~ pre, data=test_data, surv=T, x=T, y=T, time.inc=365*2)\n",
    "options(warn = -1)\n",
    "cal2 <- calibrate(test_model2, cmethod=\"KM\", m=m, u=365*2)\n",
    "\n",
    "cal1 <- as.data.frame(cal1[,c(\"mean.predicted\",\"KM\", \"std.err\")]) %>% mutate(year = 1)\n",
    "cal2 <- as.data.frame(cal2[,c(\"mean.predicted\",\"KM\", \"std.err\")]) %>% mutate(year = 2)\n",
    "cal <- rbind(cal1, cal2)\n",
    "\n",
    "ggplot(cal, aes(x = mean.predicted, y = KM, group= as.factor(year), colour = as.factor(year))) +\n",
    "    geom_line() +\n",
    "    geom_point() +\n",
    "    xlab(\"Predicted survival\") +\n",
    "    ylab(\"Observed survival(KM)\") +\n",
    "    scale_x_continuous(limit=c(0,1)) +\n",
    "    scale_y_continuous(limit=c(0,1)) +\n",
    "    geom_abline(intercept = 0, slope = 1, linetype = \"dashed\") +\n",
    "    geom_errorbar(aes(ymax = (KM+1.96*std.err),ymin = (KM-1.96*std.err)), width=0.02) +\n",
    "    theme_bw()"
   ]
  },
  {
   "cell_type": "markdown",
   "id": "f08cf2f5-14bb-477f-9f8c-188a3997521b",
   "metadata": {},
   "source": [
    "经LASSO回归筛选变量后得到的模型，采用交叉验证法（随机拆分验证法）进行内部验证，生成的校准曲线如下图所示。\n",
    "\n",
    "该图横轴对应预测生存概率，纵轴为实际生存概率，两条校准曲线的不同颜色代表1年与2年的生存期，每条曲线有10个数据点代表所有预测样本的预测概率被划分为10份，各点的误差线代表实际观测概率的95%置信区间上下限。\n",
    "\n",
    "图中校准曲线沿对角线紧密贴合，波动程度较小，说明该方法所得模型校准度较好。"
   ]
  },
  {
   "cell_type": "markdown",
   "id": "c6eaf1e7-4881-4fd9-b37c-337d6263badc",
   "metadata": {
    "id": "c6eaf1e7-4881-4fd9-b37c-337d6263badc"
   },
   "source": [
    "#### 3.1.2.2 K折交叉验证（K-fold Cross Validation）（更为推荐）"
   ]
  },
  {
   "cell_type": "code",
   "execution_count": 16,
   "id": "78f01c25-bd91-4b16-b720-c21827784859",
   "metadata": {
    "id": "78f01c25-bd91-4b16-b720-c21827784859",
    "outputId": "9b62cfd6-d9ff-46f0-b3d6-02dff81d9745",
    "tags": [],
    "vscode": {
     "languageId": "r"
    }
   },
   "outputs": [
    {
     "data": {
      "image/png": "[encoded data removed]",
      "text/plain": [
       "plot without title"
      ]
     },
     "metadata": {
      "image/png": {
       "height": 420,
       "width": 420
      }
     },
     "output_type": "display_data"
    },
    {
     "name": "stdout",
     "output_type": "stream",
     "text": [
      "17 x 1 sparse Matrix of class \"dgCMatrix\"\n",
      "                                 1\n",
      "age                   7.641099e-03\n",
      "age_square            6.387986e-05\n",
      "male                  3.392898e-01\n",
      "TC_rcs_1              .           \n",
      "TC_rcs_2              .           \n",
      "TC_rcs_3              .           \n",
      "log_LDLC              .           \n",
      "albuminuria_moderate  .           \n",
      "albuminuria_severe   -2.224449e-02\n",
      "CKD_stage_G3a         .           \n",
      "CKD_stage_G3b         .           \n",
      "CKD_stage_G4          .           \n",
      "male_CKD_stage_G3a    1.082306e-01\n",
      "male_CKD_stage_G3b    .           \n",
      "male_CKD_stage_G4     .           \n",
      "age_TC                .           \n",
      "age_BMI_TC            2.032194e-05\n",
      "Using Cox survival estimates at  365 Days\n"
     ]
    },
    {
     "data": {
      "image/png": "[encoded data removed]",
      "text/plain": [
       "plot without title"
      ]
     },
     "metadata": {
      "image/png": {
       "height": 420,
       "width": 420
      }
     },
     "output_type": "display_data"
    },
    {
     "data": {
      "image/png": "[encoded data removed]",
      "text/plain": [
       "plot without title"
      ]
     },
     "metadata": {
      "image/png": {
       "height": 420,
       "width": 420
      }
     },
     "output_type": "display_data"
    },
    {
     "name": "stdout",
     "output_type": "stream",
     "text": [
      "17 x 1 sparse Matrix of class \"dgCMatrix\"\n",
      "                                1\n",
      "age                  1.388939e-02\n",
      "age_square           .           \n",
      "male                 3.611361e-01\n",
      "TC_rcs_1             .           \n",
      "TC_rcs_2             .           \n",
      "TC_rcs_3             1.240854e-04\n",
      "log_LDLC             .           \n",
      "albuminuria_moderate .           \n",
      "albuminuria_severe   .           \n",
      "CKD_stage_G3a        .           \n",
      "CKD_stage_G3b        .           \n",
      "CKD_stage_G4         .           \n",
      "male_CKD_stage_G3a   3.627089e-02\n",
      "male_CKD_stage_G3b   .           \n",
      "male_CKD_stage_G4    .           \n",
      "age_TC               .           \n",
      "age_BMI_TC           2.025188e-05\n",
      "Using Cox survival estimates at  365 Days\n"
     ]
    },
    {
     "data": {
      "image/png": "[encoded data removed]",
      "text/plain": [
       "plot without title"
      ]
     },
     "metadata": {
      "image/png": {
       "height": 420,
       "width": 420
      }
     },
     "output_type": "display_data"
    },
    {
     "data": {
      "image/png": "[encoded data removed]",
      "text/plain": [
       "plot without title"
      ]
     },
     "metadata": {
      "image/png": {
       "height": 420,
       "width": 420
      }
     },
     "output_type": "display_data"
    },
    {
     "name": "stdout",
     "output_type": "stream",
     "text": [
      "17 x 1 sparse Matrix of class \"dgCMatrix\"\n",
      "                                1\n",
      "age                  0.0118560305\n",
      "age_square           .           \n",
      "male                 0.3419100489\n",
      "TC_rcs_1             .           \n",
      "TC_rcs_2             .           \n",
      "TC_rcs_3             .           \n",
      "log_LDLC             .           \n",
      "albuminuria_moderate .           \n",
      "albuminuria_severe   .           \n",
      "CKD_stage_G3a        .           \n",
      "CKD_stage_G3b        .           \n",
      "CKD_stage_G4         .           \n",
      "male_CKD_stage_G3a   0.0704716284\n",
      "male_CKD_stage_G3b   .           \n",
      "male_CKD_stage_G4    .           \n",
      "age_TC               .           \n",
      "age_BMI_TC           0.0000181621\n",
      "Using Cox survival estimates at  365 Days\n"
     ]
    },
    {
     "data": {
      "image/png": "[encoded data removed]",
      "text/plain": [
       "plot without title"
      ]
     },
     "metadata": {
      "image/png": {
       "height": 420,
       "width": 420
      }
     },
     "output_type": "display_data"
    },
    {
     "data": {
      "image/png": "[encoded data removed]",
      "text/plain": [
       "plot without title"
      ]
     },
     "metadata": {
      "image/png": {
       "height": 420,
       "width": 420
      }
     },
     "output_type": "display_data"
    },
    {
     "name": "stdout",
     "output_type": "stream",
     "text": [
      "17 x 1 sparse Matrix of class \"dgCMatrix\"\n",
      "                                1\n",
      "age                  3.127026e-03\n",
      "age_square           6.678618e-05\n",
      "male                 3.521719e-01\n",
      "TC_rcs_1             .           \n",
      "TC_rcs_2             .           \n",
      "TC_rcs_3             .           \n",
      "log_LDLC             .           \n",
      "albuminuria_moderate .           \n",
      "albuminuria_severe   .           \n",
      "CKD_stage_G3a        .           \n",
      "CKD_stage_G3b        .           \n",
      "CKD_stage_G4         .           \n",
      "male_CKD_stage_G3a   2.208325e-02\n",
      "male_CKD_stage_G3b   .           \n",
      "male_CKD_stage_G4    .           \n",
      "age_TC               .           \n",
      "age_BMI_TC           2.210484e-05\n",
      "Using Cox survival estimates at  365 Days\n"
     ]
    },
    {
     "data": {
      "image/png": "[encoded data removed]",
      "text/plain": [
       "plot without title"
      ]
     },
     "metadata": {
      "image/png": {
       "height": 420,
       "width": 420
      }
     },
     "output_type": "display_data"
    },
    {
     "data": {
      "image/png": "[encoded data removed]",
      "text/plain": [
       "plot without title"
      ]
     },
     "metadata": {
      "image/png": {
       "height": 420,
       "width": 420
      }
     },
     "output_type": "display_data"
    },
    {
     "name": "stdout",
     "output_type": "stream",
     "text": [
      "17 x 1 sparse Matrix of class \"dgCMatrix\"\n",
      "                                1\n",
      "age                  8.801599e-03\n",
      "age_square           7.134348e-06\n",
      "male                 3.108514e-01\n",
      "TC_rcs_1             .           \n",
      "TC_rcs_2             .           \n",
      "TC_rcs_3             .           \n",
      "log_LDLC             .           \n",
      "albuminuria_moderate .           \n",
      "albuminuria_severe   .           \n",
      "CKD_stage_G3a        .           \n",
      "CKD_stage_G3b        .           \n",
      "CKD_stage_G4         .           \n",
      "male_CKD_stage_G3a   7.110530e-02\n",
      "male_CKD_stage_G3b   .           \n",
      "male_CKD_stage_G4    .           \n",
      "age_TC               .           \n",
      "age_BMI_TC           1.208984e-05\n",
      "Using Cox survival estimates at  365 Days\n"
     ]
    },
    {
     "data": {
      "image/png": "[encoded data removed]",
      "text/plain": [
       "plot without title"
      ]
     },
     "metadata": {
      "image/png": {
       "height": 420,
       "width": 420
      }
     },
     "output_type": "display_data"
    }
   ],
   "source": [
    "folds <- createFolds(y=Surv(dataset$AKI_time, dataset$AKI_status), k=5)\n",
    "results <- data.frame()\n",
    "cal <- data.frame()\n",
    "\n",
    "for(i in 1:5){\n",
    "    train_data <- dataset[-folds[[i]],]\n",
    "    test_data <- dataset[folds[[i]],]\n",
    "    x <- data.matrix(train_data[c('age', 'age_square', 'male', # 'BMI', 'SBP',\n",
    "                # 'MI', 'HF', 'COPD', 'cancer', 'liver_disease', 'hypoglycemia',\n",
    "                'TC_rcs_1', 'TC_rcs_2', 'TC_rcs_3', 'log_LDLC',\n",
    "                'albuminuria_moderate', 'albuminuria_severe',\n",
    "                'CKD_stage_G3a', 'CKD_stage_G3b', 'CKD_stage_G4',\n",
    "                # 'No_outpatient', 'No_inpatient',\n",
    "                # 'age_male', 'male_cancer',\n",
    "                'male_CKD_stage_G3a', 'male_CKD_stage_G3b', 'male_CKD_stage_G4',\n",
    "                'age_TC', 'age_BMI_TC')] )\n",
    "\n",
    "    # 在训练集上进行模型训练并筛选最优模型\n",
    "    formula <- Lasso_survival(data=train_data, time=\"AKI_time\", status=\"AKI_status\", predictors = predictors, lambda = \"min\")\n",
    "\n",
    "    # model refit\n",
    "    survival_outcome <- Surv(train_data[,\"AKI_time\"], train_data[,\"AKI_status\"])\n",
    "    train_model <- coxph(as.formula(formula), data=train_data)\n",
    "\n",
    "    # 根据训练集所得的最优模型，在测试集上进行预测\n",
    "    pre <- predict(train_model, newdata=test_data)\n",
    "\n",
    "    # 在测试集上建立新模型并计算Harrell’s C统计量（全局区分度）\n",
    "    test_model <- coxph(Surv(AKI_time, AKI_status) ~ pre, data=test_data)\n",
    "    c_index1 <- round(summary(test_model)$concordance, 4)[1]\n",
    "\n",
    "    # 在测试集上建立新模型并计算Time-dependent ROC\n",
    "    timeROC <- timeROC(T=test_data$AKI_time,\n",
    "                    delta=test_data$AKI_status,\n",
    "                    marker=pre,\n",
    "                    cause=1, weighting=\"marginal\",\n",
    "                    times=1,\n",
    "                    iid=TRUE)\n",
    "    timeROC1 <- timeROC$AUC[\"t=1\"]\n",
    "\n",
    "    result <- data.frame(\n",
    "        no = i,\n",
    "        c_index = c_index1,\n",
    "        timeROC = timeROC1\n",
    "    )\n",
    "    results <- rbind(results, result)\n",
    "\n",
    "    # 在测试集上建立1年期的校准曲线\n",
    "    no_group <- 10\n",
    "    m <- nrow(test_data) / no_group\n",
    "    test_model1 <- cph(Surv(AKI_time*365, AKI_status) ~ pre, data=test_data, surv=T, x=T, y=T, time.inc=365)\n",
    "    cal1 <- calibrate(test_model1, cmethod=\"KM\", m=m, u=365)\n",
    "    cal1 <- as.data.frame(cal1[,c(\"mean.predicted\",\"KM\", \"std.err\")]) %>% mutate(no = i)\n",
    "    cal <- rbind(cal, cal1)\n",
    "}"
   ]
  },
  {
   "cell_type": "markdown",
   "id": "df1344aa-549a-47a7-b94a-7decf21b80ca",
   "metadata": {
    "id": "df1344aa-549a-47a7-b94a-7decf21b80ca"
   },
   "source": [
    "##### （1）Harrell’s C统计量（全局区分度）"
   ]
  },
  {
   "cell_type": "code",
   "execution_count": 17,
   "id": "b19da8f2-66b6-4e05-92d9-428124e44b20",
   "metadata": {
    "id": "b19da8f2-66b6-4e05-92d9-428124e44b20",
    "outputId": "6e940ebc-4654-42d1-b7d1-74520a1e5c79",
    "tags": [],
    "vscode": {
     "languageId": "r"
    }
   },
   "outputs": [
    {
     "data": {
      "text/html": [
       "0.56754"
      ],
      "text/latex": [
       "0.56754"
      ],
      "text/markdown": [
       "0.56754"
      ],
      "text/plain": [
       "[1] 0.56754"
      ]
     },
     "metadata": {},
     "output_type": "display_data"
    }
   ],
   "source": [
    "mean(results[,\"c_index\"])"
   ]
  },
  {
   "cell_type": "markdown",
   "id": "db92f66e-7089-4052-b0fe-57b526a1b7cd",
   "metadata": {},
   "source": [
    "上述过程采用交叉验证法（5折交叉验证）进行内部验证，原数据集被拆为5个子集，轮流作为测试集与其他情况下的训练集，经5次LASSO回归筛选变量后拟合模型，计算的平均全局区分度Harrell’s C统计量为0.56754，说明区分度一般。"
   ]
  },
  {
   "cell_type": "markdown",
   "id": "3028bc05-3d7e-45c5-8173-04bb80513504",
   "metadata": {
    "id": "3028bc05-3d7e-45c5-8173-04bb80513504"
   },
   "source": [
    "##### （2）Time-dependent ROC (1 year) 时间依赖曲线：1年"
   ]
  },
  {
   "cell_type": "code",
   "execution_count": 18,
   "id": "6aaaa179-203b-433f-ae2e-a6865ca93e8e",
   "metadata": {
    "id": "6aaaa179-203b-433f-ae2e-a6865ca93e8e",
    "outputId": "1f50dbd1-c487-428f-fc95-db0a8b2d7ea4",
    "tags": [],
    "vscode": {
     "languageId": "r"
    }
   },
   "outputs": [
    {
     "data": {
      "text/html": [
       "0.571476540873283"
      ],
      "text/latex": [
       "0.571476540873283"
      ],
      "text/markdown": [
       "0.571476540873283"
      ],
      "text/plain": [
       "[1] 0.5714765"
      ]
     },
     "metadata": {},
     "output_type": "display_data"
    }
   ],
   "source": [
    "mean(results[,\"timeROC\"])"
   ]
  },
  {
   "cell_type": "markdown",
   "id": "cea1659d-b00f-4185-94d0-6b679c34ec21",
   "metadata": {},
   "source": [
    "上述过程采用交叉验证法（5折交叉验证）进行内部验证，原数据集被拆为5个子集，轮流作为测试集与其他情况下的训练集，经5次LASSO回归筛选变量后拟合模型，计算的平均1年时间依赖曲线下面积AUC为0.57148，说明其1年时间依赖区分度一般。"
   ]
  },
  {
   "cell_type": "markdown",
   "id": "f297b540-7b19-473b-8b3b-9dfd074e679f",
   "metadata": {
    "id": "f297b540-7b19-473b-8b3b-9dfd074e679f"
   },
   "source": [
    "##### （3）校准曲线"
   ]
  },
  {
   "cell_type": "code",
   "execution_count": 19,
   "id": "9372a158-3eca-4e80-8a65-7808fd2201fe",
   "metadata": {
    "id": "9372a158-3eca-4e80-8a65-7808fd2201fe",
    "outputId": "5f23063e-5877-4bdc-b8dc-005d8f02af4e",
    "tags": [],
    "vscode": {
     "languageId": "r"
    }
   },
   "outputs": [
    {
     "data": {
      "image/png": "[encoded data removed]",
      "text/plain": [
       "plot without title"
      ]
     },
     "metadata": {
      "image/png": {
       "height": 420,
       "width": 420
      }
     },
     "output_type": "display_data"
    }
   ],
   "source": [
    "ggplot(cal, aes(x = mean.predicted, y = KM, group= as.factor(no), colour = as.factor(no))) +\n",
    "    geom_line() +\n",
    "    geom_point() +\n",
    "    xlab(\"Predicted survival at 365 days\") +\n",
    "    ylab(\"Observed survival(KM)\") +\n",
    "    scale_x_continuous(limit=c(0,1)) +\n",
    "    scale_y_continuous(limit=c(0,1)) +\n",
    "    geom_abline(intercept = 0, slope = 1, linetype = \"dashed\") +\n",
    "    geom_errorbar(aes(ymax = (KM+1.96*std.err),ymin = (KM-1.96*std.err)), width=0.02) +\n",
    "    theme_bw()"
   ]
  },
  {
   "cell_type": "markdown",
   "id": "e8c4a16f-a359-404d-9093-b6050cf9103a",
   "metadata": {},
   "source": [
    "经LASSO回归筛选变量后得到的模型，采用交叉验证法（5折交叉验证）进行内部验证，生成的校准曲线如上图所示。\n",
    "\n",
    "该图横轴对应预测1年生存概率，纵轴为实际生存概率，5条不同颜色的校准曲线代表拆分成的5个子集轮流作为测试集与训练集之一、经5次拟合模型后的预测结果，每条曲线有10个数据点代表所有预测样本的预测概率划分为10份，各点的误差线代表实际观测概率的95%置信区间上下限。\n",
    "\n",
    "图中所有校准曲线沿对角线紧密贴合，波动程度较小，说明该方法所得模型校准度较好。"
   ]
  },
  {
   "cell_type": "markdown",
   "id": "7a3cd152-4d35-4f26-b8e5-4e5c14275133",
   "metadata": {
    "id": "7a3cd152-4d35-4f26-b8e5-4e5c14275133",
    "tags": []
   },
   "source": [
    "## 3.2 外部验证"
   ]
  },
  {
   "cell_type": "markdown",
   "id": "42610a36-f2d2-40ad-bfff-185515ad0bc4",
   "metadata": {},
   "source": [
    "### 3.2.1 应用其他文章的模型"
   ]
  },
  {
   "cell_type": "markdown",
   "id": "bc275cf3",
   "metadata": {},
   "source": [
    "$$ S(t) = S_0(t)^{exp(\\beta X)} $$"
   ]
  },
  {
   "cell_type": "code",
   "execution_count": 20,
   "id": "7ce0edeb",
   "metadata": {
    "vscode": {
     "languageId": "r"
    }
   },
   "outputs": [],
   "source": [
    "# 根据别人文中的模型，根据已经计算的S0(t), 预测S(t)\n",
    "pre_S <- function (S0, beta, predictors, data) {\n",
    "    design_matrix <- as.matrix(data[,predictors])\n",
    "    score <-  design_matrix %*% as.matrix(beta)\n",
    "    pre_S <- S0^exp(score)\n",
    "    return(pre_S)\n",
    "}"
   ]
  },
  {
   "cell_type": "code",
   "execution_count": 21,
   "id": "2f8b2e12-addd-4071-b5ab-9688c1973516",
   "metadata": {
    "tags": [],
    "vscode": {
     "languageId": "r"
    }
   },
   "outputs": [],
   "source": [
    "beta <- coef(train_model_lasso_refit)\n",
    "predictors <- names(beta)"
   ]
  },
  {
   "cell_type": "markdown",
   "id": "482f35e9",
   "metadata": {},
   "source": [
    "$$ h(t) = h_0(t)exp(\\beta X) $$\n",
    "$$ \\Lambda(t) = \\int_{0}^{t} h(u) du $$\n",
    "$$ S(t) =  exp(-\\Lambda(t)) $$\n",
    "$$ S(t) = S_0(t)^{exp(\\beta X)} $$\n",
    "$$ \\hat{h}_0(t) = \\frac{d_t}{exp(\\hat{\\beta} X)} $$\n",
    "$d_t$: number of deaths during time $t$.\n",
    "$$ \\hat{\\Lambda}_0(t) = \\sum_{j:t_j<t} \\hat{h}_0(t_j) $$\n",
    "\n",
    "$$ \\hat{S}_0(t) = exp(-\\hat{\\Lambda}_0(t))$$\n",
    "$$ \\hat{S}(t) = \\hat{S}_0(t)^{exp(\\hat{\\beta} X)} $$"
   ]
  },
  {
   "cell_type": "code",
   "execution_count": 22,
   "id": "3c4317a7-93b4-49c8-bf0a-6cc82661acde",
   "metadata": {
    "id": "3c4317a7-93b4-49c8-bf0a-6cc82661acde",
    "outputId": "27db589f-9522-4b0c-d4e4-bdab722cc225",
    "tags": [],
    "vscode": {
     "languageId": "r"
    }
   },
   "outputs": [],
   "source": [
    "# 自己计算S0\n",
    "pre_S <- function (S0, beta, predictors, data, time, status, t) {\n",
    "    design_matrix <- as.matrix(data[,predictors])\n",
    "    score <-  design_matrix %*% as.matrix(beta)\n",
    "    h0 <- list()\n",
    "    cum_h0 <- list()\n",
    "\n",
    "    followup <- unique(data[,time])\n",
    "    followup <- sort(followup)\n",
    "    N <- length(followup)\n",
    "\n",
    "    for(i in 1:N){\n",
    "        d <- sum((dataset_external[,time] >= followup[i] & dataset_external[,time] < followup[i+1]) & dataset_external[,status] == 1)\n",
    "        sum <- sum(exp(score[dataset_external[,time] >= followup[i]]))\n",
    "        h0[[i]] <- d / sum\n",
    "        if (i == 1) {\n",
    "            cum_h0[[i]] <- h0[[i]]\n",
    "        } else {\n",
    "            cum_h0[[i]] <- h0[[i]] + cum_h0[[i-1]]\n",
    "        }\n",
    "    }\n",
    "    S0 <- exp(-cum_h0[[t]])\n",
    "    pre_S <- S0^exp(score)\n",
    "    return(pre_S)\n",
    "}"
   ]
  },
  {
   "cell_type": "markdown",
   "id": "7ed67c3c",
   "metadata": {},
   "source": [
    "### 3.2.2 自己筛选的模型"
   ]
  },
  {
   "cell_type": "code",
   "execution_count": 23,
   "id": "3070d3b4-75b9-4f95-a47d-a83fa40dd02a",
   "metadata": {
    "id": "3070d3b4-75b9-4f95-a47d-a83fa40dd02a",
    "tags": [],
    "vscode": {
     "languageId": "r"
    }
   },
   "outputs": [],
   "source": [
    "# model refit得到的模型在外部测试集上进行预测\n",
    "test_model_lasso <- cph(formula(train_model_lasso_refit), x=T, y=T, data=dataset, surv=TRUE)\n",
    "pre <- predict(test_model_lasso, newdata = dataset_external)"
   ]
  },
  {
   "cell_type": "markdown",
   "id": "10565570-d7ce-40f8-8c48-fd3ff93fa928",
   "metadata": {
    "id": "10565570-d7ce-40f8-8c48-fd3ff93fa928"
   },
   "source": [
    "#### （1）Harrell’s C统计量（全局区分度）"
   ]
  },
  {
   "cell_type": "code",
   "execution_count": 24,
   "id": "afb7e073-1c8d-4c05-add0-1f3b98390493",
   "metadata": {
    "id": "afb7e073-1c8d-4c05-add0-1f3b98390493",
    "outputId": "7ccaa634-7784-4901-9b92-f2dbb4036e14",
    "tags": [],
    "vscode": {
     "languageId": "r"
    }
   },
   "outputs": [
    {
     "data": {
      "text/html": [
       "<style>\n",
       ".dl-inline {width: auto; margin:0; padding: 0}\n",
       ".dl-inline>dt, .dl-inline>dd {float: none; width: auto; display: inline-block}\n",
       ".dl-inline>dt::after {content: \":\\0020\"; padding-right: .5ex}\n",
       ".dl-inline>dt:not(:first-of-type) {padding-left: .5ex}\n",
       "</style><dl class=dl-inline><dt>C</dt><dd>0.617</dd><dt>se(C)</dt><dd>0.0079</dd></dl>\n"
      ],
      "text/latex": [
       "\\begin{description*}\n",
       "\\item[C] 0.617\n",
       "\\item[se(C)] 0.0079\n",
       "\\end{description*}\n"
      ],
      "text/markdown": [
       "C\n",
       ":   0.617se(C)\n",
       ":   0.0079\n",
       "\n"
      ],
      "text/plain": [
       "     C  se(C) \n",
       "0.6170 0.0079 "
      ]
     },
     "metadata": {},
     "output_type": "display_data"
    }
   ],
   "source": [
    "# 在外部测试集上建立模型并计算区分度\n",
    "test_model <- coxph(Surv(AKI_time, AKI_status) ~ pre, data=dataset_external)\n",
    "c_index <- round(summary(test_model)$concordance,4)\n",
    "c_index"
   ]
  },
  {
   "cell_type": "markdown",
   "id": "140fdb80-7d76-478e-955a-33ffc103e40b",
   "metadata": {},
   "source": [
    "在训练集上经LASSO回归筛选变量并重新拟合后的模型，在外部测试集上预测得到的Harrell’s C统计量为0.617，其标准误为0.0079，说明全局区分度较好。"
   ]
  },
  {
   "cell_type": "markdown",
   "id": "2a530616-a67c-4191-8383-9784c3607723",
   "metadata": {
    "id": "2a530616-a67c-4191-8383-9784c3607723"
   },
   "source": [
    "#### （2）Time-dependent ROC（时间依赖区分度）"
   ]
  },
  {
   "cell_type": "code",
   "execution_count": 25,
   "id": "7b3a634e-b646-40c5-92e9-4b98acae5644",
   "metadata": {
    "id": "7b3a634e-b646-40c5-92e9-4b98acae5644",
    "outputId": "aa3db68a-19f1-41f8-fcbc-7fdab28de9b5",
    "tags": [],
    "vscode": {
     "languageId": "r"
    }
   },
   "outputs": [
    {
     "data": {
      "text/plain": [
       "Time-dependent-Roc curve estimated using IPCW  (n=3000, without competing risks). \n",
       "    Cases Survivors Censored AUC (%)   se\n",
       "t=1   551      2449        0   62.76 1.30\n",
       "t=3  1148      1182      670   64.45 1.15\n",
       "t=5  1369       435     1196   67.83 1.52\n",
       "\n",
       "Method used for estimating IPCW:marginal \n",
       "\n",
       "Total computation time : 61.11  secs."
      ]
     },
     "metadata": {},
     "output_type": "display_data"
    }
   ],
   "source": [
    "timeROC <- timeROC(T = dataset_external[,\"AKI_time\"],\n",
    "                   delta = dataset_external[,\"AKI_status\"],\n",
    "                   marker = pre,\n",
    "                   cause = 1,\n",
    "                   weighting = \"marginal\",\n",
    "                   times = c(1,3,5),\n",
    "                   iid = TRUE)\n",
    "timeROC"
   ]
  },
  {
   "cell_type": "markdown",
   "id": "b3765365-c86a-4e66-9350-3f83137a8cee",
   "metadata": {},
   "source": [
    "在训练集上经LASSO回归筛选变量后得到的模型，在外部测试集上计算得到的时间依赖曲线下面积AUC分别为0.6276（1年），0.6445（3年），0.6783（5年），说明时间依赖区分度较好。"
   ]
  },
  {
   "cell_type": "markdown",
   "id": "1c0c5488-e082-4664-b680-fcacdda86252",
   "metadata": {
    "id": "1c0c5488-e082-4664-b680-fcacdda86252"
   },
   "source": [
    "### （3）校准度（Calibration）"
   ]
  },
  {
   "cell_type": "code",
   "execution_count": 26,
   "id": "a1f5fedf-0350-4134-adf2-58d8da4ef677",
   "metadata": {
    "id": "a1f5fedf-0350-4134-adf2-58d8da4ef677",
    "outputId": "412714b1-7a49-43fe-ac9a-5a74b1c72901",
    "tags": [],
    "vscode": {
     "languageId": "r"
    }
   },
   "outputs": [
    {
     "name": "stdout",
     "output_type": "stream",
     "text": [
      "Using Cox survival estimates at  365 Days\n",
      "Using Cox survival estimates at  730 Days\n",
      "Using Cox survival estimates at 1095 Days\n"
     ]
    },
    {
     "data": {
      "image/png": "[encoded data removed]",
      "text/plain": [
       "plot without title"
      ]
     },
     "metadata": {
      "image/png": {
       "height": 420,
       "width": 420
      }
     },
     "output_type": "display_data"
    }
   ],
   "source": [
    "# 在外部测试集上建立模型并计算校准度\n",
    "# 一年生存期校准曲线为例\n",
    "no_group <- 10\n",
    "m <- nrow(dataset_external) / no_group\n",
    "\n",
    "test_model1 <- cph(Surv(AKI_time*365, AKI_status) ~ pre, data=dataset_external, surv=T, x=T, y=T, time.inc=365)\n",
    "cal1 <- calibrate(test_model1, cmethod=\"KM\", m=m, u=365)\n",
    "cal1 <- as.data.frame(cal1[,c(\"mean.predicted\",\"KM\", \"std.err\")]) %>% mutate(year = 1)\n",
    "\n",
    "# 二年生存期校准曲线为例\n",
    "test_model2 <- cph(Surv(AKI_time*365, AKI_status) ~ pre, data=dataset_external, surv=T, x=T, y=T, time.inc=365*2)\n",
    "cal2 <- calibrate(test_model2, cmethod=\"KM\", m=m, u=365*2)\n",
    "cal2 <- as.data.frame(cal2[,c(\"mean.predicted\",\"KM\", \"std.err\")]) %>% mutate(year = 2)\n",
    "\n",
    "# 三年生存期校准曲线为例\n",
    "test_model3 <- cph(Surv(AKI_time*365, AKI_status) ~ pre, data=dataset_external, surv=T, x=T, y=T, time.inc=365*3)\n",
    "cal3 <- calibrate(test_model3, cmethod=\"KM\", m=m, u=365*3)\n",
    "cal3 <- as.data.frame(cal3[,c(\"mean.predicted\",\"KM\", \"std.err\")]) %>% mutate(year = 3)\n",
    "\n",
    "cal <- rbind(cal1, cal2, cal3)\n",
    "cal[,\"year\"] <- as.factor(cal[,\"year\"])\n",
    "\n",
    "ggplot(cal, aes(x = mean.predicted, y = KM, group= year, colour = year)) +\n",
    "    geom_line() +\n",
    "    geom_point() +\n",
    "    xlab(\"Predicted survival\") +\n",
    "    ylab(\"Observed survival(KM)\") +\n",
    "    scale_x_continuous(limit=c(0,1)) +\n",
    "    scale_y_continuous(limit=c(0,1)) +\n",
    "    geom_abline(intercept = 0, slope = 1, linetype = \"dashed\") +\n",
    "    geom_errorbar(aes(ymax = (KM+1.96*std.err),ymin = (KM-1.96*std.err)), width=0.02) +\n",
    "    theme_bw()"
   ]
  },
  {
   "cell_type": "markdown",
   "id": "dfef5a31-b863-4de4-9314-df83a857fe1c",
   "metadata": {},
   "source": [
    "上述过程为外部验证，在训练集上经LASSO回归筛选变量并重新拟合后的模型，在测试集上计算得到的校准曲线如图所示。\n",
    "\n",
    "该图横轴对应预测生存概率，纵轴为实际生存概率，3条校准曲线的不同颜色代表1年、2年、3年的生存期，每条曲线有10个数据点代表所有预测样本的预测概率被划分为10份，各点的误差线代表实际观测概率的95%置信区间上下限。\n",
    "\n",
    "图中校准曲线沿对角线紧密贴合，波动程度较小，说明该方法所得模型校准度较好。"
   ]
  },
  {
   "cell_type": "markdown",
   "id": "9d270974-3335-4504-a51a-88ba303e3971",
   "metadata": {
    "id": "9d270974-3335-4504-a51a-88ba303e3971"
   },
   "source": [
    "### （4）决策曲线（Decision curve analysis)"
   ]
  },
  {
   "cell_type": "code",
   "execution_count": 27,
   "id": "3c792ee5-4b9d-46ac-bc30-078f1d317218",
   "metadata": {
    "id": "3c792ee5-4b9d-46ac-bc30-078f1d317218",
    "tags": [],
    "vscode": {
     "languageId": "r"
    }
   },
   "outputs": [],
   "source": [
    "test_model <- cph(Surv(AKI_time, AKI_status) ~ pre, data = dataset_external, surv=T, x=T, y=T)"
   ]
  },
  {
   "cell_type": "code",
   "execution_count": 28,
   "id": "5a1ac89a-0b5e-4f8b-a773-2b76bd7c80b0",
   "metadata": {
    "id": "5a1ac89a-0b5e-4f8b-a773-2b76bd7c80b0",
    "outputId": "976e4fd2-a324-4c0a-f964-e83bb80db72f",
    "tags": [],
    "vscode": {
     "languageId": "r"
    }
   },
   "outputs": [
    {
     "data": {
      "image/png": "[encoded data removed]",
      "text/plain": [
       "plot without title"
      ]
     },
     "metadata": {
      "image/png": {
       "height": 420,
       "width": 420
      }
     },
     "output_type": "display_data"
    }
   ],
   "source": [
    "dca_plot <- dca(test_model)\n",
    "options(warn=-1)\n",
    "ggplot(dca_plot)"
   ]
  },
  {
   "cell_type": "markdown",
   "id": "5f4a4749-24f6-4a70-b1cb-28e52c448ee5",
   "metadata": {},
   "source": [
    "在训练集上经LASSO回归筛选变量并重新拟合后的模型，在测试集上计算得到的决策曲线如图所示。\n",
    "\n",
    "该图横轴代表阈概率，纵轴代表净获益，“All”参考线与“None”参考线分别代表所有的患者均纳入干预与均不纳入干预时各阈概率下的净获益水平。\n",
    "\n",
    "可见，阈概率在约＜0.5的水平下时，该模型存在一定获益。"
   ]
  },
  {
   "cell_type": "code",
   "execution_count": 29,
   "id": "40e66585-28d5-4c30-825e-0d9096669b4c",
   "metadata": {
    "id": "40e66585-28d5-4c30-825e-0d9096669b4c",
    "tags": [],
    "vscode": {
     "languageId": "r"
    }
   },
   "outputs": [],
   "source": [
    "save.image(\"model_validation_workspace.Rdata\")"
   ]
  }
 ],
 "metadata": {
  "colab": {
   "provenance": []
  },
  "kernelspec": {
   "display_name": "R",
   "language": "R",
   "name": "ir"
  },
  "language_info": {
   "codemirror_mode": "r",
   "file_extension": ".r",
   "mimetype": "text/x-r-source",
   "name": "R",
   "pygments_lexer": "r",
   "version": "4.1.3"
  },
  "toc-autonumbering": false,
  "toc-showcode": false,
  "toc-showmarkdowntxt": false
 },
 "nbformat": 4,
 "nbformat_minor": 5
}
